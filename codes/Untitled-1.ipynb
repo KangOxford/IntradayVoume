{
 "cells": [
  {
   "cell_type": "code",
   "execution_count": 2,
   "metadata": {},
   "outputs": [
    {
     "name": "stdout",
     "output_type": "stream",
     "text": [
      "Collecting latexify-py\n",
      "  Using cached latexify_py-0.2.0-py3-none-any.whl (22 kB)\n",
      "Collecting dill>=0.3.2\n",
      "  Using cached dill-0.3.7-py3-none-any.whl (115 kB)\n",
      "Installing collected packages: dill, latexify-py\n",
      "Successfully installed dill-0.3.7 latexify-py-0.2.0\n",
      "Note: you may need to restart the kernel to use updated packages.\n"
     ]
    }
   ],
   "source": [
    "pip install latexify-py"
   ]
  },
  {
   "cell_type": "code",
   "execution_count": 3,
   "metadata": {},
   "outputs": [
    {
     "data": {
      "text/latex": [
       "$$ \\displaystyle \\mathrm{solve}(a, b, c) = -b + \\sqrt{b^{{2}} - {4} a c} $$"
      ],
      "text/plain": [
       "<latexify.frontend.LatexifiedFunction at 0x7f04783939d0>"
      ]
     },
     "execution_count": 3,
     "metadata": {},
     "output_type": "execute_result"
    }
   ],
   "source": [
    "import math\n",
    "import latexify\n",
    "\n",
    "@latexify.function\n",
    "def solve(a,b,c):\n",
    "    return -b+math.sqrt(b**2-4*a*c)\n",
    "# print(solve(1,4,3))\n",
    "solve\n"
   ]
  },
  {
   "cell_type": "code",
   "execution_count": 4,
   "metadata": {},
   "outputs": [
    {
     "name": "stdout",
     "output_type": "stream",
     "text": [
      "\\mathrm{solve}(a, b, c) = -b + \\sqrt{b^{{2}} - {4} a c}\n"
     ]
    }
   ],
   "source": [
    "print(solve)"
   ]
  }
 ],
 "metadata": {
  "kernelspec": {
   "display_name": "Python 3",
   "language": "python",
   "name": "python3"
  },
  "language_info": {
   "codemirror_mode": {
    "name": "ipython",
    "version": 3
   },
   "file_extension": ".py",
   "mimetype": "text/x-python",
   "name": "python",
   "nbconvert_exporter": "python",
   "pygments_lexer": "ipython3",
   "version": "3.9.12"
  },
  "orig_nbformat": 4
 },
 "nbformat": 4,
 "nbformat_minor": 2
}
