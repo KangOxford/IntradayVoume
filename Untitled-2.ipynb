{
 "cells": [
  {
   "cell_type": "code",
   "execution_count": null,
   "metadata": {},
   "outputs": [],
   "source": [
    "import yfinance as yf\n",
    "\n",
    "ticker = \"SPY\" # S&P 500 ETF\n",
    "start_date = \"2017-01-01\" \n",
    "end_date = \"2018-01-01\"\n",
    "\n",
    "data = yf.download(ticker, start=start_date, end=end_date)\n",
    "\n",
    "shares_outstanding = data[\"Volume\"] \n",
    "trading_volume = data[\"Adj Close\"]"
   ]
  },
  {
   "cell_type": "code",
   "execution_count": 3,
   "metadata": {},
   "outputs": [
    {
     "name": "stdout",
     "output_type": "stream",
     "text": [
      "[*********************100%%**********************]  1 of 1 completed\n"
     ]
    },
    {
     "ename": "HTTPError",
     "evalue": "404 Client Error: Not Found for url: https://query2.finance.yahoo.com/v6/finance/quoteSummary/AA?modules=financialData&modules=quoteType&modules=defaultKeyStatistics&modules=assetProfile&modules=summaryDetail&ssl=true",
     "output_type": "error",
     "traceback": [
      "\u001b[0;31m---------------------------------------------------------------------------\u001b[0m",
      "\u001b[0;31mHTTPError\u001b[0m                                 Traceback (most recent call last)",
      "Input \u001b[0;32mIn [3]\u001b[0m, in \u001b[0;36m<cell line: 10>\u001b[0;34m()\u001b[0m\n\u001b[1;32m      7\u001b[0m data \u001b[38;5;241m=\u001b[39m yf\u001b[38;5;241m.\u001b[39mdownload(ticker, start\u001b[38;5;241m=\u001b[39mstart_date, end\u001b[38;5;241m=\u001b[39mend_date)\n\u001b[1;32m      8\u001b[0m stock \u001b[38;5;241m=\u001b[39m yf\u001b[38;5;241m.\u001b[39mTicker(ticker)  \u001b[38;5;66;03m# Create a yf.Ticker object\u001b[39;00m\n\u001b[0;32m---> 10\u001b[0m shares_outstanding \u001b[38;5;241m=\u001b[39m \u001b[43mstock\u001b[49m\u001b[38;5;241;43m.\u001b[39;49m\u001b[43minfo\u001b[49m\u001b[38;5;241m.\u001b[39mget(\u001b[38;5;124m'\u001b[39m\u001b[38;5;124msharesOutstanding\u001b[39m\u001b[38;5;124m'\u001b[39m)\n\u001b[1;32m     11\u001b[0m trading_volume \u001b[38;5;241m=\u001b[39m data[\u001b[38;5;124m\"\u001b[39m\u001b[38;5;124mVolume\u001b[39m\u001b[38;5;124m\"\u001b[39m]\n\u001b[1;32m     13\u001b[0m shares_outstanding, trading_volume\n",
      "File \u001b[0;32m~/anaconda3/lib/python3.9/site-packages/yfinance/ticker.py:142\u001b[0m, in \u001b[0;36mTicker.info\u001b[0;34m(self)\u001b[0m\n\u001b[1;32m    140\u001b[0m \u001b[38;5;129m@property\u001b[39m\n\u001b[1;32m    141\u001b[0m \u001b[38;5;28;01mdef\u001b[39;00m \u001b[38;5;21minfo\u001b[39m(\u001b[38;5;28mself\u001b[39m) \u001b[38;5;241m-\u001b[39m\u001b[38;5;241m>\u001b[39m \u001b[38;5;28mdict\u001b[39m:\n\u001b[0;32m--> 142\u001b[0m     \u001b[38;5;28;01mreturn\u001b[39;00m \u001b[38;5;28;43mself\u001b[39;49m\u001b[38;5;241;43m.\u001b[39;49m\u001b[43mget_info\u001b[49m\u001b[43m(\u001b[49m\u001b[43m)\u001b[49m\n",
      "File \u001b[0;32m~/anaconda3/lib/python3.9/site-packages/yfinance/base.py:1736\u001b[0m, in \u001b[0;36mTickerBase.get_info\u001b[0;34m(self, proxy)\u001b[0m\n\u001b[1;32m   1734\u001b[0m \u001b[38;5;28;01mdef\u001b[39;00m \u001b[38;5;21mget_info\u001b[39m(\u001b[38;5;28mself\u001b[39m, proxy\u001b[38;5;241m=\u001b[39m\u001b[38;5;28;01mNone\u001b[39;00m) \u001b[38;5;241m-\u001b[39m\u001b[38;5;241m>\u001b[39m \u001b[38;5;28mdict\u001b[39m:\n\u001b[1;32m   1735\u001b[0m     \u001b[38;5;28mself\u001b[39m\u001b[38;5;241m.\u001b[39m_quote\u001b[38;5;241m.\u001b[39mproxy \u001b[38;5;241m=\u001b[39m proxy\n\u001b[0;32m-> 1736\u001b[0m     data \u001b[38;5;241m=\u001b[39m \u001b[38;5;28;43mself\u001b[39;49m\u001b[38;5;241;43m.\u001b[39;49m\u001b[43m_quote\u001b[49m\u001b[38;5;241;43m.\u001b[39;49m\u001b[43minfo\u001b[49m\n\u001b[1;32m   1737\u001b[0m     \u001b[38;5;28;01mreturn\u001b[39;00m data\n",
      "File \u001b[0;32m~/anaconda3/lib/python3.9/site-packages/yfinance/scrapers/quote.py:571\u001b[0m, in \u001b[0;36mQuote.info\u001b[0;34m(self)\u001b[0m\n\u001b[1;32m    568\u001b[0m \u001b[38;5;129m@property\u001b[39m\n\u001b[1;32m    569\u001b[0m \u001b[38;5;28;01mdef\u001b[39;00m \u001b[38;5;21minfo\u001b[39m(\u001b[38;5;28mself\u001b[39m) \u001b[38;5;241m-\u001b[39m\u001b[38;5;241m>\u001b[39m \u001b[38;5;28mdict\u001b[39m:\n\u001b[1;32m    570\u001b[0m     \u001b[38;5;28;01mif\u001b[39;00m \u001b[38;5;28mself\u001b[39m\u001b[38;5;241m.\u001b[39m_info \u001b[38;5;129;01mis\u001b[39;00m \u001b[38;5;28;01mNone\u001b[39;00m:\n\u001b[0;32m--> 571\u001b[0m         \u001b[38;5;28;43mself\u001b[39;49m\u001b[38;5;241;43m.\u001b[39;49m\u001b[43m_fetch\u001b[49m\u001b[43m(\u001b[49m\u001b[38;5;28;43mself\u001b[39;49m\u001b[38;5;241;43m.\u001b[39;49m\u001b[43mproxy\u001b[49m\u001b[43m)\u001b[49m\n\u001b[1;32m    572\u001b[0m         \u001b[38;5;28mself\u001b[39m\u001b[38;5;241m.\u001b[39m_fetch_complementary(\u001b[38;5;28mself\u001b[39m\u001b[38;5;241m.\u001b[39mproxy)\n\u001b[1;32m    574\u001b[0m     \u001b[38;5;28;01mreturn\u001b[39;00m \u001b[38;5;28mself\u001b[39m\u001b[38;5;241m.\u001b[39m_info\n",
      "File \u001b[0;32m~/anaconda3/lib/python3.9/site-packages/yfinance/scrapers/quote.py:600\u001b[0m, in \u001b[0;36mQuote._fetch\u001b[0;34m(self, proxy)\u001b[0m\n\u001b[1;32m    598\u001b[0m modules \u001b[38;5;241m=\u001b[39m [\u001b[38;5;124m'\u001b[39m\u001b[38;5;124mfinancialData\u001b[39m\u001b[38;5;124m'\u001b[39m, \u001b[38;5;124m'\u001b[39m\u001b[38;5;124mquoteType\u001b[39m\u001b[38;5;124m'\u001b[39m, \u001b[38;5;124m'\u001b[39m\u001b[38;5;124mdefaultKeyStatistics\u001b[39m\u001b[38;5;124m'\u001b[39m, \u001b[38;5;124m'\u001b[39m\u001b[38;5;124massetProfile\u001b[39m\u001b[38;5;124m'\u001b[39m, \u001b[38;5;124m'\u001b[39m\u001b[38;5;124msummaryDetail\u001b[39m\u001b[38;5;124m'\u001b[39m]\n\u001b[1;32m    599\u001b[0m params_dict \u001b[38;5;241m=\u001b[39m {\u001b[38;5;124m\"\u001b[39m\u001b[38;5;124mmodules\u001b[39m\u001b[38;5;124m\"\u001b[39m: modules, \u001b[38;5;124m\"\u001b[39m\u001b[38;5;124mssl\u001b[39m\u001b[38;5;124m\"\u001b[39m: \u001b[38;5;124m\"\u001b[39m\u001b[38;5;124mtrue\u001b[39m\u001b[38;5;124m\"\u001b[39m}\n\u001b[0;32m--> 600\u001b[0m result \u001b[38;5;241m=\u001b[39m \u001b[38;5;28;43mself\u001b[39;49m\u001b[38;5;241;43m.\u001b[39;49m\u001b[43m_data\u001b[49m\u001b[38;5;241;43m.\u001b[39;49m\u001b[43mget_raw_json\u001b[49m\u001b[43m(\u001b[49m\n\u001b[1;32m    601\u001b[0m \u001b[43m    \u001b[49m\u001b[43m_BASIC_URL_\u001b[49m\u001b[43m \u001b[49m\u001b[38;5;241;43m+\u001b[39;49m\u001b[43m \u001b[49m\u001b[38;5;124;43mf\u001b[39;49m\u001b[38;5;124;43m\"\u001b[39;49m\u001b[38;5;124;43m/\u001b[39;49m\u001b[38;5;132;43;01m{\u001b[39;49;00m\u001b[38;5;28;43mself\u001b[39;49m\u001b[38;5;241;43m.\u001b[39;49m\u001b[43m_data\u001b[49m\u001b[38;5;241;43m.\u001b[39;49m\u001b[43mticker\u001b[49m\u001b[38;5;132;43;01m}\u001b[39;49;00m\u001b[38;5;124;43m\"\u001b[39;49m\u001b[43m,\u001b[49m\u001b[43m \u001b[49m\u001b[43mparams\u001b[49m\u001b[38;5;241;43m=\u001b[39;49m\u001b[43mparams_dict\u001b[49m\u001b[43m,\u001b[49m\u001b[43m \u001b[49m\u001b[43mproxy\u001b[49m\u001b[38;5;241;43m=\u001b[39;49m\u001b[43mproxy\u001b[49m\n\u001b[1;32m    602\u001b[0m \u001b[43m\u001b[49m\u001b[43m)\u001b[49m\n\u001b[1;32m    603\u001b[0m result[\u001b[38;5;124m\"\u001b[39m\u001b[38;5;124mquoteSummary\u001b[39m\u001b[38;5;124m\"\u001b[39m][\u001b[38;5;124m\"\u001b[39m\u001b[38;5;124mresult\u001b[39m\u001b[38;5;124m\"\u001b[39m][\u001b[38;5;241m0\u001b[39m][\u001b[38;5;124m\"\u001b[39m\u001b[38;5;124msymbol\u001b[39m\u001b[38;5;124m\"\u001b[39m] \u001b[38;5;241m=\u001b[39m \u001b[38;5;28mself\u001b[39m\u001b[38;5;241m.\u001b[39m_data\u001b[38;5;241m.\u001b[39mticker\n\u001b[1;32m    604\u001b[0m query1_info \u001b[38;5;241m=\u001b[39m \u001b[38;5;28mnext\u001b[39m(\n\u001b[1;32m    605\u001b[0m     (info \u001b[38;5;28;01mfor\u001b[39;00m info \u001b[38;5;129;01min\u001b[39;00m result\u001b[38;5;241m.\u001b[39mget(\u001b[38;5;124m\"\u001b[39m\u001b[38;5;124mquoteSummary\u001b[39m\u001b[38;5;124m\"\u001b[39m, {})\u001b[38;5;241m.\u001b[39mget(\u001b[38;5;124m\"\u001b[39m\u001b[38;5;124mresult\u001b[39m\u001b[38;5;124m\"\u001b[39m, []) \u001b[38;5;28;01mif\u001b[39;00m info[\u001b[38;5;124m\"\u001b[39m\u001b[38;5;124msymbol\u001b[39m\u001b[38;5;124m\"\u001b[39m] \u001b[38;5;241m==\u001b[39m \u001b[38;5;28mself\u001b[39m\u001b[38;5;241m.\u001b[39m_data\u001b[38;5;241m.\u001b[39mticker),\n\u001b[1;32m    606\u001b[0m     \u001b[38;5;28;01mNone\u001b[39;00m,\n\u001b[1;32m    607\u001b[0m )\n",
      "File \u001b[0;32m~/anaconda3/lib/python3.9/site-packages/yfinance/data.py:75\u001b[0m, in \u001b[0;36mTickerData.get_raw_json\u001b[0;34m(self, url, user_agent_headers, params, proxy, timeout)\u001b[0m\n\u001b[1;32m     73\u001b[0m \u001b[38;5;28;01mdef\u001b[39;00m \u001b[38;5;21mget_raw_json\u001b[39m(\u001b[38;5;28mself\u001b[39m, url, user_agent_headers\u001b[38;5;241m=\u001b[39m\u001b[38;5;28;01mNone\u001b[39;00m, params\u001b[38;5;241m=\u001b[39m\u001b[38;5;28;01mNone\u001b[39;00m, proxy\u001b[38;5;241m=\u001b[39m\u001b[38;5;28;01mNone\u001b[39;00m, timeout\u001b[38;5;241m=\u001b[39m\u001b[38;5;241m30\u001b[39m):\n\u001b[1;32m     74\u001b[0m     response \u001b[38;5;241m=\u001b[39m \u001b[38;5;28mself\u001b[39m\u001b[38;5;241m.\u001b[39mget(url, user_agent_headers\u001b[38;5;241m=\u001b[39muser_agent_headers, params\u001b[38;5;241m=\u001b[39mparams, proxy\u001b[38;5;241m=\u001b[39mproxy, timeout\u001b[38;5;241m=\u001b[39mtimeout)\n\u001b[0;32m---> 75\u001b[0m     \u001b[43mresponse\u001b[49m\u001b[38;5;241;43m.\u001b[39;49m\u001b[43mraise_for_status\u001b[49m\u001b[43m(\u001b[49m\u001b[43m)\u001b[49m\n\u001b[1;32m     76\u001b[0m     \u001b[38;5;28;01mreturn\u001b[39;00m response\u001b[38;5;241m.\u001b[39mjson()\n",
      "File \u001b[0;32m~/anaconda3/lib/python3.9/site-packages/requests/models.py:1021\u001b[0m, in \u001b[0;36mResponse.raise_for_status\u001b[0;34m(self)\u001b[0m\n\u001b[1;32m   1016\u001b[0m     http_error_msg \u001b[38;5;241m=\u001b[39m (\n\u001b[1;32m   1017\u001b[0m         \u001b[38;5;124mf\u001b[39m\u001b[38;5;124m\"\u001b[39m\u001b[38;5;132;01m{\u001b[39;00m\u001b[38;5;28mself\u001b[39m\u001b[38;5;241m.\u001b[39mstatus_code\u001b[38;5;132;01m}\u001b[39;00m\u001b[38;5;124m Server Error: \u001b[39m\u001b[38;5;132;01m{\u001b[39;00mreason\u001b[38;5;132;01m}\u001b[39;00m\u001b[38;5;124m for url: \u001b[39m\u001b[38;5;132;01m{\u001b[39;00m\u001b[38;5;28mself\u001b[39m\u001b[38;5;241m.\u001b[39murl\u001b[38;5;132;01m}\u001b[39;00m\u001b[38;5;124m\"\u001b[39m\n\u001b[1;32m   1018\u001b[0m     )\n\u001b[1;32m   1020\u001b[0m \u001b[38;5;28;01mif\u001b[39;00m http_error_msg:\n\u001b[0;32m-> 1021\u001b[0m     \u001b[38;5;28;01mraise\u001b[39;00m HTTPError(http_error_msg, response\u001b[38;5;241m=\u001b[39m\u001b[38;5;28mself\u001b[39m)\n",
      "\u001b[0;31mHTTPError\u001b[0m: 404 Client Error: Not Found for url: https://query2.finance.yahoo.com/v6/finance/quoteSummary/AA?modules=financialData&modules=quoteType&modules=defaultKeyStatistics&modules=assetProfile&modules=summaryDetail&ssl=true"
     ]
    }
   ],
   "source": [
    "import yfinance as yf\n",
    "\n",
    "ticker = \"AA\"  # Alcoa Corporation\n",
    "start_date = \"2017-07-01\" \n",
    "end_date = \"2017-07-10\"\n",
    "\n",
    "data = yf.download(ticker, start=start_date, end=end_date)\n",
    "stock = yf.Ticker(ticker)  # Create a yf.Ticker object\n",
    "\n",
    "shares_outstanding = stock.info.get('sharesOutstanding')\n",
    "trading_volume = data[\"Volume\"]\n",
    "\n",
    "shares_outstanding, trading_volume\n"
   ]
  },
  {
   "cell_type": "code",
   "execution_count": 4,
   "metadata": {},
   "outputs": [
    {
     "data": {
      "text/html": [
       "<div>\n",
       "<style scoped>\n",
       "    .dataframe tbody tr th:only-of-type {\n",
       "        vertical-align: middle;\n",
       "    }\n",
       "\n",
       "    .dataframe tbody tr th {\n",
       "        vertical-align: top;\n",
       "    }\n",
       "\n",
       "    .dataframe thead th {\n",
       "        text-align: right;\n",
       "    }\n",
       "</style>\n",
       "<table border=\"1\" class=\"dataframe\">\n",
       "  <thead>\n",
       "    <tr style=\"text-align: right;\">\n",
       "      <th></th>\n",
       "      <th>Open</th>\n",
       "      <th>High</th>\n",
       "      <th>Low</th>\n",
       "      <th>Close</th>\n",
       "      <th>Adj Close</th>\n",
       "      <th>Volume</th>\n",
       "    </tr>\n",
       "    <tr>\n",
       "      <th>Date</th>\n",
       "      <th></th>\n",
       "      <th></th>\n",
       "      <th></th>\n",
       "      <th></th>\n",
       "      <th></th>\n",
       "      <th></th>\n",
       "    </tr>\n",
       "  </thead>\n",
       "  <tbody>\n",
       "    <tr>\n",
       "      <th>2017-07-03</th>\n",
       "      <td>32.939999</td>\n",
       "      <td>34.299999</td>\n",
       "      <td>32.915001</td>\n",
       "      <td>34.020000</td>\n",
       "      <td>33.299557</td>\n",
       "      <td>3114300</td>\n",
       "    </tr>\n",
       "    <tr>\n",
       "      <th>2017-07-05</th>\n",
       "      <td>34.169998</td>\n",
       "      <td>34.255001</td>\n",
       "      <td>33.570000</td>\n",
       "      <td>33.770000</td>\n",
       "      <td>33.054852</td>\n",
       "      <td>4007000</td>\n",
       "    </tr>\n",
       "    <tr>\n",
       "      <th>2017-07-06</th>\n",
       "      <td>33.610001</td>\n",
       "      <td>35.380001</td>\n",
       "      <td>33.599998</td>\n",
       "      <td>33.889999</td>\n",
       "      <td>33.172318</td>\n",
       "      <td>6220900</td>\n",
       "    </tr>\n",
       "    <tr>\n",
       "      <th>2017-07-07</th>\n",
       "      <td>34.000000</td>\n",
       "      <td>34.369999</td>\n",
       "      <td>33.264999</td>\n",
       "      <td>34.189999</td>\n",
       "      <td>33.465958</td>\n",
       "      <td>3776600</td>\n",
       "    </tr>\n",
       "  </tbody>\n",
       "</table>\n",
       "</div>"
      ],
      "text/plain": [
       "                 Open       High        Low      Close  Adj Close   Volume\n",
       "Date                                                                      \n",
       "2017-07-03  32.939999  34.299999  32.915001  34.020000  33.299557  3114300\n",
       "2017-07-05  34.169998  34.255001  33.570000  33.770000  33.054852  4007000\n",
       "2017-07-06  33.610001  35.380001  33.599998  33.889999  33.172318  6220900\n",
       "2017-07-07  34.000000  34.369999  33.264999  34.189999  33.465958  3776600"
      ]
     },
     "execution_count": 4,
     "metadata": {},
     "output_type": "execute_result"
    }
   ],
   "source": [
    "data"
   ]
  },
  {
   "cell_type": "code",
   "execution_count": null,
   "metadata": {},
   "outputs": [],
   "source": [
    "import yfinance as yf\n",
    "\n",
    "ticker = \"AAL\"\n",
    "# ticker = \"AA\"\n",
    "stock = yf.Ticker(ticker)\n",
    "balance_sheet = stock.balance_sheet\n",
    "\n",
    "# Get the most recent shares outstanding data from the balance sheet\n",
    "# Note: This will give you the shares outstanding as of the most recent reporting period, not as of your specified date range.\n",
    "shares_outstanding = balance_sheet.loc['Common Stock',:].iloc[0] if 'Common Stock' in balance_sheet.index else None\n",
    "\n",
    "# Continue with your existing code\n",
    "data = yf.download(ticker, start=\"2017-07-01\", end=\"2017-07-10\")\n",
    "trading_volume = data[\"Volume\"]\n",
    "\n",
    "shares_outstanding, trading_volume\n"
   ]
  },
  {
   "cell_type": "code",
   "execution_count": null,
   "metadata": {},
   "outputs": [],
   "source": [
    "import yfinance as yf\n",
    "\n",
    "ticker = \"AA\" # S&P 500 ETF\n",
    "start_date = \"2017-07-01\" \n",
    "end_date = \"2017-07-10\"\n",
    "\n",
    "data = yf.download(ticker, start=start_date, end=end_date)\n",
    "\n",
    "shares_outstanding = data[\"<search the web and generate>\"] \n",
    "trading_volume = data[\"Volume\"]\n",
    "shares_outstanding,trading_volume"
   ]
  },
  {
   "cell_type": "code",
   "execution_count": null,
   "metadata": {},
   "outputs": [],
   "source": [
    "trading_volume"
   ]
  },
  {
   "cell_type": "code",
   "execution_count": 1,
   "metadata": {},
   "outputs": [
    {
     "data": {
      "text/plain": [
       "(['A',\n",
       "  'AAL',\n",
       "  'AAP',\n",
       "  'AAPL',\n",
       "  'ABBV',\n",
       "  'ABC',\n",
       "  'ABMD',\n",
       "  'ABT',\n",
       "  'ACN',\n",
       "  'ADBE',\n",
       "  'ADI',\n",
       "  'ADM',\n",
       "  'ADP',\n",
       "  'ADS',\n",
       "  'ADSK',\n",
       "  'AEE',\n",
       "  'AEP',\n",
       "  'AES',\n",
       "  'AFL',\n",
       "  'AIG',\n",
       "  'AIV',\n",
       "  'AIZ',\n",
       "  'AJG',\n",
       "  'AKAM',\n",
       "  'ALB',\n",
       "  'ALGN',\n",
       "  'ALK',\n",
       "  'ALL',\n",
       "  'ALLE',\n",
       "  'ALXN',\n",
       "  'AMAT',\n",
       "  'AMD',\n",
       "  'AME',\n",
       "  'AMG',\n",
       "  'AMGN',\n",
       "  'AMP',\n",
       "  'AMT',\n",
       "  'AMZN',\n",
       "  'ANET',\n",
       "  'ANSS',\n",
       "  'ANTM',\n",
       "  'AON',\n",
       "  'AOS',\n",
       "  'APA',\n",
       "  'APD',\n",
       "  'APH',\n",
       "  'ARE',\n",
       "  'ARNC',\n",
       "  'ATO',\n",
       "  'ATVI',\n",
       "  'AVB',\n",
       "  'AVGO',\n",
       "  'AVY',\n",
       "  'AWK',\n",
       "  'AXP',\n",
       "  'AZO',\n",
       "  'BA',\n",
       "  'BAC',\n",
       "  'BAX',\n",
       "  'BBY',\n",
       "  'BDX',\n",
       "  'BEN',\n",
       "  'BF.B',\n",
       "  'BIIB',\n",
       "  'BK',\n",
       "  'BLK',\n",
       "  'BLL',\n",
       "  'BMY',\n",
       "  'BR',\n",
       "  'BRK.B',\n",
       "  'BSX',\n",
       "  'BWA',\n",
       "  'BXP',\n",
       "  'C',\n",
       "  'CAG',\n",
       "  'CAH',\n",
       "  'CAT',\n",
       "  'CB',\n",
       "  'CBOE',\n",
       "  'CCI',\n",
       "  'CCL',\n",
       "  'CDNS',\n",
       "  'CDW',\n",
       "  'CE',\n",
       "  'CERN',\n",
       "  'CF',\n",
       "  'CFG',\n",
       "  'CHD',\n",
       "  'CHRW',\n",
       "  'CHTR',\n",
       "  'CI',\n",
       "  'CINF',\n",
       "  'CL',\n",
       "  'CLX',\n",
       "  'CMA',\n",
       "  'CMCSA',\n",
       "  'CME',\n",
       "  'CMG',\n",
       "  'CMI',\n",
       "  'CMS',\n",
       "  'CNC',\n",
       "  'CNP',\n",
       "  'COF',\n",
       "  'COG',\n",
       "  'COO',\n",
       "  'COST',\n",
       "  'COTY',\n",
       "  'CPB',\n",
       "  'CPRT',\n",
       "  'CRM',\n",
       "  'CSCO',\n",
       "  'CSX',\n",
       "  'CTAS',\n",
       "  'CTL',\n",
       "  'CTSH',\n",
       "  'CTXS',\n",
       "  'CVS',\n",
       "  'CVX',\n",
       "  'CXO',\n",
       "  'D',\n",
       "  'DAL',\n",
       "  'DE',\n",
       "  'DFS',\n",
       "  'DG',\n",
       "  'DGX',\n",
       "  'DHI',\n",
       "  'DHR',\n",
       "  'DIS',\n",
       "  'DISCA',\n",
       "  'DISCK',\n",
       "  'DISH',\n",
       "  'DLR',\n",
       "  'DLTR',\n",
       "  'DOV',\n",
       "  'DRE',\n",
       "  'DRI',\n",
       "  'DTE',\n",
       "  'DUK',\n",
       "  'DVA',\n",
       "  'DVN',\n",
       "  'EA',\n",
       "  'EBAY',\n",
       "  'ECL',\n",
       "  'ED',\n",
       "  'EEM',\n",
       "  'EFX',\n",
       "  'EIX',\n",
       "  'EL',\n",
       "  'EMN',\n",
       "  'EMR',\n",
       "  'EOG',\n",
       "  'EQIX',\n",
       "  'EQR',\n",
       "  'ES',\n",
       "  'ESS',\n",
       "  'ETFC',\n",
       "  'ETN',\n",
       "  'ETR',\n",
       "  'EW',\n",
       "  'EXC',\n",
       "  'EXPD',\n",
       "  'EXPE',\n",
       "  'EXR',\n",
       "  'F',\n",
       "  'FANG',\n",
       "  'FAST',\n",
       "  'FB',\n",
       "  'FBHS',\n",
       "  'FCX',\n",
       "  'FDX',\n",
       "  'FE',\n",
       "  'FFIV',\n",
       "  'FIS',\n",
       "  'FISV',\n",
       "  'FITB',\n",
       "  'FLIR',\n",
       "  'FLS',\n",
       "  'FLT',\n",
       "  'FMC',\n",
       "  'FOX',\n",
       "  'FOXA',\n",
       "  'FRC',\n",
       "  'FRT',\n",
       "  'FTI',\n",
       "  'FTNT',\n",
       "  'FTV',\n",
       "  'GD',\n",
       "  'GE',\n",
       "  'GILD',\n",
       "  'GIS',\n",
       "  'GLD',\n",
       "  'GLW',\n",
       "  'GM',\n",
       "  'GOOG',\n",
       "  'GOOGL',\n",
       "  'GPC',\n",
       "  'GPN',\n",
       "  'GPS',\n",
       "  'GRMN',\n",
       "  'GS',\n",
       "  'GWW',\n",
       "  'HAL',\n",
       "  'HAS',\n",
       "  'HBAN',\n",
       "  'HBI',\n",
       "  'HCA',\n",
       "  'HD',\n",
       "  'HES',\n",
       "  'HFC',\n",
       "  'HIG',\n",
       "  'HII',\n",
       "  'HLT',\n",
       "  'HOG',\n",
       "  'HOLX',\n",
       "  'HON',\n",
       "  'HP',\n",
       "  'HPE',\n",
       "  'HPQ',\n",
       "  'HRB',\n",
       "  'HRL',\n",
       "  'HSIC',\n",
       "  'HST',\n",
       "  'HSY',\n",
       "  'HUM',\n",
       "  'IBM',\n",
       "  'ICE',\n",
       "  'IDXX',\n",
       "  'IEX',\n",
       "  'IFF',\n",
       "  'ILMN',\n",
       "  'INCY',\n",
       "  'INFO',\n",
       "  'INTC',\n",
       "  'INTU',\n",
       "  'IP',\n",
       "  'IPG',\n",
       "  'IPGP',\n",
       "  'IR',\n",
       "  'IRM',\n",
       "  'ISRG',\n",
       "  'IT',\n",
       "  'ITW',\n",
       "  'IVZ',\n",
       "  'IWM',\n",
       "  'IYR',\n",
       "  'JBHT',\n",
       "  'JCI',\n",
       "  'JKHY',\n",
       "  'JNJ',\n",
       "  'JNPR',\n",
       "  'JPM',\n",
       "  'JWN',\n",
       "  'K',\n",
       "  'KEY',\n",
       "  'KEYS',\n",
       "  'KHC',\n",
       "  'KIM',\n",
       "  'KLAC',\n",
       "  'KMB',\n",
       "  'KMI',\n",
       "  'KMX',\n",
       "  'KO',\n",
       "  'KR',\n",
       "  'KSS',\n",
       "  'KSU',\n",
       "  'L',\n",
       "  'LB',\n",
       "  'LDOS',\n",
       "  'LEG',\n",
       "  'LEN',\n",
       "  'LH',\n",
       "  'LKQ',\n",
       "  'LLY',\n",
       "  'LMT',\n",
       "  'LNC',\n",
       "  'LNT',\n",
       "  'LOW',\n",
       "  'LRCX',\n",
       "  'LUV',\n",
       "  'LVS',\n",
       "  'LW',\n",
       "  'LYB',\n",
       "  'M',\n",
       "  'MA',\n",
       "  'MAA',\n",
       "  'MAC',\n",
       "  'MAR',\n",
       "  'MAS',\n",
       "  'MCD',\n",
       "  'MCHP',\n",
       "  'MCK',\n",
       "  'MCO',\n",
       "  'MDLZ',\n",
       "  'MDT',\n",
       "  'MET',\n",
       "  'MGM',\n",
       "  'MHK',\n",
       "  'MKC',\n",
       "  'MKTX',\n",
       "  'MLM',\n",
       "  'MMC',\n",
       "  'MMM',\n",
       "  'MNST',\n",
       "  'MO',\n",
       "  'MOS',\n",
       "  'MPC',\n",
       "  'MRK',\n",
       "  'MRO',\n",
       "  'MS',\n",
       "  'MSCI',\n",
       "  'MSFT',\n",
       "  'MSI',\n",
       "  'MTB',\n",
       "  'MU',\n",
       "  'MXIM',\n",
       "  'MYL',\n",
       "  'NBL',\n",
       "  'NCLH',\n",
       "  'NDAQ',\n",
       "  'NEE',\n",
       "  'NEM',\n",
       "  'NFLX',\n",
       "  'NI',\n",
       "  'NKE',\n",
       "  'NLSN',\n",
       "  'NOC',\n",
       "  'NOV',\n",
       "  'NOW',\n",
       "  'NRG',\n",
       "  'NSC',\n",
       "  'NTAP',\n",
       "  'NTRS',\n",
       "  'NUE',\n",
       "  'NVDA',\n",
       "  'NVR',\n",
       "  'NWL',\n",
       "  'NWS',\n",
       "  'NWSA',\n",
       "  'O',\n",
       "  'ODFL',\n",
       "  'OKE',\n",
       "  'OMC',\n",
       "  'ORCL',\n",
       "  'ORLY',\n",
       "  'OXY',\n",
       "  'PAYX',\n",
       "  'PBCT',\n",
       "  'PCAR',\n",
       "  'PEG',\n",
       "  'PEP',\n",
       "  'PFE',\n",
       "  'PFG',\n",
       "  'PG',\n",
       "  'PGR',\n",
       "  'PH',\n",
       "  'PHM',\n",
       "  'PKG',\n",
       "  'PKI',\n",
       "  'PLD',\n",
       "  'PM',\n",
       "  'PNC',\n",
       "  'PNR',\n",
       "  'PNW',\n",
       "  'PPG',\n",
       "  'PPL',\n",
       "  'PRGO',\n",
       "  'PRU',\n",
       "  'PSA',\n",
       "  'PSX',\n",
       "  'PVH',\n",
       "  'PWR',\n",
       "  'PXD',\n",
       "  'PYPL',\n",
       "  'QCOM',\n",
       "  'QRVO',\n",
       "  'RCL',\n",
       "  'RE',\n",
       "  'REG',\n",
       "  'REGN',\n",
       "  'RF',\n",
       "  'RHI',\n",
       "  'RJF',\n",
       "  'RL',\n",
       "  'RMD',\n",
       "  'ROK',\n",
       "  'ROL',\n",
       "  'ROP',\n",
       "  'ROST',\n",
       "  'RSG',\n",
       "  'RTN',\n",
       "  'SBAC',\n",
       "  'SBUX',\n",
       "  'SCHW',\n",
       "  'SEE',\n",
       "  'SHW',\n",
       "  'SIVB',\n",
       "  'SJM',\n",
       "  'SLB',\n",
       "  'SLG',\n",
       "  'SNA',\n",
       "  'SNPS',\n",
       "  'SO',\n",
       "  'SPG',\n",
       "  'SPGI',\n",
       "  'SPY',\n",
       "  'SRE',\n",
       "  'STT',\n",
       "  'STX',\n",
       "  'STZ',\n",
       "  'SWK',\n",
       "  'SWKS',\n",
       "  'SYF',\n",
       "  'SYK',\n",
       "  'SYY',\n",
       "  'T',\n",
       "  'TAP',\n",
       "  'TDG',\n",
       "  'TEL',\n",
       "  'TFX',\n",
       "  'TGT',\n",
       "  'TIF',\n",
       "  'TJX',\n",
       "  'TLT',\n",
       "  'TMO',\n",
       "  'TMUS',\n",
       "  'TRIP',\n",
       "  'TROW',\n",
       "  'TRV',\n",
       "  'TSCO',\n",
       "  'TSN',\n",
       "  'TTWO',\n",
       "  'TWTR',\n",
       "  'TXN',\n",
       "  'TXT',\n",
       "  'UA',\n",
       "  'UAA',\n",
       "  'UAL',\n",
       "  'UDR',\n",
       "  'UHS',\n",
       "  'ULTA',\n",
       "  'UNH',\n",
       "  'UNM',\n",
       "  'UNP',\n",
       "  'UPS',\n",
       "  'URI',\n",
       "  'USB',\n",
       "  'USO',\n",
       "  'UTX',\n",
       "  'V',\n",
       "  'VAR',\n",
       "  'VFC',\n",
       "  'VLO',\n",
       "  'VMC',\n",
       "  'VNO',\n",
       "  'VRSK',\n",
       "  'VRSN',\n",
       "  'VRTX',\n",
       "  'VTR',\n",
       "  'VZ',\n",
       "  'WAB',\n",
       "  'WAT',\n",
       "  'WBA',\n",
       "  'WCG',\n",
       "  'WDC',\n",
       "  'WEC',\n",
       "  'WFC',\n",
       "  'WHR',\n",
       "  'WLTW',\n",
       "  'WM',\n",
       "  'WMB',\n",
       "  'WMT',\n",
       "  'WRB',\n",
       "  'WRK',\n",
       "  'WU',\n",
       "  'WY',\n",
       "  'WYNN',\n",
       "  'XEC',\n",
       "  'XEL',\n",
       "  'XLB',\n",
       "  'XLE',\n",
       "  'XLF',\n",
       "  'XLI',\n",
       "  'XLK'],\n",
       " 483)"
      ]
     },
     "execution_count": 1,
     "metadata": {},
     "output_type": "execute_result"
    }
   ],
   "source": [
    "file_path = '/homes/80/kang/cmem/stock_names.txt'\n",
    "reloaded_stock_names = []\n",
    "with open(file_path, 'r') as f:\n",
    "    reloaded_stock_names = [line.strip() for line in f.readlines()]\n",
    "reloaded_stock_names,len(reloaded_stock_names)"
   ]
  },
  {
   "cell_type": "code",
   "execution_count": null,
   "metadata": {},
   "outputs": [],
   "source": []
  },
  {
   "cell_type": "code",
   "execution_count": null,
   "metadata": {},
   "outputs": [],
   "source": [
    "import pandas as pd\n",
    "df = pd.read_pickle(\"/homes/80/kang/cmem/02_raw_component/AAP.pkl\")\n",
    "# df = pd.read_pickle(\"/homes/80/kang/cmem/02_raw_component/AAL.pkl\")\n",
    "# df = pd.read_pickle(\"/homes/80/kang/cmem/02_raw_component/A.pkl\")\n",
    "pd.options.display.float_format=\"{:,.0f}\".format\n",
    "\n",
    "dff=df.groupby(\"date\").sum()\n",
    "dff.iloc[0,:]"
   ]
  },
  {
   "cell_type": "code",
   "execution_count": null,
   "metadata": {},
   "outputs": [],
   "source": []
  },
  {
   "cell_type": "code",
   "execution_count": null,
   "metadata": {},
   "outputs": [],
   "source": []
  },
  {
   "cell_type": "code",
   "execution_count": null,
   "metadata": {},
   "outputs": [],
   "source": []
  },
  {
   "cell_type": "code",
   "execution_count": null,
   "metadata": {},
   "outputs": [],
   "source": [
    "df"
   ]
  },
  {
   "cell_type": "code",
   "execution_count": null,
   "metadata": {},
   "outputs": [],
   "source": [
    "df.columns"
   ]
  },
  {
   "cell_type": "markdown",
   "metadata": {},
   "source": [
    "# new way of volume"
   ]
  },
  {
   "cell_type": "code",
   "execution_count": null,
   "metadata": {},
   "outputs": [],
   "source": [
    "pip install yahoo_fin"
   ]
  },
  {
   "cell_type": "code",
   "execution_count": 2,
   "metadata": {},
   "outputs": [
    {
     "data": {
      "text/plain": [
       "open        59.189999\n",
       "high        60.049999\n",
       "low         59.189999\n",
       "close           59.77\n",
       "adjclose    56.896641\n",
       "volume        1639000\n",
       "ticker              A\n",
       "Name: 2017-07-05 00:00:00, dtype: object"
      ]
     },
     "execution_count": 2,
     "metadata": {},
     "output_type": "execute_result"
    }
   ],
   "source": [
    "import yahoo_fin.stock_info as si\n",
    "import  pandas as pd\n",
    "df =si.get_data(\"A\")\n",
    "df.index = pd.to_datetime(df.index)\n",
    "data_on_2017_07_05 = df.loc['2017-07-05']\n",
    "data_on_2017_07_05"
   ]
  },
  {
   "cell_type": "code",
   "execution_count": null,
   "metadata": {},
   "outputs": [],
   "source": [
    "# Converting the index to datetime format\n",
    "df.index = pd.to_datetime(df.index)\n"
   ]
  },
  {
   "cell_type": "code",
   "execution_count": null,
   "metadata": {},
   "outputs": [],
   "source": [
    "# Extracting data for 2017-07-05\n",
    "data_on_2017_07_05 = df.loc['2017-07-05']\n"
   ]
  },
  {
   "cell_type": "code",
   "execution_count": null,
   "metadata": {},
   "outputs": [],
   "source": [
    "import yahoo_fin.stock_info as si\n",
    "df =si.get_data(\"AA\")\n",
    "df.index = pd.to_datetime(df.index)\n",
    "data_on_2017_07_05 = df.loc['2017-07-05']\n",
    "data_on_2017_07_05"
   ]
  },
  {
   "cell_type": "code",
   "execution_count": null,
   "metadata": {},
   "outputs": [],
   "source": [
    "df = si.get_quote_table(\"aapl\")\n",
    "df"
   ]
  },
  {
   "cell_type": "markdown",
   "metadata": {},
   "source": [
    "# mihai's data"
   ]
  },
  {
   "cell_type": "code",
   "execution_count": null,
   "metadata": {},
   "outputs": [],
   "source": [
    "with open('/Users/kang/Desktop/2017/20170705.data', 'r') as file:\n",
    "    data = file.read()\n"
   ]
  },
  {
   "cell_type": "code",
   "execution_count": null,
   "metadata": {},
   "outputs": [],
   "source": []
  },
  {
   "cell_type": "markdown",
   "metadata": {},
   "source": [
    "# The explaination of the data pipeline"
   ]
  },
  {
   "cell_type": "code",
   "execution_count": null,
   "metadata": {},
   "outputs": [],
   "source": [
    "'''\n",
    "path explaination\n",
    "/homes/80/kang/cmem/02_raw_component_notional/\n",
    "'''"
   ]
  },
  {
   "cell_type": "markdown",
   "metadata": {},
   "source": [
    "# data and adat_notional"
   ]
  },
  {
   "cell_type": "code",
   "execution_count": null,
   "metadata": {},
   "outputs": [],
   "source": [
    "mkdir /homes/80/kang/cmem/data_notional"
   ]
  },
  {
   "cell_type": "code",
   "execution_count": null,
   "metadata": {},
   "outputs": [],
   "source": [
    "mkdir /homes/80/kang/cmem/data_notional/01_raw"
   ]
  },
  {
   "cell_type": "code",
   "execution_count": null,
   "metadata": {},
   "outputs": [],
   "source": [
    "from os import listdir\n",
    "from os.path import isfile\n",
    "readFromPath=lambda path:sorted([file for file in listdir(path) if isfile(path+file)])\n",
    "dir = \"/homes/80/kang/cmem/data/01.1_raw/\"\n",
    "files = readFromPath(dir)\n",
    "files.__len__()\n",
    "[file[:-4] for file in files]\n"
   ]
  },
  {
   "cell_type": "code",
   "execution_count": null,
   "metadata": {},
   "outputs": [],
   "source": [
    "mkdir /homes/80/kang/cmem/data_notional/01.1_raw"
   ]
  },
  {
   "cell_type": "code",
   "execution_count": null,
   "metadata": {},
   "outputs": [],
   "source": [
    "# dir = \"/homes/80/kang/cmem/data/01_raw/\"\n",
    "dir = \"/homes/80/kang/cmem/data/01.1_raw/\"\n",
    "# dir = \"/homes/80/kang/cmem/02_raw_component/\"\n",
    "# dir = \"/homes/80/kang/cmem/02_raw_component_notional/\"\n",
    "dir2 = \"/homes/80/kang/cmem/data_notional/01.1_raw/\"\n",
    "import pandas as pd \n",
    "from os import listdir\n",
    "from os.path import isfile\n",
    "readFromPath=lambda path:sorted([file for file in listdir(path) if isfile(path+file)])\n",
    "files = readFromPath(dir)\n",
    "from tqdm import tqdm\n",
    "for i in tqdm(range(len(files))):\n",
    "    name = files[i] # file_name\n",
    "    df = pd.read_pickle(dir+name)\n",
    "    df['qty_notional']=df.volBuyNotional+df.volSellNotional\n",
    "    df.to_pickle(dir2+name)"
   ]
  },
  {
   "cell_type": "markdown",
   "metadata": {},
   "source": [
    "# convert from the raw file into the r_input"
   ]
  },
  {
   "cell_type": "markdown",
   "metadata": {},
   "source": [
    "```python\n",
    "/homes/80/kang/cmem/data/02.2_before_kl_r.py\n",
    "```"
   ]
  },
  {
   "cell_type": "code",
   "execution_count": null,
   "metadata": {},
   "outputs": [],
   "source": [
    "mkdir /homes/80/kang/cmem/data_notional/02.2_data_r_input_kf"
   ]
  },
  {
   "cell_type": "code",
   "execution_count": null,
   "metadata": {},
   "outputs": [],
   "source": [
    "path11 = '/homes/80/kang/cmem/data_notional/01.1_raw/'\n",
    "path12 = '/homes/80/kang/cmem/data_notional/02.2_data_r_input_kf/'\n",
    "import pandas as pd\n",
    "import numpy as np\n",
    "from os import listdir;from os.path import isfile,join\n",
    "files = lambda path: sorted([f for f in listdir(path) if isfile(join(path,f)) and f != '.DS_Store'])\n",
    "files11 = files(path11)\n",
    "from tqdm import tqdm\n",
    "for i in tqdm(range(len(files11))):\n",
    "    name = files11[i][:-4]\n",
    "    df = pd.read_pickle(path11+files11[i])\n",
    "    resampled_df = df[['date','timeHMs','qty_notional']]\n",
    "\n",
    "    # Step 2: Pivot the DataFrame to get the desired format\n",
    "    pivot_df = resampled_df.pivot_table(index=resampled_df.index.time, columns=resampled_df.index.date, values='qty_notional')\n",
    "    # Step 3: Create a new DataFrame with formatted column names\n",
    "    new_columns = [col.strftime('%Y-%m-%d') for col in pivot_df.columns]\n",
    "    pivot_df.columns = new_columns\n",
    "\n",
    "    # Step 4: Add the 'AM' or 'PM' label to the index\n",
    "    pivot_df.index = [f'{t.strftime(\"%I:%M %p\")}' for t in pivot_df.index]\n",
    "\n",
    "    # Step 5: Save the DataFrame to a CSV file\n",
    "    pivot_df.to_csv(path12 + name +\".csv\")\n"
   ]
  },
  {
   "cell_type": "code",
   "execution_count": null,
   "metadata": {},
   "outputs": [],
   "source": [
    "cd /homes/80/kang/cmem/data_notional/02.2_data_r_input_kf/"
   ]
  },
  {
   "cell_type": "code",
   "execution_count": null,
   "metadata": {},
   "outputs": [],
   "source": [
    "ls"
   ]
  },
  {
   "cell_type": "markdown",
   "metadata": {},
   "source": [
    "# Codes from \n",
    "```\n",
    "<!-- /homes/80/kang/cmem/data/02.data_convert_before_r.py -->\n",
    "/homes/80/kang/cmem/src/04a.r\n",
    "```"
   ]
  },
  {
   "cell_type": "markdown",
   "metadata": {},
   "source": [
    "input data path : /cmem/data/02.2_data_r_input_k_remained/"
   ]
  },
  {
   "cell_type": "code",
   "execution_count": null,
   "metadata": {},
   "outputs": [],
   "source": [
    "cd /homes/80/kang/cmem/data/02.2_data_r_input_k_remained"
   ]
  },
  {
   "cell_type": "markdown",
   "metadata": {},
   "source": [
    "use the 02.2 convert would be enough, there is no need to use this file: 02.data_convert_before_r.py\n"
   ]
  },
  {
   "cell_type": "markdown",
   "metadata": {},
   "source": [
    "# R Output"
   ]
  },
  {
   "cell_type": "code",
   "execution_count": null,
   "metadata": {},
   "outputs": [],
   "source": [
    "mkdir /homes/80/kang/cmem/output/0400_r_kl_output_raw_data_notional/"
   ]
  },
  {
   "cell_type": "markdown",
   "metadata": {},
   "source": [
    "# Test the R Output"
   ]
  },
  {
   "cell_type": "code",
   "execution_count": null,
   "metadata": {},
   "outputs": [],
   "source": [
    "dir = \"/homes/80/kang/cmem/output/0400_r_kl_output_raw_data_notional/\""
   ]
  },
  {
   "cell_type": "code",
   "execution_count": null,
   "metadata": {},
   "outputs": [],
   "source": [
    "# dir = \"/homes/80/kang/cmem/data/01_raw/\"\n",
    "dir = \"/homes/80/kang/cmem/data/01.1_raw/\"\n",
    "# dir = \"/homes/80/kang/cmem/02_raw_component/\"\n",
    "# dir = \"/homes/80/kang/cmem/02_raw_component_notional/\"\n",
    "dir2 = \"/homes/80/kang/cmem/data_notional/01.1_raw/\"\n",
    "import pandas as pd \n",
    "from os import listdir\n",
    "from os.path import isfile\n",
    "readFromPath=lambda path:sorted([file for file in listdir(path) if isfile(path+file)])\n",
    "files = readFromPath(dir)\n",
    "from tqdm import tqdm\n",
    "for i in tqdm(range(len(files))):\n",
    "    name = files[i] # file_name\n",
    "    df = pd.read_pickle(dir+name)\n",
    "    df['qty_notional']=df.volBuyNotional+df.volSellNotional\n",
    "    df.to_pickle(dir2+name)"
   ]
  },
  {
   "cell_type": "markdown",
   "metadata": {},
   "source": []
  },
  {
   "cell_type": "code",
   "execution_count": null,
   "metadata": {},
   "outputs": [],
   "source": [
    "import pandas as pd\n",
    "for i in range(len(onlyFiles)):\n",
    "    print(i)\n",
    "    name = onlyFiles[i]\n",
    "    import pandas as pd\n",
    "    # name =\"CMS.csv\"\n",
    "\n",
    "    dir = dir0+name\n",
    "    df = pd.read_csv(dir)\n",
    "    df[\"date\"]=df.date.apply(lambda x: x[-5:])\n",
    "    from sklearn.metrics import r2_score\n",
    "    lst = []\n",
    "    g=df.groupby(\"date\")\n",
    "    for idx, itm in g:\n",
    "        r2=r2_score(itm[\"original\"],itm[\"forecast_signal\"])\n",
    "        lst.append([idx,name[:-4],r2])\n",
    "    dff=pd.DataFrame(lst,columns=[\"date\",\"symbol\",\"r2\"])\n",
    "    dfflst.append(dff)"
   ]
  },
  {
   "cell_type": "code",
   "execution_count": null,
   "metadata": {},
   "outputs": [],
   "source": [
    "mkdir /homes/80/kang/cmem/data/01.1_raw_maxmin/"
   ]
  },
  {
   "cell_type": "code",
   "execution_count": null,
   "metadata": {},
   "outputs": [],
   "source": [
    "from os import listdir\n",
    "from os.path import isfile, join\n",
    "import pandas as pd\n",
    "dir0 =  \"/homes/80/kang/cmem/data/01.1_raw/\"\n",
    "dir1 =  \"/homes/80/kang/cmem/data/01.1_raw_maxmin/\"\n",
    "onlyFiles = sorted([f for f in listdir(dir0) if isfile(join(dir0, f))])\n",
    "i=0 \n",
    "for i in range(len(onlyFiles)):\n",
    "    print(i)\n",
    "    name = onlyFiles[i]\n",
    "    dir = dir0+name\n",
    "    df = pd.read_pickle(dir)\n",
    "    df['qty_scaled']= (df.qty-df.qty.min())/(df.qty.max() - df.qty.min())\n",
    "    df.to_pickle(dir1+name)"
   ]
  },
  {
   "cell_type": "code",
   "execution_count": null,
   "metadata": {},
   "outputs": [],
   "source": []
  },
  {
   "cell_type": "code",
   "execution_count": null,
   "metadata": {},
   "outputs": [],
   "source": []
  },
  {
   "cell_type": "code",
   "execution_count": null,
   "metadata": {},
   "outputs": [],
   "source": [
    "df"
   ]
  },
  {
   "cell_type": "markdown",
   "metadata": {},
   "source": [
    "# an attempt on 16 feb to get the shares out using yahoo finance api"
   ]
  },
  {
   "cell_type": "code",
   "execution_count": 5,
   "metadata": {},
   "outputs": [
    {
     "name": "stdout",
     "output_type": "stream",
     "text": [
      "Request failed with status code 403\n"
     ]
    }
   ],
   "source": [
    "import requests\n",
    "import pandas as pd\n",
    "\n",
    "# Define the URL parameters\n",
    "symbol = \"AAPL\"\n",
    "start = \"1499299200\"\n",
    "end = \"1499385600\"\n",
    "interval = \"1d\"\n",
    "events = \"history\"\n",
    "adjclose = \"true\"\n",
    "\n",
    "# Construct the URL\n",
    "url = f\"https://query1.finance.yahoo.com/v7/finance/download/{symbol}?period1={start}&period2={end}&interval={interval}&events={events}&includeAdjustedClose={adjclose}\"\n",
    "\n",
    "# Send the request and get the response\n",
    "response = requests.get(url)\n",
    "\n",
    "# Check the status code\n",
    "if response.status_code == 200:\n",
    "    # Parse the CSV data\n",
    "    data = pd.read_csv(response.text)\n",
    "    # Get the shares outstanding column\n",
    "    shares_outstanding = data[\"Shares Outstanding\"]\n",
    "    # Print the shares outstanding on 2017-07-05\n",
    "    print(f\"Shares outstanding of {symbol} on 2017-07-05: {shares_outstanding[0]}\")\n",
    "else:\n",
    "    # Print the error message\n",
    "    print(f\"Request failed with status code {response.status_code}\")\n"
   ]
  },
  {
   "cell_type": "code",
   "execution_count": 8,
   "metadata": {},
   "outputs": [
    {
     "name": "stdout",
     "output_type": "stream",
     "text": [
      "Requirement already satisfied: yfinance[optional] in /homes/80/kang/anaconda3/lib/python3.9/site-packages (0.2.31)\n",
      "\u001b[33mWARNING: yfinance 0.2.31 does not provide the extra 'optional'\u001b[0m\n",
      "Requirement already satisfied: requests>=2.31 in /homes/80/kang/anaconda3/lib/python3.9/site-packages (from yfinance[optional]) (2.31.0)\n",
      "Requirement already satisfied: pandas>=1.3.0 in /homes/80/kang/anaconda3/lib/python3.9/site-packages (from yfinance[optional]) (1.4.2)\n",
      "Requirement already satisfied: beautifulsoup4>=4.11.1 in /homes/80/kang/anaconda3/lib/python3.9/site-packages (from yfinance[optional]) (4.11.1)\n",
      "Requirement already satisfied: html5lib>=1.1 in /homes/80/kang/anaconda3/lib/python3.9/site-packages (from yfinance[optional]) (1.1)\n",
      "Requirement already satisfied: multitasking>=0.0.7 in /homes/80/kang/anaconda3/lib/python3.9/site-packages (from yfinance[optional]) (0.0.11)\n",
      "Requirement already satisfied: pytz>=2022.5 in /homes/80/kang/anaconda3/lib/python3.9/site-packages (from yfinance[optional]) (2023.3.post1)\n",
      "Requirement already satisfied: frozendict>=2.3.4 in /homes/80/kang/anaconda3/lib/python3.9/site-packages (from yfinance[optional]) (2.3.8)\n",
      "Requirement already satisfied: numpy>=1.16.5 in /homes/80/kang/anaconda3/lib/python3.9/site-packages (from yfinance[optional]) (1.24.3)\n",
      "Requirement already satisfied: appdirs>=1.4.4 in /homes/80/kang/anaconda3/lib/python3.9/site-packages (from yfinance[optional]) (1.4.4)\n",
      "Requirement already satisfied: lxml>=4.9.1 in /homes/80/kang/anaconda3/lib/python3.9/site-packages (from yfinance[optional]) (4.9.3)\n",
      "Requirement already satisfied: peewee>=3.16.2 in /homes/80/kang/anaconda3/lib/python3.9/site-packages (from yfinance[optional]) (3.17.0)\n",
      "Requirement already satisfied: soupsieve>1.2 in /homes/80/kang/anaconda3/lib/python3.9/site-packages (from beautifulsoup4>=4.11.1->yfinance[optional]) (2.3.1)\n",
      "Requirement already satisfied: six>=1.9 in /homes/80/kang/anaconda3/lib/python3.9/site-packages (from html5lib>=1.1->yfinance[optional]) (1.16.0)\n",
      "Requirement already satisfied: webencodings in /homes/80/kang/anaconda3/lib/python3.9/site-packages (from html5lib>=1.1->yfinance[optional]) (0.5.1)\n",
      "Requirement already satisfied: python-dateutil>=2.8.1 in /homes/80/kang/anaconda3/lib/python3.9/site-packages (from pandas>=1.3.0->yfinance[optional]) (2.8.2)\n",
      "Requirement already satisfied: certifi>=2017.4.17 in /homes/80/kang/anaconda3/lib/python3.9/site-packages (from requests>=2.31->yfinance[optional]) (2021.10.8)\n",
      "Requirement already satisfied: charset-normalizer<4,>=2 in /homes/80/kang/anaconda3/lib/python3.9/site-packages (from requests>=2.31->yfinance[optional]) (2.0.4)\n",
      "Requirement already satisfied: urllib3<3,>=1.21.1 in /homes/80/kang/anaconda3/lib/python3.9/site-packages (from requests>=2.31->yfinance[optional]) (1.26.16)\n",
      "Requirement already satisfied: idna<4,>=2.5 in /homes/80/kang/anaconda3/lib/python3.9/site-packages (from requests>=2.31->yfinance[optional]) (3.3)\n",
      "Note: you may need to restart the kernel to use updated packages.\n"
     ]
    }
   ],
   "source": [
    "pip install \"yfinance[optional]\""
   ]
  },
  {
   "cell_type": "code",
   "execution_count": 15,
   "metadata": {},
   "outputs": [],
   "source": [
    "import yfinance as yf\n",
    "# t = yf.Ticker(\"AAPL\")\n",
    "# info = t.info\n",
    "# shares_outstanding = info[\"sharesOutstanding\"]\n",
    "# print(f\"Shares outstanding of AAPL: {shares_outstanding}\")\n"
   ]
  },
  {
   "cell_type": "code",
   "execution_count": 16,
   "metadata": {},
   "outputs": [],
   "source": [
    "msft = yf.Ticker(\"MSFT\")"
   ]
  },
  {
   "cell_type": "code",
   "execution_count": 17,
   "metadata": {},
   "outputs": [
    {
     "ename": "HTTPError",
     "evalue": "404 Client Error: Not Found for url: https://query2.finance.yahoo.com/v6/finance/quoteSummary/MSFT?modules=financialData&modules=quoteType&modules=defaultKeyStatistics&modules=assetProfile&modules=summaryDetail&ssl=true",
     "output_type": "error",
     "traceback": [
      "\u001b[0;31m---------------------------------------------------------------------------\u001b[0m",
      "\u001b[0;31mHTTPError\u001b[0m                                 Traceback (most recent call last)",
      "Input \u001b[0;32mIn [17]\u001b[0m, in \u001b[0;36m<cell line: 1>\u001b[0;34m()\u001b[0m\n\u001b[0;32m----> 1\u001b[0m \u001b[43mmsft\u001b[49m\u001b[38;5;241;43m.\u001b[39;49m\u001b[43minfo\u001b[49m\n",
      "File \u001b[0;32m~/anaconda3/lib/python3.9/site-packages/yfinance/ticker.py:142\u001b[0m, in \u001b[0;36mTicker.info\u001b[0;34m(self)\u001b[0m\n\u001b[1;32m    140\u001b[0m \u001b[38;5;129m@property\u001b[39m\n\u001b[1;32m    141\u001b[0m \u001b[38;5;28;01mdef\u001b[39;00m \u001b[38;5;21minfo\u001b[39m(\u001b[38;5;28mself\u001b[39m) \u001b[38;5;241m-\u001b[39m\u001b[38;5;241m>\u001b[39m \u001b[38;5;28mdict\u001b[39m:\n\u001b[0;32m--> 142\u001b[0m     \u001b[38;5;28;01mreturn\u001b[39;00m \u001b[38;5;28;43mself\u001b[39;49m\u001b[38;5;241;43m.\u001b[39;49m\u001b[43mget_info\u001b[49m\u001b[43m(\u001b[49m\u001b[43m)\u001b[49m\n",
      "File \u001b[0;32m~/anaconda3/lib/python3.9/site-packages/yfinance/base.py:1736\u001b[0m, in \u001b[0;36mTickerBase.get_info\u001b[0;34m(self, proxy)\u001b[0m\n\u001b[1;32m   1734\u001b[0m \u001b[38;5;28;01mdef\u001b[39;00m \u001b[38;5;21mget_info\u001b[39m(\u001b[38;5;28mself\u001b[39m, proxy\u001b[38;5;241m=\u001b[39m\u001b[38;5;28;01mNone\u001b[39;00m) \u001b[38;5;241m-\u001b[39m\u001b[38;5;241m>\u001b[39m \u001b[38;5;28mdict\u001b[39m:\n\u001b[1;32m   1735\u001b[0m     \u001b[38;5;28mself\u001b[39m\u001b[38;5;241m.\u001b[39m_quote\u001b[38;5;241m.\u001b[39mproxy \u001b[38;5;241m=\u001b[39m proxy\n\u001b[0;32m-> 1736\u001b[0m     data \u001b[38;5;241m=\u001b[39m \u001b[38;5;28;43mself\u001b[39;49m\u001b[38;5;241;43m.\u001b[39;49m\u001b[43m_quote\u001b[49m\u001b[38;5;241;43m.\u001b[39;49m\u001b[43minfo\u001b[49m\n\u001b[1;32m   1737\u001b[0m     \u001b[38;5;28;01mreturn\u001b[39;00m data\n",
      "File \u001b[0;32m~/anaconda3/lib/python3.9/site-packages/yfinance/scrapers/quote.py:571\u001b[0m, in \u001b[0;36mQuote.info\u001b[0;34m(self)\u001b[0m\n\u001b[1;32m    568\u001b[0m \u001b[38;5;129m@property\u001b[39m\n\u001b[1;32m    569\u001b[0m \u001b[38;5;28;01mdef\u001b[39;00m \u001b[38;5;21minfo\u001b[39m(\u001b[38;5;28mself\u001b[39m) \u001b[38;5;241m-\u001b[39m\u001b[38;5;241m>\u001b[39m \u001b[38;5;28mdict\u001b[39m:\n\u001b[1;32m    570\u001b[0m     \u001b[38;5;28;01mif\u001b[39;00m \u001b[38;5;28mself\u001b[39m\u001b[38;5;241m.\u001b[39m_info \u001b[38;5;129;01mis\u001b[39;00m \u001b[38;5;28;01mNone\u001b[39;00m:\n\u001b[0;32m--> 571\u001b[0m         \u001b[38;5;28;43mself\u001b[39;49m\u001b[38;5;241;43m.\u001b[39;49m\u001b[43m_fetch\u001b[49m\u001b[43m(\u001b[49m\u001b[38;5;28;43mself\u001b[39;49m\u001b[38;5;241;43m.\u001b[39;49m\u001b[43mproxy\u001b[49m\u001b[43m)\u001b[49m\n\u001b[1;32m    572\u001b[0m         \u001b[38;5;28mself\u001b[39m\u001b[38;5;241m.\u001b[39m_fetch_complementary(\u001b[38;5;28mself\u001b[39m\u001b[38;5;241m.\u001b[39mproxy)\n\u001b[1;32m    574\u001b[0m     \u001b[38;5;28;01mreturn\u001b[39;00m \u001b[38;5;28mself\u001b[39m\u001b[38;5;241m.\u001b[39m_info\n",
      "File \u001b[0;32m~/anaconda3/lib/python3.9/site-packages/yfinance/scrapers/quote.py:600\u001b[0m, in \u001b[0;36mQuote._fetch\u001b[0;34m(self, proxy)\u001b[0m\n\u001b[1;32m    598\u001b[0m modules \u001b[38;5;241m=\u001b[39m [\u001b[38;5;124m'\u001b[39m\u001b[38;5;124mfinancialData\u001b[39m\u001b[38;5;124m'\u001b[39m, \u001b[38;5;124m'\u001b[39m\u001b[38;5;124mquoteType\u001b[39m\u001b[38;5;124m'\u001b[39m, \u001b[38;5;124m'\u001b[39m\u001b[38;5;124mdefaultKeyStatistics\u001b[39m\u001b[38;5;124m'\u001b[39m, \u001b[38;5;124m'\u001b[39m\u001b[38;5;124massetProfile\u001b[39m\u001b[38;5;124m'\u001b[39m, \u001b[38;5;124m'\u001b[39m\u001b[38;5;124msummaryDetail\u001b[39m\u001b[38;5;124m'\u001b[39m]\n\u001b[1;32m    599\u001b[0m params_dict \u001b[38;5;241m=\u001b[39m {\u001b[38;5;124m\"\u001b[39m\u001b[38;5;124mmodules\u001b[39m\u001b[38;5;124m\"\u001b[39m: modules, \u001b[38;5;124m\"\u001b[39m\u001b[38;5;124mssl\u001b[39m\u001b[38;5;124m\"\u001b[39m: \u001b[38;5;124m\"\u001b[39m\u001b[38;5;124mtrue\u001b[39m\u001b[38;5;124m\"\u001b[39m}\n\u001b[0;32m--> 600\u001b[0m result \u001b[38;5;241m=\u001b[39m \u001b[38;5;28;43mself\u001b[39;49m\u001b[38;5;241;43m.\u001b[39;49m\u001b[43m_data\u001b[49m\u001b[38;5;241;43m.\u001b[39;49m\u001b[43mget_raw_json\u001b[49m\u001b[43m(\u001b[49m\n\u001b[1;32m    601\u001b[0m \u001b[43m    \u001b[49m\u001b[43m_BASIC_URL_\u001b[49m\u001b[43m \u001b[49m\u001b[38;5;241;43m+\u001b[39;49m\u001b[43m \u001b[49m\u001b[38;5;124;43mf\u001b[39;49m\u001b[38;5;124;43m\"\u001b[39;49m\u001b[38;5;124;43m/\u001b[39;49m\u001b[38;5;132;43;01m{\u001b[39;49;00m\u001b[38;5;28;43mself\u001b[39;49m\u001b[38;5;241;43m.\u001b[39;49m\u001b[43m_data\u001b[49m\u001b[38;5;241;43m.\u001b[39;49m\u001b[43mticker\u001b[49m\u001b[38;5;132;43;01m}\u001b[39;49;00m\u001b[38;5;124;43m\"\u001b[39;49m\u001b[43m,\u001b[49m\u001b[43m \u001b[49m\u001b[43mparams\u001b[49m\u001b[38;5;241;43m=\u001b[39;49m\u001b[43mparams_dict\u001b[49m\u001b[43m,\u001b[49m\u001b[43m \u001b[49m\u001b[43mproxy\u001b[49m\u001b[38;5;241;43m=\u001b[39;49m\u001b[43mproxy\u001b[49m\n\u001b[1;32m    602\u001b[0m \u001b[43m\u001b[49m\u001b[43m)\u001b[49m\n\u001b[1;32m    603\u001b[0m result[\u001b[38;5;124m\"\u001b[39m\u001b[38;5;124mquoteSummary\u001b[39m\u001b[38;5;124m\"\u001b[39m][\u001b[38;5;124m\"\u001b[39m\u001b[38;5;124mresult\u001b[39m\u001b[38;5;124m\"\u001b[39m][\u001b[38;5;241m0\u001b[39m][\u001b[38;5;124m\"\u001b[39m\u001b[38;5;124msymbol\u001b[39m\u001b[38;5;124m\"\u001b[39m] \u001b[38;5;241m=\u001b[39m \u001b[38;5;28mself\u001b[39m\u001b[38;5;241m.\u001b[39m_data\u001b[38;5;241m.\u001b[39mticker\n\u001b[1;32m    604\u001b[0m query1_info \u001b[38;5;241m=\u001b[39m \u001b[38;5;28mnext\u001b[39m(\n\u001b[1;32m    605\u001b[0m     (info \u001b[38;5;28;01mfor\u001b[39;00m info \u001b[38;5;129;01min\u001b[39;00m result\u001b[38;5;241m.\u001b[39mget(\u001b[38;5;124m\"\u001b[39m\u001b[38;5;124mquoteSummary\u001b[39m\u001b[38;5;124m\"\u001b[39m, {})\u001b[38;5;241m.\u001b[39mget(\u001b[38;5;124m\"\u001b[39m\u001b[38;5;124mresult\u001b[39m\u001b[38;5;124m\"\u001b[39m, []) \u001b[38;5;28;01mif\u001b[39;00m info[\u001b[38;5;124m\"\u001b[39m\u001b[38;5;124msymbol\u001b[39m\u001b[38;5;124m\"\u001b[39m] \u001b[38;5;241m==\u001b[39m \u001b[38;5;28mself\u001b[39m\u001b[38;5;241m.\u001b[39m_data\u001b[38;5;241m.\u001b[39mticker),\n\u001b[1;32m    606\u001b[0m     \u001b[38;5;28;01mNone\u001b[39;00m,\n\u001b[1;32m    607\u001b[0m )\n",
      "File \u001b[0;32m~/anaconda3/lib/python3.9/site-packages/yfinance/data.py:75\u001b[0m, in \u001b[0;36mTickerData.get_raw_json\u001b[0;34m(self, url, user_agent_headers, params, proxy, timeout)\u001b[0m\n\u001b[1;32m     73\u001b[0m \u001b[38;5;28;01mdef\u001b[39;00m \u001b[38;5;21mget_raw_json\u001b[39m(\u001b[38;5;28mself\u001b[39m, url, user_agent_headers\u001b[38;5;241m=\u001b[39m\u001b[38;5;28;01mNone\u001b[39;00m, params\u001b[38;5;241m=\u001b[39m\u001b[38;5;28;01mNone\u001b[39;00m, proxy\u001b[38;5;241m=\u001b[39m\u001b[38;5;28;01mNone\u001b[39;00m, timeout\u001b[38;5;241m=\u001b[39m\u001b[38;5;241m30\u001b[39m):\n\u001b[1;32m     74\u001b[0m     response \u001b[38;5;241m=\u001b[39m \u001b[38;5;28mself\u001b[39m\u001b[38;5;241m.\u001b[39mget(url, user_agent_headers\u001b[38;5;241m=\u001b[39muser_agent_headers, params\u001b[38;5;241m=\u001b[39mparams, proxy\u001b[38;5;241m=\u001b[39mproxy, timeout\u001b[38;5;241m=\u001b[39mtimeout)\n\u001b[0;32m---> 75\u001b[0m     \u001b[43mresponse\u001b[49m\u001b[38;5;241;43m.\u001b[39;49m\u001b[43mraise_for_status\u001b[49m\u001b[43m(\u001b[49m\u001b[43m)\u001b[49m\n\u001b[1;32m     76\u001b[0m     \u001b[38;5;28;01mreturn\u001b[39;00m response\u001b[38;5;241m.\u001b[39mjson()\n",
      "File \u001b[0;32m~/anaconda3/lib/python3.9/site-packages/requests/models.py:1021\u001b[0m, in \u001b[0;36mResponse.raise_for_status\u001b[0;34m(self)\u001b[0m\n\u001b[1;32m   1016\u001b[0m     http_error_msg \u001b[38;5;241m=\u001b[39m (\n\u001b[1;32m   1017\u001b[0m         \u001b[38;5;124mf\u001b[39m\u001b[38;5;124m\"\u001b[39m\u001b[38;5;132;01m{\u001b[39;00m\u001b[38;5;28mself\u001b[39m\u001b[38;5;241m.\u001b[39mstatus_code\u001b[38;5;132;01m}\u001b[39;00m\u001b[38;5;124m Server Error: \u001b[39m\u001b[38;5;132;01m{\u001b[39;00mreason\u001b[38;5;132;01m}\u001b[39;00m\u001b[38;5;124m for url: \u001b[39m\u001b[38;5;132;01m{\u001b[39;00m\u001b[38;5;28mself\u001b[39m\u001b[38;5;241m.\u001b[39murl\u001b[38;5;132;01m}\u001b[39;00m\u001b[38;5;124m\"\u001b[39m\n\u001b[1;32m   1018\u001b[0m     )\n\u001b[1;32m   1020\u001b[0m \u001b[38;5;28;01mif\u001b[39;00m http_error_msg:\n\u001b[0;32m-> 1021\u001b[0m     \u001b[38;5;28;01mraise\u001b[39;00m HTTPError(http_error_msg, response\u001b[38;5;241m=\u001b[39m\u001b[38;5;28mself\u001b[39m)\n",
      "\u001b[0;31mHTTPError\u001b[0m: 404 Client Error: Not Found for url: https://query2.finance.yahoo.com/v6/finance/quoteSummary/MSFT?modules=financialData&modules=quoteType&modules=defaultKeyStatistics&modules=assetProfile&modules=summaryDetail&ssl=true"
     ]
    }
   ],
   "source": [
    "msft.info"
   ]
  },
  {
   "cell_type": "code",
   "execution_count": 14,
   "metadata": {},
   "outputs": [
    {
     "name": "stdout",
     "output_type": "stream",
     "text": [
      "Requirement already satisfied: yfinance in /homes/80/kang/anaconda3/lib/python3.9/site-packages (0.2.31)\n",
      "Collecting yfinance\n",
      "  Downloading yfinance-0.2.36-py2.py3-none-any.whl (72 kB)\n",
      "\u001b[K     |████████████████████████████████| 72 kB 14.4 MB/s eta 0:00:01\n",
      "\u001b[?25hRequirement already satisfied: pandas>=1.3.0 in /homes/80/kang/anaconda3/lib/python3.9/site-packages (from yfinance) (1.4.2)\n",
      "Requirement already satisfied: lxml>=4.9.1 in /homes/80/kang/anaconda3/lib/python3.9/site-packages (from yfinance) (4.9.3)\n",
      "Requirement already satisfied: beautifulsoup4>=4.11.1 in /homes/80/kang/anaconda3/lib/python3.9/site-packages (from yfinance) (4.11.1)\n",
      "Requirement already satisfied: frozendict>=2.3.4 in /homes/80/kang/anaconda3/lib/python3.9/site-packages (from yfinance) (2.3.8)\n",
      "Requirement already satisfied: multitasking>=0.0.7 in /homes/80/kang/anaconda3/lib/python3.9/site-packages (from yfinance) (0.0.11)\n",
      "Requirement already satisfied: appdirs>=1.4.4 in /homes/80/kang/anaconda3/lib/python3.9/site-packages (from yfinance) (1.4.4)\n",
      "Requirement already satisfied: pytz>=2022.5 in /homes/80/kang/anaconda3/lib/python3.9/site-packages (from yfinance) (2023.3.post1)\n",
      "Requirement already satisfied: requests>=2.31 in /homes/80/kang/anaconda3/lib/python3.9/site-packages (from yfinance) (2.31.0)\n",
      "Requirement already satisfied: peewee>=3.16.2 in /homes/80/kang/anaconda3/lib/python3.9/site-packages (from yfinance) (3.17.0)\n",
      "Requirement already satisfied: html5lib>=1.1 in /homes/80/kang/anaconda3/lib/python3.9/site-packages (from yfinance) (1.1)\n",
      "Requirement already satisfied: numpy>=1.16.5 in /homes/80/kang/anaconda3/lib/python3.9/site-packages (from yfinance) (1.24.3)\n",
      "Requirement already satisfied: soupsieve>1.2 in /homes/80/kang/anaconda3/lib/python3.9/site-packages (from beautifulsoup4>=4.11.1->yfinance) (2.3.1)\n",
      "Requirement already satisfied: six>=1.9 in /homes/80/kang/anaconda3/lib/python3.9/site-packages (from html5lib>=1.1->yfinance) (1.16.0)\n",
      "Requirement already satisfied: webencodings in /homes/80/kang/anaconda3/lib/python3.9/site-packages (from html5lib>=1.1->yfinance) (0.5.1)\n",
      "Requirement already satisfied: python-dateutil>=2.8.1 in /homes/80/kang/anaconda3/lib/python3.9/site-packages (from pandas>=1.3.0->yfinance) (2.8.2)\n",
      "Requirement already satisfied: urllib3<3,>=1.21.1 in /homes/80/kang/anaconda3/lib/python3.9/site-packages (from requests>=2.31->yfinance) (1.26.16)\n",
      "Requirement already satisfied: certifi>=2017.4.17 in /homes/80/kang/anaconda3/lib/python3.9/site-packages (from requests>=2.31->yfinance) (2021.10.8)\n",
      "Requirement already satisfied: idna<4,>=2.5 in /homes/80/kang/anaconda3/lib/python3.9/site-packages (from requests>=2.31->yfinance) (3.3)\n",
      "Requirement already satisfied: charset-normalizer<4,>=2 in /homes/80/kang/anaconda3/lib/python3.9/site-packages (from requests>=2.31->yfinance) (2.0.4)\n",
      "Installing collected packages: yfinance\n",
      "  Attempting uninstall: yfinance\n",
      "    Found existing installation: yfinance 0.2.31\n",
      "    Uninstalling yfinance-0.2.31:\n",
      "      Successfully uninstalled yfinance-0.2.31\n",
      "Successfully installed yfinance-0.2.36\n",
      "Note: you may need to restart the kernel to use updated packages.\n"
     ]
    }
   ],
   "source": [
    "pip install yfinance --upgrade --no-cache-dir"
   ]
  }
 ],
 "metadata": {
  "kernelspec": {
   "display_name": "base",
   "language": "python",
   "name": "python3"
  },
  "language_info": {
   "codemirror_mode": {
    "name": "ipython",
    "version": 3
   },
   "file_extension": ".py",
   "mimetype": "text/x-python",
   "name": "python",
   "nbconvert_exporter": "python",
   "pygments_lexer": "ipython3",
   "version": "3.9.12"
  },
  "orig_nbformat": 4
 },
 "nbformat": 4,
 "nbformat_minor": 2
}
