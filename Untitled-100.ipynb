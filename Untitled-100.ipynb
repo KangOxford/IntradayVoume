{
 "cells": [
  {
   "cell_type": "code",
   "execution_count": 2,
   "metadata": {},
   "outputs": [],
   "source": [
    "import pandas as pd"
   ]
  },
  {
   "cell_type": "markdown",
   "metadata": {},
   "source": [
    "/Users/kang/Untitled-100.ipynb"
   ]
  },
  {
   "cell_type": "code",
   "execution_count": null,
   "metadata": {},
   "outputs": [],
   "source": [
    "with open('/Users/kang/Desktop/2017/20170705.data', 'r') as file:\n",
    "    data = file.read()\n"
   ]
  },
  {
   "cell_type": "code",
   "execution_count": 4,
   "metadata": {},
   "outputs": [],
   "source": [
    "!gunzip /Users/kang/Desktop/2017/20170705.csv.gz"
   ]
  },
  {
   "cell_type": "code",
   "execution_count": 3,
   "metadata": {},
   "outputs": [],
   "source": [
    "!gunzip /Users/kang/Desktop/2017/20170706.csv.gz"
   ]
  },
  {
   "cell_type": "code",
   "execution_count": 5,
   "metadata": {},
   "outputs": [
    {
     "data": {
      "text/html": [
       "<div>\n",
       "<style scoped>\n",
       "    .dataframe tbody tr th:only-of-type {\n",
       "        vertical-align: middle;\n",
       "    }\n",
       "\n",
       "    .dataframe tbody tr th {\n",
       "        vertical-align: top;\n",
       "    }\n",
       "\n",
       "    .dataframe thead th {\n",
       "        text-align: right;\n",
       "    }\n",
       "</style>\n",
       "<table border=\"1\" class=\"dataframe\">\n",
       "  <thead>\n",
       "    <tr style=\"text-align: right;\">\n",
       "      <th></th>\n",
       "      <th>Unnamed: 0</th>\n",
       "      <th>ticker</th>\n",
       "      <th>open</th>\n",
       "      <th>high</th>\n",
       "      <th>low</th>\n",
       "      <th>close</th>\n",
       "      <th>volume</th>\n",
       "      <th>OPCL</th>\n",
       "      <th>pvCLCL</th>\n",
       "      <th>prevAdjClose</th>\n",
       "      <th>SPpvCLCL</th>\n",
       "      <th>sharesOut</th>\n",
       "      <th>PERMNO</th>\n",
       "      <th>SICCD</th>\n",
       "      <th>PERMCO</th>\n",
       "      <th>prevRawOpen</th>\n",
       "      <th>prevRawClose</th>\n",
       "      <th>prevAdjOpen</th>\n",
       "    </tr>\n",
       "  </thead>\n",
       "  <tbody>\n",
       "    <tr>\n",
       "      <th>0</th>\n",
       "      <td>1</td>\n",
       "      <td>SPY</td>\n",
       "      <td>242.63</td>\n",
       "      <td>243.00999</td>\n",
       "      <td>241.700</td>\n",
       "      <td>242.77</td>\n",
       "      <td>54427596</td>\n",
       "      <td>0.000577</td>\n",
       "      <td>0.002312</td>\n",
       "      <td>242.21</td>\n",
       "      <td>0.001453</td>\n",
       "      <td>978982</td>\n",
       "      <td>84398</td>\n",
       "      <td>6726</td>\n",
       "      <td>46699</td>\n",
       "      <td>242.88</td>\n",
       "      <td>242.21001</td>\n",
       "      <td>242.88</td>\n",
       "    </tr>\n",
       "    <tr>\n",
       "      <th>1</th>\n",
       "      <td>2</td>\n",
       "      <td>IWM</td>\n",
       "      <td>141.70</td>\n",
       "      <td>141.85001</td>\n",
       "      <td>140.700</td>\n",
       "      <td>141.59</td>\n",
       "      <td>21865451</td>\n",
       "      <td>-0.000777</td>\n",
       "      <td>-0.003589</td>\n",
       "      <td>142.10</td>\n",
       "      <td>0.001453</td>\n",
       "      <td>267550</td>\n",
       "      <td>88222</td>\n",
       "      <td>6726</td>\n",
       "      <td>37493</td>\n",
       "      <td>141.34</td>\n",
       "      <td>142.10001</td>\n",
       "      <td>141.34</td>\n",
       "    </tr>\n",
       "    <tr>\n",
       "      <th>2</th>\n",
       "      <td>3</td>\n",
       "      <td>EEM</td>\n",
       "      <td>41.39</td>\n",
       "      <td>41.57000</td>\n",
       "      <td>41.185</td>\n",
       "      <td>41.55</td>\n",
       "      <td>49490955</td>\n",
       "      <td>0.003858</td>\n",
       "      <td>-0.001922</td>\n",
       "      <td>41.63</td>\n",
       "      <td>0.001453</td>\n",
       "      <td>780300</td>\n",
       "      <td>89730</td>\n",
       "      <td>6726</td>\n",
       "      <td>37493</td>\n",
       "      <td>41.62</td>\n",
       "      <td>41.63000</td>\n",
       "      <td>41.62</td>\n",
       "    </tr>\n",
       "    <tr>\n",
       "      <th>3</th>\n",
       "      <td>4</td>\n",
       "      <td>TLT</td>\n",
       "      <td>124.20</td>\n",
       "      <td>124.65000</td>\n",
       "      <td>124.115</td>\n",
       "      <td>124.49</td>\n",
       "      <td>11394834</td>\n",
       "      <td>0.002332</td>\n",
       "      <td>0.000241</td>\n",
       "      <td>124.46</td>\n",
       "      <td>0.001453</td>\n",
       "      <td>60500</td>\n",
       "      <td>89468</td>\n",
       "      <td>6726</td>\n",
       "      <td>37493</td>\n",
       "      <td>125.00</td>\n",
       "      <td>124.46000</td>\n",
       "      <td>125.00</td>\n",
       "    </tr>\n",
       "    <tr>\n",
       "      <th>4</th>\n",
       "      <td>5</td>\n",
       "      <td>USO</td>\n",
       "      <td>9.56</td>\n",
       "      <td>9.58000</td>\n",
       "      <td>9.230</td>\n",
       "      <td>9.25</td>\n",
       "      <td>68181979</td>\n",
       "      <td>-0.032964</td>\n",
       "      <td>-0.038462</td>\n",
       "      <td>9.62</td>\n",
       "      <td>0.001453</td>\n",
       "      <td>346100</td>\n",
       "      <td>91208</td>\n",
       "      <td>6221</td>\n",
       "      <td>50617</td>\n",
       "      <td>9.55</td>\n",
       "      <td>9.62000</td>\n",
       "      <td>9.55</td>\n",
       "    </tr>\n",
       "    <tr>\n",
       "      <th>...</th>\n",
       "      <td>...</td>\n",
       "      <td>...</td>\n",
       "      <td>...</td>\n",
       "      <td>...</td>\n",
       "      <td>...</td>\n",
       "      <td>...</td>\n",
       "      <td>...</td>\n",
       "      <td>...</td>\n",
       "      <td>...</td>\n",
       "      <td>...</td>\n",
       "      <td>...</td>\n",
       "      <td>...</td>\n",
       "      <td>...</td>\n",
       "      <td>...</td>\n",
       "      <td>...</td>\n",
       "      <td>...</td>\n",
       "      <td>...</td>\n",
       "      <td>...</td>\n",
       "    </tr>\n",
       "    <tr>\n",
       "      <th>2924</th>\n",
       "      <td>2925</td>\n",
       "      <td>ZTO</td>\n",
       "      <td>14.15</td>\n",
       "      <td>14.88000</td>\n",
       "      <td>14.150</td>\n",
       "      <td>14.67</td>\n",
       "      <td>2667647</td>\n",
       "      <td>0.036090</td>\n",
       "      <td>0.036017</td>\n",
       "      <td>14.16</td>\n",
       "      <td>0.001453</td>\n",
       "      <td>525306</td>\n",
       "      <td>16449</td>\n",
       "      <td>4215</td>\n",
       "      <td>55781</td>\n",
       "      <td>14.00</td>\n",
       "      <td>14.16000</td>\n",
       "      <td>14.00</td>\n",
       "    </tr>\n",
       "    <tr>\n",
       "      <th>2925</th>\n",
       "      <td>2926</td>\n",
       "      <td>ZTR</td>\n",
       "      <td>12.80</td>\n",
       "      <td>12.81000</td>\n",
       "      <td>12.720</td>\n",
       "      <td>12.72</td>\n",
       "      <td>116837</td>\n",
       "      <td>-0.006270</td>\n",
       "      <td>0.003946</td>\n",
       "      <td>12.67</td>\n",
       "      <td>0.001453</td>\n",
       "      <td>25673</td>\n",
       "      <td>75367</td>\n",
       "      <td>6726</td>\n",
       "      <td>21955</td>\n",
       "      <td>12.72</td>\n",
       "      <td>12.67000</td>\n",
       "      <td>12.72</td>\n",
       "    </tr>\n",
       "    <tr>\n",
       "      <th>2926</th>\n",
       "      <td>2927</td>\n",
       "      <td>ZTS</td>\n",
       "      <td>62.71</td>\n",
       "      <td>62.88000</td>\n",
       "      <td>62.335</td>\n",
       "      <td>62.55</td>\n",
       "      <td>3000331</td>\n",
       "      <td>-0.002555</td>\n",
       "      <td>-0.001915</td>\n",
       "      <td>62.67</td>\n",
       "      <td>0.001453</td>\n",
       "      <td>490797</td>\n",
       "      <td>13788</td>\n",
       "      <td>2834</td>\n",
       "      <td>54327</td>\n",
       "      <td>62.40</td>\n",
       "      <td>62.67000</td>\n",
       "      <td>62.40</td>\n",
       "    </tr>\n",
       "    <tr>\n",
       "      <th>2927</th>\n",
       "      <td>2928</td>\n",
       "      <td>ZX</td>\n",
       "      <td>1.65</td>\n",
       "      <td>1.83000</td>\n",
       "      <td>1.600</td>\n",
       "      <td>1.64</td>\n",
       "      <td>49708</td>\n",
       "      <td>-0.006079</td>\n",
       "      <td>-0.012048</td>\n",
       "      <td>1.66</td>\n",
       "      <td>0.001453</td>\n",
       "      <td>206440</td>\n",
       "      <td>12720</td>\n",
       "      <td>3312</td>\n",
       "      <td>53748</td>\n",
       "      <td>1.81</td>\n",
       "      <td>1.66000</td>\n",
       "      <td>1.82</td>\n",
       "    </tr>\n",
       "    <tr>\n",
       "      <th>2928</th>\n",
       "      <td>2929</td>\n",
       "      <td>ZYME</td>\n",
       "      <td>8.28</td>\n",
       "      <td>8.60690</td>\n",
       "      <td>8.280</td>\n",
       "      <td>8.48</td>\n",
       "      <td>6831</td>\n",
       "      <td>0.023867</td>\n",
       "      <td>0.024155</td>\n",
       "      <td>8.28</td>\n",
       "      <td>0.001453</td>\n",
       "      <td>24940</td>\n",
       "      <td>16668</td>\n",
       "      <td>8731</td>\n",
       "      <td>55912</td>\n",
       "      <td>8.40</td>\n",
       "      <td>8.28000</td>\n",
       "      <td>8.40</td>\n",
       "    </tr>\n",
       "  </tbody>\n",
       "</table>\n",
       "<p>2929 rows × 18 columns</p>\n",
       "</div>"
      ],
      "text/plain": [
       "      Unnamed: 0 ticker    open       high      low   close    volume  \\\n",
       "0              1    SPY  242.63  243.00999  241.700  242.77  54427596   \n",
       "1              2    IWM  141.70  141.85001  140.700  141.59  21865451   \n",
       "2              3    EEM   41.39   41.57000   41.185   41.55  49490955   \n",
       "3              4    TLT  124.20  124.65000  124.115  124.49  11394834   \n",
       "4              5    USO    9.56    9.58000    9.230    9.25  68181979   \n",
       "...          ...    ...     ...        ...      ...     ...       ...   \n",
       "2924        2925    ZTO   14.15   14.88000   14.150   14.67   2667647   \n",
       "2925        2926    ZTR   12.80   12.81000   12.720   12.72    116837   \n",
       "2926        2927    ZTS   62.71   62.88000   62.335   62.55   3000331   \n",
       "2927        2928     ZX    1.65    1.83000    1.600    1.64     49708   \n",
       "2928        2929   ZYME    8.28    8.60690    8.280    8.48      6831   \n",
       "\n",
       "          OPCL    pvCLCL  prevAdjClose  SPpvCLCL  sharesOut  PERMNO SICCD  \\\n",
       "0     0.000577  0.002312        242.21  0.001453     978982   84398  6726   \n",
       "1    -0.000777 -0.003589        142.10  0.001453     267550   88222  6726   \n",
       "2     0.003858 -0.001922         41.63  0.001453     780300   89730  6726   \n",
       "3     0.002332  0.000241        124.46  0.001453      60500   89468  6726   \n",
       "4    -0.032964 -0.038462          9.62  0.001453     346100   91208  6221   \n",
       "...        ...       ...           ...       ...        ...     ...   ...   \n",
       "2924  0.036090  0.036017         14.16  0.001453     525306   16449  4215   \n",
       "2925 -0.006270  0.003946         12.67  0.001453      25673   75367  6726   \n",
       "2926 -0.002555 -0.001915         62.67  0.001453     490797   13788  2834   \n",
       "2927 -0.006079 -0.012048          1.66  0.001453     206440   12720  3312   \n",
       "2928  0.023867  0.024155          8.28  0.001453      24940   16668  8731   \n",
       "\n",
       "      PERMCO  prevRawOpen  prevRawClose  prevAdjOpen  \n",
       "0      46699       242.88     242.21001       242.88  \n",
       "1      37493       141.34     142.10001       141.34  \n",
       "2      37493        41.62      41.63000        41.62  \n",
       "3      37493       125.00     124.46000       125.00  \n",
       "4      50617         9.55       9.62000         9.55  \n",
       "...      ...          ...           ...          ...  \n",
       "2924   55781        14.00      14.16000        14.00  \n",
       "2925   21955        12.72      12.67000        12.72  \n",
       "2926   54327        62.40      62.67000        62.40  \n",
       "2927   53748         1.81       1.66000         1.82  \n",
       "2928   55912         8.40       8.28000         8.40  \n",
       "\n",
       "[2929 rows x 18 columns]"
      ]
     },
     "execution_count": 5,
     "metadata": {},
     "output_type": "execute_result"
    }
   ],
   "source": [
    "\n",
    "import pandas as pd\n",
    "\n",
    "# Load the CSV file into a pandas DataFrame\n",
    "data = pd.read_csv(\"/Users/kang/Desktop/2017/20170705.csv\")\n",
    "\n",
    "# Now `data` is a DataFrame containing the data from the CSV file\n",
    "data"
   ]
  },
  {
   "cell_type": "code",
   "execution_count": 6,
   "metadata": {},
   "outputs": [],
   "source": [
    "import pandas as pd\n",
    "\n",
    "# Load the CSV file into a pandas DataFrame\n",
    "data6 = pd.read_csv('/Users/kang/Desktop/2017/20170706.csv')\n",
    "data5 = pd.read_csv('/Users/kang/Desktop/2017/20170705.csv')\n",
    "\n",
    "# Now `data` is a DataFrame containing the data from the CSV file\n"
   ]
  },
  {
   "cell_type": "code",
   "execution_count": 7,
   "metadata": {},
   "outputs": [
    {
     "data": {
      "text/html": [
       "<div>\n",
       "<style scoped>\n",
       "    .dataframe tbody tr th:only-of-type {\n",
       "        vertical-align: middle;\n",
       "    }\n",
       "\n",
       "    .dataframe tbody tr th {\n",
       "        vertical-align: top;\n",
       "    }\n",
       "\n",
       "    .dataframe thead th {\n",
       "        text-align: right;\n",
       "    }\n",
       "</style>\n",
       "<table border=\"1\" class=\"dataframe\">\n",
       "  <thead>\n",
       "    <tr style=\"text-align: right;\">\n",
       "      <th></th>\n",
       "      <th>Unnamed: 0</th>\n",
       "      <th>ticker</th>\n",
       "      <th>open</th>\n",
       "      <th>high</th>\n",
       "      <th>low</th>\n",
       "      <th>close</th>\n",
       "      <th>volume</th>\n",
       "      <th>OPCL</th>\n",
       "      <th>pvCLCL</th>\n",
       "      <th>prevAdjClose</th>\n",
       "      <th>SPpvCLCL</th>\n",
       "      <th>sharesOut</th>\n",
       "      <th>PERMNO</th>\n",
       "      <th>SICCD</th>\n",
       "      <th>PERMCO</th>\n",
       "      <th>prevRawOpen</th>\n",
       "      <th>prevRawClose</th>\n",
       "      <th>prevAdjOpen</th>\n",
       "    </tr>\n",
       "  </thead>\n",
       "  <tbody>\n",
       "  </tbody>\n",
       "</table>\n",
       "</div>"
      ],
      "text/plain": [
       "Empty DataFrame\n",
       "Columns: [Unnamed: 0, ticker, open, high, low, close, volume, OPCL, pvCLCL, prevAdjClose, SPpvCLCL, sharesOut, PERMNO, SICCD, PERMCO, prevRawOpen, prevRawClose, prevAdjOpen]\n",
       "Index: []"
      ]
     },
     "execution_count": 7,
     "metadata": {},
     "output_type": "execute_result"
    }
   ],
   "source": [
    "data[data.ticker=='A']"
   ]
  },
  {
   "cell_type": "code",
   "execution_count": null,
   "metadata": {},
   "outputs": [],
   "source": [
    "data"
   ]
  },
  {
   "cell_type": "markdown",
   "metadata": {},
   "source": [
    "mihai"
   ]
  },
  {
   "cell_type": "code",
   "execution_count": 11,
   "metadata": {},
   "outputs": [],
   "source": [
    "import pandas as pd\n",
    "df = pd.read_csv(\"~/AAP_2017-07-05_24900000_57900000_message_10.csv\",header=None)\n",
    "df.columns = ['time','type','price','qty','orderid','side','remark']"
   ]
  },
  {
   "cell_type": "code",
   "execution_count": 12,
   "metadata": {},
   "outputs": [
    {
     "data": {
      "text/html": [
       "<div>\n",
       "<style scoped>\n",
       "    .dataframe tbody tr th:only-of-type {\n",
       "        vertical-align: middle;\n",
       "    }\n",
       "\n",
       "    .dataframe tbody tr th {\n",
       "        vertical-align: top;\n",
       "    }\n",
       "\n",
       "    .dataframe thead th {\n",
       "        text-align: right;\n",
       "    }\n",
       "</style>\n",
       "<table border=\"1\" class=\"dataframe\">\n",
       "  <thead>\n",
       "    <tr style=\"text-align: right;\">\n",
       "      <th></th>\n",
       "      <th>time</th>\n",
       "      <th>type</th>\n",
       "      <th>price</th>\n",
       "      <th>qty</th>\n",
       "      <th>orderid</th>\n",
       "      <th>side</th>\n",
       "      <th>remark</th>\n",
       "    </tr>\n",
       "  </thead>\n",
       "  <tbody>\n",
       "    <tr>\n",
       "      <th>0</th>\n",
       "      <td>25200.236312</td>\n",
       "      <td>1</td>\n",
       "      <td>2518417</td>\n",
       "      <td>100</td>\n",
       "      <td>100</td>\n",
       "      <td>1</td>\n",
       "      <td>MZHO</td>\n",
       "    </tr>\n",
       "    <tr>\n",
       "      <th>1</th>\n",
       "      <td>25200.236315</td>\n",
       "      <td>1</td>\n",
       "      <td>2518421</td>\n",
       "      <td>100</td>\n",
       "      <td>1999999900</td>\n",
       "      <td>-1</td>\n",
       "      <td>MZHO</td>\n",
       "    </tr>\n",
       "    <tr>\n",
       "      <th>2</th>\n",
       "      <td>28805.201858</td>\n",
       "      <td>1</td>\n",
       "      <td>3635385</td>\n",
       "      <td>25</td>\n",
       "      <td>1300000</td>\n",
       "      <td>-1</td>\n",
       "      <td>NaN</td>\n",
       "    </tr>\n",
       "    <tr>\n",
       "      <th>3</th>\n",
       "      <td>28805.209164</td>\n",
       "      <td>1</td>\n",
       "      <td>3635393</td>\n",
       "      <td>10</td>\n",
       "      <td>1859500</td>\n",
       "      <td>-1</td>\n",
       "      <td>NaN</td>\n",
       "    </tr>\n",
       "    <tr>\n",
       "      <th>4</th>\n",
       "      <td>28805.213655</td>\n",
       "      <td>1</td>\n",
       "      <td>3635405</td>\n",
       "      <td>75</td>\n",
       "      <td>1950000</td>\n",
       "      <td>-1</td>\n",
       "      <td>NaN</td>\n",
       "    </tr>\n",
       "    <tr>\n",
       "      <th>...</th>\n",
       "      <td>...</td>\n",
       "      <td>...</td>\n",
       "      <td>...</td>\n",
       "      <td>...</td>\n",
       "      <td>...</td>\n",
       "      <td>...</td>\n",
       "      <td>...</td>\n",
       "    </tr>\n",
       "    <tr>\n",
       "      <th>93014</th>\n",
       "      <td>57662.536905</td>\n",
       "      <td>1</td>\n",
       "      <td>227171057</td>\n",
       "      <td>50</td>\n",
       "      <td>1300000</td>\n",
       "      <td>-1</td>\n",
       "      <td>NaN</td>\n",
       "    </tr>\n",
       "    <tr>\n",
       "      <th>93015</th>\n",
       "      <td>57721.216336</td>\n",
       "      <td>1</td>\n",
       "      <td>227214801</td>\n",
       "      <td>61</td>\n",
       "      <td>1266600</td>\n",
       "      <td>-1</td>\n",
       "      <td>NaN</td>\n",
       "    </tr>\n",
       "    <tr>\n",
       "      <th>93016</th>\n",
       "      <td>57721.242143</td>\n",
       "      <td>1</td>\n",
       "      <td>227215117</td>\n",
       "      <td>18</td>\n",
       "      <td>965400</td>\n",
       "      <td>1</td>\n",
       "      <td>NaN</td>\n",
       "    </tr>\n",
       "    <tr>\n",
       "      <th>93017</th>\n",
       "      <td>57797.200428</td>\n",
       "      <td>1</td>\n",
       "      <td>227250057</td>\n",
       "      <td>1</td>\n",
       "      <td>1053400</td>\n",
       "      <td>-1</td>\n",
       "      <td>NaN</td>\n",
       "    </tr>\n",
       "    <tr>\n",
       "      <th>93018</th>\n",
       "      <td>57853.573340</td>\n",
       "      <td>1</td>\n",
       "      <td>227279789</td>\n",
       "      <td>200</td>\n",
       "      <td>1050100</td>\n",
       "      <td>1</td>\n",
       "      <td>NaN</td>\n",
       "    </tr>\n",
       "  </tbody>\n",
       "</table>\n",
       "<p>93019 rows × 7 columns</p>\n",
       "</div>"
      ],
      "text/plain": [
       "               time  type      price  qty     orderid  side remark\n",
       "0      25200.236312     1    2518417  100         100     1   MZHO\n",
       "1      25200.236315     1    2518421  100  1999999900    -1   MZHO\n",
       "2      28805.201858     1    3635385   25     1300000    -1    NaN\n",
       "3      28805.209164     1    3635393   10     1859500    -1    NaN\n",
       "4      28805.213655     1    3635405   75     1950000    -1    NaN\n",
       "...             ...   ...        ...  ...         ...   ...    ...\n",
       "93014  57662.536905     1  227171057   50     1300000    -1    NaN\n",
       "93015  57721.216336     1  227214801   61     1266600    -1    NaN\n",
       "93016  57721.242143     1  227215117   18      965400     1    NaN\n",
       "93017  57797.200428     1  227250057    1     1053400    -1    NaN\n",
       "93018  57853.573340     1  227279789  200     1050100     1    NaN\n",
       "\n",
       "[93019 rows x 7 columns]"
      ]
     },
     "execution_count": 12,
     "metadata": {},
     "output_type": "execute_result"
    }
   ],
   "source": [
    "df"
   ]
  },
  {
   "cell_type": "code",
   "execution_count": null,
   "metadata": {},
   "outputs": [],
   "source": [
    "df[(df.type==3) or (df.type==4)]"
   ]
  },
  {
   "cell_type": "code",
   "execution_count": null,
   "metadata": {},
   "outputs": [],
   "source": [
    "df[df.type==3 in (3,4)]"
   ]
  },
  {
   "cell_type": "code",
   "execution_count": 31,
   "metadata": {},
   "outputs": [
    {
     "data": {
      "text/plain": [
       "4174946"
      ]
     },
     "execution_count": 31,
     "metadata": {},
     "output_type": "execute_result"
    }
   ],
   "source": [
    "df[df.type==1].qty.sum()"
   ]
  },
  {
   "cell_type": "code",
   "execution_count": 25,
   "metadata": {},
   "outputs": [
    {
     "data": {
      "text/plain": [
       "533858"
      ]
     },
     "execution_count": 25,
     "metadata": {},
     "output_type": "execute_result"
    }
   ],
   "source": [
    "df[df.type==4].qty.sum()"
   ]
  },
  {
   "cell_type": "code",
   "execution_count": 26,
   "metadata": {},
   "outputs": [
    {
     "data": {
      "text/plain": [
       "275108"
      ]
     },
     "execution_count": 26,
     "metadata": {},
     "output_type": "execute_result"
    }
   ],
   "source": [
    "df[df.type==5].qty.sum()"
   ]
  },
  {
   "cell_type": "code",
   "execution_count": 28,
   "metadata": {},
   "outputs": [
    {
     "data": {
      "text/plain": [
       "720"
      ]
     },
     "execution_count": 28,
     "metadata": {},
     "output_type": "execute_result"
    }
   ],
   "source": [
    "df[df.type==6].qty.sum()"
   ]
  },
  {
   "cell_type": "code",
   "execution_count": 30,
   "metadata": {},
   "outputs": [
    {
     "data": {
      "text/plain": [
       "0"
      ]
     },
     "execution_count": 30,
     "metadata": {},
     "output_type": "execute_result"
    }
   ],
   "source": [
    "df[df.type==7].qty.sum()"
   ]
  },
  {
   "cell_type": "code",
   "execution_count": 29,
   "metadata": {},
   "outputs": [
    {
     "data": {
      "text/plain": [
       "808966"
      ]
     },
     "execution_count": 29,
     "metadata": {},
     "output_type": "execute_result"
    }
   ],
   "source": [
    "df[df.type==4].qty.sum()+df[df.type==5].qty.sum()"
   ]
  },
  {
   "cell_type": "code",
   "execution_count": 33,
   "metadata": {},
   "outputs": [
    {
     "data": {
      "text/plain": [
       "809686"
      ]
     },
     "execution_count": 33,
     "metadata": {},
     "output_type": "execute_result"
    }
   ],
   "source": [
    "df[df.type==4].qty.sum()+df[df.type==5].qty.sum()+df[df.type==6].qty.sum()"
   ]
  },
  {
   "cell_type": "code",
   "execution_count": 32,
   "metadata": {},
   "outputs": [
    {
     "data": {
      "text/plain": [
       "4984632"
      ]
     },
     "execution_count": 32,
     "metadata": {},
     "output_type": "execute_result"
    }
   ],
   "source": [
    "df[df.type==4].qty.sum()+df[df.type==5].qty.sum()+df[df.type==1].qty.sum()+df[df.type==6].qty.sum()"
   ]
  },
  {
   "cell_type": "code",
   "execution_count": 45,
   "metadata": {},
   "outputs": [
    {
     "data": {
      "text/plain": [
       "7705769"
      ]
     },
     "execution_count": 45,
     "metadata": {},
     "output_type": "execute_result"
    }
   ],
   "source": [
    "df[df.type==1].qty.sum()+df[df.type==3].qty.sum()\n"
   ]
  },
  {
   "cell_type": "code",
   "execution_count": 46,
   "metadata": {},
   "outputs": [
    {
     "data": {
      "text/plain": [
       "808966"
      ]
     },
     "execution_count": 46,
     "metadata": {},
     "output_type": "execute_result"
    }
   ],
   "source": [
    "df[df.type==4].qty.sum()+df[df.type==5].qty.sum()"
   ]
  },
  {
   "cell_type": "markdown",
   "metadata": {},
   "source": [
    "The volume in the open high low close volume dataset from Yahoo Finance represents the total number of shares traded in a security period\n",
    "\n",
    "s the number of shares of the stock that were traded on that day. It is an important metric for investors to consider, as it can give insights into the liquidity of the stock and the level of interest in it from buyers and sellers.\n",
    "\n",
    "```python\n",
    "import yfinance as yf\n",
    "data = yf.download(\"AAP\", start=start_date, end=end_date)\n",
    "data[\"Volume\"]\n",
    "```"
   ]
  },
  {
   "cell_type": "markdown",
   "metadata": {},
   "source": [
    "7,348,683"
   ]
  },
  {
   "cell_type": "code",
   "execution_count": 35,
   "metadata": {},
   "outputs": [
    {
     "name": "stdout",
     "output_type": "stream",
     "text": [
      "Collecting yfinance\n",
      "  Using cached yfinance-0.2.31-py2.py3-none-any.whl (65 kB)\n",
      "Requirement already satisfied: pandas>=1.3.0 in ./opt/anaconda3/envs/x/lib/python3.9/site-packages (from yfinance) (1.5.1)\n",
      "Requirement already satisfied: numpy>=1.16.5 in ./opt/anaconda3/envs/x/lib/python3.9/site-packages (from yfinance) (1.23.4)\n",
      "Collecting requests>=2.31 (from yfinance)\n",
      "  Using cached requests-2.31.0-py3-none-any.whl (62 kB)\n",
      "Collecting multitasking>=0.0.7 (from yfinance)\n",
      "  Using cached multitasking-0.0.11-py3-none-any.whl (8.5 kB)\n",
      "Requirement already satisfied: lxml>=4.9.1 in ./opt/anaconda3/envs/x/lib/python3.9/site-packages (from yfinance) (4.9.2)\n",
      "Requirement already satisfied: appdirs>=1.4.4 in ./opt/anaconda3/envs/x/lib/python3.9/site-packages (from yfinance) (1.4.4)\n",
      "Collecting pytz>=2022.5 (from yfinance)\n",
      "  Using cached pytz-2023.3.post1-py2.py3-none-any.whl (502 kB)\n",
      "Collecting frozendict>=2.3.4 (from yfinance)\n",
      "  Using cached frozendict-2.3.8-cp39-cp39-macosx_11_0_arm64.whl (35 kB)\n",
      "Collecting peewee>=3.16.2 (from yfinance)\n",
      "  Using cached peewee-3.17.0-cp39-cp39-macosx_11_0_arm64.whl\n",
      "Requirement already satisfied: beautifulsoup4>=4.11.1 in ./opt/anaconda3/envs/x/lib/python3.9/site-packages (from yfinance) (4.11.1)\n",
      "Collecting html5lib>=1.1 (from yfinance)\n",
      "  Using cached html5lib-1.1-py2.py3-none-any.whl (112 kB)\n",
      "Requirement already satisfied: soupsieve>1.2 in ./opt/anaconda3/envs/x/lib/python3.9/site-packages (from beautifulsoup4>=4.11.1->yfinance) (2.3.2.post1)\n",
      "Requirement already satisfied: six>=1.9 in ./opt/anaconda3/envs/x/lib/python3.9/site-packages (from html5lib>=1.1->yfinance) (1.16.0)\n",
      "Requirement already satisfied: webencodings in ./opt/anaconda3/envs/x/lib/python3.9/site-packages (from html5lib>=1.1->yfinance) (0.5.1)\n",
      "Requirement already satisfied: python-dateutil>=2.8.1 in ./opt/anaconda3/envs/x/lib/python3.9/site-packages (from pandas>=1.3.0->yfinance) (2.8.2)\n",
      "Requirement already satisfied: charset-normalizer<4,>=2 in ./opt/anaconda3/envs/x/lib/python3.9/site-packages (from requests>=2.31->yfinance) (2.0.4)\n",
      "Requirement already satisfied: idna<4,>=2.5 in ./opt/anaconda3/envs/x/lib/python3.9/site-packages (from requests>=2.31->yfinance) (3.4)\n",
      "Requirement already satisfied: urllib3<3,>=1.21.1 in ./opt/anaconda3/envs/x/lib/python3.9/site-packages (from requests>=2.31->yfinance) (1.26.12)\n",
      "Requirement already satisfied: certifi>=2017.4.17 in ./opt/anaconda3/envs/x/lib/python3.9/site-packages (from requests>=2.31->yfinance) (2022.12.7)\n",
      "Installing collected packages: pytz, peewee, multitasking, requests, html5lib, frozendict, yfinance\n",
      "  Attempting uninstall: pytz\n",
      "    Found existing installation: pytz 2022.1\n",
      "    Uninstalling pytz-2022.1:\n",
      "      Successfully uninstalled pytz-2022.1\n",
      "  Attempting uninstall: requests\n",
      "    Found existing installation: requests 2.26.0\n",
      "    Uninstalling requests-2.26.0:\n",
      "      Successfully uninstalled requests-2.26.0\n",
      "\u001b[31mERROR: pip's dependency resolver does not currently take into account all the packages that are installed. This behaviour is the source of the following dependency conflicts.\n",
      "spyder 5.3.3 requires pyqt5<5.16, which is not installed.\n",
      "spyder 5.3.3 requires pyqtwebengine<5.16, which is not installed.\n",
      "stable-baselines3 1.7.0 requires gym==0.21, but you have gym 0.26.2 which is incompatible.\n",
      "stable-baselines3 1.7.0 requires importlib-metadata~=4.13, but you have importlib-metadata 4.11.3 which is incompatible.\u001b[0m\u001b[31m\n",
      "\u001b[0mSuccessfully installed frozendict-2.3.8 html5lib-1.1 multitasking-0.0.11 peewee-3.17.0 pytz-2023.3.post1 requests-2.28.2 yfinance-0.2.31\n",
      "\n",
      "\u001b[1m[\u001b[0m\u001b[34;49mnotice\u001b[0m\u001b[1;39;49m]\u001b[0m\u001b[39;49m A new release of pip is available: \u001b[0m\u001b[31;49m23.1.2\u001b[0m\u001b[39;49m -> \u001b[0m\u001b[32;49m23.2.1\u001b[0m\n",
      "\u001b[1m[\u001b[0m\u001b[34;49mnotice\u001b[0m\u001b[1;39;49m]\u001b[0m\u001b[39;49m To update, run: \u001b[0m\u001b[32;49mpip install --upgrade pip\u001b[0m\n",
      "Note: you may need to restart the kernel to use updated packages.\n"
     ]
    }
   ],
   "source": [
    "pip install yfinance"
   ]
  },
  {
   "cell_type": "code",
   "execution_count": 36,
   "metadata": {},
   "outputs": [
    {
     "name": "stderr",
     "output_type": "stream",
     "text": [
      "Failed to get ticker 'AAP' reason: Expecting value: line 1 column 1 (char 0)\n"
     ]
    },
    {
     "name": "stdout",
     "output_type": "stream",
     "text": [
      "[*********************100%%**********************]  1 of 1 completed"
     ]
    },
    {
     "name": "stderr",
     "output_type": "stream",
     "text": [
      "\n",
      "1 Failed download:\n",
      "['AAP']: Exception('%ticker%: No timezone found, symbol may be delisted')\n"
     ]
    },
    {
     "name": "stdout",
     "output_type": "stream",
     "text": [
      "\n"
     ]
    },
    {
     "data": {
      "text/plain": [
       "Series([], Name: Volume, dtype: float64)"
      ]
     },
     "execution_count": 36,
     "metadata": {},
     "output_type": "execute_result"
    }
   ],
   "source": [
    "import yfinance as yf\n",
    "data = yf.download(\"AAP\", start=\"20170701\", end=\"20170710\")\n",
    "data[\"Volume\"]"
   ]
  },
  {
   "cell_type": "markdown",
   "metadata": {},
   "source": [
    "\tMessage File:\t\t(Matrix of size: (Nx6))\n",
    "\t-------------\t\n",
    "\t\t\t\n",
    "\tName: \tTICKER_Year-Month-Day_StartTime_EndTime_message_LEVEL.csv \t\n",
    "\t\t\n",
    "\t\tStartTime and EndTime give the theoretical beginning \n",
    "\t\tand end time of the output file in milliseconds after \t\t\n",
    "\t\tmid night. LEVEL refers to the number of levels of the \n",
    "\t\trequested limit order book.\n",
    "\n",
    "\n",
    "\tColumns:\n",
    "\t\n",
    "\t    1.) Time: \t\t\n",
    "\t\t\t\tSeconds after midnight with decimal \n",
    "\t\t\t\tprecision of at least milliseconds \n",
    "\t\t\t\tand up to nanoseconds depending on \n",
    "\t\t\t\tthe requested period\n",
    "\t    2.) Type:\n",
    "\t\t\t\t1: Submission of a new limit order\n",
    "\t\t\t\t2: Cancellation (Partial deletion \n",
    "\t\t\t\t   of a limit order)\n",
    "\t\t\t\t3: Deletion (Total deletion of a limit order)\n",
    "\t\t\t\t4: Execution of a visible limit order\t\t\t   \t \n",
    "\t\t\t\t5: Execution of a hidden limit order\n",
    "\t\t\t\t6: Indicates a cross trade, e.g. auction trade\n",
    "\t\t\t\t7: Trading halt indicator \t\t\t\t   \n",
    "\t\t\t\t   (Detailed information below)\n",
    "\t    3.) Order ID: \t\n",
    "\t\t\t\tUnique order reference number \n",
    "\t\t\t\t(Assigned in order flow)\n",
    "\t    4.) Size: \t\t\n",
    "\t\t\t\tNumber of shares\n",
    "\t    5.) Price: \t\t\n",
    "\t\t\t\tDollar price times 10000 \n",
    "\t\t\t\t(i.e., A stock price of $91.14 is given \n",
    "\t\t\t\tby 911400)\n",
    "\t    6.) Direction:\n",
    "\t\t\t\t-1: Sell limit order\n",
    "\t\t\t\t1: Buy limit order\n",
    "\t\t\t\t\n",
    "\t\t\t\tNote: \n",
    "\t\t\t\tExecution of a sell (buy) limit\n",
    "\t\t\t\torder corresponds to a buyer (seller) \n",
    "\t\t\t\tinitiated trade, i.e. Buy (Sell) trade.\n",
    "\t\t\t\t\t\t\t\t\t\t"
   ]
  },
  {
   "cell_type": "code",
   "execution_count": null,
   "metadata": {},
   "outputs": [],
   "source": []
  },
  {
   "cell_type": "markdown",
   "metadata": {},
   "source": [
    "# Test r2 results from the R output"
   ]
  },
  {
   "cell_type": "code",
   "execution_count": null,
   "metadata": {},
   "outputs": [],
   "source": [
    "from os import listdir\n",
    "from os.path import isfile, join\n",
    "dir0 = \"/homes/80/kang/cmem/output/0400_r_kl_output_raw_data_notional/\"\n",
    "onlyFiles = sorted([f for f in listdir(dir0) if isfile(join(dir0, f))])"
   ]
  },
  {
   "cell_type": "code",
   "execution_count": null,
   "metadata": {},
   "outputs": [],
   "source": [
    "from os import listdir\n",
    "from os.path import isfile, join\n",
    "dir0 = \"/homes/80/kang/cmem/output/0400_r_kl_output_raw_data_notional/\"\n",
    "onlyFiles = sorted([f for f in listdir(dir0) if isfile(join(dir0, f))])\n",
    "dfflst =[]\n",
    "for i in range(len(onlyFiles)):\n",
    "    print(i)\n",
    "    name = onlyFiles[i]\n",
    "    import pandas as pd\n",
    "    # name =\"CMS.csv\"\n",
    "\n",
    "    dir = dir0+name\n",
    "    df = pd.read_csv(dir)\n",
    "    df[\"date\"]=df.date.apply(lambda x: x[-5:])\n",
    "    from sklearn.metrics import r2_score\n",
    "    lst = []\n",
    "    g=df.groupby(\"date\")\n",
    "    for idx, itm in g:\n",
    "        r2=r2_score(itm[\"original\"],itm[\"forecast_signal\"])\n",
    "        lst.append([idx,name[:-4],r2])\n",
    "    dff=pd.DataFrame(lst,columns=[\"date\",\"symbol\",\"r2\"])\n",
    "    dfflst.append(dff)"
   ]
  },
  {
   "cell_type": "code",
   "execution_count": null,
   "metadata": {},
   "outputs": [],
   "source": [
    "d = pd.concat(dfflst)"
   ]
  },
  {
   "cell_type": "code",
   "execution_count": null,
   "metadata": {},
   "outputs": [],
   "source": [
    "f = pd.pivot(d,index=\"date\",columns=\"symbol\",values=\"r2\")"
   ]
  },
  {
   "cell_type": "code",
   "execution_count": null,
   "metadata": {},
   "outputs": [],
   "source": [
    "pd.options.display.max_columns = None"
   ]
  },
  {
   "cell_type": "code",
   "execution_count": null,
   "metadata": {},
   "outputs": [],
   "source": [
    "pd.options.display.max_rows = None"
   ]
  },
  {
   "cell_type": "code",
   "execution_count": null,
   "metadata": {},
   "outputs": [],
   "source": [
    "for itm in f.mean(axis=0):\n",
    "    print(itm)"
   ]
  },
  {
   "cell_type": "code",
   "execution_count": null,
   "metadata": {},
   "outputs": [],
   "source": [
    "for itm in f.mean(axis=1):\n",
    "    print(itm)"
   ]
  },
  {
   "cell_type": "code",
   "execution_count": null,
   "metadata": {},
   "outputs": [],
   "source": [
    "f.mean(axis=1).mean()"
   ]
  },
  {
   "cell_type": "code",
   "execution_count": null,
   "metadata": {},
   "outputs": [],
   "source": [
    "f.mean(axis=0).mean()"
   ]
  },
  {
   "cell_type": "markdown",
   "metadata": {},
   "source": []
  },
  {
   "cell_type": "code",
   "execution_count": null,
   "metadata": {},
   "outputs": [],
   "source": [
    "from os import listdir\n",
    "from os.path import isfile, join\n",
    "dir0 = \"/homes/80/kang/2017daily_csv/\"\n",
    "onlyFiles = sorted([f for f in listdir(dir0) if isfile(join(dir0, f))])\n",
    "dfflst =[]\n",
    "i=0\n",
    "# for i in range(len(onlyFiles)):\n",
    "print(i)\n",
    "name = onlyFiles[i]\n",
    "import pandas as pd\n",
    "# name =\"CMS.csv\"\n",
    "\n",
    "dir = dir0+name\n",
    "df = pd.read_csv(dir)\n",
    "df.ticker.to_list()\n"
   ]
  },
  {
   "cell_type": "markdown",
   "metadata": {},
   "source": []
  },
  {
   "cell_type": "code",
   "execution_count": null,
   "metadata": {},
   "outputs": [],
   "source": [
    "from os import listdir\n",
    "from os.path import isfile, join\n",
    "dir0 = \"/homes/80/kang/cmem/data/01.1_raw/\"\n",
    "dir1 = \"/homes/80/kang/2017daily_csv/\"\n",
    "onlyFiles = sorted([f for f in listdir(dir0) if isfile(join(dir0, f))])\n",
    "\n",
    "i=0\n",
    "# for i in range(len(onlyFiles)):\n",
    "print(i)\n",
    "name = onlyFiles[i]\n",
    "import pandas as pd\n",
    "# name =\"CMS.csv\"\n",
    "\n",
    "df0 = pd.read_pickle(dir0+name)\n",
    "df1 = pd.read_csv(dir1+name)"
   ]
  },
  {
   "cell_type": "code",
   "execution_count": null,
   "metadata": {},
   "outputs": [],
   "source": []
  },
  {
   "cell_type": "markdown",
   "metadata": {},
   "source": [
    "# merge the shareOut data and convert into symbol "
   ]
  },
  {
   "cell_type": "code",
   "execution_count": null,
   "metadata": {},
   "outputs": [],
   "source": [
    "from os import listdir\n",
    "from os.path import isfile, join\n",
    "import pandas as pd\n",
    "dir0 = \"/homes/80/kang/cmem/data/01.1_raw/\"\n",
    "dir1 = \"/homes/80/kang/2017daily_csv/\"\n",
    "onlyFiles = sorted([f for f in listdir(dir1) if isfile(join(dir1, f))])\n",
    "\n",
    "i=0\n",
    "lst =[]\n",
    "# for i in range(len(onlyFiles)):\n",
    "print(i)\n",
    "name = onlyFiles[i]\n",
    "df1 = pd.read_csv(dir1+name)\n",
    "d1=df1[['date',\"ticker\", \"volume\", \"sharesOut\"]]\n",
    "lst.append(d1)"
   ]
  },
  {
   "cell_type": "code",
   "execution_count": null,
   "metadata": {},
   "outputs": [],
   "source": [
    "from os import listdir\n",
    "from os.path import isfile, join\n",
    "import pandas as pd\n",
    "dir0 = \"/homes/80/kang/cmem/data/01.1_raw/\"\n",
    "dir1 = \"/homes/80/kang/2017daily_csv/\"\n",
    "onlyFiles = sorted([f for f in listdir(dir1) if isfile(join(dir1, f))])\n",
    "\n",
    "i=0\n",
    "lst =[]\n",
    "for i in range(len(onlyFiles)):\n",
    "    print(i)\n",
    "    name = onlyFiles[i]\n",
    "    df1 = pd.read_csv(dir1+name)\n",
    "    df1['date']=name[:-4]\n",
    "    d1=df1[['date',\"ticker\", \"volume\", \"sharesOut\"]]\n",
    "    lst.append(d1)\n",
    "f=pd.concat(lst)"
   ]
  },
  {
   "cell_type": "code",
   "execution_count": null,
   "metadata": {},
   "outputs": [],
   "source": [
    "mkdir /homes/80/kang/2017daily_aggregate/"
   ]
  },
  {
   "cell_type": "code",
   "execution_count": null,
   "metadata": {},
   "outputs": [],
   "source": [
    "f.to_csv(\"/homes/80/kang/2017daily_aggregate/2017daily_aggregate.csv\")\n",
    "f.to_pickle(\"/homes/80/kang/2017daily_aggregate/2017daily_aggregate.pkl\")"
   ]
  },
  {
   "cell_type": "code",
   "execution_count": null,
   "metadata": {},
   "outputs": [],
   "source": [
    "f=pd.read_pickle(\"/homes/80/kang/2017daily_aggregate/2017daily_aggregate.pkl\")"
   ]
  },
  {
   "cell_type": "code",
   "execution_count": null,
   "metadata": {},
   "outputs": [],
   "source": [
    "g=f[[ \"date\", \"ticker\", \"sharesOut\"]]\n",
    "h=g.pivot(columns=\"ticker\",index=\"date\",values=\"sharesOut\")"
   ]
  },
  {
   "cell_type": "code",
   "execution_count": null,
   "metadata": {},
   "outputs": [],
   "source": [
    "h.to_csv(\"/homes/80/kang/2017daily_aggregate/2017sharesOut.csv\")\n",
    "h.to_pickle(\"/homes/80/kang/2017daily_aggregate/2017sharesOut.pkl\")"
   ]
  },
  {
   "cell_type": "markdown",
   "metadata": {},
   "source": [
    "# Read the data and prepare for merging"
   ]
  },
  {
   "cell_type": "code",
   "execution_count": null,
   "metadata": {},
   "outputs": [],
   "source": [
    "h=pd.read_pickle(\"/homes/80/kang/2017daily_aggregate/2017sharesOut.pkl\")"
   ]
  },
  {
   "cell_type": "code",
   "execution_count": null,
   "metadata": {},
   "outputs": [],
   "source": [
    "with open(\"/homes/80/kang/cmem/stock_names.txt\") as f:\n",
    "    lst=[itm.strip() for itm in f.readlines()]\n"
   ]
  },
  {
   "cell_type": "code",
   "execution_count": null,
   "metadata": {},
   "outputs": [],
   "source": [
    "count =0\n",
    "for itm in lst:\n",
    "    if itm in df.ticker.to_list():\n",
    "        count+=1\n",
    "        print(itm)\n",
    "# 384"
   ]
  },
  {
   "cell_type": "code",
   "execution_count": null,
   "metadata": {},
   "outputs": [],
   "source": [
    "h = h[h.columns.intersection(lst)]"
   ]
  },
  {
   "cell_type": "code",
   "execution_count": null,
   "metadata": {},
   "outputs": [],
   "source": [
    "sorted(h.columns.tolist()) == sorted(lst)"
   ]
  },
  {
   "cell_type": "code",
   "execution_count": null,
   "metadata": {},
   "outputs": [],
   "source": [
    "h=h[sorted(h.columns)]"
   ]
  },
  {
   "cell_type": "code",
   "execution_count": null,
   "metadata": {},
   "outputs": [],
   "source": [
    "l=h.dropna(axis=1)\n",
    "# Out[33]: \n",
    "# ticker         AAL      AAP       ABBV       ABC     ABMD        ABT       ACN       ADI  ...        WY      XEC       XEL      XLB       XLE        XLF       XLI       XLK\n",
    "# date                                                                                      ...                                                                               \n",
    "# 20170103  507294.0  73654.0  1625099.0  220100.0  43508.0  1472310.0  622630.0  308171.0  ...  748058.0  94964.0  507953.0  73974.0  234074.0   971695.0  163576.0  293606.0\n",
    "# 20170104  507294.0  73654.0  1625099.0  220100.0  43508.0  1472310.0  622630.0  308171.0  ...  748058.0  94964.0  507953.0  73974.0  234074.0   971695.0  163576.0  293606.0\n",
    "# 20170105  507294.0  73654.0  1625099.0  220100.0  43508.0  1472310.0  622630.0  308171.0  ...  748058.0  94964.0  507953.0  73974.0  234074.0   971695.0  163576.0  293606.0\n",
    "# 20170106  507294.0  73654.0  1625099.0  220100.0  43508.0  1472310.0  622630.0  308171.0  ...  748058.0  94964.0  507953.0  73974.0  234074.0   971695.0  163576.0  293606.0\n",
    "# 20170109  507294.0  73654.0  1625099.0  220100.0  43508.0  1472310.0  622630.0  308171.0  ...  748058.0  94964.0  507953.0  73974.0  234074.0   971695.0  163576.0  293606.0\n",
    "# ...            ...      ...        ...       ...      ...        ...       ...       ...  ...       ...      ...       ...      ...       ...        ...       ...       ...\n",
    "# 20171222  478499.0  73898.0  1596430.0  218082.0  44216.0  1740601.0  614718.0  368636.0  ...  754829.0  95261.0  507763.0  75674.0  239824.0  1138345.0  174376.0  305106.0\n",
    "# 20171226  478499.0  73898.0  1596430.0  218082.0  44216.0  1740601.0  614718.0  368636.0  ...  754829.0  95261.0  507763.0  75674.0  239824.0  1138345.0  174376.0  305106.0\n",
    "# 20171227  478499.0  73898.0  1596430.0  218082.0  44216.0  1740601.0  614718.0  368636.0  ...  754829.0  95261.0  507763.0  75674.0  239824.0  1138345.0  174376.0  305106.0\n",
    "# 20171228  478499.0  73898.0  1596430.0  218082.0  44216.0  1740601.0  614718.0  368636.0  ...  754829.0  95261.0  507763.0  75674.0  239824.0  1138345.0  174376.0  305106.0\n",
    "# 20171229  475508.0  73898.0  1596430.0  218082.0  44272.0  1740601.0  642550.0  368636.0  ...  754829.0  95261.0  507763.0  81274.0  250524.0  1170545.0  165776.0  302156.0\n",
    "\n",
    "# [251 rows x 384 columns]\n"
   ]
  },
  {
   "cell_type": "code",
   "execution_count": null,
   "metadata": {},
   "outputs": [],
   "source": [
    "l.to_csv(\"/homes/80/kang/2017daily_aggregate/2017sharesOutCommon.csv\")\n",
    "l.to_pickle(\"/homes/80/kang/2017daily_aggregate/2017sharesOutCommon.pkl\")"
   ]
  },
  {
   "cell_type": "markdown",
   "metadata": {},
   "source": [
    "# Deal with the data"
   ]
  },
  {
   "cell_type": "markdown",
   "metadata": {},
   "source": [
    "## read the data with sharesOut"
   ]
  },
  {
   "cell_type": "code",
   "execution_count": 4,
   "metadata": {},
   "outputs": [],
   "source": [
    "l=pd.read_pickle(\"/homes/80/kang/2017daily_aggregate/2017sharesOutCommon.pkl\")\n",
    "l.index = pd.to_datetime(l.index)\n",
    "date_filter = pd.Timestamp(\"2017-07-05\")\n",
    "l = l.loc[l.index >= date_filter]"
   ]
  },
  {
   "cell_type": "code",
   "execution_count": 7,
   "metadata": {},
   "outputs": [],
   "source": []
  },
  {
   "cell_type": "markdown",
   "metadata": {},
   "source": [
    "### To read auxiliary data"
   ]
  },
  {
   "cell_type": "code",
   "execution_count": 31,
   "metadata": {},
   "outputs": [],
   "source": [
    "l1 = l.reset_index()\n",
    "l2 = pd.read_csv('/homes/80/kang/2017daily_aggregate/Wharton_Research_Data_Services_2017H2.csv')\n",
    "l2['date'] = l2.Date.apply(pd.to_datetime)\n",
    "l2.drop('Date', axis=1, inplace=True)\n",
    "l3 = pd.merge(l1,l2,how='left',on='date')\n",
    "l3 = l3.set_index('date')"
   ]
  },
  {
   "cell_type": "code",
   "execution_count": 35,
   "metadata": {},
   "outputs": [
    {
     "data": {
      "text/html": [
       "<div>\n",
       "<style scoped>\n",
       "    .dataframe tbody tr th:only-of-type {\n",
       "        vertical-align: middle;\n",
       "    }\n",
       "\n",
       "    .dataframe tbody tr th {\n",
       "        vertical-align: top;\n",
       "    }\n",
       "\n",
       "    .dataframe thead th {\n",
       "        text-align: right;\n",
       "    }\n",
       "</style>\n",
       "<table border=\"1\" class=\"dataframe\">\n",
       "  <thead>\n",
       "    <tr style=\"text-align: right;\">\n",
       "      <th></th>\n",
       "      <th>AAL</th>\n",
       "      <th>AAP</th>\n",
       "      <th>ABBV</th>\n",
       "      <th>ABC</th>\n",
       "      <th>ABMD</th>\n",
       "      <th>ABT</th>\n",
       "      <th>ACN</th>\n",
       "      <th>ADI</th>\n",
       "      <th>ADM</th>\n",
       "      <th>ADP</th>\n",
       "      <th>...</th>\n",
       "      <th>XEC</th>\n",
       "      <th>XEL</th>\n",
       "      <th>XLB</th>\n",
       "      <th>XLE</th>\n",
       "      <th>XLF</th>\n",
       "      <th>XLI</th>\n",
       "      <th>XLK</th>\n",
       "      <th>XLNX</th>\n",
       "      <th>XRAY</th>\n",
       "      <th>ZION</th>\n",
       "    </tr>\n",
       "    <tr>\n",
       "      <th>date</th>\n",
       "      <th></th>\n",
       "      <th></th>\n",
       "      <th></th>\n",
       "      <th></th>\n",
       "      <th></th>\n",
       "      <th></th>\n",
       "      <th></th>\n",
       "      <th></th>\n",
       "      <th></th>\n",
       "      <th></th>\n",
       "      <th></th>\n",
       "      <th></th>\n",
       "      <th></th>\n",
       "      <th></th>\n",
       "      <th></th>\n",
       "      <th></th>\n",
       "      <th></th>\n",
       "      <th></th>\n",
       "      <th></th>\n",
       "      <th></th>\n",
       "      <th></th>\n",
       "    </tr>\n",
       "  </thead>\n",
       "  <tbody>\n",
       "    <tr>\n",
       "      <th>2017-07-05</th>\n",
       "      <td>487662.0</td>\n",
       "      <td>73845.0</td>\n",
       "      <td>1591541.0</td>\n",
       "      <td>218356.0</td>\n",
       "      <td>44081.0</td>\n",
       "      <td>1735272.0</td>\n",
       "      <td>617986.0</td>\n",
       "      <td>367011.0</td>\n",
       "      <td>568357.0</td>\n",
       "      <td>445000.0</td>\n",
       "      <td>...</td>\n",
       "      <td>95109.0</td>\n",
       "      <td>507763.0</td>\n",
       "      <td>68074.0</td>\n",
       "      <td>244274.0</td>\n",
       "      <td>979645.0</td>\n",
       "      <td>160076.0</td>\n",
       "      <td>299856.0</td>\n",
       "      <td>248602</td>\n",
       "      <td>229300</td>\n",
       "      <td>202131</td>\n",
       "    </tr>\n",
       "    <tr>\n",
       "      <th>2017-07-06</th>\n",
       "      <td>487662.0</td>\n",
       "      <td>73845.0</td>\n",
       "      <td>1591541.0</td>\n",
       "      <td>218356.0</td>\n",
       "      <td>44081.0</td>\n",
       "      <td>1735272.0</td>\n",
       "      <td>617986.0</td>\n",
       "      <td>367011.0</td>\n",
       "      <td>568357.0</td>\n",
       "      <td>445000.0</td>\n",
       "      <td>...</td>\n",
       "      <td>95109.0</td>\n",
       "      <td>507763.0</td>\n",
       "      <td>68074.0</td>\n",
       "      <td>244274.0</td>\n",
       "      <td>979645.0</td>\n",
       "      <td>160076.0</td>\n",
       "      <td>299856.0</td>\n",
       "      <td>248602</td>\n",
       "      <td>229300</td>\n",
       "      <td>202131</td>\n",
       "    </tr>\n",
       "    <tr>\n",
       "      <th>2017-07-07</th>\n",
       "      <td>487662.0</td>\n",
       "      <td>73845.0</td>\n",
       "      <td>1591541.0</td>\n",
       "      <td>218356.0</td>\n",
       "      <td>44081.0</td>\n",
       "      <td>1735272.0</td>\n",
       "      <td>617986.0</td>\n",
       "      <td>367011.0</td>\n",
       "      <td>568357.0</td>\n",
       "      <td>445000.0</td>\n",
       "      <td>...</td>\n",
       "      <td>95109.0</td>\n",
       "      <td>507763.0</td>\n",
       "      <td>68074.0</td>\n",
       "      <td>244274.0</td>\n",
       "      <td>979645.0</td>\n",
       "      <td>160076.0</td>\n",
       "      <td>299856.0</td>\n",
       "      <td>248602</td>\n",
       "      <td>229300</td>\n",
       "      <td>202131</td>\n",
       "    </tr>\n",
       "    <tr>\n",
       "      <th>2017-07-10</th>\n",
       "      <td>487662.0</td>\n",
       "      <td>73845.0</td>\n",
       "      <td>1591541.0</td>\n",
       "      <td>218356.0</td>\n",
       "      <td>44081.0</td>\n",
       "      <td>1735272.0</td>\n",
       "      <td>617986.0</td>\n",
       "      <td>367011.0</td>\n",
       "      <td>568357.0</td>\n",
       "      <td>445000.0</td>\n",
       "      <td>...</td>\n",
       "      <td>95109.0</td>\n",
       "      <td>507763.0</td>\n",
       "      <td>68074.0</td>\n",
       "      <td>244274.0</td>\n",
       "      <td>979645.0</td>\n",
       "      <td>160076.0</td>\n",
       "      <td>299856.0</td>\n",
       "      <td>248602</td>\n",
       "      <td>229300</td>\n",
       "      <td>202131</td>\n",
       "    </tr>\n",
       "    <tr>\n",
       "      <th>2017-07-11</th>\n",
       "      <td>487662.0</td>\n",
       "      <td>73845.0</td>\n",
       "      <td>1591541.0</td>\n",
       "      <td>218356.0</td>\n",
       "      <td>44081.0</td>\n",
       "      <td>1735272.0</td>\n",
       "      <td>617986.0</td>\n",
       "      <td>367011.0</td>\n",
       "      <td>568357.0</td>\n",
       "      <td>445000.0</td>\n",
       "      <td>...</td>\n",
       "      <td>95109.0</td>\n",
       "      <td>507763.0</td>\n",
       "      <td>68074.0</td>\n",
       "      <td>244274.0</td>\n",
       "      <td>979645.0</td>\n",
       "      <td>160076.0</td>\n",
       "      <td>299856.0</td>\n",
       "      <td>248602</td>\n",
       "      <td>229300</td>\n",
       "      <td>202131</td>\n",
       "    </tr>\n",
       "    <tr>\n",
       "      <th>...</th>\n",
       "      <td>...</td>\n",
       "      <td>...</td>\n",
       "      <td>...</td>\n",
       "      <td>...</td>\n",
       "      <td>...</td>\n",
       "      <td>...</td>\n",
       "      <td>...</td>\n",
       "      <td>...</td>\n",
       "      <td>...</td>\n",
       "      <td>...</td>\n",
       "      <td>...</td>\n",
       "      <td>...</td>\n",
       "      <td>...</td>\n",
       "      <td>...</td>\n",
       "      <td>...</td>\n",
       "      <td>...</td>\n",
       "      <td>...</td>\n",
       "      <td>...</td>\n",
       "      <td>...</td>\n",
       "      <td>...</td>\n",
       "      <td>...</td>\n",
       "    </tr>\n",
       "    <tr>\n",
       "      <th>2017-12-22</th>\n",
       "      <td>478499.0</td>\n",
       "      <td>73898.0</td>\n",
       "      <td>1596430.0</td>\n",
       "      <td>218082.0</td>\n",
       "      <td>44216.0</td>\n",
       "      <td>1740601.0</td>\n",
       "      <td>614718.0</td>\n",
       "      <td>368636.0</td>\n",
       "      <td>559250.0</td>\n",
       "      <td>443490.0</td>\n",
       "      <td>...</td>\n",
       "      <td>95261.0</td>\n",
       "      <td>507763.0</td>\n",
       "      <td>75674.0</td>\n",
       "      <td>239824.0</td>\n",
       "      <td>1138345.0</td>\n",
       "      <td>174376.0</td>\n",
       "      <td>305106.0</td>\n",
       "      <td>250953</td>\n",
       "      <td>229683</td>\n",
       "      <td>199744</td>\n",
       "    </tr>\n",
       "    <tr>\n",
       "      <th>2017-12-26</th>\n",
       "      <td>478499.0</td>\n",
       "      <td>73898.0</td>\n",
       "      <td>1596430.0</td>\n",
       "      <td>218082.0</td>\n",
       "      <td>44216.0</td>\n",
       "      <td>1740601.0</td>\n",
       "      <td>614718.0</td>\n",
       "      <td>368636.0</td>\n",
       "      <td>559250.0</td>\n",
       "      <td>443490.0</td>\n",
       "      <td>...</td>\n",
       "      <td>95261.0</td>\n",
       "      <td>507763.0</td>\n",
       "      <td>75674.0</td>\n",
       "      <td>239824.0</td>\n",
       "      <td>1138345.0</td>\n",
       "      <td>174376.0</td>\n",
       "      <td>305106.0</td>\n",
       "      <td>250953</td>\n",
       "      <td>229683</td>\n",
       "      <td>199744</td>\n",
       "    </tr>\n",
       "    <tr>\n",
       "      <th>2017-12-27</th>\n",
       "      <td>478499.0</td>\n",
       "      <td>73898.0</td>\n",
       "      <td>1596430.0</td>\n",
       "      <td>218082.0</td>\n",
       "      <td>44216.0</td>\n",
       "      <td>1740601.0</td>\n",
       "      <td>614718.0</td>\n",
       "      <td>368636.0</td>\n",
       "      <td>559250.0</td>\n",
       "      <td>443490.0</td>\n",
       "      <td>...</td>\n",
       "      <td>95261.0</td>\n",
       "      <td>507763.0</td>\n",
       "      <td>75674.0</td>\n",
       "      <td>239824.0</td>\n",
       "      <td>1138345.0</td>\n",
       "      <td>174376.0</td>\n",
       "      <td>305106.0</td>\n",
       "      <td>250953</td>\n",
       "      <td>229683</td>\n",
       "      <td>199744</td>\n",
       "    </tr>\n",
       "    <tr>\n",
       "      <th>2017-12-28</th>\n",
       "      <td>478499.0</td>\n",
       "      <td>73898.0</td>\n",
       "      <td>1596430.0</td>\n",
       "      <td>218082.0</td>\n",
       "      <td>44216.0</td>\n",
       "      <td>1740601.0</td>\n",
       "      <td>614718.0</td>\n",
       "      <td>368636.0</td>\n",
       "      <td>559250.0</td>\n",
       "      <td>443490.0</td>\n",
       "      <td>...</td>\n",
       "      <td>95261.0</td>\n",
       "      <td>507763.0</td>\n",
       "      <td>75674.0</td>\n",
       "      <td>239824.0</td>\n",
       "      <td>1138345.0</td>\n",
       "      <td>174376.0</td>\n",
       "      <td>305106.0</td>\n",
       "      <td>250953</td>\n",
       "      <td>229683</td>\n",
       "      <td>199744</td>\n",
       "    </tr>\n",
       "    <tr>\n",
       "      <th>2017-12-29</th>\n",
       "      <td>475508.0</td>\n",
       "      <td>73898.0</td>\n",
       "      <td>1596430.0</td>\n",
       "      <td>218082.0</td>\n",
       "      <td>44272.0</td>\n",
       "      <td>1740601.0</td>\n",
       "      <td>642550.0</td>\n",
       "      <td>368636.0</td>\n",
       "      <td>559250.0</td>\n",
       "      <td>442700.0</td>\n",
       "      <td>...</td>\n",
       "      <td>95261.0</td>\n",
       "      <td>507763.0</td>\n",
       "      <td>81274.0</td>\n",
       "      <td>250524.0</td>\n",
       "      <td>1170545.0</td>\n",
       "      <td>165776.0</td>\n",
       "      <td>302156.0</td>\n",
       "      <td>254815</td>\n",
       "      <td>226800</td>\n",
       "      <td>197532</td>\n",
       "    </tr>\n",
       "  </tbody>\n",
       "</table>\n",
       "<p>125 rows × 467 columns</p>\n",
       "</div>"
      ],
      "text/plain": [
       "                 AAL      AAP       ABBV       ABC     ABMD        ABT  \\\n",
       "date                                                                     \n",
       "2017-07-05  487662.0  73845.0  1591541.0  218356.0  44081.0  1735272.0   \n",
       "2017-07-06  487662.0  73845.0  1591541.0  218356.0  44081.0  1735272.0   \n",
       "2017-07-07  487662.0  73845.0  1591541.0  218356.0  44081.0  1735272.0   \n",
       "2017-07-10  487662.0  73845.0  1591541.0  218356.0  44081.0  1735272.0   \n",
       "2017-07-11  487662.0  73845.0  1591541.0  218356.0  44081.0  1735272.0   \n",
       "...              ...      ...        ...       ...      ...        ...   \n",
       "2017-12-22  478499.0  73898.0  1596430.0  218082.0  44216.0  1740601.0   \n",
       "2017-12-26  478499.0  73898.0  1596430.0  218082.0  44216.0  1740601.0   \n",
       "2017-12-27  478499.0  73898.0  1596430.0  218082.0  44216.0  1740601.0   \n",
       "2017-12-28  478499.0  73898.0  1596430.0  218082.0  44216.0  1740601.0   \n",
       "2017-12-29  475508.0  73898.0  1596430.0  218082.0  44272.0  1740601.0   \n",
       "\n",
       "                 ACN       ADI       ADM       ADP  ...      XEC       XEL  \\\n",
       "date                                                ...                      \n",
       "2017-07-05  617986.0  367011.0  568357.0  445000.0  ...  95109.0  507763.0   \n",
       "2017-07-06  617986.0  367011.0  568357.0  445000.0  ...  95109.0  507763.0   \n",
       "2017-07-07  617986.0  367011.0  568357.0  445000.0  ...  95109.0  507763.0   \n",
       "2017-07-10  617986.0  367011.0  568357.0  445000.0  ...  95109.0  507763.0   \n",
       "2017-07-11  617986.0  367011.0  568357.0  445000.0  ...  95109.0  507763.0   \n",
       "...              ...       ...       ...       ...  ...      ...       ...   \n",
       "2017-12-22  614718.0  368636.0  559250.0  443490.0  ...  95261.0  507763.0   \n",
       "2017-12-26  614718.0  368636.0  559250.0  443490.0  ...  95261.0  507763.0   \n",
       "2017-12-27  614718.0  368636.0  559250.0  443490.0  ...  95261.0  507763.0   \n",
       "2017-12-28  614718.0  368636.0  559250.0  443490.0  ...  95261.0  507763.0   \n",
       "2017-12-29  642550.0  368636.0  559250.0  442700.0  ...  95261.0  507763.0   \n",
       "\n",
       "                XLB       XLE        XLF       XLI       XLK    XLNX    XRAY  \\\n",
       "date                                                                           \n",
       "2017-07-05  68074.0  244274.0   979645.0  160076.0  299856.0  248602  229300   \n",
       "2017-07-06  68074.0  244274.0   979645.0  160076.0  299856.0  248602  229300   \n",
       "2017-07-07  68074.0  244274.0   979645.0  160076.0  299856.0  248602  229300   \n",
       "2017-07-10  68074.0  244274.0   979645.0  160076.0  299856.0  248602  229300   \n",
       "2017-07-11  68074.0  244274.0   979645.0  160076.0  299856.0  248602  229300   \n",
       "...             ...       ...        ...       ...       ...     ...     ...   \n",
       "2017-12-22  75674.0  239824.0  1138345.0  174376.0  305106.0  250953  229683   \n",
       "2017-12-26  75674.0  239824.0  1138345.0  174376.0  305106.0  250953  229683   \n",
       "2017-12-27  75674.0  239824.0  1138345.0  174376.0  305106.0  250953  229683   \n",
       "2017-12-28  75674.0  239824.0  1138345.0  174376.0  305106.0  250953  229683   \n",
       "2017-12-29  81274.0  250524.0  1170545.0  165776.0  302156.0  254815  226800   \n",
       "\n",
       "              ZION  \n",
       "date                \n",
       "2017-07-05  202131  \n",
       "2017-07-06  202131  \n",
       "2017-07-07  202131  \n",
       "2017-07-10  202131  \n",
       "2017-07-11  202131  \n",
       "...            ...  \n",
       "2017-12-22  199744  \n",
       "2017-12-26  199744  \n",
       "2017-12-27  199744  \n",
       "2017-12-28  199744  \n",
       "2017-12-29  197532  \n",
       "\n",
       "[125 rows x 467 columns]"
      ]
     },
     "execution_count": 35,
     "metadata": {},
     "output_type": "execute_result"
    }
   ],
   "source": [
    "l4 = l3[sorted(l3.columns)]\n",
    "l4"
   ]
  },
  {
   "cell_type": "code",
   "execution_count": null,
   "metadata": {},
   "outputs": [],
   "source": [
    "mkdir /homes/80/kang/cmem/data/01.1_raw_fraction/"
   ]
  },
  {
   "cell_type": "code",
   "execution_count": null,
   "metadata": {},
   "outputs": [],
   "source": [
    "cd /homes/80/kang/cmem/data/01.1_raw_fraction/\n",
    "rm *"
   ]
  },
  {
   "cell_type": "code",
   "execution_count": null,
   "metadata": {},
   "outputs": [],
   "source": [
    "mkdir /homes/80/kang/cmem/data_fraction/01.1_raw_fraction/"
   ]
  },
  {
   "cell_type": "code",
   "execution_count": null,
   "metadata": {},
   "outputs": [],
   "source": [
    "from os import listdir\n",
    "from os.path import isfile, join\n",
    "dir0 = \"/homes/80/kang/cmem/data/01.1_raw/\"\n",
    "dir1 = \"/homes/80/kang/cmem/data_fraction/01.1_raw_fraction/\"\n",
    "onlyFiles = sorted([f for f in listdir(dir0) if isfile(join(dir0, f))])\n",
    "\n",
    "i=100\n",
    "for i in range(len(onlyFiles)):\n",
    "    print(i)\n",
    "    name = onlyFiles[i]\n",
    "    symbol = name[:-4]\n",
    "    import pandas as pd\n",
    "    # name =\"CMS.csv\"\n",
    "\n",
    "    if symbol in l.columns.to_list():\n",
    "        df = pd.read_pickle(dir0+name)\n",
    "        dff=df.copy()\n",
    "        dff.index = dff.index.strftime(\"%Y-%m-%d\")\n",
    "        df[\"sharesOut\"] = l.loc[dff.index,symbol].values\n",
    "        if df.sharesOut.isna().sum()!=df.shape[0]:\n",
    "            print(\"saved\")\n",
    "            df['qty_fraction']=df.qty/df.sharesOut\n",
    "            df.to_pickle(dir1+symbol+\".pkl\")\n",
    "            df.to_csv(dir1+symbol+\".csv\")"
   ]
  },
  {
   "cell_type": "markdown",
   "metadata": {},
   "source": [
    "ls | wc -l\n",
    "768/2=384"
   ]
  },
  {
   "cell_type": "markdown",
   "metadata": {},
   "source": [
    "# after getting the 01.1_raw, we need to convert into r_input"
   ]
  },
  {
   "cell_type": "markdown",
   "metadata": {},
   "source": [
    "mkdir /homes/80/kang/cmem/data_fraction/02.2_data_r_input_kf_fraction"
   ]
  },
  {
   "cell_type": "code",
   "execution_count": null,
   "metadata": {},
   "outputs": [],
   "source": [
    "path11 = '/homes/80/kang/cmem/data_fraction/01.1_raw_fraction/'\n",
    "path12 = '/homes/80/kang/cmem/data_fraction/02.2_data_r_input_kf/'\n",
    "import pandas as pd\n",
    "import numpy as np\n",
    "from os import listdir;from os.path import isfile,join\n",
    "files = lambda path: sorted([f for f in listdir(path) if isfile(join(path,f)) and f[-3:]=='pkl'])\n",
    "files11 = files(path11)\n",
    "from tqdm import tqdm\n",
    "for i in tqdm(range(len(files11))):\n",
    "    name = files11[i][:-4]\n",
    "    df = pd.read_pickle(path11+files11[i])\n",
    "    resampled_df = df[['date','timeHMs','qty_fraction']]\n",
    "\n",
    "    # Step 2: Pivot the DataFrame to get the desired format\n",
    "    pivot_df = resampled_df.pivot_table(index=resampled_df.index.time, \\\n",
    "        columns=resampled_df.index.date, values='qty_fraction')\n",
    "    # Step 3: Create a new DataFrame with formatted column names\n",
    "    new_columns = [col.strftime('%Y-%m-%d') for col in pivot_df.columns]\n",
    "    pivot_df.columns = new_columns\n",
    "\n",
    "    # Step 4: Add the 'AM' or 'PM' label to the index\n",
    "    pivot_df.index = [f'{t.strftime(\"%I:%M %p\")}' for t in pivot_df.index]\n",
    "\n",
    "    # Step 5: Save the DataFrame to a CSV file\n",
    "    pivot_df.to_csv(path12 + name +\".csv\")"
   ]
  },
  {
   "cell_type": "markdown",
   "metadata": {},
   "source": [
    "# Run r with /homes/80/kang/cmem/rkf.r"
   ]
  },
  {
   "cell_type": "code",
   "execution_count": null,
   "metadata": {},
   "outputs": [],
   "source": [
    "mkdir /homes/80/kang/cmem/output/0400_r_kl_output_raw_data_fractional/"
   ]
  },
  {
   "cell_type": "markdown",
   "metadata": {},
   "source": [
    "# Calc the R2 of the R Output"
   ]
  },
  {
   "cell_type": "code",
   "execution_count": null,
   "metadata": {},
   "outputs": [],
   "source": [
    "cd /homes/80/kang/cmem/output/0400_r_kl_output_raw_data_fractional/"
   ]
  },
  {
   "cell_type": "code",
   "execution_count": 1,
   "metadata": {},
   "outputs": [
    {
     "name": "stdout",
     "output_type": "stream",
     "text": [
      "79\n",
      "80\n",
      "81\n",
      "82\n",
      "83\n",
      "84\n",
      "85\n",
      "86\n",
      "87\n",
      "88\n",
      "89\n",
      "90\n",
      "91\n",
      "92\n",
      "93\n",
      "94\n",
      "95\n",
      "96\n",
      "97\n",
      "98\n",
      "99\n"
     ]
    }
   ],
   "source": [
    "from os import listdir\n",
    "from os.path import isfile, join\n",
    "dir0 = \"/homes/80/kang/cmem/output/0400_r_kl_output_raw_data_fractional/\"\n",
    "onlyFiles = sorted([f for f in listdir(dir0) if isfile(join(dir0, f))])\n",
    "dfflst = []\n",
    "import pandas as pd\n",
    "for i in range(len(onlyFiles)):\n",
    "    print(i)\n",
    "    name = onlyFiles[i]\n",
    "    import pandas as pd\n",
    "    # name =\"CMS.csv\"\n",
    "\n",
    "    dir = dir0+name\n",
    "    df = pd.read_csv(dir)\n",
    "    df[\"date\"]=df.date.apply(lambda x: x[-5:])\n",
    "    from sklearn.metrics import r2_score\n",
    "    lst = []\n",
    "    g=df.groupby(\"date\")\n",
    "    for idx, itm in g:\n",
    "        r2=r2_score(itm[\"original\"],itm[\"forecast_signal\"])\n",
    "        lst.append([idx,name[:-4],r2])\n",
    "    dff=pd.DataFrame(lst,columns=[\"date\",\"symbol\",\"r2\"])\n",
    "    dfflst.append(dff)\n"
   ]
  },
  {
   "cell_type": "code",
   "execution_count": null,
   "metadata": {},
   "outputs": [],
   "source": [
    "f=pd.concat(dfflst)\n",
    "h=f.pivot(index=\"date\",columns=\"symbol\",values=\"r2\")\n",
    "h['symbol_mean']=h.mean(axis=1)\n",
    "h.loc['date_mean']=h.mean(axis=0)\n",
    "h.to_csv(\"/homes/80/kang/cmem/0400_r_kl_output_fractional_r2.csv\")"
   ]
  },
  {
   "cell_type": "markdown",
   "metadata": {},
   "source": [
    "# The pipeline for max and min"
   ]
  },
  {
   "cell_type": "markdown",
   "metadata": {},
   "source": [
    "## mkdir"
   ]
  },
  {
   "cell_type": "code",
   "execution_count": null,
   "metadata": {},
   "outputs": [],
   "source": [
    "mkdir /homes/80/kang/cmem/data_minmax\n",
    "mkdir /homes/80/kang/cmem/data_minmax/01.1_raw_minmax/"
   ]
  },
  {
   "cell_type": "markdown",
   "metadata": {},
   "source": [
    "## Calc the minmax before converting into r_input csv"
   ]
  },
  {
   "cell_type": "code",
   "execution_count": null,
   "metadata": {},
   "outputs": [],
   "source": [
    "from os import listdir\n",
    "from os.path import isfile, join\n",
    "dir0 = \"/homes/80/kang/cmem/data/01.1_raw/\"\n",
    "dir1 = \"/homes/80/kang/cmem/data_minmax/01.1_raw_minmax/\"\n",
    "onlyFiles = sorted([f for f in listdir(dir0) if isfile(join(dir0, f))])\n",
    "\n",
    "i=100\n",
    "for i in range(len(onlyFiles)):\n",
    "    print(i)\n",
    "    name = onlyFiles[i]\n",
    "    symbol = name[:-4]\n",
    "    import pandas as pd\n",
    "    # name =\"CMS.csv\"\n",
    "\n",
    "\n",
    "    df = pd.read_pickle(dir0+name)\n",
    "    df[\"qty_minmax\"] = df.qty/df.qty.max()\n",
    "    # df[\"qty_minmax\"] = df.qty/(df.qty.max()-df.qty.min())\n",
    "    # df[\"qty_minmax\"] = (df.qty-df.qty.min())/(df.qty.max()-df.qty.min())\n",
    "    \n",
    "    df.to_pickle(dir1+symbol+\".pkl\")\n",
    "    df.to_csv(dir1+symbol+\".csv\")"
   ]
  },
  {
   "cell_type": "markdown",
   "metadata": {},
   "source": [
    "## After getting the 01.1_raw, we need to convert into r_input"
   ]
  },
  {
   "cell_type": "markdown",
   "metadata": {},
   "source": [
    "mkdir /homes/80/kang/cmem/data_minmax/\n",
    "mkdir /homes/80/kang/cmem/data_minmax/02.2_data_r_input_kf_minmax/"
   ]
  },
  {
   "cell_type": "code",
   "execution_count": null,
   "metadata": {},
   "outputs": [],
   "source": [
    "path11 = '/homes/80/kang/cmem/data_minmax/01.1_raw_minmax/'\n",
    "path12 = '/homes/80/kang/cmem/data_minmax/02.2_data_r_input_kf_minmax/'\n",
    "import pandas as pd\n",
    "import numpy as np\n",
    "from os import listdir;from os.path import isfile,join\n",
    "files = lambda path: sorted([f for f in listdir(path) if isfile(join(path,f)) and f[-3:]=='pkl'])\n",
    "files11 = files(path11)\n",
    "from tqdm import tqdm\n",
    "for i in tqdm(range(len(files11))):\n",
    "    name = files11[i][:-4]\n",
    "    df = pd.read_pickle(path11+files11[i])\n",
    "    resampled_df = df[['date','timeHMs','qty_minmax']]\n",
    "\n",
    "    # Step 2: Pivot the DataFrame to get the desired format\n",
    "    pivot_df = resampled_df.pivot_table(index=resampled_df.index.time, \\\n",
    "        columns=resampled_df.index.date, values='qty_minmax')\n",
    "    # Step 3: Create a new DataFrame with formatted column names\n",
    "    new_columns = [col.strftime('%Y-%m-%d') for col in pivot_df.columns]\n",
    "    pivot_df.columns = new_columns\n",
    "\n",
    "    # Step 4: Add the 'AM' or 'PM' label to the index\n",
    "    pivot_df.index = [f'{t.strftime(\"%I:%M %p\")}' for t in pivot_df.index]\n",
    "\n",
    "    # Step 5: Save the DataFrame to a CSV file\n",
    "    pivot_df.to_csv(path12 + name +\".csv\")"
   ]
  },
  {
   "cell_type": "markdown",
   "metadata": {},
   "source": [
    "## Run r with /homes/80/kang/cmem/rkf.r"
   ]
  },
  {
   "cell_type": "code",
   "execution_count": 2,
   "metadata": {},
   "outputs": [
    {
     "name": "stderr",
     "output_type": "stream",
     "text": [
      "mkdir: cannot create directory ‘/homes/80/kang/cmem/output/0400_r_kl_output_raw_data_minmax/’: File exists\n"
     ]
    },
    {
     "name": "stdout",
     "output_type": "stream",
     "text": [
      "    472     472    3833\n"
     ]
    }
   ],
   "source": [
    "%%bash\n",
    "mkdir /homes/80/kang/cmem/output/0400_r_kl_output_raw_data_minmax/\n",
    "cd /homes/80/kang/cmem/output/0400_r_kl_output_raw_data_minmax/\n",
    "ls | wc"
   ]
  },
  {
   "cell_type": "markdown",
   "metadata": {},
   "source": [
    "Rscript /homes/80/kang/cmem/rkf_fraction.r"
   ]
  },
  {
   "cell_type": "markdown",
   "metadata": {},
   "source": [
    "# Calc the R2 of the R Output"
   ]
  },
  {
   "cell_type": "code",
   "execution_count": 4,
   "metadata": {},
   "outputs": [
    {
     "name": "stderr",
     "output_type": "stream",
     "text": [
      "100%|██████████| 472/472 [00:22<00:00, 21.31it/s]\n"
     ]
    },
    {
     "data": {
      "text/plain": [
       "-0.054585366570237534"
      ]
     },
     "execution_count": 4,
     "metadata": {},
     "output_type": "execute_result"
    }
   ],
   "source": [
    "from os import listdir\n",
    "from os.path import isfile, join\n",
    "dir0 = \"/homes/80/kang/cmem/output/0400_r_kl_output_raw_data_minmax/\"\n",
    "onlyFiles = sorted([f for f in listdir(dir0) if isfile(join(dir0, f))])\n",
    "dfflst = []\n",
    "import pandas as pd\n",
    "from tqdm import tqdm\n",
    "for i in tqdm(range(len(onlyFiles))):\n",
    "    name = onlyFiles[i]\n",
    "    import pandas as pd\n",
    "    # name =\"CMS.csv\"\n",
    "\n",
    "    dir = dir0+name\n",
    "    df = pd.read_csv(dir)\n",
    "    df[\"date\"]=df.date.apply(lambda x: x[-5:])\n",
    "    from sklearn.metrics import r2_score\n",
    "    lst = []\n",
    "    g=df.groupby(\"date\")\n",
    "    for idx, itm in g:\n",
    "        r2=r2_score(itm[\"original\"],itm[\"forecast_signal\"])\n",
    "        lst.append([idx,name[:-4],r2])\n",
    "    dff=pd.DataFrame(lst,columns=[\"date\",\"symbol\",\"r2\"])\n",
    "    dfflst.append(dff)\n",
    "\n",
    "f=pd.concat(dfflst)\n",
    "h=f.pivot(index=\"date\",columns=\"symbol\",values=\"r2\")\n",
    "l=h.copy()\n",
    "l['symbol_mean']=l.mean(axis=1)\n",
    "l.loc['date_mean']=l.mean(axis=0)\n",
    "l.to_csv(\"/homes/80/kang/cmem/0400_r_kl_output_minmax_r2.csv\")\n",
    "'r squred of the raw output from r_kl code with minmax applied', h.mean(axis=1).mean()"
   ]
  },
  {
   "cell_type": "code",
   "execution_count": 5,
   "metadata": {},
   "outputs": [
    {
     "data": {
      "text/plain": [
       "('r squred of the raw output from r_kl code with minmax applied',\n",
       " -0.054585366570237534)"
      ]
     },
     "execution_count": 5,
     "metadata": {},
     "output_type": "execute_result"
    }
   ],
   "source": [
    "'r squred of the raw output from r_kl code with minmax applied', h.mean(axis=1).mean()"
   ]
  },
  {
   "cell_type": "markdown",
   "metadata": {},
   "source": [
    "# test the raw cmem output r2"
   ]
  },
  {
   "cell_type": "code",
   "execution_count": null,
   "metadata": {},
   "outputs": [],
   "source": [
    "from os import listdir\n",
    "from os.path import isfile, join\n",
    "dir0 = \"/homes/80/kang/cmem/output/06_r_output_raw_csv/\"\n",
    "onlyFiles = sorted([f for f in listdir(dir0) if isfile(join(dir0, f))])\n",
    "dfflst = []\n",
    "import pandas as pd\n",
    "i=0\n",
    "for i in range(len(onlyFiles)):\n",
    "    print(i)\n",
    "    name = onlyFiles[i]\n",
    "    import pandas as pd\n",
    "    # name =\"CMS.csv\"\n",
    "\n",
    "    dir = dir0+name\n",
    "    df = pd.read_csv(dir)\n",
    "    df.date = df.date.apply(lambda x:str(int(x)))\n",
    "    from sklearn.metrics import r2_score\n",
    "    lst = []\n",
    "    g=df.groupby(\"date\")\n",
    "    for idx, itm in g:\n",
    "        pass\n",
    "        r2=r2_score(itm[\"turnover\"],itm[\"x\"])\n",
    "        # r2=r2_score(itm[\"original\"],itm[\"forecast_signal\"])\n",
    "        lst.append([idx,name[:-4],r2])\n",
    "    dff=pd.DataFrame(lst,columns=[\"date\",\"symbol\",\"r2\"])\n",
    "    dfflst.append(dff)\n",
    "\n",
    "f=pd.concat(dfflst)\n",
    "h=f.pivot(index=\"date\",columns=\"symbol\",values=\"r2\")\n",
    "l=h.copy()\n",
    "l['symbol_mean']=l.mean(axis=1)\n",
    "l.loc['date_mean']=l.mean(axis=0)\n",
    "# l.to_csv(\"/homes/80/kang/cmem/0400_r_kl_output_qty_r2.csv\")\n",
    "h.mean(axis=1).mean()"
   ]
  },
  {
   "cell_type": "markdown",
   "metadata": {},
   "source": []
  },
  {
   "cell_type": "code",
   "execution_count": null,
   "metadata": {},
   "outputs": [],
   "source": [
    "l2 = pd.read_csv(\"/homes/80/kang/cmem/0400_r_kl_output_minmax_r2.csv\")"
   ]
  },
  {
   "cell_type": "code",
   "execution_count": null,
   "metadata": {},
   "outputs": [],
   "source": [
    "pd.set_option('display.max_columns', None)"
   ]
  },
  {
   "cell_type": "markdown",
   "metadata": {},
   "source": [
    "SNA"
   ]
  },
  {
   "cell_type": "markdown",
   "metadata": {},
   "source": [
    "pd.set_option('display.max_columns', 10)"
   ]
  },
  {
   "cell_type": "code",
   "execution_count": null,
   "metadata": {},
   "outputs": [],
   "source": [
    "import pandas as pd\n",
    "pd.set_option('display.max_rows', None)"
   ]
  },
  {
   "cell_type": "code",
   "execution_count": null,
   "metadata": {},
   "outputs": [],
   "source": [
    "pd.set_option('display.width', 200)"
   ]
  },
  {
   "cell_type": "code",
   "execution_count": null,
   "metadata": {},
   "outputs": [],
   "source": [
    "sna=pd.read_csv(\"/homes/80/kang/cmem/output/06_r_output_raw_csv/ACN.csv\")\n",
    "# sna=pd.read_csv(\"/homes/80/kang/cmem/output/06_r_output_raw_csv/SNA.csv\")\n",
    "df = sna[[\"date\", \"turnover\", \"x\", \"eta\", \"seas\", \"mu\"]]\n",
    "df['x'] = df['x'].apply(lambda x: f'{x:f}') \n",
    "df['eta'] = df['eta'].apply(lambda x: f'{x:f}')\n",
    "df\n",
    "import numpy as np\n",
    "g=df.groupby(\"date\")\n",
    "lst=[]\n",
    "for idx,itm in g:\n",
    "    itm['sum_turnover']=itm.turnover.astype(np.float64).sum()\n",
    "    itm['sum_x']=itm.x.astype(np.float64).sum()\n",
    "    itm['sum_eta']=itm.eta.astype(np.float64).sum()\n",
    "    lst.append(itm)\n",
    "f=pd.concat(lst)\n",
    "f.sum_tunover=f.sum_turnover.apply(lambda x: \"{:,.2}\".format(x)) \n",
    "f.sum_x=f.sum_x.apply(lambda x: \"{:,.2}\".format(x)) \n",
    "f.sum_eta=f.sum_eta.apply(lambda x: \"{:,.2}\".format(x)) \n",
    "f"
   ]
  },
  {
   "cell_type": "markdown",
   "metadata": {},
   "source": [
    "# Error comes from the eps?"
   ]
  },
  {
   "cell_type": "markdown",
   "metadata": {},
   "source": [
    "# Roll back to volume space "
   ]
  },
  {
   "cell_type": "markdown",
   "metadata": {},
   "source": [
    "## read one test file from the r output of the fractional"
   ]
  },
  {
   "cell_type": "code",
   "execution_count": null,
   "metadata": {},
   "outputs": [],
   "source": [
    "from os import listdir\n",
    "from os.path import isfile, join\n",
    "dir0 = \"/homes/80/kang/cmem/output/0400_r_kl_output_raw_data_fractional/\"\n",
    "onlyFiles = sorted([f for f in listdir(dir0) if isfile(join(dir0, f))])\n",
    "dfflst = []\n",
    "import pandas as pd\n",
    "i=0\n",
    "# for i in range(len(onlyFiles)):\n",
    "print(i)\n",
    "name = onlyFiles[i]\n",
    "symbol=name[:-4]\n",
    "import pandas as pd\n",
    "# name =\"CMS.csv\"\n",
    "\n",
    "dir = dir0+name\n",
    "df = pd.read_csv(dir)\n",
    "df[\"date\"]=df.date.apply(lambda x: x[-5:])"
   ]
  },
  {
   "cell_type": "markdown",
   "metadata": {},
   "source": [
    "## load the sharesOut data"
   ]
  },
  {
   "cell_type": "markdown",
   "metadata": {},
   "source": [
    "### read the data with sharesOut"
   ]
  },
  {
   "cell_type": "code",
   "execution_count": null,
   "metadata": {},
   "outputs": [],
   "source": [
    "l=pd.read_pickle(\"/homes/80/kang/2017daily_aggregate/2017sharesOutCommon.pkl\")\n",
    "l.index = pd.to_datetime(l.index)\n",
    "date_filter = pd.Timestamp(\"2017-07-19\")\n",
    "l = l.loc[l.index >= date_filter]"
   ]
  },
  {
   "cell_type": "markdown",
   "metadata": {},
   "source": [
    "### choose the common dates from the df of 0400_r_kl_output_raw_data_fractional"
   ]
  },
  {
   "cell_type": "code",
   "execution_count": null,
   "metadata": {},
   "outputs": [],
   "source": [
    "df[\"date\"] = df.date.apply(lambda x: \"2017-\" + x)\n",
    "df['date'] = pd.to_datetime(df['date'], format='%Y-%m.%d')"
   ]
  },
  {
   "cell_type": "markdown",
   "metadata": {},
   "source": [
    "### merge the shareOut data into the r output df "
   ]
  },
  {
   "cell_type": "code",
   "execution_count": null,
   "metadata": {},
   "outputs": [],
   "source": [
    "df['sharesOut']=l.loc[df.date,symbol].values"
   ]
  },
  {
   "cell_type": "markdown",
   "metadata": {},
   "source": [
    "## roll back to the shares"
   ]
  },
  {
   "cell_type": "code",
   "execution_count": null,
   "metadata": {},
   "outputs": [],
   "source": [
    "df['shares_forecast_signal']=df.forecast_signal*df.sharesOut\n",
    "df['shares_original']=df.original*df.sharesOut"
   ]
  },
  {
   "cell_type": "markdown",
   "metadata": {},
   "source": [
    "## calc r2 inside the df"
   ]
  },
  {
   "cell_type": "code",
   "execution_count": null,
   "metadata": {},
   "outputs": [],
   "source": [
    "from sklearn.metrics import r2_score\n",
    "lst = []\n",
    "g=df.groupby(\"date\")\n",
    "for idx, itm in g:\n",
    "    r2=r2_score(itm[\"shares_original\"],itm[\"shares_forecast_signal\"])\n",
    "    lst.append([idx,r2])\n",
    "dff=pd.DataFrame(lst,columns=[\"date\",\"r2\"])\n",
    "dff['date'] = pd.to_datetime(dff['date'], format='%Y-%m.%d')"
   ]
  },
  {
   "cell_type": "code",
   "execution_count": null,
   "metadata": {},
   "outputs": [],
   "source": [
    "dff=dff.set_index(\"date\")\n",
    "df['shares_r2']=dff.loc[df.date,:].values"
   ]
  },
  {
   "cell_type": "markdown",
   "metadata": {},
   "source": [
    "### save the data into"
   ]
  },
  {
   "cell_type": "code",
   "execution_count": null,
   "metadata": {},
   "outputs": [],
   "source": [
    "mkdir /homes/80/kang/cmem/output/0400_r_kl_output_raw_data_fractional_rollback2shares/"
   ]
  },
  {
   "cell_type": "code",
   "execution_count": null,
   "metadata": {},
   "outputs": [],
   "source": [
    "mkdir /homes/80/kang/cmem/output/06_r_output_raw_csv_fractional_shares"
   ]
  },
  {
   "cell_type": "code",
   "execution_count": null,
   "metadata": {},
   "outputs": [],
   "source": [
    "df.to_csv(\"\")"
   ]
  },
  {
   "cell_type": "markdown",
   "metadata": {},
   "source": [
    "# double check the r2 of the forecasted results 20th Nov\n"
   ]
  },
  {
   "cell_type": "code",
   "execution_count": null,
   "metadata": {},
   "outputs": [],
   "source": [
    "dir0 = \"/homes/80/kang/cmem/output/0600_r_output_with_features_csv_fractional_shares_clipped/\"\n",
    "\n",
    "\n",
    "not enough only 100 files"
   ]
  },
  {
   "cell_type": "code",
   "execution_count": 1,
   "metadata": {},
   "outputs": [
    {
     "name": "stdout",
     "output_type": "stream",
     "text": [
      "0\n",
      "1\n",
      "2\n",
      "3\n",
      "4\n",
      "5\n",
      "6\n",
      "7\n",
      "8\n",
      "9\n",
      "10\n",
      "11\n",
      "12\n",
      "13\n",
      "14\n",
      "15\n",
      "16\n",
      "17\n",
      "18\n",
      "19\n",
      "20\n",
      "21\n",
      "22\n",
      "23\n",
      "24\n",
      "25\n",
      "26\n",
      "27\n",
      "28\n",
      "29\n",
      "30\n",
      "31\n",
      "32\n",
      "33\n",
      "34\n",
      "35\n",
      "36\n",
      "37\n",
      "38\n",
      "39\n",
      "40\n",
      "41\n",
      "42\n",
      "43\n",
      "44\n",
      "45\n",
      "46\n",
      "47\n",
      "48\n",
      "49\n",
      "50\n",
      "51\n",
      "52\n",
      "53\n",
      "54\n",
      "55\n",
      "56\n",
      "57\n",
      "58\n",
      "59\n",
      "60\n",
      "61\n",
      "62\n",
      "63\n",
      "64\n",
      "65\n",
      "66\n",
      "67\n",
      "68\n",
      "69\n",
      "70\n",
      "71\n",
      "72\n",
      "73\n",
      "74\n",
      "75\n",
      "76\n",
      "77\n",
      "78\n",
      "79\n",
      "80\n",
      "81\n",
      "82\n",
      "83\n",
      "84\n",
      "85\n",
      "86\n",
      "87\n",
      "88\n",
      "89\n",
      "90\n",
      "91\n",
      "92\n",
      "93\n",
      "94\n",
      "95\n",
      "96\n",
      "97\n",
      "98\n",
      "99\n"
     ]
    }
   ],
   "source": [
    "from os import listdir\n",
    "from os.path import isfile, join\n",
    "dir0 = \"/homes/80/kang/cmem/output/0600_r_output_with_features_csv_fractional_shares_clipped/\"\n",
    "onlyFiles = sorted([f for f in listdir(dir0) if isfile(join(dir0, f))])\n",
    "dfflst = []\n",
    "import pandas as pd\n",
    "for i in range(len(onlyFiles)):\n",
    "    print(i)\n",
    "    name = onlyFiles[i]\n",
    "    import pandas as pd\n",
    "    # name =\"CMS.csv\"\n",
    "\n",
    "    dir = dir0+name\n",
    "    df = pd.read_csv(dir)\n",
    "    df[\"date\"]=df.date.apply(lambda x: x[-5:])\n",
    "    from sklearn.metrics import r2_score\n",
    "    lst = []\n",
    "    g=df.groupby(\"date\")\n",
    "    for idx, itm in g:\n",
    "        r2=r2_score(itm[\"turnover\"],itm[\"x\"])\n",
    "        lst.append([idx,name[:-4],r2])\n",
    "    dff=pd.DataFrame(lst,columns=[\"date\",\"symbol\",\"r2\"])\n",
    "    dfflst.append(dff)\n",
    "\n",
    "# f=pd.concat(dfflst)\n",
    "# h=f.pivot(index=\"date\",columns=\"symbol\",values=\"r2\")\n",
    "# l=h.copy()\n",
    "# l['symbol_mean']=l.mean(axis=1)\n",
    "# l.loc['date_mean']=l.mean(axis=0)\n",
    "# l.to_csv(\"/homes/80/kang/cmem/0400_r_kl_output_minmax_r2.csv\")\n",
    "# h.mean(axis=1).mean()"
   ]
  },
  {
   "cell_type": "code",
   "execution_count": 2,
   "metadata": {},
   "outputs": [
    {
     "data": {
      "text/plain": [
       "0.021412301419859055"
      ]
     },
     "execution_count": 2,
     "metadata": {},
     "output_type": "execute_result"
    }
   ],
   "source": [
    "f=pd.concat(dfflst)\n",
    "h=f.pivot(index=\"date\",columns=\"symbol\",values=\"r2\")\n",
    "l=h.copy()\n",
    "l['symbol_mean']=l.mean(axis=1)\n",
    "l.loc['date_mean']=l.mean(axis=0)\n",
    "# l.to_csv(\"/homes/80/kang/cmem/0400_r_kl_output_minmax_r2.csv\")\n",
    "h.mean(axis=1).mean()"
   ]
  },
  {
   "cell_type": "code",
   "execution_count": 4,
   "metadata": {},
   "outputs": [
    {
     "data": {
      "text/html": [
       "<div>\n",
       "<style scoped>\n",
       "    .dataframe tbody tr th:only-of-type {\n",
       "        vertical-align: middle;\n",
       "    }\n",
       "\n",
       "    .dataframe tbody tr th {\n",
       "        vertical-align: top;\n",
       "    }\n",
       "\n",
       "    .dataframe thead th {\n",
       "        text-align: right;\n",
       "    }\n",
       "</style>\n",
       "<table border=\"1\" class=\"dataframe\">\n",
       "  <thead>\n",
       "    <tr style=\"text-align: right;\">\n",
       "      <th>symbol</th>\n",
       "      <th>AAL</th>\n",
       "      <th>AAP</th>\n",
       "      <th>ABBV</th>\n",
       "      <th>ABC</th>\n",
       "      <th>ABMD</th>\n",
       "      <th>ABT</th>\n",
       "      <th>ACN</th>\n",
       "      <th>ADI</th>\n",
       "      <th>ADM</th>\n",
       "      <th>ADP</th>\n",
       "      <th>...</th>\n",
       "      <th>D</th>\n",
       "      <th>DAL</th>\n",
       "      <th>DE</th>\n",
       "      <th>DFS</th>\n",
       "      <th>DG</th>\n",
       "      <th>DGX</th>\n",
       "      <th>DHI</th>\n",
       "      <th>DHR</th>\n",
       "      <th>DIS</th>\n",
       "      <th>DLR</th>\n",
       "    </tr>\n",
       "    <tr>\n",
       "      <th>date</th>\n",
       "      <th></th>\n",
       "      <th></th>\n",
       "      <th></th>\n",
       "      <th></th>\n",
       "      <th></th>\n",
       "      <th></th>\n",
       "      <th></th>\n",
       "      <th></th>\n",
       "      <th></th>\n",
       "      <th></th>\n",
       "      <th></th>\n",
       "      <th></th>\n",
       "      <th></th>\n",
       "      <th></th>\n",
       "      <th></th>\n",
       "      <th></th>\n",
       "      <th></th>\n",
       "      <th></th>\n",
       "      <th></th>\n",
       "      <th></th>\n",
       "      <th></th>\n",
       "    </tr>\n",
       "  </thead>\n",
       "  <tbody>\n",
       "    <tr>\n",
       "      <th>07-19</th>\n",
       "      <td>0.014199</td>\n",
       "      <td>-6.801090</td>\n",
       "      <td>0.247870</td>\n",
       "      <td>-0.172964</td>\n",
       "      <td>-0.087045</td>\n",
       "      <td>0.274500</td>\n",
       "      <td>0.128596</td>\n",
       "      <td>-0.081328</td>\n",
       "      <td>0.323082</td>\n",
       "      <td>0.531606</td>\n",
       "      <td>...</td>\n",
       "      <td>0.169562</td>\n",
       "      <td>0.229746</td>\n",
       "      <td>-0.097720</td>\n",
       "      <td>-0.288739</td>\n",
       "      <td>-1.187175</td>\n",
       "      <td>0.376028</td>\n",
       "      <td>-0.352205</td>\n",
       "      <td>0.465966</td>\n",
       "      <td>0.552911</td>\n",
       "      <td>0.452479</td>\n",
       "    </tr>\n",
       "    <tr>\n",
       "      <th>07-20</th>\n",
       "      <td>0.427293</td>\n",
       "      <td>0.170378</td>\n",
       "      <td>0.563051</td>\n",
       "      <td>0.228958</td>\n",
       "      <td>0.350195</td>\n",
       "      <td>-0.102148</td>\n",
       "      <td>0.530522</td>\n",
       "      <td>0.121794</td>\n",
       "      <td>-0.092148</td>\n",
       "      <td>0.613592</td>\n",
       "      <td>...</td>\n",
       "      <td>0.299303</td>\n",
       "      <td>0.560438</td>\n",
       "      <td>-0.015841</td>\n",
       "      <td>0.777054</td>\n",
       "      <td>0.754240</td>\n",
       "      <td>0.251699</td>\n",
       "      <td>-0.136688</td>\n",
       "      <td>-0.798676</td>\n",
       "      <td>0.640647</td>\n",
       "      <td>-0.117056</td>\n",
       "    </tr>\n",
       "    <tr>\n",
       "      <th>07-21</th>\n",
       "      <td>0.770575</td>\n",
       "      <td>0.039388</td>\n",
       "      <td>0.122846</td>\n",
       "      <td>-0.236189</td>\n",
       "      <td>-0.052644</td>\n",
       "      <td>0.701855</td>\n",
       "      <td>0.688684</td>\n",
       "      <td>0.581722</td>\n",
       "      <td>0.660483</td>\n",
       "      <td>0.610615</td>\n",
       "      <td>...</td>\n",
       "      <td>0.097465</td>\n",
       "      <td>0.550426</td>\n",
       "      <td>-0.287256</td>\n",
       "      <td>0.024722</td>\n",
       "      <td>0.673255</td>\n",
       "      <td>0.428962</td>\n",
       "      <td>-1.450900</td>\n",
       "      <td>0.277550</td>\n",
       "      <td>-0.495153</td>\n",
       "      <td>0.383909</td>\n",
       "    </tr>\n",
       "    <tr>\n",
       "      <th>07-24</th>\n",
       "      <td>0.053933</td>\n",
       "      <td>-1.032024</td>\n",
       "      <td>0.467327</td>\n",
       "      <td>-0.153104</td>\n",
       "      <td>-0.332997</td>\n",
       "      <td>0.114363</td>\n",
       "      <td>0.392451</td>\n",
       "      <td>0.471615</td>\n",
       "      <td>-0.366174</td>\n",
       "      <td>0.787673</td>\n",
       "      <td>...</td>\n",
       "      <td>0.558112</td>\n",
       "      <td>0.334920</td>\n",
       "      <td>-2.932759</td>\n",
       "      <td>0.802541</td>\n",
       "      <td>0.372111</td>\n",
       "      <td>0.199473</td>\n",
       "      <td>-27.079026</td>\n",
       "      <td>0.464662</td>\n",
       "      <td>0.623865</td>\n",
       "      <td>-0.489364</td>\n",
       "    </tr>\n",
       "    <tr>\n",
       "      <th>07-25</th>\n",
       "      <td>0.459733</td>\n",
       "      <td>0.432147</td>\n",
       "      <td>-0.092111</td>\n",
       "      <td>-0.527114</td>\n",
       "      <td>-0.125909</td>\n",
       "      <td>0.185407</td>\n",
       "      <td>-0.721255</td>\n",
       "      <td>-0.643472</td>\n",
       "      <td>0.653189</td>\n",
       "      <td>0.791541</td>\n",
       "      <td>...</td>\n",
       "      <td>0.180553</td>\n",
       "      <td>0.262327</td>\n",
       "      <td>0.680147</td>\n",
       "      <td>0.080733</td>\n",
       "      <td>-0.011913</td>\n",
       "      <td>-0.729295</td>\n",
       "      <td>0.353351</td>\n",
       "      <td>0.543225</td>\n",
       "      <td>0.344928</td>\n",
       "      <td>0.625301</td>\n",
       "    </tr>\n",
       "    <tr>\n",
       "      <th>...</th>\n",
       "      <td>...</td>\n",
       "      <td>...</td>\n",
       "      <td>...</td>\n",
       "      <td>...</td>\n",
       "      <td>...</td>\n",
       "      <td>...</td>\n",
       "      <td>...</td>\n",
       "      <td>...</td>\n",
       "      <td>...</td>\n",
       "      <td>...</td>\n",
       "      <td>...</td>\n",
       "      <td>...</td>\n",
       "      <td>...</td>\n",
       "      <td>...</td>\n",
       "      <td>...</td>\n",
       "      <td>...</td>\n",
       "      <td>...</td>\n",
       "      <td>...</td>\n",
       "      <td>...</td>\n",
       "      <td>...</td>\n",
       "      <td>...</td>\n",
       "    </tr>\n",
       "    <tr>\n",
       "      <th>12-20</th>\n",
       "      <td>0.196805</td>\n",
       "      <td>0.479094</td>\n",
       "      <td>-0.128386</td>\n",
       "      <td>0.529607</td>\n",
       "      <td>-0.550674</td>\n",
       "      <td>-0.111540</td>\n",
       "      <td>0.519626</td>\n",
       "      <td>0.725653</td>\n",
       "      <td>0.714257</td>\n",
       "      <td>0.377012</td>\n",
       "      <td>...</td>\n",
       "      <td>0.404034</td>\n",
       "      <td>0.114384</td>\n",
       "      <td>0.105237</td>\n",
       "      <td>0.052584</td>\n",
       "      <td>0.558842</td>\n",
       "      <td>-0.333177</td>\n",
       "      <td>0.565190</td>\n",
       "      <td>0.096304</td>\n",
       "      <td>0.874684</td>\n",
       "      <td>0.144849</td>\n",
       "    </tr>\n",
       "    <tr>\n",
       "      <th>12-21</th>\n",
       "      <td>0.002147</td>\n",
       "      <td>0.285070</td>\n",
       "      <td>-0.655038</td>\n",
       "      <td>0.370831</td>\n",
       "      <td>-0.179757</td>\n",
       "      <td>0.677937</td>\n",
       "      <td>-0.182507</td>\n",
       "      <td>0.811627</td>\n",
       "      <td>-0.531877</td>\n",
       "      <td>0.815868</td>\n",
       "      <td>...</td>\n",
       "      <td>0.821578</td>\n",
       "      <td>0.494726</td>\n",
       "      <td>0.516247</td>\n",
       "      <td>0.636643</td>\n",
       "      <td>-1.599987</td>\n",
       "      <td>0.124709</td>\n",
       "      <td>0.387940</td>\n",
       "      <td>0.287358</td>\n",
       "      <td>0.565492</td>\n",
       "      <td>-0.000163</td>\n",
       "    </tr>\n",
       "    <tr>\n",
       "      <th>12-22</th>\n",
       "      <td>0.361138</td>\n",
       "      <td>-0.465752</td>\n",
       "      <td>0.077886</td>\n",
       "      <td>-0.102785</td>\n",
       "      <td>0.321526</td>\n",
       "      <td>-0.038006</td>\n",
       "      <td>0.630334</td>\n",
       "      <td>-0.024963</td>\n",
       "      <td>-0.568540</td>\n",
       "      <td>0.426744</td>\n",
       "      <td>...</td>\n",
       "      <td>0.523135</td>\n",
       "      <td>0.221657</td>\n",
       "      <td>-0.013331</td>\n",
       "      <td>0.255218</td>\n",
       "      <td>0.023987</td>\n",
       "      <td>-0.767564</td>\n",
       "      <td>-0.060064</td>\n",
       "      <td>-0.255316</td>\n",
       "      <td>0.527530</td>\n",
       "      <td>-0.299406</td>\n",
       "    </tr>\n",
       "    <tr>\n",
       "      <th>12-26</th>\n",
       "      <td>0.506329</td>\n",
       "      <td>-0.582957</td>\n",
       "      <td>0.292825</td>\n",
       "      <td>-0.275390</td>\n",
       "      <td>-1.121638</td>\n",
       "      <td>0.581239</td>\n",
       "      <td>-0.652537</td>\n",
       "      <td>0.803545</td>\n",
       "      <td>-0.735976</td>\n",
       "      <td>0.142009</td>\n",
       "      <td>...</td>\n",
       "      <td>0.526656</td>\n",
       "      <td>-0.872472</td>\n",
       "      <td>0.152311</td>\n",
       "      <td>-2.287360</td>\n",
       "      <td>-0.884813</td>\n",
       "      <td>0.300385</td>\n",
       "      <td>-1.021438</td>\n",
       "      <td>-1.128864</td>\n",
       "      <td>0.164559</td>\n",
       "      <td>-1.435019</td>\n",
       "    </tr>\n",
       "    <tr>\n",
       "      <th>12-27</th>\n",
       "      <td>0.818637</td>\n",
       "      <td>-2.149123</td>\n",
       "      <td>-5.820882</td>\n",
       "      <td>-0.550651</td>\n",
       "      <td>0.419704</td>\n",
       "      <td>-0.553151</td>\n",
       "      <td>-0.081724</td>\n",
       "      <td>0.841451</td>\n",
       "      <td>-0.932674</td>\n",
       "      <td>-1.778030</td>\n",
       "      <td>...</td>\n",
       "      <td>-0.044496</td>\n",
       "      <td>0.123475</td>\n",
       "      <td>0.134955</td>\n",
       "      <td>0.555177</td>\n",
       "      <td>0.507438</td>\n",
       "      <td>0.054572</td>\n",
       "      <td>-1.276077</td>\n",
       "      <td>-0.272288</td>\n",
       "      <td>0.123477</td>\n",
       "      <td>0.048856</td>\n",
       "    </tr>\n",
       "  </tbody>\n",
       "</table>\n",
       "<p>110 rows × 100 columns</p>\n",
       "</div>"
      ],
      "text/plain": [
       "symbol       AAL       AAP      ABBV       ABC      ABMD       ABT       ACN  \\\n",
       "date                                                                           \n",
       "07-19   0.014199 -6.801090  0.247870 -0.172964 -0.087045  0.274500  0.128596   \n",
       "07-20   0.427293  0.170378  0.563051  0.228958  0.350195 -0.102148  0.530522   \n",
       "07-21   0.770575  0.039388  0.122846 -0.236189 -0.052644  0.701855  0.688684   \n",
       "07-24   0.053933 -1.032024  0.467327 -0.153104 -0.332997  0.114363  0.392451   \n",
       "07-25   0.459733  0.432147 -0.092111 -0.527114 -0.125909  0.185407 -0.721255   \n",
       "...          ...       ...       ...       ...       ...       ...       ...   \n",
       "12-20   0.196805  0.479094 -0.128386  0.529607 -0.550674 -0.111540  0.519626   \n",
       "12-21   0.002147  0.285070 -0.655038  0.370831 -0.179757  0.677937 -0.182507   \n",
       "12-22   0.361138 -0.465752  0.077886 -0.102785  0.321526 -0.038006  0.630334   \n",
       "12-26   0.506329 -0.582957  0.292825 -0.275390 -1.121638  0.581239 -0.652537   \n",
       "12-27   0.818637 -2.149123 -5.820882 -0.550651  0.419704 -0.553151 -0.081724   \n",
       "\n",
       "symbol       ADI       ADM       ADP  ...         D       DAL        DE  \\\n",
       "date                                  ...                                 \n",
       "07-19  -0.081328  0.323082  0.531606  ...  0.169562  0.229746 -0.097720   \n",
       "07-20   0.121794 -0.092148  0.613592  ...  0.299303  0.560438 -0.015841   \n",
       "07-21   0.581722  0.660483  0.610615  ...  0.097465  0.550426 -0.287256   \n",
       "07-24   0.471615 -0.366174  0.787673  ...  0.558112  0.334920 -2.932759   \n",
       "07-25  -0.643472  0.653189  0.791541  ...  0.180553  0.262327  0.680147   \n",
       "...          ...       ...       ...  ...       ...       ...       ...   \n",
       "12-20   0.725653  0.714257  0.377012  ...  0.404034  0.114384  0.105237   \n",
       "12-21   0.811627 -0.531877  0.815868  ...  0.821578  0.494726  0.516247   \n",
       "12-22  -0.024963 -0.568540  0.426744  ...  0.523135  0.221657 -0.013331   \n",
       "12-26   0.803545 -0.735976  0.142009  ...  0.526656 -0.872472  0.152311   \n",
       "12-27   0.841451 -0.932674 -1.778030  ... -0.044496  0.123475  0.134955   \n",
       "\n",
       "symbol       DFS        DG       DGX        DHI       DHR       DIS       DLR  \n",
       "date                                                                           \n",
       "07-19  -0.288739 -1.187175  0.376028  -0.352205  0.465966  0.552911  0.452479  \n",
       "07-20   0.777054  0.754240  0.251699  -0.136688 -0.798676  0.640647 -0.117056  \n",
       "07-21   0.024722  0.673255  0.428962  -1.450900  0.277550 -0.495153  0.383909  \n",
       "07-24   0.802541  0.372111  0.199473 -27.079026  0.464662  0.623865 -0.489364  \n",
       "07-25   0.080733 -0.011913 -0.729295   0.353351  0.543225  0.344928  0.625301  \n",
       "...          ...       ...       ...        ...       ...       ...       ...  \n",
       "12-20   0.052584  0.558842 -0.333177   0.565190  0.096304  0.874684  0.144849  \n",
       "12-21   0.636643 -1.599987  0.124709   0.387940  0.287358  0.565492 -0.000163  \n",
       "12-22   0.255218  0.023987 -0.767564  -0.060064 -0.255316  0.527530 -0.299406  \n",
       "12-26  -2.287360 -0.884813  0.300385  -1.021438 -1.128864  0.164559 -1.435019  \n",
       "12-27   0.555177  0.507438  0.054572  -1.276077 -0.272288  0.123477  0.048856  \n",
       "\n",
       "[110 rows x 100 columns]"
      ]
     },
     "execution_count": 4,
     "metadata": {},
     "output_type": "execute_result"
    }
   ],
   "source": [
    "h"
   ]
  },
  {
   "cell_type": "markdown",
   "metadata": {},
   "source": [
    "# save AAP x and turnover from the  \n",
    "\"/homes/80/kang/cmem/output/0600_r_output_with_features_csv_fractional_shares_clipped/\""
   ]
  },
  {
   "cell_type": "code",
   "execution_count": 5,
   "metadata": {},
   "outputs": [],
   "source": [
    "!mkdir /homes/80/kang/cmem/output/0900_r_output_with_features_csv_fractional_shares_clipped_vwap/"
   ]
  },
  {
   "cell_type": "code",
   "execution_count": 2,
   "metadata": {},
   "outputs": [
    {
     "data": {
      "text/plain": [
       "100"
      ]
     },
     "execution_count": 2,
     "metadata": {},
     "output_type": "execute_result"
    }
   ],
   "source": [
    "from os import listdir\n",
    "from os.path import isfile, join\n",
    "dir0 = \"/homes/80/kang/cmem/output/0600_r_output_with_features_csv_fractional_shares_clipped/\"\n",
    "onlyFiles = sorted([f for f in listdir(dir0) if isfile(join(dir0, f))])\n",
    "len(onlyFiles)"
   ]
  },
  {
   "cell_type": "code",
   "execution_count": 53,
   "metadata": {},
   "outputs": [
    {
     "name": "stdout",
     "output_type": "stream",
     "text": [
      "1\n"
     ]
    },
    {
     "name": "stderr",
     "output_type": "stream",
     "text": [
      "/tmp/ipykernel_217895/4044677971.py:16: SettingWithCopyWarning: \n",
      "A value is trying to be set on a copy of a slice from a DataFrame.\n",
      "Try using .loc[row_indexer,col_indexer] = value instead\n",
      "\n",
      "See the caveats in the documentation: https://pandas.pydata.org/pandas-docs/stable/user_guide/indexing.html#returning-a-view-versus-a-copy\n",
      "  d.x= d.x.shift(1)\n"
     ]
    }
   ],
   "source": [
    "from os import listdir\n",
    "from os.path import isfile, join\n",
    "dir0 = \"/homes/80/kang/cmem/output/0600_r_output_with_features_csv_fractional_shares_clipped/\"\n",
    "onlyFiles = sorted([f for f in listdir(dir0) if isfile(join(dir0, f))])\n",
    "import pandas as pd\n",
    "# for i in range(len(onlyFiles)):\n",
    "i=1\n",
    "print(i)\n",
    "name = onlyFiles[i]\n",
    "import pandas as pd\n",
    "# name =\"CMS.csv\"\n",
    "\n",
    "dir = dir0+name\n",
    "df = pd.read_csv(dir)\n",
    "d=df[[\"date\",'x','qty']]\n",
    "d.x= d.x.shift(1)\n",
    "d = d.fillna(method = \"bfill\")\n",
    "d = d.iloc[26:,:].reset_index(drop=True)\n",
    "dir1 = \"/homes/80/kang/cmem/output/0900_r_output_with_features_csv_fractional_shares_clipped_vwap/\"\n",
    "d.to_csv(dir1+name)"
   ]
  },
  {
   "cell_type": "code",
   "execution_count": 1,
   "metadata": {},
   "outputs": [
    {
     "name": "stdout",
     "output_type": "stream",
     "text": [
      "0\n"
     ]
    },
    {
     "name": "stderr",
     "output_type": "stream",
     "text": [
      "/tmp/ipykernel_4019564/1696335384.py:15: SettingWithCopyWarning: \n",
      "A value is trying to be set on a copy of a slice from a DataFrame.\n",
      "Try using .loc[row_indexer,col_indexer] = value instead\n",
      "\n",
      "See the caveats in the documentation: https://pandas.pydata.org/pandas-docs/stable/user_guide/indexing.html#returning-a-view-versus-a-copy\n",
      "  d.x= d.x.shift(1)\n",
      "/tmp/ipykernel_4019564/1696335384.py:15: SettingWithCopyWarning: \n",
      "A value is trying to be set on a copy of a slice from a DataFrame.\n",
      "Try using .loc[row_indexer,col_indexer] = value instead\n",
      "\n",
      "See the caveats in the documentation: https://pandas.pydata.org/pandas-docs/stable/user_guide/indexing.html#returning-a-view-versus-a-copy\n",
      "  d.x= d.x.shift(1)\n"
     ]
    },
    {
     "name": "stdout",
     "output_type": "stream",
     "text": [
      "1\n",
      "2\n",
      "3\n"
     ]
    },
    {
     "name": "stderr",
     "output_type": "stream",
     "text": [
      "/tmp/ipykernel_4019564/1696335384.py:15: SettingWithCopyWarning: \n",
      "A value is trying to be set on a copy of a slice from a DataFrame.\n",
      "Try using .loc[row_indexer,col_indexer] = value instead\n",
      "\n",
      "See the caveats in the documentation: https://pandas.pydata.org/pandas-docs/stable/user_guide/indexing.html#returning-a-view-versus-a-copy\n",
      "  d.x= d.x.shift(1)\n",
      "/tmp/ipykernel_4019564/1696335384.py:15: SettingWithCopyWarning: \n",
      "A value is trying to be set on a copy of a slice from a DataFrame.\n",
      "Try using .loc[row_indexer,col_indexer] = value instead\n",
      "\n",
      "See the caveats in the documentation: https://pandas.pydata.org/pandas-docs/stable/user_guide/indexing.html#returning-a-view-versus-a-copy\n",
      "  d.x= d.x.shift(1)\n",
      "/tmp/ipykernel_4019564/1696335384.py:15: SettingWithCopyWarning: \n",
      "A value is trying to be set on a copy of a slice from a DataFrame.\n",
      "Try using .loc[row_indexer,col_indexer] = value instead\n",
      "\n",
      "See the caveats in the documentation: https://pandas.pydata.org/pandas-docs/stable/user_guide/indexing.html#returning-a-view-versus-a-copy\n",
      "  d.x= d.x.shift(1)\n"
     ]
    },
    {
     "name": "stdout",
     "output_type": "stream",
     "text": [
      "4\n",
      "5\n",
      "6\n"
     ]
    },
    {
     "name": "stderr",
     "output_type": "stream",
     "text": [
      "/tmp/ipykernel_4019564/1696335384.py:15: SettingWithCopyWarning: \n",
      "A value is trying to be set on a copy of a slice from a DataFrame.\n",
      "Try using .loc[row_indexer,col_indexer] = value instead\n",
      "\n",
      "See the caveats in the documentation: https://pandas.pydata.org/pandas-docs/stable/user_guide/indexing.html#returning-a-view-versus-a-copy\n",
      "  d.x= d.x.shift(1)\n",
      "/tmp/ipykernel_4019564/1696335384.py:15: SettingWithCopyWarning: \n",
      "A value is trying to be set on a copy of a slice from a DataFrame.\n",
      "Try using .loc[row_indexer,col_indexer] = value instead\n",
      "\n",
      "See the caveats in the documentation: https://pandas.pydata.org/pandas-docs/stable/user_guide/indexing.html#returning-a-view-versus-a-copy\n",
      "  d.x= d.x.shift(1)\n",
      "/tmp/ipykernel_4019564/1696335384.py:15: SettingWithCopyWarning: \n",
      "A value is trying to be set on a copy of a slice from a DataFrame.\n",
      "Try using .loc[row_indexer,col_indexer] = value instead\n",
      "\n",
      "See the caveats in the documentation: https://pandas.pydata.org/pandas-docs/stable/user_guide/indexing.html#returning-a-view-versus-a-copy\n",
      "  d.x= d.x.shift(1)\n"
     ]
    },
    {
     "name": "stdout",
     "output_type": "stream",
     "text": [
      "7\n",
      "8\n",
      "9\n"
     ]
    },
    {
     "name": "stderr",
     "output_type": "stream",
     "text": [
      "/tmp/ipykernel_4019564/1696335384.py:15: SettingWithCopyWarning: \n",
      "A value is trying to be set on a copy of a slice from a DataFrame.\n",
      "Try using .loc[row_indexer,col_indexer] = value instead\n",
      "\n",
      "See the caveats in the documentation: https://pandas.pydata.org/pandas-docs/stable/user_guide/indexing.html#returning-a-view-versus-a-copy\n",
      "  d.x= d.x.shift(1)\n",
      "/tmp/ipykernel_4019564/1696335384.py:15: SettingWithCopyWarning: \n",
      "A value is trying to be set on a copy of a slice from a DataFrame.\n",
      "Try using .loc[row_indexer,col_indexer] = value instead\n",
      "\n",
      "See the caveats in the documentation: https://pandas.pydata.org/pandas-docs/stable/user_guide/indexing.html#returning-a-view-versus-a-copy\n",
      "  d.x= d.x.shift(1)\n",
      "/tmp/ipykernel_4019564/1696335384.py:15: SettingWithCopyWarning: \n",
      "A value is trying to be set on a copy of a slice from a DataFrame.\n",
      "Try using .loc[row_indexer,col_indexer] = value instead\n",
      "\n",
      "See the caveats in the documentation: https://pandas.pydata.org/pandas-docs/stable/user_guide/indexing.html#returning-a-view-versus-a-copy\n",
      "  d.x= d.x.shift(1)\n"
     ]
    },
    {
     "name": "stdout",
     "output_type": "stream",
     "text": [
      "10\n",
      "11\n",
      "12\n"
     ]
    },
    {
     "name": "stderr",
     "output_type": "stream",
     "text": [
      "/tmp/ipykernel_4019564/1696335384.py:15: SettingWithCopyWarning: \n",
      "A value is trying to be set on a copy of a slice from a DataFrame.\n",
      "Try using .loc[row_indexer,col_indexer] = value instead\n",
      "\n",
      "See the caveats in the documentation: https://pandas.pydata.org/pandas-docs/stable/user_guide/indexing.html#returning-a-view-versus-a-copy\n",
      "  d.x= d.x.shift(1)\n",
      "/tmp/ipykernel_4019564/1696335384.py:15: SettingWithCopyWarning: \n",
      "A value is trying to be set on a copy of a slice from a DataFrame.\n",
      "Try using .loc[row_indexer,col_indexer] = value instead\n",
      "\n",
      "See the caveats in the documentation: https://pandas.pydata.org/pandas-docs/stable/user_guide/indexing.html#returning-a-view-versus-a-copy\n",
      "  d.x= d.x.shift(1)\n"
     ]
    },
    {
     "name": "stdout",
     "output_type": "stream",
     "text": [
      "13\n",
      "14\n",
      "15\n"
     ]
    },
    {
     "name": "stderr",
     "output_type": "stream",
     "text": [
      "/tmp/ipykernel_4019564/1696335384.py:15: SettingWithCopyWarning: \n",
      "A value is trying to be set on a copy of a slice from a DataFrame.\n",
      "Try using .loc[row_indexer,col_indexer] = value instead\n",
      "\n",
      "See the caveats in the documentation: https://pandas.pydata.org/pandas-docs/stable/user_guide/indexing.html#returning-a-view-versus-a-copy\n",
      "  d.x= d.x.shift(1)\n",
      "/tmp/ipykernel_4019564/1696335384.py:15: SettingWithCopyWarning: \n",
      "A value is trying to be set on a copy of a slice from a DataFrame.\n",
      "Try using .loc[row_indexer,col_indexer] = value instead\n",
      "\n",
      "See the caveats in the documentation: https://pandas.pydata.org/pandas-docs/stable/user_guide/indexing.html#returning-a-view-versus-a-copy\n",
      "  d.x= d.x.shift(1)\n",
      "/tmp/ipykernel_4019564/1696335384.py:15: SettingWithCopyWarning: \n",
      "A value is trying to be set on a copy of a slice from a DataFrame.\n",
      "Try using .loc[row_indexer,col_indexer] = value instead\n",
      "\n",
      "See the caveats in the documentation: https://pandas.pydata.org/pandas-docs/stable/user_guide/indexing.html#returning-a-view-versus-a-copy\n",
      "  d.x= d.x.shift(1)\n"
     ]
    },
    {
     "name": "stdout",
     "output_type": "stream",
     "text": [
      "16\n",
      "17\n",
      "18\n"
     ]
    },
    {
     "name": "stderr",
     "output_type": "stream",
     "text": [
      "/tmp/ipykernel_4019564/1696335384.py:15: SettingWithCopyWarning: \n",
      "A value is trying to be set on a copy of a slice from a DataFrame.\n",
      "Try using .loc[row_indexer,col_indexer] = value instead\n",
      "\n",
      "See the caveats in the documentation: https://pandas.pydata.org/pandas-docs/stable/user_guide/indexing.html#returning-a-view-versus-a-copy\n",
      "  d.x= d.x.shift(1)\n",
      "/tmp/ipykernel_4019564/1696335384.py:15: SettingWithCopyWarning: \n",
      "A value is trying to be set on a copy of a slice from a DataFrame.\n",
      "Try using .loc[row_indexer,col_indexer] = value instead\n",
      "\n",
      "See the caveats in the documentation: https://pandas.pydata.org/pandas-docs/stable/user_guide/indexing.html#returning-a-view-versus-a-copy\n",
      "  d.x= d.x.shift(1)\n",
      "/tmp/ipykernel_4019564/1696335384.py:15: SettingWithCopyWarning: \n",
      "A value is trying to be set on a copy of a slice from a DataFrame.\n",
      "Try using .loc[row_indexer,col_indexer] = value instead\n",
      "\n",
      "See the caveats in the documentation: https://pandas.pydata.org/pandas-docs/stable/user_guide/indexing.html#returning-a-view-versus-a-copy\n",
      "  d.x= d.x.shift(1)\n",
      "/tmp/ipykernel_4019564/1696335384.py:15: SettingWithCopyWarning: \n",
      "A value is trying to be set on a copy of a slice from a DataFrame.\n",
      "Try using .loc[row_indexer,col_indexer] = value instead\n",
      "\n",
      "See the caveats in the documentation: https://pandas.pydata.org/pandas-docs/stable/user_guide/indexing.html#returning-a-view-versus-a-copy\n",
      "  d.x= d.x.shift(1)\n"
     ]
    },
    {
     "name": "stdout",
     "output_type": "stream",
     "text": [
      "19\n",
      "20\n"
     ]
    },
    {
     "name": "stderr",
     "output_type": "stream",
     "text": [
      "/tmp/ipykernel_4019564/1696335384.py:15: SettingWithCopyWarning: \n",
      "A value is trying to be set on a copy of a slice from a DataFrame.\n",
      "Try using .loc[row_indexer,col_indexer] = value instead\n",
      "\n",
      "See the caveats in the documentation: https://pandas.pydata.org/pandas-docs/stable/user_guide/indexing.html#returning-a-view-versus-a-copy\n",
      "  d.x= d.x.shift(1)\n",
      "/tmp/ipykernel_4019564/1696335384.py:15: SettingWithCopyWarning: \n",
      "A value is trying to be set on a copy of a slice from a DataFrame.\n",
      "Try using .loc[row_indexer,col_indexer] = value instead\n",
      "\n",
      "See the caveats in the documentation: https://pandas.pydata.org/pandas-docs/stable/user_guide/indexing.html#returning-a-view-versus-a-copy\n",
      "  d.x= d.x.shift(1)\n"
     ]
    },
    {
     "name": "stdout",
     "output_type": "stream",
     "text": [
      "21\n",
      "22\n"
     ]
    },
    {
     "name": "stderr",
     "output_type": "stream",
     "text": [
      "/tmp/ipykernel_4019564/1696335384.py:15: SettingWithCopyWarning: \n",
      "A value is trying to be set on a copy of a slice from a DataFrame.\n",
      "Try using .loc[row_indexer,col_indexer] = value instead\n",
      "\n",
      "See the caveats in the documentation: https://pandas.pydata.org/pandas-docs/stable/user_guide/indexing.html#returning-a-view-versus-a-copy\n",
      "  d.x= d.x.shift(1)\n",
      "/tmp/ipykernel_4019564/1696335384.py:15: SettingWithCopyWarning: \n",
      "A value is trying to be set on a copy of a slice from a DataFrame.\n",
      "Try using .loc[row_indexer,col_indexer] = value instead\n",
      "\n",
      "See the caveats in the documentation: https://pandas.pydata.org/pandas-docs/stable/user_guide/indexing.html#returning-a-view-versus-a-copy\n",
      "  d.x= d.x.shift(1)\n",
      "/tmp/ipykernel_4019564/1696335384.py:15: SettingWithCopyWarning: \n",
      "A value is trying to be set on a copy of a slice from a DataFrame.\n",
      "Try using .loc[row_indexer,col_indexer] = value instead\n",
      "\n",
      "See the caveats in the documentation: https://pandas.pydata.org/pandas-docs/stable/user_guide/indexing.html#returning-a-view-versus-a-copy\n",
      "  d.x= d.x.shift(1)\n"
     ]
    },
    {
     "name": "stdout",
     "output_type": "stream",
     "text": [
      "23\n",
      "24\n",
      "25\n"
     ]
    },
    {
     "name": "stderr",
     "output_type": "stream",
     "text": [
      "/tmp/ipykernel_4019564/1696335384.py:15: SettingWithCopyWarning: \n",
      "A value is trying to be set on a copy of a slice from a DataFrame.\n",
      "Try using .loc[row_indexer,col_indexer] = value instead\n",
      "\n",
      "See the caveats in the documentation: https://pandas.pydata.org/pandas-docs/stable/user_guide/indexing.html#returning-a-view-versus-a-copy\n",
      "  d.x= d.x.shift(1)\n",
      "/tmp/ipykernel_4019564/1696335384.py:15: SettingWithCopyWarning: \n",
      "A value is trying to be set on a copy of a slice from a DataFrame.\n",
      "Try using .loc[row_indexer,col_indexer] = value instead\n",
      "\n",
      "See the caveats in the documentation: https://pandas.pydata.org/pandas-docs/stable/user_guide/indexing.html#returning-a-view-versus-a-copy\n",
      "  d.x= d.x.shift(1)\n"
     ]
    },
    {
     "name": "stdout",
     "output_type": "stream",
     "text": [
      "26\n",
      "27\n"
     ]
    },
    {
     "name": "stderr",
     "output_type": "stream",
     "text": [
      "/tmp/ipykernel_4019564/1696335384.py:15: SettingWithCopyWarning: \n",
      "A value is trying to be set on a copy of a slice from a DataFrame.\n",
      "Try using .loc[row_indexer,col_indexer] = value instead\n",
      "\n",
      "See the caveats in the documentation: https://pandas.pydata.org/pandas-docs/stable/user_guide/indexing.html#returning-a-view-versus-a-copy\n",
      "  d.x= d.x.shift(1)\n",
      "/tmp/ipykernel_4019564/1696335384.py:15: SettingWithCopyWarning: \n",
      "A value is trying to be set on a copy of a slice from a DataFrame.\n",
      "Try using .loc[row_indexer,col_indexer] = value instead\n",
      "\n",
      "See the caveats in the documentation: https://pandas.pydata.org/pandas-docs/stable/user_guide/indexing.html#returning-a-view-versus-a-copy\n",
      "  d.x= d.x.shift(1)\n"
     ]
    },
    {
     "name": "stdout",
     "output_type": "stream",
     "text": [
      "28\n",
      "29\n"
     ]
    },
    {
     "name": "stderr",
     "output_type": "stream",
     "text": [
      "/tmp/ipykernel_4019564/1696335384.py:15: SettingWithCopyWarning: \n",
      "A value is trying to be set on a copy of a slice from a DataFrame.\n",
      "Try using .loc[row_indexer,col_indexer] = value instead\n",
      "\n",
      "See the caveats in the documentation: https://pandas.pydata.org/pandas-docs/stable/user_guide/indexing.html#returning-a-view-versus-a-copy\n",
      "  d.x= d.x.shift(1)\n",
      "/tmp/ipykernel_4019564/1696335384.py:15: SettingWithCopyWarning: \n",
      "A value is trying to be set on a copy of a slice from a DataFrame.\n",
      "Try using .loc[row_indexer,col_indexer] = value instead\n",
      "\n",
      "See the caveats in the documentation: https://pandas.pydata.org/pandas-docs/stable/user_guide/indexing.html#returning-a-view-versus-a-copy\n",
      "  d.x= d.x.shift(1)\n",
      "/tmp/ipykernel_4019564/1696335384.py:15: SettingWithCopyWarning: \n",
      "A value is trying to be set on a copy of a slice from a DataFrame.\n",
      "Try using .loc[row_indexer,col_indexer] = value instead\n",
      "\n",
      "See the caveats in the documentation: https://pandas.pydata.org/pandas-docs/stable/user_guide/indexing.html#returning-a-view-versus-a-copy\n",
      "  d.x= d.x.shift(1)\n"
     ]
    },
    {
     "name": "stdout",
     "output_type": "stream",
     "text": [
      "30\n",
      "31\n",
      "32\n"
     ]
    },
    {
     "name": "stderr",
     "output_type": "stream",
     "text": [
      "/tmp/ipykernel_4019564/1696335384.py:15: SettingWithCopyWarning: \n",
      "A value is trying to be set on a copy of a slice from a DataFrame.\n",
      "Try using .loc[row_indexer,col_indexer] = value instead\n",
      "\n",
      "See the caveats in the documentation: https://pandas.pydata.org/pandas-docs/stable/user_guide/indexing.html#returning-a-view-versus-a-copy\n",
      "  d.x= d.x.shift(1)\n",
      "/tmp/ipykernel_4019564/1696335384.py:15: SettingWithCopyWarning: \n",
      "A value is trying to be set on a copy of a slice from a DataFrame.\n",
      "Try using .loc[row_indexer,col_indexer] = value instead\n",
      "\n",
      "See the caveats in the documentation: https://pandas.pydata.org/pandas-docs/stable/user_guide/indexing.html#returning-a-view-versus-a-copy\n",
      "  d.x= d.x.shift(1)\n",
      "/tmp/ipykernel_4019564/1696335384.py:15: SettingWithCopyWarning: \n",
      "A value is trying to be set on a copy of a slice from a DataFrame.\n",
      "Try using .loc[row_indexer,col_indexer] = value instead\n",
      "\n",
      "See the caveats in the documentation: https://pandas.pydata.org/pandas-docs/stable/user_guide/indexing.html#returning-a-view-versus-a-copy\n",
      "  d.x= d.x.shift(1)\n"
     ]
    },
    {
     "name": "stdout",
     "output_type": "stream",
     "text": [
      "33\n",
      "34\n",
      "35\n"
     ]
    },
    {
     "name": "stderr",
     "output_type": "stream",
     "text": [
      "/tmp/ipykernel_4019564/1696335384.py:15: SettingWithCopyWarning: \n",
      "A value is trying to be set on a copy of a slice from a DataFrame.\n",
      "Try using .loc[row_indexer,col_indexer] = value instead\n",
      "\n",
      "See the caveats in the documentation: https://pandas.pydata.org/pandas-docs/stable/user_guide/indexing.html#returning-a-view-versus-a-copy\n",
      "  d.x= d.x.shift(1)\n",
      "/tmp/ipykernel_4019564/1696335384.py:15: SettingWithCopyWarning: \n",
      "A value is trying to be set on a copy of a slice from a DataFrame.\n",
      "Try using .loc[row_indexer,col_indexer] = value instead\n",
      "\n",
      "See the caveats in the documentation: https://pandas.pydata.org/pandas-docs/stable/user_guide/indexing.html#returning-a-view-versus-a-copy\n",
      "  d.x= d.x.shift(1)\n",
      "/tmp/ipykernel_4019564/1696335384.py:15: SettingWithCopyWarning: \n",
      "A value is trying to be set on a copy of a slice from a DataFrame.\n",
      "Try using .loc[row_indexer,col_indexer] = value instead\n",
      "\n",
      "See the caveats in the documentation: https://pandas.pydata.org/pandas-docs/stable/user_guide/indexing.html#returning-a-view-versus-a-copy\n",
      "  d.x= d.x.shift(1)\n"
     ]
    },
    {
     "name": "stdout",
     "output_type": "stream",
     "text": [
      "36\n",
      "37\n",
      "38\n"
     ]
    },
    {
     "name": "stderr",
     "output_type": "stream",
     "text": [
      "/tmp/ipykernel_4019564/1696335384.py:15: SettingWithCopyWarning: \n",
      "A value is trying to be set on a copy of a slice from a DataFrame.\n",
      "Try using .loc[row_indexer,col_indexer] = value instead\n",
      "\n",
      "See the caveats in the documentation: https://pandas.pydata.org/pandas-docs/stable/user_guide/indexing.html#returning-a-view-versus-a-copy\n",
      "  d.x= d.x.shift(1)\n",
      "/tmp/ipykernel_4019564/1696335384.py:15: SettingWithCopyWarning: \n",
      "A value is trying to be set on a copy of a slice from a DataFrame.\n",
      "Try using .loc[row_indexer,col_indexer] = value instead\n",
      "\n",
      "See the caveats in the documentation: https://pandas.pydata.org/pandas-docs/stable/user_guide/indexing.html#returning-a-view-versus-a-copy\n",
      "  d.x= d.x.shift(1)\n",
      "/tmp/ipykernel_4019564/1696335384.py:15: SettingWithCopyWarning: \n",
      "A value is trying to be set on a copy of a slice from a DataFrame.\n",
      "Try using .loc[row_indexer,col_indexer] = value instead\n",
      "\n",
      "See the caveats in the documentation: https://pandas.pydata.org/pandas-docs/stable/user_guide/indexing.html#returning-a-view-versus-a-copy\n",
      "  d.x= d.x.shift(1)\n"
     ]
    },
    {
     "name": "stdout",
     "output_type": "stream",
     "text": [
      "39\n",
      "40\n",
      "41\n"
     ]
    },
    {
     "name": "stderr",
     "output_type": "stream",
     "text": [
      "/tmp/ipykernel_4019564/1696335384.py:15: SettingWithCopyWarning: \n",
      "A value is trying to be set on a copy of a slice from a DataFrame.\n",
      "Try using .loc[row_indexer,col_indexer] = value instead\n",
      "\n",
      "See the caveats in the documentation: https://pandas.pydata.org/pandas-docs/stable/user_guide/indexing.html#returning-a-view-versus-a-copy\n",
      "  d.x= d.x.shift(1)\n",
      "/tmp/ipykernel_4019564/1696335384.py:15: SettingWithCopyWarning: \n",
      "A value is trying to be set on a copy of a slice from a DataFrame.\n",
      "Try using .loc[row_indexer,col_indexer] = value instead\n",
      "\n",
      "See the caveats in the documentation: https://pandas.pydata.org/pandas-docs/stable/user_guide/indexing.html#returning-a-view-versus-a-copy\n",
      "  d.x= d.x.shift(1)\n",
      "/tmp/ipykernel_4019564/1696335384.py:15: SettingWithCopyWarning: \n",
      "A value is trying to be set on a copy of a slice from a DataFrame.\n",
      "Try using .loc[row_indexer,col_indexer] = value instead\n",
      "\n",
      "See the caveats in the documentation: https://pandas.pydata.org/pandas-docs/stable/user_guide/indexing.html#returning-a-view-versus-a-copy\n",
      "  d.x= d.x.shift(1)\n"
     ]
    },
    {
     "name": "stdout",
     "output_type": "stream",
     "text": [
      "42\n",
      "43\n",
      "44\n"
     ]
    },
    {
     "name": "stderr",
     "output_type": "stream",
     "text": [
      "/tmp/ipykernel_4019564/1696335384.py:15: SettingWithCopyWarning: \n",
      "A value is trying to be set on a copy of a slice from a DataFrame.\n",
      "Try using .loc[row_indexer,col_indexer] = value instead\n",
      "\n",
      "See the caveats in the documentation: https://pandas.pydata.org/pandas-docs/stable/user_guide/indexing.html#returning-a-view-versus-a-copy\n",
      "  d.x= d.x.shift(1)\n",
      "/tmp/ipykernel_4019564/1696335384.py:15: SettingWithCopyWarning: \n",
      "A value is trying to be set on a copy of a slice from a DataFrame.\n",
      "Try using .loc[row_indexer,col_indexer] = value instead\n",
      "\n",
      "See the caveats in the documentation: https://pandas.pydata.org/pandas-docs/stable/user_guide/indexing.html#returning-a-view-versus-a-copy\n",
      "  d.x= d.x.shift(1)\n",
      "/tmp/ipykernel_4019564/1696335384.py:15: SettingWithCopyWarning: \n",
      "A value is trying to be set on a copy of a slice from a DataFrame.\n",
      "Try using .loc[row_indexer,col_indexer] = value instead\n",
      "\n",
      "See the caveats in the documentation: https://pandas.pydata.org/pandas-docs/stable/user_guide/indexing.html#returning-a-view-versus-a-copy\n",
      "  d.x= d.x.shift(1)\n"
     ]
    },
    {
     "name": "stdout",
     "output_type": "stream",
     "text": [
      "45\n",
      "46\n",
      "47\n"
     ]
    },
    {
     "name": "stderr",
     "output_type": "stream",
     "text": [
      "/tmp/ipykernel_4019564/1696335384.py:15: SettingWithCopyWarning: \n",
      "A value is trying to be set on a copy of a slice from a DataFrame.\n",
      "Try using .loc[row_indexer,col_indexer] = value instead\n",
      "\n",
      "See the caveats in the documentation: https://pandas.pydata.org/pandas-docs/stable/user_guide/indexing.html#returning-a-view-versus-a-copy\n",
      "  d.x= d.x.shift(1)\n",
      "/tmp/ipykernel_4019564/1696335384.py:15: SettingWithCopyWarning: \n",
      "A value is trying to be set on a copy of a slice from a DataFrame.\n",
      "Try using .loc[row_indexer,col_indexer] = value instead\n",
      "\n",
      "See the caveats in the documentation: https://pandas.pydata.org/pandas-docs/stable/user_guide/indexing.html#returning-a-view-versus-a-copy\n",
      "  d.x= d.x.shift(1)\n",
      "/tmp/ipykernel_4019564/1696335384.py:15: SettingWithCopyWarning: \n",
      "A value is trying to be set on a copy of a slice from a DataFrame.\n",
      "Try using .loc[row_indexer,col_indexer] = value instead\n",
      "\n",
      "See the caveats in the documentation: https://pandas.pydata.org/pandas-docs/stable/user_guide/indexing.html#returning-a-view-versus-a-copy\n",
      "  d.x= d.x.shift(1)\n"
     ]
    },
    {
     "name": "stdout",
     "output_type": "stream",
     "text": [
      "48\n",
      "49\n",
      "50\n"
     ]
    },
    {
     "name": "stderr",
     "output_type": "stream",
     "text": [
      "/tmp/ipykernel_4019564/1696335384.py:15: SettingWithCopyWarning: \n",
      "A value is trying to be set on a copy of a slice from a DataFrame.\n",
      "Try using .loc[row_indexer,col_indexer] = value instead\n",
      "\n",
      "See the caveats in the documentation: https://pandas.pydata.org/pandas-docs/stable/user_guide/indexing.html#returning-a-view-versus-a-copy\n",
      "  d.x= d.x.shift(1)\n",
      "/tmp/ipykernel_4019564/1696335384.py:15: SettingWithCopyWarning: \n",
      "A value is trying to be set on a copy of a slice from a DataFrame.\n",
      "Try using .loc[row_indexer,col_indexer] = value instead\n",
      "\n",
      "See the caveats in the documentation: https://pandas.pydata.org/pandas-docs/stable/user_guide/indexing.html#returning-a-view-versus-a-copy\n",
      "  d.x= d.x.shift(1)\n"
     ]
    },
    {
     "name": "stdout",
     "output_type": "stream",
     "text": [
      "51\n",
      "52\n"
     ]
    },
    {
     "name": "stderr",
     "output_type": "stream",
     "text": [
      "/tmp/ipykernel_4019564/1696335384.py:15: SettingWithCopyWarning: \n",
      "A value is trying to be set on a copy of a slice from a DataFrame.\n",
      "Try using .loc[row_indexer,col_indexer] = value instead\n",
      "\n",
      "See the caveats in the documentation: https://pandas.pydata.org/pandas-docs/stable/user_guide/indexing.html#returning-a-view-versus-a-copy\n",
      "  d.x= d.x.shift(1)\n",
      "/tmp/ipykernel_4019564/1696335384.py:15: SettingWithCopyWarning: \n",
      "A value is trying to be set on a copy of a slice from a DataFrame.\n",
      "Try using .loc[row_indexer,col_indexer] = value instead\n",
      "\n",
      "See the caveats in the documentation: https://pandas.pydata.org/pandas-docs/stable/user_guide/indexing.html#returning-a-view-versus-a-copy\n",
      "  d.x= d.x.shift(1)\n"
     ]
    },
    {
     "name": "stdout",
     "output_type": "stream",
     "text": [
      "53\n",
      "54\n"
     ]
    },
    {
     "name": "stderr",
     "output_type": "stream",
     "text": [
      "/tmp/ipykernel_4019564/1696335384.py:15: SettingWithCopyWarning: \n",
      "A value is trying to be set on a copy of a slice from a DataFrame.\n",
      "Try using .loc[row_indexer,col_indexer] = value instead\n",
      "\n",
      "See the caveats in the documentation: https://pandas.pydata.org/pandas-docs/stable/user_guide/indexing.html#returning-a-view-versus-a-copy\n",
      "  d.x= d.x.shift(1)\n",
      "/tmp/ipykernel_4019564/1696335384.py:15: SettingWithCopyWarning: \n",
      "A value is trying to be set on a copy of a slice from a DataFrame.\n",
      "Try using .loc[row_indexer,col_indexer] = value instead\n",
      "\n",
      "See the caveats in the documentation: https://pandas.pydata.org/pandas-docs/stable/user_guide/indexing.html#returning-a-view-versus-a-copy\n",
      "  d.x= d.x.shift(1)\n",
      "/tmp/ipykernel_4019564/1696335384.py:15: SettingWithCopyWarning: \n",
      "A value is trying to be set on a copy of a slice from a DataFrame.\n",
      "Try using .loc[row_indexer,col_indexer] = value instead\n",
      "\n",
      "See the caveats in the documentation: https://pandas.pydata.org/pandas-docs/stable/user_guide/indexing.html#returning-a-view-versus-a-copy\n",
      "  d.x= d.x.shift(1)\n"
     ]
    },
    {
     "name": "stdout",
     "output_type": "stream",
     "text": [
      "55\n",
      "56\n",
      "57\n"
     ]
    },
    {
     "name": "stderr",
     "output_type": "stream",
     "text": [
      "/tmp/ipykernel_4019564/1696335384.py:15: SettingWithCopyWarning: \n",
      "A value is trying to be set on a copy of a slice from a DataFrame.\n",
      "Try using .loc[row_indexer,col_indexer] = value instead\n",
      "\n",
      "See the caveats in the documentation: https://pandas.pydata.org/pandas-docs/stable/user_guide/indexing.html#returning-a-view-versus-a-copy\n",
      "  d.x= d.x.shift(1)\n",
      "/tmp/ipykernel_4019564/1696335384.py:15: SettingWithCopyWarning: \n",
      "A value is trying to be set on a copy of a slice from a DataFrame.\n",
      "Try using .loc[row_indexer,col_indexer] = value instead\n",
      "\n",
      "See the caveats in the documentation: https://pandas.pydata.org/pandas-docs/stable/user_guide/indexing.html#returning-a-view-versus-a-copy\n",
      "  d.x= d.x.shift(1)\n",
      "/tmp/ipykernel_4019564/1696335384.py:15: SettingWithCopyWarning: \n",
      "A value is trying to be set on a copy of a slice from a DataFrame.\n",
      "Try using .loc[row_indexer,col_indexer] = value instead\n",
      "\n",
      "See the caveats in the documentation: https://pandas.pydata.org/pandas-docs/stable/user_guide/indexing.html#returning-a-view-versus-a-copy\n",
      "  d.x= d.x.shift(1)\n"
     ]
    },
    {
     "name": "stdout",
     "output_type": "stream",
     "text": [
      "58\n",
      "59\n",
      "60\n"
     ]
    },
    {
     "name": "stderr",
     "output_type": "stream",
     "text": [
      "/tmp/ipykernel_4019564/1696335384.py:15: SettingWithCopyWarning: \n",
      "A value is trying to be set on a copy of a slice from a DataFrame.\n",
      "Try using .loc[row_indexer,col_indexer] = value instead\n",
      "\n",
      "See the caveats in the documentation: https://pandas.pydata.org/pandas-docs/stable/user_guide/indexing.html#returning-a-view-versus-a-copy\n",
      "  d.x= d.x.shift(1)\n",
      "/tmp/ipykernel_4019564/1696335384.py:15: SettingWithCopyWarning: \n",
      "A value is trying to be set on a copy of a slice from a DataFrame.\n",
      "Try using .loc[row_indexer,col_indexer] = value instead\n",
      "\n",
      "See the caveats in the documentation: https://pandas.pydata.org/pandas-docs/stable/user_guide/indexing.html#returning-a-view-versus-a-copy\n",
      "  d.x= d.x.shift(1)\n"
     ]
    },
    {
     "name": "stdout",
     "output_type": "stream",
     "text": [
      "61\n",
      "62\n"
     ]
    },
    {
     "name": "stderr",
     "output_type": "stream",
     "text": [
      "/tmp/ipykernel_4019564/1696335384.py:15: SettingWithCopyWarning: \n",
      "A value is trying to be set on a copy of a slice from a DataFrame.\n",
      "Try using .loc[row_indexer,col_indexer] = value instead\n",
      "\n",
      "See the caveats in the documentation: https://pandas.pydata.org/pandas-docs/stable/user_guide/indexing.html#returning-a-view-versus-a-copy\n",
      "  d.x= d.x.shift(1)\n",
      "/tmp/ipykernel_4019564/1696335384.py:15: SettingWithCopyWarning: \n",
      "A value is trying to be set on a copy of a slice from a DataFrame.\n",
      "Try using .loc[row_indexer,col_indexer] = value instead\n",
      "\n",
      "See the caveats in the documentation: https://pandas.pydata.org/pandas-docs/stable/user_guide/indexing.html#returning-a-view-versus-a-copy\n",
      "  d.x= d.x.shift(1)\n",
      "/tmp/ipykernel_4019564/1696335384.py:15: SettingWithCopyWarning: \n",
      "A value is trying to be set on a copy of a slice from a DataFrame.\n",
      "Try using .loc[row_indexer,col_indexer] = value instead\n",
      "\n",
      "See the caveats in the documentation: https://pandas.pydata.org/pandas-docs/stable/user_guide/indexing.html#returning-a-view-versus-a-copy\n",
      "  d.x= d.x.shift(1)\n"
     ]
    },
    {
     "name": "stdout",
     "output_type": "stream",
     "text": [
      "63\n",
      "64\n",
      "65\n"
     ]
    },
    {
     "name": "stderr",
     "output_type": "stream",
     "text": [
      "/tmp/ipykernel_4019564/1696335384.py:15: SettingWithCopyWarning: \n",
      "A value is trying to be set on a copy of a slice from a DataFrame.\n",
      "Try using .loc[row_indexer,col_indexer] = value instead\n",
      "\n",
      "See the caveats in the documentation: https://pandas.pydata.org/pandas-docs/stable/user_guide/indexing.html#returning-a-view-versus-a-copy\n",
      "  d.x= d.x.shift(1)\n",
      "/tmp/ipykernel_4019564/1696335384.py:15: SettingWithCopyWarning: \n",
      "A value is trying to be set on a copy of a slice from a DataFrame.\n",
      "Try using .loc[row_indexer,col_indexer] = value instead\n",
      "\n",
      "See the caveats in the documentation: https://pandas.pydata.org/pandas-docs/stable/user_guide/indexing.html#returning-a-view-versus-a-copy\n",
      "  d.x= d.x.shift(1)\n"
     ]
    },
    {
     "name": "stdout",
     "output_type": "stream",
     "text": [
      "66\n",
      "67\n"
     ]
    },
    {
     "name": "stderr",
     "output_type": "stream",
     "text": [
      "/tmp/ipykernel_4019564/1696335384.py:15: SettingWithCopyWarning: \n",
      "A value is trying to be set on a copy of a slice from a DataFrame.\n",
      "Try using .loc[row_indexer,col_indexer] = value instead\n",
      "\n",
      "See the caveats in the documentation: https://pandas.pydata.org/pandas-docs/stable/user_guide/indexing.html#returning-a-view-versus-a-copy\n",
      "  d.x= d.x.shift(1)\n",
      "/tmp/ipykernel_4019564/1696335384.py:15: SettingWithCopyWarning: \n",
      "A value is trying to be set on a copy of a slice from a DataFrame.\n",
      "Try using .loc[row_indexer,col_indexer] = value instead\n",
      "\n",
      "See the caveats in the documentation: https://pandas.pydata.org/pandas-docs/stable/user_guide/indexing.html#returning-a-view-versus-a-copy\n",
      "  d.x= d.x.shift(1)\n"
     ]
    },
    {
     "name": "stdout",
     "output_type": "stream",
     "text": [
      "68\n",
      "69\n"
     ]
    },
    {
     "name": "stderr",
     "output_type": "stream",
     "text": [
      "/tmp/ipykernel_4019564/1696335384.py:15: SettingWithCopyWarning: \n",
      "A value is trying to be set on a copy of a slice from a DataFrame.\n",
      "Try using .loc[row_indexer,col_indexer] = value instead\n",
      "\n",
      "See the caveats in the documentation: https://pandas.pydata.org/pandas-docs/stable/user_guide/indexing.html#returning-a-view-versus-a-copy\n",
      "  d.x= d.x.shift(1)\n",
      "/tmp/ipykernel_4019564/1696335384.py:15: SettingWithCopyWarning: \n",
      "A value is trying to be set on a copy of a slice from a DataFrame.\n",
      "Try using .loc[row_indexer,col_indexer] = value instead\n",
      "\n",
      "See the caveats in the documentation: https://pandas.pydata.org/pandas-docs/stable/user_guide/indexing.html#returning-a-view-versus-a-copy\n",
      "  d.x= d.x.shift(1)\n",
      "/tmp/ipykernel_4019564/1696335384.py:15: SettingWithCopyWarning: \n",
      "A value is trying to be set on a copy of a slice from a DataFrame.\n",
      "Try using .loc[row_indexer,col_indexer] = value instead\n",
      "\n",
      "See the caveats in the documentation: https://pandas.pydata.org/pandas-docs/stable/user_guide/indexing.html#returning-a-view-versus-a-copy\n",
      "  d.x= d.x.shift(1)\n"
     ]
    },
    {
     "name": "stdout",
     "output_type": "stream",
     "text": [
      "70\n",
      "71\n",
      "72\n"
     ]
    },
    {
     "name": "stderr",
     "output_type": "stream",
     "text": [
      "/tmp/ipykernel_4019564/1696335384.py:15: SettingWithCopyWarning: \n",
      "A value is trying to be set on a copy of a slice from a DataFrame.\n",
      "Try using .loc[row_indexer,col_indexer] = value instead\n",
      "\n",
      "See the caveats in the documentation: https://pandas.pydata.org/pandas-docs/stable/user_guide/indexing.html#returning-a-view-versus-a-copy\n",
      "  d.x= d.x.shift(1)\n",
      "/tmp/ipykernel_4019564/1696335384.py:15: SettingWithCopyWarning: \n",
      "A value is trying to be set on a copy of a slice from a DataFrame.\n",
      "Try using .loc[row_indexer,col_indexer] = value instead\n",
      "\n",
      "See the caveats in the documentation: https://pandas.pydata.org/pandas-docs/stable/user_guide/indexing.html#returning-a-view-versus-a-copy\n",
      "  d.x= d.x.shift(1)\n"
     ]
    },
    {
     "name": "stdout",
     "output_type": "stream",
     "text": [
      "73\n",
      "74\n"
     ]
    },
    {
     "name": "stderr",
     "output_type": "stream",
     "text": [
      "/tmp/ipykernel_4019564/1696335384.py:15: SettingWithCopyWarning: \n",
      "A value is trying to be set on a copy of a slice from a DataFrame.\n",
      "Try using .loc[row_indexer,col_indexer] = value instead\n",
      "\n",
      "See the caveats in the documentation: https://pandas.pydata.org/pandas-docs/stable/user_guide/indexing.html#returning-a-view-versus-a-copy\n",
      "  d.x= d.x.shift(1)\n",
      "/tmp/ipykernel_4019564/1696335384.py:15: SettingWithCopyWarning: \n",
      "A value is trying to be set on a copy of a slice from a DataFrame.\n",
      "Try using .loc[row_indexer,col_indexer] = value instead\n",
      "\n",
      "See the caveats in the documentation: https://pandas.pydata.org/pandas-docs/stable/user_guide/indexing.html#returning-a-view-versus-a-copy\n",
      "  d.x= d.x.shift(1)\n"
     ]
    },
    {
     "name": "stdout",
     "output_type": "stream",
     "text": [
      "75\n",
      "76\n"
     ]
    },
    {
     "name": "stderr",
     "output_type": "stream",
     "text": [
      "/tmp/ipykernel_4019564/1696335384.py:15: SettingWithCopyWarning: \n",
      "A value is trying to be set on a copy of a slice from a DataFrame.\n",
      "Try using .loc[row_indexer,col_indexer] = value instead\n",
      "\n",
      "See the caveats in the documentation: https://pandas.pydata.org/pandas-docs/stable/user_guide/indexing.html#returning-a-view-versus-a-copy\n",
      "  d.x= d.x.shift(1)\n",
      "/tmp/ipykernel_4019564/1696335384.py:15: SettingWithCopyWarning: \n",
      "A value is trying to be set on a copy of a slice from a DataFrame.\n",
      "Try using .loc[row_indexer,col_indexer] = value instead\n",
      "\n",
      "See the caveats in the documentation: https://pandas.pydata.org/pandas-docs/stable/user_guide/indexing.html#returning-a-view-versus-a-copy\n",
      "  d.x= d.x.shift(1)\n",
      "/tmp/ipykernel_4019564/1696335384.py:15: SettingWithCopyWarning: \n",
      "A value is trying to be set on a copy of a slice from a DataFrame.\n",
      "Try using .loc[row_indexer,col_indexer] = value instead\n",
      "\n",
      "See the caveats in the documentation: https://pandas.pydata.org/pandas-docs/stable/user_guide/indexing.html#returning-a-view-versus-a-copy\n",
      "  d.x= d.x.shift(1)\n"
     ]
    },
    {
     "name": "stdout",
     "output_type": "stream",
     "text": [
      "77\n",
      "78\n",
      "79\n"
     ]
    },
    {
     "name": "stderr",
     "output_type": "stream",
     "text": [
      "/tmp/ipykernel_4019564/1696335384.py:15: SettingWithCopyWarning: \n",
      "A value is trying to be set on a copy of a slice from a DataFrame.\n",
      "Try using .loc[row_indexer,col_indexer] = value instead\n",
      "\n",
      "See the caveats in the documentation: https://pandas.pydata.org/pandas-docs/stable/user_guide/indexing.html#returning-a-view-versus-a-copy\n",
      "  d.x= d.x.shift(1)\n",
      "/tmp/ipykernel_4019564/1696335384.py:15: SettingWithCopyWarning: \n",
      "A value is trying to be set on a copy of a slice from a DataFrame.\n",
      "Try using .loc[row_indexer,col_indexer] = value instead\n",
      "\n",
      "See the caveats in the documentation: https://pandas.pydata.org/pandas-docs/stable/user_guide/indexing.html#returning-a-view-versus-a-copy\n",
      "  d.x= d.x.shift(1)\n",
      "/tmp/ipykernel_4019564/1696335384.py:15: SettingWithCopyWarning: \n",
      "A value is trying to be set on a copy of a slice from a DataFrame.\n",
      "Try using .loc[row_indexer,col_indexer] = value instead\n",
      "\n",
      "See the caveats in the documentation: https://pandas.pydata.org/pandas-docs/stable/user_guide/indexing.html#returning-a-view-versus-a-copy\n",
      "  d.x= d.x.shift(1)\n"
     ]
    },
    {
     "name": "stdout",
     "output_type": "stream",
     "text": [
      "80\n",
      "81\n",
      "82\n"
     ]
    },
    {
     "name": "stderr",
     "output_type": "stream",
     "text": [
      "/tmp/ipykernel_4019564/1696335384.py:15: SettingWithCopyWarning: \n",
      "A value is trying to be set on a copy of a slice from a DataFrame.\n",
      "Try using .loc[row_indexer,col_indexer] = value instead\n",
      "\n",
      "See the caveats in the documentation: https://pandas.pydata.org/pandas-docs/stable/user_guide/indexing.html#returning-a-view-versus-a-copy\n",
      "  d.x= d.x.shift(1)\n",
      "/tmp/ipykernel_4019564/1696335384.py:15: SettingWithCopyWarning: \n",
      "A value is trying to be set on a copy of a slice from a DataFrame.\n",
      "Try using .loc[row_indexer,col_indexer] = value instead\n",
      "\n",
      "See the caveats in the documentation: https://pandas.pydata.org/pandas-docs/stable/user_guide/indexing.html#returning-a-view-versus-a-copy\n",
      "  d.x= d.x.shift(1)\n",
      "/tmp/ipykernel_4019564/1696335384.py:15: SettingWithCopyWarning: \n",
      "A value is trying to be set on a copy of a slice from a DataFrame.\n",
      "Try using .loc[row_indexer,col_indexer] = value instead\n",
      "\n",
      "See the caveats in the documentation: https://pandas.pydata.org/pandas-docs/stable/user_guide/indexing.html#returning-a-view-versus-a-copy\n",
      "  d.x= d.x.shift(1)\n"
     ]
    },
    {
     "name": "stdout",
     "output_type": "stream",
     "text": [
      "83\n",
      "84\n",
      "85\n"
     ]
    },
    {
     "name": "stderr",
     "output_type": "stream",
     "text": [
      "/tmp/ipykernel_4019564/1696335384.py:15: SettingWithCopyWarning: \n",
      "A value is trying to be set on a copy of a slice from a DataFrame.\n",
      "Try using .loc[row_indexer,col_indexer] = value instead\n",
      "\n",
      "See the caveats in the documentation: https://pandas.pydata.org/pandas-docs/stable/user_guide/indexing.html#returning-a-view-versus-a-copy\n",
      "  d.x= d.x.shift(1)\n",
      "/tmp/ipykernel_4019564/1696335384.py:15: SettingWithCopyWarning: \n",
      "A value is trying to be set on a copy of a slice from a DataFrame.\n",
      "Try using .loc[row_indexer,col_indexer] = value instead\n",
      "\n",
      "See the caveats in the documentation: https://pandas.pydata.org/pandas-docs/stable/user_guide/indexing.html#returning-a-view-versus-a-copy\n",
      "  d.x= d.x.shift(1)\n",
      "/tmp/ipykernel_4019564/1696335384.py:15: SettingWithCopyWarning: \n",
      "A value is trying to be set on a copy of a slice from a DataFrame.\n",
      "Try using .loc[row_indexer,col_indexer] = value instead\n",
      "\n",
      "See the caveats in the documentation: https://pandas.pydata.org/pandas-docs/stable/user_guide/indexing.html#returning-a-view-versus-a-copy\n",
      "  d.x= d.x.shift(1)\n"
     ]
    },
    {
     "name": "stdout",
     "output_type": "stream",
     "text": [
      "86\n",
      "87\n",
      "88\n"
     ]
    },
    {
     "name": "stderr",
     "output_type": "stream",
     "text": [
      "/tmp/ipykernel_4019564/1696335384.py:15: SettingWithCopyWarning: \n",
      "A value is trying to be set on a copy of a slice from a DataFrame.\n",
      "Try using .loc[row_indexer,col_indexer] = value instead\n",
      "\n",
      "See the caveats in the documentation: https://pandas.pydata.org/pandas-docs/stable/user_guide/indexing.html#returning-a-view-versus-a-copy\n",
      "  d.x= d.x.shift(1)\n",
      "/tmp/ipykernel_4019564/1696335384.py:15: SettingWithCopyWarning: \n",
      "A value is trying to be set on a copy of a slice from a DataFrame.\n",
      "Try using .loc[row_indexer,col_indexer] = value instead\n",
      "\n",
      "See the caveats in the documentation: https://pandas.pydata.org/pandas-docs/stable/user_guide/indexing.html#returning-a-view-versus-a-copy\n",
      "  d.x= d.x.shift(1)\n",
      "/tmp/ipykernel_4019564/1696335384.py:15: SettingWithCopyWarning: \n",
      "A value is trying to be set on a copy of a slice from a DataFrame.\n",
      "Try using .loc[row_indexer,col_indexer] = value instead\n",
      "\n",
      "See the caveats in the documentation: https://pandas.pydata.org/pandas-docs/stable/user_guide/indexing.html#returning-a-view-versus-a-copy\n",
      "  d.x= d.x.shift(1)\n"
     ]
    },
    {
     "name": "stdout",
     "output_type": "stream",
     "text": [
      "89\n",
      "90\n",
      "91\n"
     ]
    },
    {
     "name": "stderr",
     "output_type": "stream",
     "text": [
      "/tmp/ipykernel_4019564/1696335384.py:15: SettingWithCopyWarning: \n",
      "A value is trying to be set on a copy of a slice from a DataFrame.\n",
      "Try using .loc[row_indexer,col_indexer] = value instead\n",
      "\n",
      "See the caveats in the documentation: https://pandas.pydata.org/pandas-docs/stable/user_guide/indexing.html#returning-a-view-versus-a-copy\n",
      "  d.x= d.x.shift(1)\n",
      "/tmp/ipykernel_4019564/1696335384.py:15: SettingWithCopyWarning: \n",
      "A value is trying to be set on a copy of a slice from a DataFrame.\n",
      "Try using .loc[row_indexer,col_indexer] = value instead\n",
      "\n",
      "See the caveats in the documentation: https://pandas.pydata.org/pandas-docs/stable/user_guide/indexing.html#returning-a-view-versus-a-copy\n",
      "  d.x= d.x.shift(1)\n"
     ]
    },
    {
     "name": "stdout",
     "output_type": "stream",
     "text": [
      "92\n",
      "93\n"
     ]
    },
    {
     "name": "stderr",
     "output_type": "stream",
     "text": [
      "/tmp/ipykernel_4019564/1696335384.py:15: SettingWithCopyWarning: \n",
      "A value is trying to be set on a copy of a slice from a DataFrame.\n",
      "Try using .loc[row_indexer,col_indexer] = value instead\n",
      "\n",
      "See the caveats in the documentation: https://pandas.pydata.org/pandas-docs/stable/user_guide/indexing.html#returning-a-view-versus-a-copy\n",
      "  d.x= d.x.shift(1)\n",
      "/tmp/ipykernel_4019564/1696335384.py:15: SettingWithCopyWarning: \n",
      "A value is trying to be set on a copy of a slice from a DataFrame.\n",
      "Try using .loc[row_indexer,col_indexer] = value instead\n",
      "\n",
      "See the caveats in the documentation: https://pandas.pydata.org/pandas-docs/stable/user_guide/indexing.html#returning-a-view-versus-a-copy\n",
      "  d.x= d.x.shift(1)\n",
      "/tmp/ipykernel_4019564/1696335384.py:15: SettingWithCopyWarning: \n",
      "A value is trying to be set on a copy of a slice from a DataFrame.\n",
      "Try using .loc[row_indexer,col_indexer] = value instead\n",
      "\n",
      "See the caveats in the documentation: https://pandas.pydata.org/pandas-docs/stable/user_guide/indexing.html#returning-a-view-versus-a-copy\n",
      "  d.x= d.x.shift(1)\n"
     ]
    },
    {
     "name": "stdout",
     "output_type": "stream",
     "text": [
      "94\n",
      "95\n",
      "96\n"
     ]
    },
    {
     "name": "stderr",
     "output_type": "stream",
     "text": [
      "/tmp/ipykernel_4019564/1696335384.py:15: SettingWithCopyWarning: \n",
      "A value is trying to be set on a copy of a slice from a DataFrame.\n",
      "Try using .loc[row_indexer,col_indexer] = value instead\n",
      "\n",
      "See the caveats in the documentation: https://pandas.pydata.org/pandas-docs/stable/user_guide/indexing.html#returning-a-view-versus-a-copy\n",
      "  d.x= d.x.shift(1)\n",
      "/tmp/ipykernel_4019564/1696335384.py:15: SettingWithCopyWarning: \n",
      "A value is trying to be set on a copy of a slice from a DataFrame.\n",
      "Try using .loc[row_indexer,col_indexer] = value instead\n",
      "\n",
      "See the caveats in the documentation: https://pandas.pydata.org/pandas-docs/stable/user_guide/indexing.html#returning-a-view-versus-a-copy\n",
      "  d.x= d.x.shift(1)\n"
     ]
    },
    {
     "name": "stdout",
     "output_type": "stream",
     "text": [
      "97\n",
      "98\n",
      "99\n"
     ]
    },
    {
     "name": "stderr",
     "output_type": "stream",
     "text": [
      "/tmp/ipykernel_4019564/1696335384.py:15: SettingWithCopyWarning: \n",
      "A value is trying to be set on a copy of a slice from a DataFrame.\n",
      "Try using .loc[row_indexer,col_indexer] = value instead\n",
      "\n",
      "See the caveats in the documentation: https://pandas.pydata.org/pandas-docs/stable/user_guide/indexing.html#returning-a-view-versus-a-copy\n",
      "  d.x= d.x.shift(1)\n",
      "/tmp/ipykernel_4019564/1696335384.py:15: SettingWithCopyWarning: \n",
      "A value is trying to be set on a copy of a slice from a DataFrame.\n",
      "Try using .loc[row_indexer,col_indexer] = value instead\n",
      "\n",
      "See the caveats in the documentation: https://pandas.pydata.org/pandas-docs/stable/user_guide/indexing.html#returning-a-view-versus-a-copy\n",
      "  d.x= d.x.shift(1)\n"
     ]
    }
   ],
   "source": [
    "from os import listdir\n",
    "from os.path import isfile, join\n",
    "dir0 = \"/homes/80/kang/cmem/output/0600_r_output_with_features_csv_fractional_shares_clipped/\"\n",
    "onlyFiles = sorted([f for f in listdir(dir0) if isfile(join(dir0, f))])\n",
    "import pandas as pd\n",
    "for i in range(len(onlyFiles)):\n",
    "    print(i)\n",
    "    name = onlyFiles[i]\n",
    "    import pandas as pd\n",
    "    # name =\"CMS.csv\"\n",
    "\n",
    "    dir = dir0+name\n",
    "    df = pd.read_csv(dir)\n",
    "    d=df[[\"date\",'x','qty']]\n",
    "    d.x= d.x.shift(1)\n",
    "    d = d.fillna(method = \"bfill\")\n",
    "    d = d.iloc[26:,:].reset_index(drop=True)\n",
    "    dir1 = \"/homes/80/kang/cmem/output/0900_r_output_with_features_csv_fractional_shares_clipped_vwap/\"\n",
    "    d.to_csv(dir1+name)"
   ]
  },
  {
   "cell_type": "code",
   "execution_count": 54,
   "metadata": {},
   "outputs": [
    {
     "data": {
      "text/html": [
       "<div>\n",
       "<style scoped>\n",
       "    .dataframe tbody tr th:only-of-type {\n",
       "        vertical-align: middle;\n",
       "    }\n",
       "\n",
       "    .dataframe tbody tr th {\n",
       "        vertical-align: top;\n",
       "    }\n",
       "\n",
       "    .dataframe thead th {\n",
       "        text-align: right;\n",
       "    }\n",
       "</style>\n",
       "<table border=\"1\" class=\"dataframe\">\n",
       "  <thead>\n",
       "    <tr style=\"text-align: right;\">\n",
       "      <th></th>\n",
       "      <th>date</th>\n",
       "      <th>x</th>\n",
       "      <th>qty</th>\n",
       "    </tr>\n",
       "  </thead>\n",
       "  <tbody>\n",
       "    <tr>\n",
       "      <th>0</th>\n",
       "      <td>2017-07-20</td>\n",
       "      <td>24303.784933</td>\n",
       "      <td>24753.0</td>\n",
       "    </tr>\n",
       "    <tr>\n",
       "      <th>1</th>\n",
       "      <td>2017-07-20</td>\n",
       "      <td>30714.854074</td>\n",
       "      <td>4838.0</td>\n",
       "    </tr>\n",
       "    <tr>\n",
       "      <th>2</th>\n",
       "      <td>2017-07-20</td>\n",
       "      <td>18648.823793</td>\n",
       "      <td>7951.0</td>\n",
       "    </tr>\n",
       "    <tr>\n",
       "      <th>3</th>\n",
       "      <td>2017-07-20</td>\n",
       "      <td>13211.108010</td>\n",
       "      <td>12768.5</td>\n",
       "    </tr>\n",
       "    <tr>\n",
       "      <th>4</th>\n",
       "      <td>2017-07-20</td>\n",
       "      <td>17209.798094</td>\n",
       "      <td>7367.5</td>\n",
       "    </tr>\n",
       "    <tr>\n",
       "      <th>...</th>\n",
       "      <td>...</td>\n",
       "      <td>...</td>\n",
       "      <td>...</td>\n",
       "    </tr>\n",
       "    <tr>\n",
       "      <th>2829</th>\n",
       "      <td>2017-12-27</td>\n",
       "      <td>11882.649251</td>\n",
       "      <td>11558.0</td>\n",
       "    </tr>\n",
       "    <tr>\n",
       "      <th>2830</th>\n",
       "      <td>2017-12-27</td>\n",
       "      <td>19078.593302</td>\n",
       "      <td>12030.5</td>\n",
       "    </tr>\n",
       "    <tr>\n",
       "      <th>2831</th>\n",
       "      <td>2017-12-27</td>\n",
       "      <td>20343.002463</td>\n",
       "      <td>8164.5</td>\n",
       "    </tr>\n",
       "    <tr>\n",
       "      <th>2832</th>\n",
       "      <td>2017-12-27</td>\n",
       "      <td>18541.611194</td>\n",
       "      <td>13315.5</td>\n",
       "    </tr>\n",
       "    <tr>\n",
       "      <th>2833</th>\n",
       "      <td>2017-12-27</td>\n",
       "      <td>30644.778081</td>\n",
       "      <td>13748.5</td>\n",
       "    </tr>\n",
       "  </tbody>\n",
       "</table>\n",
       "<p>2834 rows × 3 columns</p>\n",
       "</div>"
      ],
      "text/plain": [
       "            date             x      qty\n",
       "0     2017-07-20  24303.784933  24753.0\n",
       "1     2017-07-20  30714.854074   4838.0\n",
       "2     2017-07-20  18648.823793   7951.0\n",
       "3     2017-07-20  13211.108010  12768.5\n",
       "4     2017-07-20  17209.798094   7367.5\n",
       "...          ...           ...      ...\n",
       "2829  2017-12-27  11882.649251  11558.0\n",
       "2830  2017-12-27  19078.593302  12030.5\n",
       "2831  2017-12-27  20343.002463   8164.5\n",
       "2832  2017-12-27  18541.611194  13315.5\n",
       "2833  2017-12-27  30644.778081  13748.5\n",
       "\n",
       "[2834 rows x 3 columns]"
      ]
     },
     "execution_count": 54,
     "metadata": {},
     "output_type": "execute_result"
    }
   ],
   "source": [
    "d"
   ]
  },
  {
   "cell_type": "code",
   "execution_count": 55,
   "metadata": {},
   "outputs": [],
   "source": [
    "!mkdir /homes/80/kang/aap2017half/"
   ]
  },
  {
   "cell_type": "code",
   "execution_count": 56,
   "metadata": {},
   "outputs": [],
   "source": [
    "!mkdir /homes/80/kang/aap2017half/data/"
   ]
  },
  {
   "cell_type": "code",
   "execution_count": 57,
   "metadata": {},
   "outputs": [],
   "source": [
    "!mkdir /homes/80/kang/aap2017half/data/Flow_10\n",
    "!mkdir /homes/80/kang/aap2017half/data/Book_10\n"
   ]
  },
  {
   "cell_type": "code",
   "execution_count": null,
   "metadata": {},
   "outputs": [],
   "source": [
    "from os import listdir\n",
    "from os.path import isfile, join\n",
    "dir0 = \"/homes/80/kang/aap2017/\"\n",
    "onlyFiles = sorted([f for f in listdir(dir0) if isfile(join(dir0, f))])\n",
    "import pandas as pd\n",
    "# for i in range(len(onlyFiles)):\n",
    "i=1\n",
    "print(i)\n",
    "name = onlyFiles[i]\n",
    "import pandas as pd"
   ]
  },
  {
   "cell_type": "markdown",
   "metadata": {},
   "source": [
    "# rolling mean of 15 min"
   ]
  },
  {
   "cell_type": "code",
   "execution_count": 3,
   "metadata": {},
   "outputs": [],
   "source": [
    "from os import listdir\n",
    "from os.path import isfile, join\n",
    "import pandas as pd\n",
    "dir0= \"/homes/80/kang/cmem/data/01_raw/\"\n",
    "dir1= \"/homes/80/kang/cmem/data/01_raw_rolling_mean_15min_bin/\"\n",
    "onlyFiles = sorted([f for f in listdir(dir0) if isfile(join(dir0, f))])"
   ]
  },
  {
   "cell_type": "code",
   "execution_count": 5,
   "metadata": {},
   "outputs": [],
   "source": [
    "name = 'ABMD.pkl'\n",
    "df = pd.read_pickle(dir0+name)"
   ]
  },
  {
   "cell_type": "code",
   "execution_count": 8,
   "metadata": {},
   "outputs": [
    {
     "data": {
      "text/html": [
       "<div>\n",
       "<style scoped>\n",
       "    .dataframe tbody tr th:only-of-type {\n",
       "        vertical-align: middle;\n",
       "    }\n",
       "\n",
       "    .dataframe tbody tr th {\n",
       "        vertical-align: top;\n",
       "    }\n",
       "\n",
       "    .dataframe thead th {\n",
       "        text-align: right;\n",
       "    }\n",
       "</style>\n",
       "<table border=\"1\" class=\"dataframe\">\n",
       "  <thead>\n",
       "    <tr style=\"text-align: right;\">\n",
       "      <th></th>\n",
       "      <th>symbol</th>\n",
       "      <th>date</th>\n",
       "      <th>timeHMs</th>\n",
       "      <th>timeHMe</th>\n",
       "      <th>qty</th>\n",
       "    </tr>\n",
       "    <tr>\n",
       "      <th>groupper</th>\n",
       "      <th></th>\n",
       "      <th></th>\n",
       "      <th></th>\n",
       "      <th></th>\n",
       "      <th></th>\n",
       "    </tr>\n",
       "  </thead>\n",
       "  <tbody>\n",
       "    <tr>\n",
       "      <th>2017-07-05 09:30:00</th>\n",
       "      <td>ABMD</td>\n",
       "      <td>20170705</td>\n",
       "      <td>930.0</td>\n",
       "      <td>945.0</td>\n",
       "      <td>9650.0</td>\n",
       "    </tr>\n",
       "    <tr>\n",
       "      <th>2017-07-05 09:45:00</th>\n",
       "      <td>ABMD</td>\n",
       "      <td>20170705</td>\n",
       "      <td>945.0</td>\n",
       "      <td>1000.0</td>\n",
       "      <td>5175.5</td>\n",
       "    </tr>\n",
       "    <tr>\n",
       "      <th>2017-07-05 10:00:00</th>\n",
       "      <td>ABMD</td>\n",
       "      <td>20170705</td>\n",
       "      <td>1000.0</td>\n",
       "      <td>1015.0</td>\n",
       "      <td>5476.5</td>\n",
       "    </tr>\n",
       "    <tr>\n",
       "      <th>2017-07-05 10:15:00</th>\n",
       "      <td>ABMD</td>\n",
       "      <td>20170705</td>\n",
       "      <td>1015.0</td>\n",
       "      <td>1030.0</td>\n",
       "      <td>6247.0</td>\n",
       "    </tr>\n",
       "    <tr>\n",
       "      <th>2017-07-05 10:30:00</th>\n",
       "      <td>ABMD</td>\n",
       "      <td>20170705</td>\n",
       "      <td>1030.0</td>\n",
       "      <td>1045.0</td>\n",
       "      <td>9804.0</td>\n",
       "    </tr>\n",
       "    <tr>\n",
       "      <th>...</th>\n",
       "      <td>...</td>\n",
       "      <td>...</td>\n",
       "      <td>...</td>\n",
       "      <td>...</td>\n",
       "      <td>...</td>\n",
       "    </tr>\n",
       "    <tr>\n",
       "      <th>2017-12-29 14:30:00</th>\n",
       "      <td>ABMD</td>\n",
       "      <td>20171229</td>\n",
       "      <td>1430.0</td>\n",
       "      <td>1445.0</td>\n",
       "      <td>12862.5</td>\n",
       "    </tr>\n",
       "    <tr>\n",
       "      <th>2017-12-29 14:45:00</th>\n",
       "      <td>ABMD</td>\n",
       "      <td>20171229</td>\n",
       "      <td>1445.0</td>\n",
       "      <td>1500.0</td>\n",
       "      <td>8728.5</td>\n",
       "    </tr>\n",
       "    <tr>\n",
       "      <th>2017-12-29 15:00:00</th>\n",
       "      <td>ABMD</td>\n",
       "      <td>20171229</td>\n",
       "      <td>1500.0</td>\n",
       "      <td>1515.0</td>\n",
       "      <td>7179.0</td>\n",
       "    </tr>\n",
       "    <tr>\n",
       "      <th>2017-12-29 15:15:00</th>\n",
       "      <td>ABMD</td>\n",
       "      <td>20171229</td>\n",
       "      <td>1515.0</td>\n",
       "      <td>1530.0</td>\n",
       "      <td>9424.5</td>\n",
       "    </tr>\n",
       "    <tr>\n",
       "      <th>2017-12-29 15:30:00</th>\n",
       "      <td>ABMD</td>\n",
       "      <td>20171229</td>\n",
       "      <td>1530.0</td>\n",
       "      <td>1545.0</td>\n",
       "      <td>10603.0</td>\n",
       "    </tr>\n",
       "  </tbody>\n",
       "</table>\n",
       "<p>3223 rows × 5 columns</p>\n",
       "</div>"
      ],
      "text/plain": [
       "                    symbol      date  timeHMs  timeHMe      qty\n",
       "groupper                                                       \n",
       "2017-07-05 09:30:00   ABMD  20170705    930.0    945.0   9650.0\n",
       "2017-07-05 09:45:00   ABMD  20170705    945.0   1000.0   5175.5\n",
       "2017-07-05 10:00:00   ABMD  20170705   1000.0   1015.0   5476.5\n",
       "2017-07-05 10:15:00   ABMD  20170705   1015.0   1030.0   6247.0\n",
       "2017-07-05 10:30:00   ABMD  20170705   1030.0   1045.0   9804.0\n",
       "...                    ...       ...      ...      ...      ...\n",
       "2017-12-29 14:30:00   ABMD  20171229   1430.0   1445.0  12862.5\n",
       "2017-12-29 14:45:00   ABMD  20171229   1445.0   1500.0   8728.5\n",
       "2017-12-29 15:00:00   ABMD  20171229   1500.0   1515.0   7179.0\n",
       "2017-12-29 15:15:00   ABMD  20171229   1515.0   1530.0   9424.5\n",
       "2017-12-29 15:30:00   ABMD  20171229   1530.0   1545.0  10603.0\n",
       "\n",
       "[3223 rows x 5 columns]"
      ]
     },
     "execution_count": 8,
     "metadata": {},
     "output_type": "execute_result"
    }
   ],
   "source": [
    "d = df[['symbol','date','timeHMs','timeHMe','qty']]\n",
    "d"
   ]
  },
  {
   "cell_type": "code",
   "execution_count": 25,
   "metadata": {},
   "outputs": [],
   "source": [
    "name = 'ABMD.pkl'\n",
    "df = pd.read_pickle(dir0+name)\n",
    "d = df[['date','timeHMs','timeHMe','qty']]\n",
    "g = d.groupby('timeHMs')\n",
    "lst = []\n",
    "for idx, itm in g:\n",
    "    pass\n",
    "    value = itm.shift(1).rolling(5).mean()\n",
    "    # itm.shift(-1).rolling(5).mean()\n",
    "    value.date = itm.date\n",
    "    lst.append(value)\n",
    "# itm.qty[:5].mean()\n",
    "f = pd.concat(lst,axis=0)\n",
    "ff = f.sort_index().dropna()\n",
    "ff['symbol'] = name[:-4]\n",
    "ff.to_csv(dir1+name[:-4]+\".csv\")"
   ]
  },
  {
   "cell_type": "code",
   "execution_count": 24,
   "metadata": {},
   "outputs": [
    {
     "name": "stderr",
     "output_type": "stream",
     "text": [
      "/tmp/ipykernel_4019564/1086770512.py:9: FutureWarning: Dropping of nuisance columns in rolling operations is deprecated; in a future version this will raise TypeError. Select only valid columns before calling the operation. Dropped columns were Index(['symbol'], dtype='object')\n",
      "  value = itm.shift(1).rolling(5).mean()\n"
     ]
    },
    {
     "data": {
      "text/html": [
       "<div>\n",
       "<style scoped>\n",
       "    .dataframe tbody tr th:only-of-type {\n",
       "        vertical-align: middle;\n",
       "    }\n",
       "\n",
       "    .dataframe tbody tr th {\n",
       "        vertical-align: top;\n",
       "    }\n",
       "\n",
       "    .dataframe thead th {\n",
       "        text-align: right;\n",
       "    }\n",
       "</style>\n",
       "<table border=\"1\" class=\"dataframe\">\n",
       "  <thead>\n",
       "    <tr style=\"text-align: right;\">\n",
       "      <th></th>\n",
       "      <th>date</th>\n",
       "      <th>timeHMs</th>\n",
       "      <th>timeHMe</th>\n",
       "      <th>qty</th>\n",
       "    </tr>\n",
       "    <tr>\n",
       "      <th>groupper</th>\n",
       "      <th></th>\n",
       "      <th></th>\n",
       "      <th></th>\n",
       "      <th></th>\n",
       "    </tr>\n",
       "  </thead>\n",
       "  <tbody>\n",
       "    <tr>\n",
       "      <th>2017-07-05 09:30:00</th>\n",
       "      <td>20170705</td>\n",
       "      <td>NaN</td>\n",
       "      <td>NaN</td>\n",
       "      <td>NaN</td>\n",
       "    </tr>\n",
       "    <tr>\n",
       "      <th>2017-07-06 09:30:00</th>\n",
       "      <td>20170706</td>\n",
       "      <td>NaN</td>\n",
       "      <td>NaN</td>\n",
       "      <td>NaN</td>\n",
       "    </tr>\n",
       "    <tr>\n",
       "      <th>2017-07-07 09:30:00</th>\n",
       "      <td>20170707</td>\n",
       "      <td>NaN</td>\n",
       "      <td>NaN</td>\n",
       "      <td>NaN</td>\n",
       "    </tr>\n",
       "    <tr>\n",
       "      <th>2017-07-10 09:30:00</th>\n",
       "      <td>20170710</td>\n",
       "      <td>NaN</td>\n",
       "      <td>NaN</td>\n",
       "      <td>NaN</td>\n",
       "    </tr>\n",
       "    <tr>\n",
       "      <th>2017-07-11 09:30:00</th>\n",
       "      <td>20170711</td>\n",
       "      <td>NaN</td>\n",
       "      <td>NaN</td>\n",
       "      <td>NaN</td>\n",
       "    </tr>\n",
       "    <tr>\n",
       "      <th>...</th>\n",
       "      <td>...</td>\n",
       "      <td>...</td>\n",
       "      <td>...</td>\n",
       "      <td>...</td>\n",
       "    </tr>\n",
       "    <tr>\n",
       "      <th>2017-12-21 15:45:00</th>\n",
       "      <td>20171221</td>\n",
       "      <td>1545.0</td>\n",
       "      <td>1600.0</td>\n",
       "      <td>28487.5</td>\n",
       "    </tr>\n",
       "    <tr>\n",
       "      <th>2017-12-22 15:45:00</th>\n",
       "      <td>20171222</td>\n",
       "      <td>1545.0</td>\n",
       "      <td>1600.0</td>\n",
       "      <td>28387.4</td>\n",
       "    </tr>\n",
       "    <tr>\n",
       "      <th>2017-12-26 15:45:00</th>\n",
       "      <td>20171226</td>\n",
       "      <td>1545.0</td>\n",
       "      <td>1600.0</td>\n",
       "      <td>24563.1</td>\n",
       "    </tr>\n",
       "    <tr>\n",
       "      <th>2017-12-27 15:45:00</th>\n",
       "      <td>20171227</td>\n",
       "      <td>1545.0</td>\n",
       "      <td>1600.0</td>\n",
       "      <td>21793.5</td>\n",
       "    </tr>\n",
       "    <tr>\n",
       "      <th>2017-12-28 15:45:00</th>\n",
       "      <td>20171228</td>\n",
       "      <td>1545.0</td>\n",
       "      <td>1600.0</td>\n",
       "      <td>20715.3</td>\n",
       "    </tr>\n",
       "  </tbody>\n",
       "</table>\n",
       "<p>3223 rows × 4 columns</p>\n",
       "</div>"
      ],
      "text/plain": [
       "                         date  timeHMs  timeHMe      qty\n",
       "groupper                                                \n",
       "2017-07-05 09:30:00  20170705      NaN      NaN      NaN\n",
       "2017-07-06 09:30:00  20170706      NaN      NaN      NaN\n",
       "2017-07-07 09:30:00  20170707      NaN      NaN      NaN\n",
       "2017-07-10 09:30:00  20170710      NaN      NaN      NaN\n",
       "2017-07-11 09:30:00  20170711      NaN      NaN      NaN\n",
       "...                       ...      ...      ...      ...\n",
       "2017-12-21 15:45:00  20171221   1545.0   1600.0  28487.5\n",
       "2017-12-22 15:45:00  20171222   1545.0   1600.0  28387.4\n",
       "2017-12-26 15:45:00  20171226   1545.0   1600.0  24563.1\n",
       "2017-12-27 15:45:00  20171227   1545.0   1600.0  21793.5\n",
       "2017-12-28 15:45:00  20171228   1545.0   1600.0  20715.3\n",
       "\n",
       "[3223 rows x 4 columns]"
      ]
     },
     "execution_count": 24,
     "metadata": {},
     "output_type": "execute_result"
    }
   ],
   "source": [
    "name = 'AAP.pkl'\n",
    "df = pd.read_pickle(dir0+name)\n",
    "d = df[[,'date','timeHMs','timeHMe','qty']]\n",
    "d.symbol\n",
    "g = d.groupby('timeHMs')\n",
    "lst = []\n",
    "for idx, itm in g:\n",
    "    pass\n",
    "    value = itm.shift(1).rolling(5).mean()\n",
    "    # itm.shift(-1).rolling(5).mean()\n",
    "    value.date = itm.date\n",
    "    lst.append(value)\n",
    "f = pd.concat(lst,axis=0)\n",
    "f"
   ]
  },
  {
   "cell_type": "code",
   "execution_count": 22,
   "metadata": {},
   "outputs": [
    {
     "data": {
      "text/plain": [
       "groupper\n",
       "2017-07-05 09:30:00    ABMD\n",
       "2017-07-05 09:45:00    ABMD\n",
       "2017-07-05 10:00:00    ABMD\n",
       "2017-07-05 10:15:00    ABMD\n",
       "2017-07-05 10:30:00    ABMD\n",
       "                       ... \n",
       "2017-12-29 14:30:00    ABMD\n",
       "2017-12-29 14:45:00    ABMD\n",
       "2017-12-29 15:00:00    ABMD\n",
       "2017-12-29 15:15:00    ABMD\n",
       "2017-12-29 15:30:00    ABMD\n",
       "Name: symbol, Length: 3223, dtype: object"
      ]
     },
     "execution_count": 22,
     "metadata": {},
     "output_type": "execute_result"
    }
   ],
   "source": [
    "name = 'ABMD.pkl'\n",
    "df = pd.read_pickle(dir0+name)\n",
    "d = df[['symbol','date','timeHMs','timeHMe','qty']]\n",
    "d.symbol\n",
    "# g = d.groupby('timeHMs')\n",
    "# lst = []\n",
    "# for idx, itm in g:\n",
    "#     pass\n",
    "#     value = itm.shift(1).rolling(5).mean()\n",
    "#     # itm.shift(-1).rolling(5).mean()\n",
    "#     value.date = itm.date\n",
    "#     lst.append(value)\n",
    "# f = pd.concat(lst,axis=0)\n",
    "# f"
   ]
  },
  {
   "cell_type": "code",
   "execution_count": 7,
   "metadata": {},
   "outputs": [
    {
     "name": "stderr",
     "output_type": "stream",
     "text": [
      "/tmp/ipykernel_3531674/2633755990.py:11: FutureWarning: Dropping of nuisance columns in rolling operations is deprecated; in a future version this will raise TypeError. Select only valid columns before calling the operation. Dropped columns were Index(['symbol'], dtype='object')\n",
      "  value = itm.shift(1).rolling(5).mean()\n"
     ]
    }
   ],
   "source": [
    "from os import listdir\n",
    "from os.path import isfile, join\n",
    "import pandas as pd\n",
    "dir0= \"/homes/80/kang/cmem/data/01_raw/\"\n",
    "df = pd.read_pickle(dir0+'GPN.pkl')\n",
    "d = df[['symbol','date','timeHMs','timeHMe','qty']]\n",
    "g = d.groupby('timeHMs')\n",
    "lst = []\n",
    "for idx, itm in g:\n",
    "    pass\n",
    "    value = itm.shift(1).rolling(5).mean()\n",
    "    # itm.shift(-1).rolling(5).mean()\n",
    "    value.date = itm.date\n",
    "    lst.append(value)\n",
    "f = pd.concat(lst,axis=0)\n",
    "f['symbol'] = 'GPN'\n",
    "ff = f.sort_index().dropna()\n",
    "# ff.to_csv(dir1+name[:-4]+\".csv\")"
   ]
  },
  {
   "cell_type": "code",
   "execution_count": 17,
   "metadata": {},
   "outputs": [
    {
     "name": "stderr",
     "output_type": "stream",
     "text": [
      "/tmp/ipykernel_3531674/891712038.py:9: FutureWarning: Dropping of nuisance columns in rolling operations is deprecated; in a future version this will raise TypeError. Select only valid columns before calling the operation. Dropped columns were Index(['symbol'], dtype='object')\n",
      "  value = itm.shift(1).rolling(5).mean()\n"
     ]
    }
   ],
   "source": [
    "dir0= \"/homes/80/kang/cmem/data/01_raw/\"\n",
    "dir1= \"/homes/80/kang/cmem/data/01_raw_rolling_mean_15min_bin/\"\n",
    "df = pd.read_pickle(dir0+'GPN.pkl')\n",
    "d = df[['symbol','date','timeHMs','timeHMe','qty']]\n",
    "g = d.groupby('timeHMs')\n",
    "lst = []\n",
    "for idx, itm in g:\n",
    "    pass\n",
    "    value = itm.shift(1).rolling(5).mean()\n",
    "    # itm.shift(-1).rolling(5).mean()\n",
    "    value.date = itm.date\n",
    "    lst.append(value)\n",
    "f = pd.concat(lst,axis=0)\n",
    "f['symbol'] = 'GPN'\n",
    "ff = f.sort_index().dropna()\n",
    "ff.to_csv(dir1+'GPN'+\".csv\")"
   ]
  },
  {
   "cell_type": "code",
   "execution_count": 18,
   "metadata": {},
   "outputs": [
    {
     "data": {
      "text/html": [
       "<div>\n",
       "<style scoped>\n",
       "    .dataframe tbody tr th:only-of-type {\n",
       "        vertical-align: middle;\n",
       "    }\n",
       "\n",
       "    .dataframe tbody tr th {\n",
       "        vertical-align: top;\n",
       "    }\n",
       "\n",
       "    .dataframe thead th {\n",
       "        text-align: right;\n",
       "    }\n",
       "</style>\n",
       "<table border=\"1\" class=\"dataframe\">\n",
       "  <thead>\n",
       "    <tr style=\"text-align: right;\">\n",
       "      <th></th>\n",
       "      <th>date</th>\n",
       "      <th>timeHMs</th>\n",
       "      <th>timeHMe</th>\n",
       "      <th>qty</th>\n",
       "      <th>symbol</th>\n",
       "    </tr>\n",
       "    <tr>\n",
       "      <th>groupper</th>\n",
       "      <th></th>\n",
       "      <th></th>\n",
       "      <th></th>\n",
       "      <th></th>\n",
       "      <th></th>\n",
       "    </tr>\n",
       "  </thead>\n",
       "  <tbody>\n",
       "    <tr>\n",
       "      <th>2017-07-12 09:30:00</th>\n",
       "      <td>20170712</td>\n",
       "      <td>930.0</td>\n",
       "      <td>945.0</td>\n",
       "      <td>8025.4</td>\n",
       "      <td>GPN</td>\n",
       "    </tr>\n",
       "    <tr>\n",
       "      <th>2017-07-12 09:45:00</th>\n",
       "      <td>20170712</td>\n",
       "      <td>945.0</td>\n",
       "      <td>1000.0</td>\n",
       "      <td>9972.9</td>\n",
       "      <td>GPN</td>\n",
       "    </tr>\n",
       "    <tr>\n",
       "      <th>2017-07-12 10:00:00</th>\n",
       "      <td>20170712</td>\n",
       "      <td>1000.0</td>\n",
       "      <td>1015.0</td>\n",
       "      <td>8015.7</td>\n",
       "      <td>GPN</td>\n",
       "    </tr>\n",
       "    <tr>\n",
       "      <th>2017-07-12 10:15:00</th>\n",
       "      <td>20170712</td>\n",
       "      <td>1015.0</td>\n",
       "      <td>1030.0</td>\n",
       "      <td>7313.7</td>\n",
       "      <td>GPN</td>\n",
       "    </tr>\n",
       "    <tr>\n",
       "      <th>2017-07-12 10:30:00</th>\n",
       "      <td>20170712</td>\n",
       "      <td>1030.0</td>\n",
       "      <td>1045.0</td>\n",
       "      <td>10599.1</td>\n",
       "      <td>GPN</td>\n",
       "    </tr>\n",
       "    <tr>\n",
       "      <th>...</th>\n",
       "      <td>...</td>\n",
       "      <td>...</td>\n",
       "      <td>...</td>\n",
       "      <td>...</td>\n",
       "      <td>...</td>\n",
       "    </tr>\n",
       "    <tr>\n",
       "      <th>2017-12-29 14:30:00</th>\n",
       "      <td>20171229</td>\n",
       "      <td>1430.0</td>\n",
       "      <td>1445.0</td>\n",
       "      <td>4117.5</td>\n",
       "      <td>GPN</td>\n",
       "    </tr>\n",
       "    <tr>\n",
       "      <th>2017-12-29 14:45:00</th>\n",
       "      <td>20171229</td>\n",
       "      <td>1445.0</td>\n",
       "      <td>1500.0</td>\n",
       "      <td>5988.8</td>\n",
       "      <td>GPN</td>\n",
       "    </tr>\n",
       "    <tr>\n",
       "      <th>2017-12-29 15:00:00</th>\n",
       "      <td>20171229</td>\n",
       "      <td>1500.0</td>\n",
       "      <td>1515.0</td>\n",
       "      <td>8079.5</td>\n",
       "      <td>GPN</td>\n",
       "    </tr>\n",
       "    <tr>\n",
       "      <th>2017-12-29 15:15:00</th>\n",
       "      <td>20171229</td>\n",
       "      <td>1515.0</td>\n",
       "      <td>1530.0</td>\n",
       "      <td>8459.0</td>\n",
       "      <td>GPN</td>\n",
       "    </tr>\n",
       "    <tr>\n",
       "      <th>2017-12-29 15:30:00</th>\n",
       "      <td>20171229</td>\n",
       "      <td>1530.0</td>\n",
       "      <td>1545.0</td>\n",
       "      <td>7727.0</td>\n",
       "      <td>GPN</td>\n",
       "    </tr>\n",
       "  </tbody>\n",
       "</table>\n",
       "<p>3092 rows × 5 columns</p>\n",
       "</div>"
      ],
      "text/plain": [
       "                         date  timeHMs  timeHMe      qty symbol\n",
       "groupper                                                       \n",
       "2017-07-12 09:30:00  20170712    930.0    945.0   8025.4    GPN\n",
       "2017-07-12 09:45:00  20170712    945.0   1000.0   9972.9    GPN\n",
       "2017-07-12 10:00:00  20170712   1000.0   1015.0   8015.7    GPN\n",
       "2017-07-12 10:15:00  20170712   1015.0   1030.0   7313.7    GPN\n",
       "2017-07-12 10:30:00  20170712   1030.0   1045.0  10599.1    GPN\n",
       "...                       ...      ...      ...      ...    ...\n",
       "2017-12-29 14:30:00  20171229   1430.0   1445.0   4117.5    GPN\n",
       "2017-12-29 14:45:00  20171229   1445.0   1500.0   5988.8    GPN\n",
       "2017-12-29 15:00:00  20171229   1500.0   1515.0   8079.5    GPN\n",
       "2017-12-29 15:15:00  20171229   1515.0   1530.0   8459.0    GPN\n",
       "2017-12-29 15:30:00  20171229   1530.0   1545.0   7727.0    GPN\n",
       "\n",
       "[3092 rows x 5 columns]"
      ]
     },
     "execution_count": 18,
     "metadata": {},
     "output_type": "execute_result"
    }
   ],
   "source": [
    "ff"
   ]
  },
  {
   "cell_type": "code",
   "execution_count": 10,
   "metadata": {},
   "outputs": [
    {
     "data": {
      "text/html": [
       "<div>\n",
       "<style scoped>\n",
       "    .dataframe tbody tr th:only-of-type {\n",
       "        vertical-align: middle;\n",
       "    }\n",
       "\n",
       "    .dataframe tbody tr th {\n",
       "        vertical-align: top;\n",
       "    }\n",
       "\n",
       "    .dataframe thead th {\n",
       "        text-align: right;\n",
       "    }\n",
       "</style>\n",
       "<table border=\"1\" class=\"dataframe\">\n",
       "  <thead>\n",
       "    <tr style=\"text-align: right;\">\n",
       "      <th></th>\n",
       "      <th>date</th>\n",
       "      <th>timeHMs</th>\n",
       "      <th>timeHMe</th>\n",
       "      <th>qty</th>\n",
       "      <th>symbol</th>\n",
       "    </tr>\n",
       "    <tr>\n",
       "      <th>groupper</th>\n",
       "      <th></th>\n",
       "      <th></th>\n",
       "      <th></th>\n",
       "      <th></th>\n",
       "      <th></th>\n",
       "    </tr>\n",
       "  </thead>\n",
       "  <tbody>\n",
       "    <tr>\n",
       "      <th>2017-07-05 09:30:00</th>\n",
       "      <td>20170705</td>\n",
       "      <td>NaN</td>\n",
       "      <td>NaN</td>\n",
       "      <td>NaN</td>\n",
       "      <td>NaN</td>\n",
       "    </tr>\n",
       "    <tr>\n",
       "      <th>2017-07-05 09:45:00</th>\n",
       "      <td>20170705</td>\n",
       "      <td>NaN</td>\n",
       "      <td>NaN</td>\n",
       "      <td>NaN</td>\n",
       "      <td>NaN</td>\n",
       "    </tr>\n",
       "    <tr>\n",
       "      <th>2017-07-05 10:00:00</th>\n",
       "      <td>20170705</td>\n",
       "      <td>NaN</td>\n",
       "      <td>NaN</td>\n",
       "      <td>NaN</td>\n",
       "      <td>NaN</td>\n",
       "    </tr>\n",
       "    <tr>\n",
       "      <th>2017-07-05 10:15:00</th>\n",
       "      <td>20170705</td>\n",
       "      <td>NaN</td>\n",
       "      <td>NaN</td>\n",
       "      <td>NaN</td>\n",
       "      <td>NaN</td>\n",
       "    </tr>\n",
       "    <tr>\n",
       "      <th>2017-07-05 10:30:00</th>\n",
       "      <td>20170705</td>\n",
       "      <td>NaN</td>\n",
       "      <td>NaN</td>\n",
       "      <td>NaN</td>\n",
       "      <td>NaN</td>\n",
       "    </tr>\n",
       "    <tr>\n",
       "      <th>...</th>\n",
       "      <td>...</td>\n",
       "      <td>...</td>\n",
       "      <td>...</td>\n",
       "      <td>...</td>\n",
       "      <td>...</td>\n",
       "    </tr>\n",
       "    <tr>\n",
       "      <th>2017-12-29 14:30:00</th>\n",
       "      <td>20171229</td>\n",
       "      <td>1430.0</td>\n",
       "      <td>1445.0</td>\n",
       "      <td>4117.5</td>\n",
       "      <td>NaN</td>\n",
       "    </tr>\n",
       "    <tr>\n",
       "      <th>2017-12-29 14:45:00</th>\n",
       "      <td>20171229</td>\n",
       "      <td>1445.0</td>\n",
       "      <td>1500.0</td>\n",
       "      <td>5988.8</td>\n",
       "      <td>NaN</td>\n",
       "    </tr>\n",
       "    <tr>\n",
       "      <th>2017-12-29 15:00:00</th>\n",
       "      <td>20171229</td>\n",
       "      <td>1500.0</td>\n",
       "      <td>1515.0</td>\n",
       "      <td>8079.5</td>\n",
       "      <td>NaN</td>\n",
       "    </tr>\n",
       "    <tr>\n",
       "      <th>2017-12-29 15:15:00</th>\n",
       "      <td>20171229</td>\n",
       "      <td>1515.0</td>\n",
       "      <td>1530.0</td>\n",
       "      <td>8459.0</td>\n",
       "      <td>NaN</td>\n",
       "    </tr>\n",
       "    <tr>\n",
       "      <th>2017-12-29 15:30:00</th>\n",
       "      <td>20171229</td>\n",
       "      <td>1530.0</td>\n",
       "      <td>1545.0</td>\n",
       "      <td>7727.0</td>\n",
       "      <td>NaN</td>\n",
       "    </tr>\n",
       "  </tbody>\n",
       "</table>\n",
       "<p>3223 rows × 5 columns</p>\n",
       "</div>"
      ],
      "text/plain": [
       "                         date  timeHMs  timeHMe     qty  symbol\n",
       "groupper                                                       \n",
       "2017-07-05 09:30:00  20170705      NaN      NaN     NaN     NaN\n",
       "2017-07-05 09:45:00  20170705      NaN      NaN     NaN     NaN\n",
       "2017-07-05 10:00:00  20170705      NaN      NaN     NaN     NaN\n",
       "2017-07-05 10:15:00  20170705      NaN      NaN     NaN     NaN\n",
       "2017-07-05 10:30:00  20170705      NaN      NaN     NaN     NaN\n",
       "...                       ...      ...      ...     ...     ...\n",
       "2017-12-29 14:30:00  20171229   1430.0   1445.0  4117.5     NaN\n",
       "2017-12-29 14:45:00  20171229   1445.0   1500.0  5988.8     NaN\n",
       "2017-12-29 15:00:00  20171229   1500.0   1515.0  8079.5     NaN\n",
       "2017-12-29 15:15:00  20171229   1515.0   1530.0  8459.0     NaN\n",
       "2017-12-29 15:30:00  20171229   1530.0   1545.0  7727.0     NaN\n",
       "\n",
       "[3223 rows x 5 columns]"
      ]
     },
     "execution_count": 10,
     "metadata": {},
     "output_type": "execute_result"
    }
   ],
   "source": [
    "f.sort_index()"
   ]
  },
  {
   "cell_type": "code",
   "execution_count": 3,
   "metadata": {},
   "outputs": [
    {
     "data": {
      "text/html": [
       "<div>\n",
       "<style scoped>\n",
       "    .dataframe tbody tr th:only-of-type {\n",
       "        vertical-align: middle;\n",
       "    }\n",
       "\n",
       "    .dataframe tbody tr th {\n",
       "        vertical-align: top;\n",
       "    }\n",
       "\n",
       "    .dataframe thead th {\n",
       "        text-align: right;\n",
       "    }\n",
       "</style>\n",
       "<table border=\"1\" class=\"dataframe\">\n",
       "  <thead>\n",
       "    <tr style=\"text-align: right;\">\n",
       "      <th></th>\n",
       "      <th>symbol</th>\n",
       "      <th>date</th>\n",
       "      <th>timeHMs</th>\n",
       "      <th>timeHMe</th>\n",
       "      <th>intrSn</th>\n",
       "      <th>ntn</th>\n",
       "      <th>volBuyNotional</th>\n",
       "      <th>volSellNotional</th>\n",
       "      <th>nrTrades</th>\n",
       "      <th>ntr</th>\n",
       "      <th>volBuyNrTrades_lit</th>\n",
       "      <th>volSellNrTrades_lit</th>\n",
       "      <th>volBuyQty</th>\n",
       "      <th>volSellQty</th>\n",
       "      <th>qty</th>\n",
       "      <th>VO</th>\n",
       "      <th>vwap_price</th>\n",
       "    </tr>\n",
       "    <tr>\n",
       "      <th>groupper</th>\n",
       "      <th></th>\n",
       "      <th></th>\n",
       "      <th></th>\n",
       "      <th></th>\n",
       "      <th></th>\n",
       "      <th></th>\n",
       "      <th></th>\n",
       "      <th></th>\n",
       "      <th></th>\n",
       "      <th></th>\n",
       "      <th></th>\n",
       "      <th></th>\n",
       "      <th></th>\n",
       "      <th></th>\n",
       "      <th></th>\n",
       "      <th></th>\n",
       "      <th></th>\n",
       "    </tr>\n",
       "  </thead>\n",
       "  <tbody>\n",
       "    <tr>\n",
       "      <th>2017-07-05 09:30:00</th>\n",
       "      <td>GPN</td>\n",
       "      <td>20170705</td>\n",
       "      <td>930.0</td>\n",
       "      <td>945.0</td>\n",
       "      <td>0.0</td>\n",
       "      <td>524385.5</td>\n",
       "      <td>226116.5</td>\n",
       "      <td>209795.0</td>\n",
       "      <td>129.0</td>\n",
       "      <td>55.0</td>\n",
       "      <td>25.0</td>\n",
       "      <td>27.5</td>\n",
       "      <td>2500.0</td>\n",
       "      <td>2322.5</td>\n",
       "      <td>5799.5</td>\n",
       "      <td>106.940253</td>\n",
       "      <td>9.045939e+05</td>\n",
       "    </tr>\n",
       "    <tr>\n",
       "      <th>2017-07-05 09:45:00</th>\n",
       "      <td>GPN</td>\n",
       "      <td>20170705</td>\n",
       "      <td>945.0</td>\n",
       "      <td>1000.0</td>\n",
       "      <td>0.0</td>\n",
       "      <td>1079905.5</td>\n",
       "      <td>421766.5</td>\n",
       "      <td>617973.0</td>\n",
       "      <td>124.0</td>\n",
       "      <td>128.0</td>\n",
       "      <td>36.5</td>\n",
       "      <td>85.0</td>\n",
       "      <td>4688.0</td>\n",
       "      <td>6864.5</td>\n",
       "      <td>12001.5</td>\n",
       "      <td>8.878057</td>\n",
       "      <td>8.994650e+05</td>\n",
       "    </tr>\n",
       "    <tr>\n",
       "      <th>2017-07-05 10:00:00</th>\n",
       "      <td>GPN</td>\n",
       "      <td>20170705</td>\n",
       "      <td>1000.0</td>\n",
       "      <td>1015.0</td>\n",
       "      <td>1.0</td>\n",
       "      <td>1171871.0</td>\n",
       "      <td>520485.0</td>\n",
       "      <td>474041.0</td>\n",
       "      <td>66.0</td>\n",
       "      <td>122.5</td>\n",
       "      <td>45.5</td>\n",
       "      <td>62.5</td>\n",
       "      <td>5805.5</td>\n",
       "      <td>5286.0</td>\n",
       "      <td>13067.0</td>\n",
       "      <td>-16.442183</td>\n",
       "      <td>8.967671e+05</td>\n",
       "    </tr>\n",
       "    <tr>\n",
       "      <th>2017-07-05 10:15:00</th>\n",
       "      <td>GPN</td>\n",
       "      <td>20170705</td>\n",
       "      <td>1015.0</td>\n",
       "      <td>1030.0</td>\n",
       "      <td>1.0</td>\n",
       "      <td>978295.5</td>\n",
       "      <td>375983.5</td>\n",
       "      <td>521809.0</td>\n",
       "      <td>127.0</td>\n",
       "      <td>145.0</td>\n",
       "      <td>69.5</td>\n",
       "      <td>80.0</td>\n",
       "      <td>4198.0</td>\n",
       "      <td>5825.0</td>\n",
       "      <td>10918.5</td>\n",
       "      <td>-2.330906</td>\n",
       "      <td>8.959723e+05</td>\n",
       "    </tr>\n",
       "    <tr>\n",
       "      <th>2017-07-05 10:30:00</th>\n",
       "      <td>GPN</td>\n",
       "      <td>20170705</td>\n",
       "      <td>1030.0</td>\n",
       "      <td>1045.0</td>\n",
       "      <td>1.0</td>\n",
       "      <td>957767.0</td>\n",
       "      <td>486370.0</td>\n",
       "      <td>417021.0</td>\n",
       "      <td>106.0</td>\n",
       "      <td>105.0</td>\n",
       "      <td>66.0</td>\n",
       "      <td>50.5</td>\n",
       "      <td>5415.5</td>\n",
       "      <td>4642.0</td>\n",
       "      <td>10664.0</td>\n",
       "      <td>11.313766</td>\n",
       "      <td>8.986915e+05</td>\n",
       "    </tr>\n",
       "    <tr>\n",
       "      <th>...</th>\n",
       "      <td>...</td>\n",
       "      <td>...</td>\n",
       "      <td>...</td>\n",
       "      <td>...</td>\n",
       "      <td>...</td>\n",
       "      <td>...</td>\n",
       "      <td>...</td>\n",
       "      <td>...</td>\n",
       "      <td>...</td>\n",
       "      <td>...</td>\n",
       "      <td>...</td>\n",
       "      <td>...</td>\n",
       "      <td>...</td>\n",
       "      <td>...</td>\n",
       "      <td>...</td>\n",
       "      <td>...</td>\n",
       "      <td>...</td>\n",
       "    </tr>\n",
       "    <tr>\n",
       "      <th>2017-12-29 14:30:00</th>\n",
       "      <td>GPN</td>\n",
       "      <td>20171229</td>\n",
       "      <td>1430.0</td>\n",
       "      <td>1445.0</td>\n",
       "      <td>1.0</td>\n",
       "      <td>552712.5</td>\n",
       "      <td>196917.0</td>\n",
       "      <td>86521.0</td>\n",
       "      <td>125.0</td>\n",
       "      <td>69.5</td>\n",
       "      <td>23.5</td>\n",
       "      <td>32.0</td>\n",
       "      <td>1959.0</td>\n",
       "      <td>860.5</td>\n",
       "      <td>5498.5</td>\n",
       "      <td>60.407384</td>\n",
       "      <td>1.005359e+06</td>\n",
       "    </tr>\n",
       "    <tr>\n",
       "      <th>2017-12-29 14:45:00</th>\n",
       "      <td>GPN</td>\n",
       "      <td>20171229</td>\n",
       "      <td>1445.0</td>\n",
       "      <td>1500.0</td>\n",
       "      <td>1.0</td>\n",
       "      <td>886252.5</td>\n",
       "      <td>205292.0</td>\n",
       "      <td>148455.0</td>\n",
       "      <td>160.5</td>\n",
       "      <td>97.5</td>\n",
       "      <td>35.5</td>\n",
       "      <td>28.5</td>\n",
       "      <td>2043.0</td>\n",
       "      <td>1477.0</td>\n",
       "      <td>8820.0</td>\n",
       "      <td>5.685941</td>\n",
       "      <td>1.004964e+06</td>\n",
       "    </tr>\n",
       "    <tr>\n",
       "      <th>2017-12-29 15:00:00</th>\n",
       "      <td>GPN</td>\n",
       "      <td>20171229</td>\n",
       "      <td>1500.0</td>\n",
       "      <td>1515.0</td>\n",
       "      <td>1.0</td>\n",
       "      <td>936737.0</td>\n",
       "      <td>283212.5</td>\n",
       "      <td>252016.0</td>\n",
       "      <td>83.0</td>\n",
       "      <td>118.0</td>\n",
       "      <td>48.0</td>\n",
       "      <td>39.5</td>\n",
       "      <td>2819.0</td>\n",
       "      <td>2507.5</td>\n",
       "      <td>9321.5</td>\n",
       "      <td>-5.626777</td>\n",
       "      <td>1.004760e+06</td>\n",
       "    </tr>\n",
       "    <tr>\n",
       "      <th>2017-12-29 15:15:00</th>\n",
       "      <td>GPN</td>\n",
       "      <td>20171229</td>\n",
       "      <td>1515.0</td>\n",
       "      <td>1530.0</td>\n",
       "      <td>1.0</td>\n",
       "      <td>884329.5</td>\n",
       "      <td>274666.0</td>\n",
       "      <td>312370.5</td>\n",
       "      <td>110.0</td>\n",
       "      <td>129.5</td>\n",
       "      <td>44.0</td>\n",
       "      <td>36.0</td>\n",
       "      <td>2733.0</td>\n",
       "      <td>3107.0</td>\n",
       "      <td>8797.0</td>\n",
       "      <td>51.324315</td>\n",
       "      <td>1.004914e+06</td>\n",
       "    </tr>\n",
       "    <tr>\n",
       "      <th>2017-12-29 15:30:00</th>\n",
       "      <td>GPN</td>\n",
       "      <td>20171229</td>\n",
       "      <td>1530.0</td>\n",
       "      <td>1545.0</td>\n",
       "      <td>2.0</td>\n",
       "      <td>1338691.5</td>\n",
       "      <td>732802.5</td>\n",
       "      <td>528027.5</td>\n",
       "      <td>96.5</td>\n",
       "      <td>162.5</td>\n",
       "      <td>84.5</td>\n",
       "      <td>74.5</td>\n",
       "      <td>7287.5</td>\n",
       "      <td>5250.5</td>\n",
       "      <td>13312.0</td>\n",
       "      <td>44.151893</td>\n",
       "      <td>1.005675e+06</td>\n",
       "    </tr>\n",
       "  </tbody>\n",
       "</table>\n",
       "<p>3223 rows × 17 columns</p>\n",
       "</div>"
      ],
      "text/plain": [
       "                    symbol      date  timeHMs  timeHMe  intrSn        ntn  \\\n",
       "groupper                                                                    \n",
       "2017-07-05 09:30:00    GPN  20170705    930.0    945.0     0.0   524385.5   \n",
       "2017-07-05 09:45:00    GPN  20170705    945.0   1000.0     0.0  1079905.5   \n",
       "2017-07-05 10:00:00    GPN  20170705   1000.0   1015.0     1.0  1171871.0   \n",
       "2017-07-05 10:15:00    GPN  20170705   1015.0   1030.0     1.0   978295.5   \n",
       "2017-07-05 10:30:00    GPN  20170705   1030.0   1045.0     1.0   957767.0   \n",
       "...                    ...       ...      ...      ...     ...        ...   \n",
       "2017-12-29 14:30:00    GPN  20171229   1430.0   1445.0     1.0   552712.5   \n",
       "2017-12-29 14:45:00    GPN  20171229   1445.0   1500.0     1.0   886252.5   \n",
       "2017-12-29 15:00:00    GPN  20171229   1500.0   1515.0     1.0   936737.0   \n",
       "2017-12-29 15:15:00    GPN  20171229   1515.0   1530.0     1.0   884329.5   \n",
       "2017-12-29 15:30:00    GPN  20171229   1530.0   1545.0     2.0  1338691.5   \n",
       "\n",
       "                     volBuyNotional  volSellNotional  nrTrades    ntr  \\\n",
       "groupper                                                                \n",
       "2017-07-05 09:30:00        226116.5         209795.0     129.0   55.0   \n",
       "2017-07-05 09:45:00        421766.5         617973.0     124.0  128.0   \n",
       "2017-07-05 10:00:00        520485.0         474041.0      66.0  122.5   \n",
       "2017-07-05 10:15:00        375983.5         521809.0     127.0  145.0   \n",
       "2017-07-05 10:30:00        486370.0         417021.0     106.0  105.0   \n",
       "...                             ...              ...       ...    ...   \n",
       "2017-12-29 14:30:00        196917.0          86521.0     125.0   69.5   \n",
       "2017-12-29 14:45:00        205292.0         148455.0     160.5   97.5   \n",
       "2017-12-29 15:00:00        283212.5         252016.0      83.0  118.0   \n",
       "2017-12-29 15:15:00        274666.0         312370.5     110.0  129.5   \n",
       "2017-12-29 15:30:00        732802.5         528027.5      96.5  162.5   \n",
       "\n",
       "                     volBuyNrTrades_lit  volSellNrTrades_lit  volBuyQty  \\\n",
       "groupper                                                                  \n",
       "2017-07-05 09:30:00                25.0                 27.5     2500.0   \n",
       "2017-07-05 09:45:00                36.5                 85.0     4688.0   \n",
       "2017-07-05 10:00:00                45.5                 62.5     5805.5   \n",
       "2017-07-05 10:15:00                69.5                 80.0     4198.0   \n",
       "2017-07-05 10:30:00                66.0                 50.5     5415.5   \n",
       "...                                 ...                  ...        ...   \n",
       "2017-12-29 14:30:00                23.5                 32.0     1959.0   \n",
       "2017-12-29 14:45:00                35.5                 28.5     2043.0   \n",
       "2017-12-29 15:00:00                48.0                 39.5     2819.0   \n",
       "2017-12-29 15:15:00                44.0                 36.0     2733.0   \n",
       "2017-12-29 15:30:00                84.5                 74.5     7287.5   \n",
       "\n",
       "                     volSellQty      qty          VO    vwap_price  \n",
       "groupper                                                            \n",
       "2017-07-05 09:30:00      2322.5   5799.5  106.940253  9.045939e+05  \n",
       "2017-07-05 09:45:00      6864.5  12001.5    8.878057  8.994650e+05  \n",
       "2017-07-05 10:00:00      5286.0  13067.0  -16.442183  8.967671e+05  \n",
       "2017-07-05 10:15:00      5825.0  10918.5   -2.330906  8.959723e+05  \n",
       "2017-07-05 10:30:00      4642.0  10664.0   11.313766  8.986915e+05  \n",
       "...                         ...      ...         ...           ...  \n",
       "2017-12-29 14:30:00       860.5   5498.5   60.407384  1.005359e+06  \n",
       "2017-12-29 14:45:00      1477.0   8820.0    5.685941  1.004964e+06  \n",
       "2017-12-29 15:00:00      2507.5   9321.5   -5.626777  1.004760e+06  \n",
       "2017-12-29 15:15:00      3107.0   8797.0   51.324315  1.004914e+06  \n",
       "2017-12-29 15:30:00      5250.5  13312.0   44.151893  1.005675e+06  \n",
       "\n",
       "[3223 rows x 17 columns]"
      ]
     },
     "execution_count": 3,
     "metadata": {},
     "output_type": "execute_result"
    }
   ],
   "source": [
    "df"
   ]
  },
  {
   "cell_type": "code",
   "execution_count": null,
   "metadata": {},
   "outputs": [],
   "source": [
    "from os import listdir\n",
    "from os.path import isfile, join\n",
    "import pandas as pd\n",
    "dir0= \"/homes/80/kang/cmem/data/01_raw/\"\n",
    "dir1= \"/homes/80/kang/cmem/data/01_raw_rolling_mean_15min_bin/\"\n",
    "onlyFiles = sorted([f for f in listdir(dir0) if isfile(join(dir0, f))])\n",
    "from tqdm import tqdm\n",
    "for i in tqdm(range(len(onlyFiles))):\n",
    "    \n",
    "    name = onlyFiles[i]\n",
    "    df = pd.read_pickle(dir0+name)\n",
    "    d = df[['symbol','date','timeHMs','timeHMe','qty']]\n",
    "    g = d.groupby('timeHMs')\n",
    "    lst = []\n",
    "    for idx, itm in g:\n",
    "        pass\n",
    "        value = itm.shift(1).rolling(5).mean()\n",
    "        # itm.shift(-1).rolling(5).mean()\n",
    "        value.date = itm.date\n",
    "        lst.append(value)\n",
    "    # itm.qty[:5].mean()\n",
    "    f = pd.concat(lst,axis=0)\n",
    "    f['symbol'] = name[:-4]\n",
    "    ff = f.sort_index().dropna()\n",
    "    ff.to_csv(dir1+name[:-4]+\".csv\")"
   ]
  },
  {
   "cell_type": "code",
   "execution_count": 2,
   "metadata": {},
   "outputs": [
    {
     "name": "stdout",
     "output_type": "stream",
     "text": [
      "0\n",
      "1\n"
     ]
    },
    {
     "name": "stderr",
     "output_type": "stream",
     "text": [
      "/tmp/ipykernel_680050/1747786216.py:16: FutureWarning: Dropping of nuisance columns in rolling operations is deprecated; in a future version this will raise TypeError. Select only valid columns before calling the operation. Dropped columns were Index(['symbol'], dtype='object')\n",
      "  value = itm.shift(1).rolling(5).mean()\n",
      "/tmp/ipykernel_680050/1747786216.py:16: FutureWarning: Dropping of nuisance columns in rolling operations is deprecated; in a future version this will raise TypeError. Select only valid columns before calling the operation. Dropped columns were Index(['symbol'], dtype='object')\n",
      "  value = itm.shift(1).rolling(5).mean()\n"
     ]
    },
    {
     "name": "stdout",
     "output_type": "stream",
     "text": [
      "2\n",
      "3\n"
     ]
    },
    {
     "name": "stderr",
     "output_type": "stream",
     "text": [
      "/tmp/ipykernel_680050/1747786216.py:16: FutureWarning: Dropping of nuisance columns in rolling operations is deprecated; in a future version this will raise TypeError. Select only valid columns before calling the operation. Dropped columns were Index(['symbol'], dtype='object')\n",
      "  value = itm.shift(1).rolling(5).mean()\n",
      "/tmp/ipykernel_680050/1747786216.py:16: FutureWarning: Dropping of nuisance columns in rolling operations is deprecated; in a future version this will raise TypeError. Select only valid columns before calling the operation. Dropped columns were Index(['symbol'], dtype='object')\n",
      "  value = itm.shift(1).rolling(5).mean()\n"
     ]
    },
    {
     "name": "stdout",
     "output_type": "stream",
     "text": [
      "4\n",
      "5\n"
     ]
    },
    {
     "name": "stderr",
     "output_type": "stream",
     "text": [
      "/tmp/ipykernel_680050/1747786216.py:16: FutureWarning: Dropping of nuisance columns in rolling operations is deprecated; in a future version this will raise TypeError. Select only valid columns before calling the operation. Dropped columns were Index(['symbol'], dtype='object')\n",
      "  value = itm.shift(1).rolling(5).mean()\n",
      "/tmp/ipykernel_680050/1747786216.py:16: FutureWarning: Dropping of nuisance columns in rolling operations is deprecated; in a future version this will raise TypeError. Select only valid columns before calling the operation. Dropped columns were Index(['symbol'], dtype='object')\n",
      "  value = itm.shift(1).rolling(5).mean()\n"
     ]
    },
    {
     "name": "stdout",
     "output_type": "stream",
     "text": [
      "6\n",
      "7\n"
     ]
    },
    {
     "name": "stderr",
     "output_type": "stream",
     "text": [
      "/tmp/ipykernel_680050/1747786216.py:16: FutureWarning: Dropping of nuisance columns in rolling operations is deprecated; in a future version this will raise TypeError. Select only valid columns before calling the operation. Dropped columns were Index(['symbol'], dtype='object')\n",
      "  value = itm.shift(1).rolling(5).mean()\n",
      "/tmp/ipykernel_680050/1747786216.py:16: FutureWarning: Dropping of nuisance columns in rolling operations is deprecated; in a future version this will raise TypeError. Select only valid columns before calling the operation. Dropped columns were Index(['symbol'], dtype='object')\n",
      "  value = itm.shift(1).rolling(5).mean()\n"
     ]
    },
    {
     "name": "stdout",
     "output_type": "stream",
     "text": [
      "8\n",
      "9\n"
     ]
    },
    {
     "name": "stderr",
     "output_type": "stream",
     "text": [
      "/tmp/ipykernel_680050/1747786216.py:16: FutureWarning: Dropping of nuisance columns in rolling operations is deprecated; in a future version this will raise TypeError. Select only valid columns before calling the operation. Dropped columns were Index(['symbol'], dtype='object')\n",
      "  value = itm.shift(1).rolling(5).mean()\n",
      "/tmp/ipykernel_680050/1747786216.py:16: FutureWarning: Dropping of nuisance columns in rolling operations is deprecated; in a future version this will raise TypeError. Select only valid columns before calling the operation. Dropped columns were Index(['symbol'], dtype='object')\n",
      "  value = itm.shift(1).rolling(5).mean()\n"
     ]
    },
    {
     "name": "stdout",
     "output_type": "stream",
     "text": [
      "10\n",
      "11\n"
     ]
    },
    {
     "name": "stderr",
     "output_type": "stream",
     "text": [
      "/tmp/ipykernel_680050/1747786216.py:16: FutureWarning: Dropping of nuisance columns in rolling operations is deprecated; in a future version this will raise TypeError. Select only valid columns before calling the operation. Dropped columns were Index(['symbol'], dtype='object')\n",
      "  value = itm.shift(1).rolling(5).mean()\n",
      "/tmp/ipykernel_680050/1747786216.py:16: FutureWarning: Dropping of nuisance columns in rolling operations is deprecated; in a future version this will raise TypeError. Select only valid columns before calling the operation. Dropped columns were Index(['symbol'], dtype='object')\n",
      "  value = itm.shift(1).rolling(5).mean()\n"
     ]
    },
    {
     "name": "stdout",
     "output_type": "stream",
     "text": [
      "12\n",
      "13\n"
     ]
    },
    {
     "name": "stderr",
     "output_type": "stream",
     "text": [
      "/tmp/ipykernel_680050/1747786216.py:16: FutureWarning: Dropping of nuisance columns in rolling operations is deprecated; in a future version this will raise TypeError. Select only valid columns before calling the operation. Dropped columns were Index(['symbol'], dtype='object')\n",
      "  value = itm.shift(1).rolling(5).mean()\n",
      "/tmp/ipykernel_680050/1747786216.py:16: FutureWarning: Dropping of nuisance columns in rolling operations is deprecated; in a future version this will raise TypeError. Select only valid columns before calling the operation. Dropped columns were Index(['symbol'], dtype='object')\n",
      "  value = itm.shift(1).rolling(5).mean()\n"
     ]
    },
    {
     "name": "stdout",
     "output_type": "stream",
     "text": [
      "14\n",
      "15\n"
     ]
    },
    {
     "name": "stderr",
     "output_type": "stream",
     "text": [
      "/tmp/ipykernel_680050/1747786216.py:16: FutureWarning: Dropping of nuisance columns in rolling operations is deprecated; in a future version this will raise TypeError. Select only valid columns before calling the operation. Dropped columns were Index(['symbol'], dtype='object')\n",
      "  value = itm.shift(1).rolling(5).mean()\n",
      "/tmp/ipykernel_680050/1747786216.py:16: FutureWarning: Dropping of nuisance columns in rolling operations is deprecated; in a future version this will raise TypeError. Select only valid columns before calling the operation. Dropped columns were Index(['symbol'], dtype='object')\n",
      "  value = itm.shift(1).rolling(5).mean()\n"
     ]
    },
    {
     "name": "stdout",
     "output_type": "stream",
     "text": [
      "16\n",
      "17\n"
     ]
    },
    {
     "name": "stderr",
     "output_type": "stream",
     "text": [
      "/tmp/ipykernel_680050/1747786216.py:16: FutureWarning: Dropping of nuisance columns in rolling operations is deprecated; in a future version this will raise TypeError. Select only valid columns before calling the operation. Dropped columns were Index(['symbol'], dtype='object')\n",
      "  value = itm.shift(1).rolling(5).mean()\n",
      "/tmp/ipykernel_680050/1747786216.py:16: FutureWarning: Dropping of nuisance columns in rolling operations is deprecated; in a future version this will raise TypeError. Select only valid columns before calling the operation. Dropped columns were Index(['symbol'], dtype='object')\n",
      "  value = itm.shift(1).rolling(5).mean()\n"
     ]
    },
    {
     "name": "stdout",
     "output_type": "stream",
     "text": [
      "18\n",
      "19\n"
     ]
    },
    {
     "name": "stderr",
     "output_type": "stream",
     "text": [
      "/tmp/ipykernel_680050/1747786216.py:16: FutureWarning: Dropping of nuisance columns in rolling operations is deprecated; in a future version this will raise TypeError. Select only valid columns before calling the operation. Dropped columns were Index(['symbol'], dtype='object')\n",
      "  value = itm.shift(1).rolling(5).mean()\n",
      "/tmp/ipykernel_680050/1747786216.py:16: FutureWarning: Dropping of nuisance columns in rolling operations is deprecated; in a future version this will raise TypeError. Select only valid columns before calling the operation. Dropped columns were Index(['symbol'], dtype='object')\n",
      "  value = itm.shift(1).rolling(5).mean()\n"
     ]
    },
    {
     "name": "stdout",
     "output_type": "stream",
     "text": [
      "20\n",
      "21\n"
     ]
    },
    {
     "name": "stderr",
     "output_type": "stream",
     "text": [
      "/tmp/ipykernel_680050/1747786216.py:16: FutureWarning: Dropping of nuisance columns in rolling operations is deprecated; in a future version this will raise TypeError. Select only valid columns before calling the operation. Dropped columns were Index(['symbol'], dtype='object')\n",
      "  value = itm.shift(1).rolling(5).mean()\n",
      "/tmp/ipykernel_680050/1747786216.py:16: FutureWarning: Dropping of nuisance columns in rolling operations is deprecated; in a future version this will raise TypeError. Select only valid columns before calling the operation. Dropped columns were Index(['symbol'], dtype='object')\n",
      "  value = itm.shift(1).rolling(5).mean()\n"
     ]
    },
    {
     "name": "stdout",
     "output_type": "stream",
     "text": [
      "22\n",
      "23\n"
     ]
    },
    {
     "name": "stderr",
     "output_type": "stream",
     "text": [
      "/tmp/ipykernel_680050/1747786216.py:16: FutureWarning: Dropping of nuisance columns in rolling operations is deprecated; in a future version this will raise TypeError. Select only valid columns before calling the operation. Dropped columns were Index(['symbol'], dtype='object')\n",
      "  value = itm.shift(1).rolling(5).mean()\n",
      "/tmp/ipykernel_680050/1747786216.py:16: FutureWarning: Dropping of nuisance columns in rolling operations is deprecated; in a future version this will raise TypeError. Select only valid columns before calling the operation. Dropped columns were Index(['symbol'], dtype='object')\n",
      "  value = itm.shift(1).rolling(5).mean()\n"
     ]
    },
    {
     "name": "stdout",
     "output_type": "stream",
     "text": [
      "24\n",
      "25\n"
     ]
    },
    {
     "name": "stderr",
     "output_type": "stream",
     "text": [
      "/tmp/ipykernel_680050/1747786216.py:16: FutureWarning: Dropping of nuisance columns in rolling operations is deprecated; in a future version this will raise TypeError. Select only valid columns before calling the operation. Dropped columns were Index(['symbol'], dtype='object')\n",
      "  value = itm.shift(1).rolling(5).mean()\n",
      "/tmp/ipykernel_680050/1747786216.py:16: FutureWarning: Dropping of nuisance columns in rolling operations is deprecated; in a future version this will raise TypeError. Select only valid columns before calling the operation. Dropped columns were Index(['symbol'], dtype='object')\n",
      "  value = itm.shift(1).rolling(5).mean()\n"
     ]
    },
    {
     "name": "stdout",
     "output_type": "stream",
     "text": [
      "26\n",
      "27\n"
     ]
    },
    {
     "name": "stderr",
     "output_type": "stream",
     "text": [
      "/tmp/ipykernel_680050/1747786216.py:16: FutureWarning: Dropping of nuisance columns in rolling operations is deprecated; in a future version this will raise TypeError. Select only valid columns before calling the operation. Dropped columns were Index(['symbol'], dtype='object')\n",
      "  value = itm.shift(1).rolling(5).mean()\n",
      "/tmp/ipykernel_680050/1747786216.py:16: FutureWarning: Dropping of nuisance columns in rolling operations is deprecated; in a future version this will raise TypeError. Select only valid columns before calling the operation. Dropped columns were Index(['symbol'], dtype='object')\n",
      "  value = itm.shift(1).rolling(5).mean()\n"
     ]
    },
    {
     "name": "stdout",
     "output_type": "stream",
     "text": [
      "28\n",
      "29\n"
     ]
    },
    {
     "name": "stderr",
     "output_type": "stream",
     "text": [
      "/tmp/ipykernel_680050/1747786216.py:16: FutureWarning: Dropping of nuisance columns in rolling operations is deprecated; in a future version this will raise TypeError. Select only valid columns before calling the operation. Dropped columns were Index(['symbol'], dtype='object')\n",
      "  value = itm.shift(1).rolling(5).mean()\n",
      "/tmp/ipykernel_680050/1747786216.py:16: FutureWarning: Dropping of nuisance columns in rolling operations is deprecated; in a future version this will raise TypeError. Select only valid columns before calling the operation. Dropped columns were Index(['symbol'], dtype='object')\n",
      "  value = itm.shift(1).rolling(5).mean()\n"
     ]
    },
    {
     "name": "stdout",
     "output_type": "stream",
     "text": [
      "30\n",
      "31\n"
     ]
    },
    {
     "name": "stderr",
     "output_type": "stream",
     "text": [
      "/tmp/ipykernel_680050/1747786216.py:16: FutureWarning: Dropping of nuisance columns in rolling operations is deprecated; in a future version this will raise TypeError. Select only valid columns before calling the operation. Dropped columns were Index(['symbol'], dtype='object')\n",
      "  value = itm.shift(1).rolling(5).mean()\n",
      "/tmp/ipykernel_680050/1747786216.py:16: FutureWarning: Dropping of nuisance columns in rolling operations is deprecated; in a future version this will raise TypeError. Select only valid columns before calling the operation. Dropped columns were Index(['symbol'], dtype='object')\n",
      "  value = itm.shift(1).rolling(5).mean()\n"
     ]
    },
    {
     "name": "stdout",
     "output_type": "stream",
     "text": [
      "32\n",
      "33\n"
     ]
    },
    {
     "name": "stderr",
     "output_type": "stream",
     "text": [
      "/tmp/ipykernel_680050/1747786216.py:16: FutureWarning: Dropping of nuisance columns in rolling operations is deprecated; in a future version this will raise TypeError. Select only valid columns before calling the operation. Dropped columns were Index(['symbol'], dtype='object')\n",
      "  value = itm.shift(1).rolling(5).mean()\n",
      "/tmp/ipykernel_680050/1747786216.py:16: FutureWarning: Dropping of nuisance columns in rolling operations is deprecated; in a future version this will raise TypeError. Select only valid columns before calling the operation. Dropped columns were Index(['symbol'], dtype='object')\n",
      "  value = itm.shift(1).rolling(5).mean()\n"
     ]
    },
    {
     "name": "stdout",
     "output_type": "stream",
     "text": [
      "34\n",
      "35\n"
     ]
    },
    {
     "name": "stderr",
     "output_type": "stream",
     "text": [
      "/tmp/ipykernel_680050/1747786216.py:16: FutureWarning: Dropping of nuisance columns in rolling operations is deprecated; in a future version this will raise TypeError. Select only valid columns before calling the operation. Dropped columns were Index(['symbol'], dtype='object')\n",
      "  value = itm.shift(1).rolling(5).mean()\n",
      "/tmp/ipykernel_680050/1747786216.py:16: FutureWarning: Dropping of nuisance columns in rolling operations is deprecated; in a future version this will raise TypeError. Select only valid columns before calling the operation. Dropped columns were Index(['symbol'], dtype='object')\n",
      "  value = itm.shift(1).rolling(5).mean()\n"
     ]
    },
    {
     "name": "stdout",
     "output_type": "stream",
     "text": [
      "36\n",
      "37\n"
     ]
    },
    {
     "name": "stderr",
     "output_type": "stream",
     "text": [
      "/tmp/ipykernel_680050/1747786216.py:16: FutureWarning: Dropping of nuisance columns in rolling operations is deprecated; in a future version this will raise TypeError. Select only valid columns before calling the operation. Dropped columns were Index(['symbol'], dtype='object')\n",
      "  value = itm.shift(1).rolling(5).mean()\n",
      "/tmp/ipykernel_680050/1747786216.py:16: FutureWarning: Dropping of nuisance columns in rolling operations is deprecated; in a future version this will raise TypeError. Select only valid columns before calling the operation. Dropped columns were Index(['symbol'], dtype='object')\n",
      "  value = itm.shift(1).rolling(5).mean()\n"
     ]
    },
    {
     "name": "stdout",
     "output_type": "stream",
     "text": [
      "38\n",
      "39\n"
     ]
    },
    {
     "name": "stderr",
     "output_type": "stream",
     "text": [
      "/tmp/ipykernel_680050/1747786216.py:16: FutureWarning: Dropping of nuisance columns in rolling operations is deprecated; in a future version this will raise TypeError. Select only valid columns before calling the operation. Dropped columns were Index(['symbol'], dtype='object')\n",
      "  value = itm.shift(1).rolling(5).mean()\n",
      "/tmp/ipykernel_680050/1747786216.py:16: FutureWarning: Dropping of nuisance columns in rolling operations is deprecated; in a future version this will raise TypeError. Select only valid columns before calling the operation. Dropped columns were Index(['symbol'], dtype='object')\n",
      "  value = itm.shift(1).rolling(5).mean()\n"
     ]
    },
    {
     "name": "stdout",
     "output_type": "stream",
     "text": [
      "40\n",
      "41\n"
     ]
    },
    {
     "name": "stderr",
     "output_type": "stream",
     "text": [
      "/tmp/ipykernel_680050/1747786216.py:16: FutureWarning: Dropping of nuisance columns in rolling operations is deprecated; in a future version this will raise TypeError. Select only valid columns before calling the operation. Dropped columns were Index(['symbol'], dtype='object')\n",
      "  value = itm.shift(1).rolling(5).mean()\n",
      "/tmp/ipykernel_680050/1747786216.py:16: FutureWarning: Dropping of nuisance columns in rolling operations is deprecated; in a future version this will raise TypeError. Select only valid columns before calling the operation. Dropped columns were Index(['symbol'], dtype='object')\n",
      "  value = itm.shift(1).rolling(5).mean()\n"
     ]
    },
    {
     "name": "stdout",
     "output_type": "stream",
     "text": [
      "42\n",
      "43\n"
     ]
    },
    {
     "name": "stderr",
     "output_type": "stream",
     "text": [
      "/tmp/ipykernel_680050/1747786216.py:16: FutureWarning: Dropping of nuisance columns in rolling operations is deprecated; in a future version this will raise TypeError. Select only valid columns before calling the operation. Dropped columns were Index(['symbol'], dtype='object')\n",
      "  value = itm.shift(1).rolling(5).mean()\n",
      "/tmp/ipykernel_680050/1747786216.py:16: FutureWarning: Dropping of nuisance columns in rolling operations is deprecated; in a future version this will raise TypeError. Select only valid columns before calling the operation. Dropped columns were Index(['symbol'], dtype='object')\n",
      "  value = itm.shift(1).rolling(5).mean()\n"
     ]
    },
    {
     "name": "stdout",
     "output_type": "stream",
     "text": [
      "44\n",
      "45\n"
     ]
    },
    {
     "name": "stderr",
     "output_type": "stream",
     "text": [
      "/tmp/ipykernel_680050/1747786216.py:16: FutureWarning: Dropping of nuisance columns in rolling operations is deprecated; in a future version this will raise TypeError. Select only valid columns before calling the operation. Dropped columns were Index(['symbol'], dtype='object')\n",
      "  value = itm.shift(1).rolling(5).mean()\n",
      "/tmp/ipykernel_680050/1747786216.py:16: FutureWarning: Dropping of nuisance columns in rolling operations is deprecated; in a future version this will raise TypeError. Select only valid columns before calling the operation. Dropped columns were Index(['symbol'], dtype='object')\n",
      "  value = itm.shift(1).rolling(5).mean()\n"
     ]
    },
    {
     "name": "stdout",
     "output_type": "stream",
     "text": [
      "46\n",
      "47\n"
     ]
    },
    {
     "name": "stderr",
     "output_type": "stream",
     "text": [
      "/tmp/ipykernel_680050/1747786216.py:16: FutureWarning: Dropping of nuisance columns in rolling operations is deprecated; in a future version this will raise TypeError. Select only valid columns before calling the operation. Dropped columns were Index(['symbol'], dtype='object')\n",
      "  value = itm.shift(1).rolling(5).mean()\n",
      "/tmp/ipykernel_680050/1747786216.py:16: FutureWarning: Dropping of nuisance columns in rolling operations is deprecated; in a future version this will raise TypeError. Select only valid columns before calling the operation. Dropped columns were Index(['symbol'], dtype='object')\n",
      "  value = itm.shift(1).rolling(5).mean()\n"
     ]
    },
    {
     "name": "stdout",
     "output_type": "stream",
     "text": [
      "48\n",
      "49\n"
     ]
    },
    {
     "name": "stderr",
     "output_type": "stream",
     "text": [
      "/tmp/ipykernel_680050/1747786216.py:16: FutureWarning: Dropping of nuisance columns in rolling operations is deprecated; in a future version this will raise TypeError. Select only valid columns before calling the operation. Dropped columns were Index(['symbol'], dtype='object')\n",
      "  value = itm.shift(1).rolling(5).mean()\n",
      "/tmp/ipykernel_680050/1747786216.py:16: FutureWarning: Dropping of nuisance columns in rolling operations is deprecated; in a future version this will raise TypeError. Select only valid columns before calling the operation. Dropped columns were Index(['symbol'], dtype='object')\n",
      "  value = itm.shift(1).rolling(5).mean()\n"
     ]
    },
    {
     "name": "stdout",
     "output_type": "stream",
     "text": [
      "50\n",
      "51\n"
     ]
    },
    {
     "name": "stderr",
     "output_type": "stream",
     "text": [
      "/tmp/ipykernel_680050/1747786216.py:16: FutureWarning: Dropping of nuisance columns in rolling operations is deprecated; in a future version this will raise TypeError. Select only valid columns before calling the operation. Dropped columns were Index(['symbol'], dtype='object')\n",
      "  value = itm.shift(1).rolling(5).mean()\n",
      "/tmp/ipykernel_680050/1747786216.py:16: FutureWarning: Dropping of nuisance columns in rolling operations is deprecated; in a future version this will raise TypeError. Select only valid columns before calling the operation. Dropped columns were Index(['symbol'], dtype='object')\n",
      "  value = itm.shift(1).rolling(5).mean()\n"
     ]
    },
    {
     "name": "stdout",
     "output_type": "stream",
     "text": [
      "52\n",
      "53\n"
     ]
    },
    {
     "name": "stderr",
     "output_type": "stream",
     "text": [
      "/tmp/ipykernel_680050/1747786216.py:16: FutureWarning: Dropping of nuisance columns in rolling operations is deprecated; in a future version this will raise TypeError. Select only valid columns before calling the operation. Dropped columns were Index(['symbol'], dtype='object')\n",
      "  value = itm.shift(1).rolling(5).mean()\n",
      "/tmp/ipykernel_680050/1747786216.py:16: FutureWarning: Dropping of nuisance columns in rolling operations is deprecated; in a future version this will raise TypeError. Select only valid columns before calling the operation. Dropped columns were Index(['symbol'], dtype='object')\n",
      "  value = itm.shift(1).rolling(5).mean()\n"
     ]
    },
    {
     "name": "stdout",
     "output_type": "stream",
     "text": [
      "54\n",
      "55\n"
     ]
    },
    {
     "name": "stderr",
     "output_type": "stream",
     "text": [
      "/tmp/ipykernel_680050/1747786216.py:16: FutureWarning: Dropping of nuisance columns in rolling operations is deprecated; in a future version this will raise TypeError. Select only valid columns before calling the operation. Dropped columns were Index(['symbol'], dtype='object')\n",
      "  value = itm.shift(1).rolling(5).mean()\n",
      "/tmp/ipykernel_680050/1747786216.py:16: FutureWarning: Dropping of nuisance columns in rolling operations is deprecated; in a future version this will raise TypeError. Select only valid columns before calling the operation. Dropped columns were Index(['symbol'], dtype='object')\n",
      "  value = itm.shift(1).rolling(5).mean()\n"
     ]
    },
    {
     "name": "stdout",
     "output_type": "stream",
     "text": [
      "56\n",
      "57\n"
     ]
    },
    {
     "name": "stderr",
     "output_type": "stream",
     "text": [
      "/tmp/ipykernel_680050/1747786216.py:16: FutureWarning: Dropping of nuisance columns in rolling operations is deprecated; in a future version this will raise TypeError. Select only valid columns before calling the operation. Dropped columns were Index(['symbol'], dtype='object')\n",
      "  value = itm.shift(1).rolling(5).mean()\n",
      "/tmp/ipykernel_680050/1747786216.py:16: FutureWarning: Dropping of nuisance columns in rolling operations is deprecated; in a future version this will raise TypeError. Select only valid columns before calling the operation. Dropped columns were Index(['symbol'], dtype='object')\n",
      "  value = itm.shift(1).rolling(5).mean()\n"
     ]
    },
    {
     "name": "stdout",
     "output_type": "stream",
     "text": [
      "58\n",
      "59\n"
     ]
    },
    {
     "name": "stderr",
     "output_type": "stream",
     "text": [
      "/tmp/ipykernel_680050/1747786216.py:16: FutureWarning: Dropping of nuisance columns in rolling operations is deprecated; in a future version this will raise TypeError. Select only valid columns before calling the operation. Dropped columns were Index(['symbol'], dtype='object')\n",
      "  value = itm.shift(1).rolling(5).mean()\n",
      "/tmp/ipykernel_680050/1747786216.py:16: FutureWarning: Dropping of nuisance columns in rolling operations is deprecated; in a future version this will raise TypeError. Select only valid columns before calling the operation. Dropped columns were Index(['symbol'], dtype='object')\n",
      "  value = itm.shift(1).rolling(5).mean()\n"
     ]
    },
    {
     "name": "stdout",
     "output_type": "stream",
     "text": [
      "60\n",
      "61\n"
     ]
    },
    {
     "name": "stderr",
     "output_type": "stream",
     "text": [
      "/tmp/ipykernel_680050/1747786216.py:16: FutureWarning: Dropping of nuisance columns in rolling operations is deprecated; in a future version this will raise TypeError. Select only valid columns before calling the operation. Dropped columns were Index(['symbol'], dtype='object')\n",
      "  value = itm.shift(1).rolling(5).mean()\n",
      "/tmp/ipykernel_680050/1747786216.py:16: FutureWarning: Dropping of nuisance columns in rolling operations is deprecated; in a future version this will raise TypeError. Select only valid columns before calling the operation. Dropped columns were Index(['symbol'], dtype='object')\n",
      "  value = itm.shift(1).rolling(5).mean()\n"
     ]
    },
    {
     "name": "stdout",
     "output_type": "stream",
     "text": [
      "62\n",
      "63\n"
     ]
    },
    {
     "name": "stderr",
     "output_type": "stream",
     "text": [
      "/tmp/ipykernel_680050/1747786216.py:16: FutureWarning: Dropping of nuisance columns in rolling operations is deprecated; in a future version this will raise TypeError. Select only valid columns before calling the operation. Dropped columns were Index(['symbol'], dtype='object')\n",
      "  value = itm.shift(1).rolling(5).mean()\n",
      "/tmp/ipykernel_680050/1747786216.py:16: FutureWarning: Dropping of nuisance columns in rolling operations is deprecated; in a future version this will raise TypeError. Select only valid columns before calling the operation. Dropped columns were Index(['symbol'], dtype='object')\n",
      "  value = itm.shift(1).rolling(5).mean()\n"
     ]
    },
    {
     "name": "stdout",
     "output_type": "stream",
     "text": [
      "64\n",
      "65\n"
     ]
    },
    {
     "name": "stderr",
     "output_type": "stream",
     "text": [
      "/tmp/ipykernel_680050/1747786216.py:16: FutureWarning: Dropping of nuisance columns in rolling operations is deprecated; in a future version this will raise TypeError. Select only valid columns before calling the operation. Dropped columns were Index(['symbol'], dtype='object')\n",
      "  value = itm.shift(1).rolling(5).mean()\n",
      "/tmp/ipykernel_680050/1747786216.py:16: FutureWarning: Dropping of nuisance columns in rolling operations is deprecated; in a future version this will raise TypeError. Select only valid columns before calling the operation. Dropped columns were Index(['symbol'], dtype='object')\n",
      "  value = itm.shift(1).rolling(5).mean()\n"
     ]
    },
    {
     "name": "stdout",
     "output_type": "stream",
     "text": [
      "66\n",
      "67\n"
     ]
    },
    {
     "name": "stderr",
     "output_type": "stream",
     "text": [
      "/tmp/ipykernel_680050/1747786216.py:16: FutureWarning: Dropping of nuisance columns in rolling operations is deprecated; in a future version this will raise TypeError. Select only valid columns before calling the operation. Dropped columns were Index(['symbol'], dtype='object')\n",
      "  value = itm.shift(1).rolling(5).mean()\n",
      "/tmp/ipykernel_680050/1747786216.py:16: FutureWarning: Dropping of nuisance columns in rolling operations is deprecated; in a future version this will raise TypeError. Select only valid columns before calling the operation. Dropped columns were Index(['symbol'], dtype='object')\n",
      "  value = itm.shift(1).rolling(5).mean()\n"
     ]
    },
    {
     "name": "stdout",
     "output_type": "stream",
     "text": [
      "68\n",
      "69\n"
     ]
    },
    {
     "name": "stderr",
     "output_type": "stream",
     "text": [
      "/tmp/ipykernel_680050/1747786216.py:16: FutureWarning: Dropping of nuisance columns in rolling operations is deprecated; in a future version this will raise TypeError. Select only valid columns before calling the operation. Dropped columns were Index(['symbol'], dtype='object')\n",
      "  value = itm.shift(1).rolling(5).mean()\n",
      "/tmp/ipykernel_680050/1747786216.py:16: FutureWarning: Dropping of nuisance columns in rolling operations is deprecated; in a future version this will raise TypeError. Select only valid columns before calling the operation. Dropped columns were Index(['symbol'], dtype='object')\n",
      "  value = itm.shift(1).rolling(5).mean()\n"
     ]
    },
    {
     "name": "stdout",
     "output_type": "stream",
     "text": [
      "70\n",
      "71\n"
     ]
    },
    {
     "name": "stderr",
     "output_type": "stream",
     "text": [
      "/tmp/ipykernel_680050/1747786216.py:16: FutureWarning: Dropping of nuisance columns in rolling operations is deprecated; in a future version this will raise TypeError. Select only valid columns before calling the operation. Dropped columns were Index(['symbol'], dtype='object')\n",
      "  value = itm.shift(1).rolling(5).mean()\n",
      "/tmp/ipykernel_680050/1747786216.py:16: FutureWarning: Dropping of nuisance columns in rolling operations is deprecated; in a future version this will raise TypeError. Select only valid columns before calling the operation. Dropped columns were Index(['symbol'], dtype='object')\n",
      "  value = itm.shift(1).rolling(5).mean()\n"
     ]
    },
    {
     "name": "stdout",
     "output_type": "stream",
     "text": [
      "72\n",
      "73\n"
     ]
    },
    {
     "name": "stderr",
     "output_type": "stream",
     "text": [
      "/tmp/ipykernel_680050/1747786216.py:16: FutureWarning: Dropping of nuisance columns in rolling operations is deprecated; in a future version this will raise TypeError. Select only valid columns before calling the operation. Dropped columns were Index(['symbol'], dtype='object')\n",
      "  value = itm.shift(1).rolling(5).mean()\n",
      "/tmp/ipykernel_680050/1747786216.py:16: FutureWarning: Dropping of nuisance columns in rolling operations is deprecated; in a future version this will raise TypeError. Select only valid columns before calling the operation. Dropped columns were Index(['symbol'], dtype='object')\n",
      "  value = itm.shift(1).rolling(5).mean()\n"
     ]
    },
    {
     "name": "stdout",
     "output_type": "stream",
     "text": [
      "74\n",
      "75\n"
     ]
    },
    {
     "name": "stderr",
     "output_type": "stream",
     "text": [
      "/tmp/ipykernel_680050/1747786216.py:16: FutureWarning: Dropping of nuisance columns in rolling operations is deprecated; in a future version this will raise TypeError. Select only valid columns before calling the operation. Dropped columns were Index(['symbol'], dtype='object')\n",
      "  value = itm.shift(1).rolling(5).mean()\n",
      "/tmp/ipykernel_680050/1747786216.py:16: FutureWarning: Dropping of nuisance columns in rolling operations is deprecated; in a future version this will raise TypeError. Select only valid columns before calling the operation. Dropped columns were Index(['symbol'], dtype='object')\n",
      "  value = itm.shift(1).rolling(5).mean()\n"
     ]
    },
    {
     "name": "stdout",
     "output_type": "stream",
     "text": [
      "76\n",
      "77\n"
     ]
    },
    {
     "name": "stderr",
     "output_type": "stream",
     "text": [
      "/tmp/ipykernel_680050/1747786216.py:16: FutureWarning: Dropping of nuisance columns in rolling operations is deprecated; in a future version this will raise TypeError. Select only valid columns before calling the operation. Dropped columns were Index(['symbol'], dtype='object')\n",
      "  value = itm.shift(1).rolling(5).mean()\n",
      "/tmp/ipykernel_680050/1747786216.py:16: FutureWarning: Dropping of nuisance columns in rolling operations is deprecated; in a future version this will raise TypeError. Select only valid columns before calling the operation. Dropped columns were Index(['symbol'], dtype='object')\n",
      "  value = itm.shift(1).rolling(5).mean()\n"
     ]
    },
    {
     "name": "stdout",
     "output_type": "stream",
     "text": [
      "78\n",
      "79\n"
     ]
    },
    {
     "name": "stderr",
     "output_type": "stream",
     "text": [
      "/tmp/ipykernel_680050/1747786216.py:16: FutureWarning: Dropping of nuisance columns in rolling operations is deprecated; in a future version this will raise TypeError. Select only valid columns before calling the operation. Dropped columns were Index(['symbol'], dtype='object')\n",
      "  value = itm.shift(1).rolling(5).mean()\n",
      "/tmp/ipykernel_680050/1747786216.py:16: FutureWarning: Dropping of nuisance columns in rolling operations is deprecated; in a future version this will raise TypeError. Select only valid columns before calling the operation. Dropped columns were Index(['symbol'], dtype='object')\n",
      "  value = itm.shift(1).rolling(5).mean()\n"
     ]
    },
    {
     "name": "stdout",
     "output_type": "stream",
     "text": [
      "80\n",
      "81\n"
     ]
    },
    {
     "name": "stderr",
     "output_type": "stream",
     "text": [
      "/tmp/ipykernel_680050/1747786216.py:16: FutureWarning: Dropping of nuisance columns in rolling operations is deprecated; in a future version this will raise TypeError. Select only valid columns before calling the operation. Dropped columns were Index(['symbol'], dtype='object')\n",
      "  value = itm.shift(1).rolling(5).mean()\n",
      "/tmp/ipykernel_680050/1747786216.py:16: FutureWarning: Dropping of nuisance columns in rolling operations is deprecated; in a future version this will raise TypeError. Select only valid columns before calling the operation. Dropped columns were Index(['symbol'], dtype='object')\n",
      "  value = itm.shift(1).rolling(5).mean()\n"
     ]
    },
    {
     "name": "stdout",
     "output_type": "stream",
     "text": [
      "82\n",
      "83\n"
     ]
    },
    {
     "name": "stderr",
     "output_type": "stream",
     "text": [
      "/tmp/ipykernel_680050/1747786216.py:16: FutureWarning: Dropping of nuisance columns in rolling operations is deprecated; in a future version this will raise TypeError. Select only valid columns before calling the operation. Dropped columns were Index(['symbol'], dtype='object')\n",
      "  value = itm.shift(1).rolling(5).mean()\n",
      "/tmp/ipykernel_680050/1747786216.py:16: FutureWarning: Dropping of nuisance columns in rolling operations is deprecated; in a future version this will raise TypeError. Select only valid columns before calling the operation. Dropped columns were Index(['symbol'], dtype='object')\n",
      "  value = itm.shift(1).rolling(5).mean()\n"
     ]
    },
    {
     "name": "stdout",
     "output_type": "stream",
     "text": [
      "84\n",
      "85\n"
     ]
    },
    {
     "name": "stderr",
     "output_type": "stream",
     "text": [
      "/tmp/ipykernel_680050/1747786216.py:16: FutureWarning: Dropping of nuisance columns in rolling operations is deprecated; in a future version this will raise TypeError. Select only valid columns before calling the operation. Dropped columns were Index(['symbol'], dtype='object')\n",
      "  value = itm.shift(1).rolling(5).mean()\n",
      "/tmp/ipykernel_680050/1747786216.py:16: FutureWarning: Dropping of nuisance columns in rolling operations is deprecated; in a future version this will raise TypeError. Select only valid columns before calling the operation. Dropped columns were Index(['symbol'], dtype='object')\n",
      "  value = itm.shift(1).rolling(5).mean()\n"
     ]
    },
    {
     "name": "stdout",
     "output_type": "stream",
     "text": [
      "86\n",
      "87\n"
     ]
    },
    {
     "name": "stderr",
     "output_type": "stream",
     "text": [
      "/tmp/ipykernel_680050/1747786216.py:16: FutureWarning: Dropping of nuisance columns in rolling operations is deprecated; in a future version this will raise TypeError. Select only valid columns before calling the operation. Dropped columns were Index(['symbol'], dtype='object')\n",
      "  value = itm.shift(1).rolling(5).mean()\n",
      "/tmp/ipykernel_680050/1747786216.py:16: FutureWarning: Dropping of nuisance columns in rolling operations is deprecated; in a future version this will raise TypeError. Select only valid columns before calling the operation. Dropped columns were Index(['symbol'], dtype='object')\n",
      "  value = itm.shift(1).rolling(5).mean()\n"
     ]
    },
    {
     "name": "stdout",
     "output_type": "stream",
     "text": [
      "88\n",
      "89\n"
     ]
    },
    {
     "name": "stderr",
     "output_type": "stream",
     "text": [
      "/tmp/ipykernel_680050/1747786216.py:16: FutureWarning: Dropping of nuisance columns in rolling operations is deprecated; in a future version this will raise TypeError. Select only valid columns before calling the operation. Dropped columns were Index(['symbol'], dtype='object')\n",
      "  value = itm.shift(1).rolling(5).mean()\n",
      "/tmp/ipykernel_680050/1747786216.py:16: FutureWarning: Dropping of nuisance columns in rolling operations is deprecated; in a future version this will raise TypeError. Select only valid columns before calling the operation. Dropped columns were Index(['symbol'], dtype='object')\n",
      "  value = itm.shift(1).rolling(5).mean()\n"
     ]
    },
    {
     "name": "stdout",
     "output_type": "stream",
     "text": [
      "90\n",
      "91\n"
     ]
    },
    {
     "name": "stderr",
     "output_type": "stream",
     "text": [
      "/tmp/ipykernel_680050/1747786216.py:16: FutureWarning: Dropping of nuisance columns in rolling operations is deprecated; in a future version this will raise TypeError. Select only valid columns before calling the operation. Dropped columns were Index(['symbol'], dtype='object')\n",
      "  value = itm.shift(1).rolling(5).mean()\n",
      "/tmp/ipykernel_680050/1747786216.py:16: FutureWarning: Dropping of nuisance columns in rolling operations is deprecated; in a future version this will raise TypeError. Select only valid columns before calling the operation. Dropped columns were Index(['symbol'], dtype='object')\n",
      "  value = itm.shift(1).rolling(5).mean()\n"
     ]
    },
    {
     "name": "stdout",
     "output_type": "stream",
     "text": [
      "92\n",
      "93\n"
     ]
    },
    {
     "name": "stderr",
     "output_type": "stream",
     "text": [
      "/tmp/ipykernel_680050/1747786216.py:16: FutureWarning: Dropping of nuisance columns in rolling operations is deprecated; in a future version this will raise TypeError. Select only valid columns before calling the operation. Dropped columns were Index(['symbol'], dtype='object')\n",
      "  value = itm.shift(1).rolling(5).mean()\n",
      "/tmp/ipykernel_680050/1747786216.py:16: FutureWarning: Dropping of nuisance columns in rolling operations is deprecated; in a future version this will raise TypeError. Select only valid columns before calling the operation. Dropped columns were Index(['symbol'], dtype='object')\n",
      "  value = itm.shift(1).rolling(5).mean()\n"
     ]
    },
    {
     "name": "stdout",
     "output_type": "stream",
     "text": [
      "94\n",
      "95\n"
     ]
    },
    {
     "name": "stderr",
     "output_type": "stream",
     "text": [
      "/tmp/ipykernel_680050/1747786216.py:16: FutureWarning: Dropping of nuisance columns in rolling operations is deprecated; in a future version this will raise TypeError. Select only valid columns before calling the operation. Dropped columns were Index(['symbol'], dtype='object')\n",
      "  value = itm.shift(1).rolling(5).mean()\n",
      "/tmp/ipykernel_680050/1747786216.py:16: FutureWarning: Dropping of nuisance columns in rolling operations is deprecated; in a future version this will raise TypeError. Select only valid columns before calling the operation. Dropped columns were Index(['symbol'], dtype='object')\n",
      "  value = itm.shift(1).rolling(5).mean()\n"
     ]
    },
    {
     "name": "stdout",
     "output_type": "stream",
     "text": [
      "96\n",
      "97\n"
     ]
    },
    {
     "name": "stderr",
     "output_type": "stream",
     "text": [
      "/tmp/ipykernel_680050/1747786216.py:16: FutureWarning: Dropping of nuisance columns in rolling operations is deprecated; in a future version this will raise TypeError. Select only valid columns before calling the operation. Dropped columns were Index(['symbol'], dtype='object')\n",
      "  value = itm.shift(1).rolling(5).mean()\n",
      "/tmp/ipykernel_680050/1747786216.py:16: FutureWarning: Dropping of nuisance columns in rolling operations is deprecated; in a future version this will raise TypeError. Select only valid columns before calling the operation. Dropped columns were Index(['symbol'], dtype='object')\n",
      "  value = itm.shift(1).rolling(5).mean()\n"
     ]
    },
    {
     "name": "stdout",
     "output_type": "stream",
     "text": [
      "98\n",
      "99\n"
     ]
    },
    {
     "name": "stderr",
     "output_type": "stream",
     "text": [
      "/tmp/ipykernel_680050/1747786216.py:16: FutureWarning: Dropping of nuisance columns in rolling operations is deprecated; in a future version this will raise TypeError. Select only valid columns before calling the operation. Dropped columns were Index(['symbol'], dtype='object')\n",
      "  value = itm.shift(1).rolling(5).mean()\n",
      "/tmp/ipykernel_680050/1747786216.py:16: FutureWarning: Dropping of nuisance columns in rolling operations is deprecated; in a future version this will raise TypeError. Select only valid columns before calling the operation. Dropped columns were Index(['symbol'], dtype='object')\n",
      "  value = itm.shift(1).rolling(5).mean()\n"
     ]
    },
    {
     "name": "stdout",
     "output_type": "stream",
     "text": [
      "100\n",
      "101\n"
     ]
    },
    {
     "name": "stderr",
     "output_type": "stream",
     "text": [
      "/tmp/ipykernel_680050/1747786216.py:16: FutureWarning: Dropping of nuisance columns in rolling operations is deprecated; in a future version this will raise TypeError. Select only valid columns before calling the operation. Dropped columns were Index(['symbol'], dtype='object')\n",
      "  value = itm.shift(1).rolling(5).mean()\n",
      "/tmp/ipykernel_680050/1747786216.py:16: FutureWarning: Dropping of nuisance columns in rolling operations is deprecated; in a future version this will raise TypeError. Select only valid columns before calling the operation. Dropped columns were Index(['symbol'], dtype='object')\n",
      "  value = itm.shift(1).rolling(5).mean()\n"
     ]
    },
    {
     "name": "stdout",
     "output_type": "stream",
     "text": [
      "102\n",
      "103\n"
     ]
    },
    {
     "name": "stderr",
     "output_type": "stream",
     "text": [
      "/tmp/ipykernel_680050/1747786216.py:16: FutureWarning: Dropping of nuisance columns in rolling operations is deprecated; in a future version this will raise TypeError. Select only valid columns before calling the operation. Dropped columns were Index(['symbol'], dtype='object')\n",
      "  value = itm.shift(1).rolling(5).mean()\n",
      "/tmp/ipykernel_680050/1747786216.py:16: FutureWarning: Dropping of nuisance columns in rolling operations is deprecated; in a future version this will raise TypeError. Select only valid columns before calling the operation. Dropped columns were Index(['symbol'], dtype='object')\n",
      "  value = itm.shift(1).rolling(5).mean()\n"
     ]
    },
    {
     "name": "stdout",
     "output_type": "stream",
     "text": [
      "104\n",
      "105\n"
     ]
    },
    {
     "name": "stderr",
     "output_type": "stream",
     "text": [
      "/tmp/ipykernel_680050/1747786216.py:16: FutureWarning: Dropping of nuisance columns in rolling operations is deprecated; in a future version this will raise TypeError. Select only valid columns before calling the operation. Dropped columns were Index(['symbol'], dtype='object')\n",
      "  value = itm.shift(1).rolling(5).mean()\n",
      "/tmp/ipykernel_680050/1747786216.py:16: FutureWarning: Dropping of nuisance columns in rolling operations is deprecated; in a future version this will raise TypeError. Select only valid columns before calling the operation. Dropped columns were Index(['symbol'], dtype='object')\n",
      "  value = itm.shift(1).rolling(5).mean()\n"
     ]
    },
    {
     "name": "stdout",
     "output_type": "stream",
     "text": [
      "106\n",
      "107\n"
     ]
    },
    {
     "name": "stderr",
     "output_type": "stream",
     "text": [
      "/tmp/ipykernel_680050/1747786216.py:16: FutureWarning: Dropping of nuisance columns in rolling operations is deprecated; in a future version this will raise TypeError. Select only valid columns before calling the operation. Dropped columns were Index(['symbol'], dtype='object')\n",
      "  value = itm.shift(1).rolling(5).mean()\n",
      "/tmp/ipykernel_680050/1747786216.py:16: FutureWarning: Dropping of nuisance columns in rolling operations is deprecated; in a future version this will raise TypeError. Select only valid columns before calling the operation. Dropped columns were Index(['symbol'], dtype='object')\n",
      "  value = itm.shift(1).rolling(5).mean()\n"
     ]
    },
    {
     "name": "stdout",
     "output_type": "stream",
     "text": [
      "108\n",
      "109\n"
     ]
    },
    {
     "name": "stderr",
     "output_type": "stream",
     "text": [
      "/tmp/ipykernel_680050/1747786216.py:16: FutureWarning: Dropping of nuisance columns in rolling operations is deprecated; in a future version this will raise TypeError. Select only valid columns before calling the operation. Dropped columns were Index(['symbol'], dtype='object')\n",
      "  value = itm.shift(1).rolling(5).mean()\n",
      "/tmp/ipykernel_680050/1747786216.py:16: FutureWarning: Dropping of nuisance columns in rolling operations is deprecated; in a future version this will raise TypeError. Select only valid columns before calling the operation. Dropped columns were Index(['symbol'], dtype='object')\n",
      "  value = itm.shift(1).rolling(5).mean()\n"
     ]
    },
    {
     "name": "stdout",
     "output_type": "stream",
     "text": [
      "110\n",
      "111\n"
     ]
    },
    {
     "name": "stderr",
     "output_type": "stream",
     "text": [
      "/tmp/ipykernel_680050/1747786216.py:16: FutureWarning: Dropping of nuisance columns in rolling operations is deprecated; in a future version this will raise TypeError. Select only valid columns before calling the operation. Dropped columns were Index(['symbol'], dtype='object')\n",
      "  value = itm.shift(1).rolling(5).mean()\n",
      "/tmp/ipykernel_680050/1747786216.py:16: FutureWarning: Dropping of nuisance columns in rolling operations is deprecated; in a future version this will raise TypeError. Select only valid columns before calling the operation. Dropped columns were Index(['symbol'], dtype='object')\n",
      "  value = itm.shift(1).rolling(5).mean()\n"
     ]
    },
    {
     "name": "stdout",
     "output_type": "stream",
     "text": [
      "112\n",
      "113\n"
     ]
    },
    {
     "name": "stderr",
     "output_type": "stream",
     "text": [
      "/tmp/ipykernel_680050/1747786216.py:16: FutureWarning: Dropping of nuisance columns in rolling operations is deprecated; in a future version this will raise TypeError. Select only valid columns before calling the operation. Dropped columns were Index(['symbol'], dtype='object')\n",
      "  value = itm.shift(1).rolling(5).mean()\n",
      "/tmp/ipykernel_680050/1747786216.py:16: FutureWarning: Dropping of nuisance columns in rolling operations is deprecated; in a future version this will raise TypeError. Select only valid columns before calling the operation. Dropped columns were Index(['symbol'], dtype='object')\n",
      "  value = itm.shift(1).rolling(5).mean()\n"
     ]
    },
    {
     "name": "stdout",
     "output_type": "stream",
     "text": [
      "114\n",
      "115\n"
     ]
    },
    {
     "name": "stderr",
     "output_type": "stream",
     "text": [
      "/tmp/ipykernel_680050/1747786216.py:16: FutureWarning: Dropping of nuisance columns in rolling operations is deprecated; in a future version this will raise TypeError. Select only valid columns before calling the operation. Dropped columns were Index(['symbol'], dtype='object')\n",
      "  value = itm.shift(1).rolling(5).mean()\n",
      "/tmp/ipykernel_680050/1747786216.py:16: FutureWarning: Dropping of nuisance columns in rolling operations is deprecated; in a future version this will raise TypeError. Select only valid columns before calling the operation. Dropped columns were Index(['symbol'], dtype='object')\n",
      "  value = itm.shift(1).rolling(5).mean()\n"
     ]
    },
    {
     "name": "stdout",
     "output_type": "stream",
     "text": [
      "116\n",
      "117\n"
     ]
    },
    {
     "name": "stderr",
     "output_type": "stream",
     "text": [
      "/tmp/ipykernel_680050/1747786216.py:16: FutureWarning: Dropping of nuisance columns in rolling operations is deprecated; in a future version this will raise TypeError. Select only valid columns before calling the operation. Dropped columns were Index(['symbol'], dtype='object')\n",
      "  value = itm.shift(1).rolling(5).mean()\n",
      "/tmp/ipykernel_680050/1747786216.py:16: FutureWarning: Dropping of nuisance columns in rolling operations is deprecated; in a future version this will raise TypeError. Select only valid columns before calling the operation. Dropped columns were Index(['symbol'], dtype='object')\n",
      "  value = itm.shift(1).rolling(5).mean()\n"
     ]
    },
    {
     "name": "stdout",
     "output_type": "stream",
     "text": [
      "118\n",
      "119\n"
     ]
    },
    {
     "name": "stderr",
     "output_type": "stream",
     "text": [
      "/tmp/ipykernel_680050/1747786216.py:16: FutureWarning: Dropping of nuisance columns in rolling operations is deprecated; in a future version this will raise TypeError. Select only valid columns before calling the operation. Dropped columns were Index(['symbol'], dtype='object')\n",
      "  value = itm.shift(1).rolling(5).mean()\n",
      "/tmp/ipykernel_680050/1747786216.py:16: FutureWarning: Dropping of nuisance columns in rolling operations is deprecated; in a future version this will raise TypeError. Select only valid columns before calling the operation. Dropped columns were Index(['symbol'], dtype='object')\n",
      "  value = itm.shift(1).rolling(5).mean()\n"
     ]
    },
    {
     "name": "stdout",
     "output_type": "stream",
     "text": [
      "120\n",
      "121\n"
     ]
    },
    {
     "name": "stderr",
     "output_type": "stream",
     "text": [
      "/tmp/ipykernel_680050/1747786216.py:16: FutureWarning: Dropping of nuisance columns in rolling operations is deprecated; in a future version this will raise TypeError. Select only valid columns before calling the operation. Dropped columns were Index(['symbol'], dtype='object')\n",
      "  value = itm.shift(1).rolling(5).mean()\n",
      "/tmp/ipykernel_680050/1747786216.py:16: FutureWarning: Dropping of nuisance columns in rolling operations is deprecated; in a future version this will raise TypeError. Select only valid columns before calling the operation. Dropped columns were Index(['symbol'], dtype='object')\n",
      "  value = itm.shift(1).rolling(5).mean()\n"
     ]
    },
    {
     "name": "stdout",
     "output_type": "stream",
     "text": [
      "122\n",
      "123\n"
     ]
    },
    {
     "name": "stderr",
     "output_type": "stream",
     "text": [
      "/tmp/ipykernel_680050/1747786216.py:16: FutureWarning: Dropping of nuisance columns in rolling operations is deprecated; in a future version this will raise TypeError. Select only valid columns before calling the operation. Dropped columns were Index(['symbol'], dtype='object')\n",
      "  value = itm.shift(1).rolling(5).mean()\n",
      "/tmp/ipykernel_680050/1747786216.py:16: FutureWarning: Dropping of nuisance columns in rolling operations is deprecated; in a future version this will raise TypeError. Select only valid columns before calling the operation. Dropped columns were Index(['symbol'], dtype='object')\n",
      "  value = itm.shift(1).rolling(5).mean()\n"
     ]
    },
    {
     "name": "stdout",
     "output_type": "stream",
     "text": [
      "124\n",
      "125\n"
     ]
    },
    {
     "name": "stderr",
     "output_type": "stream",
     "text": [
      "/tmp/ipykernel_680050/1747786216.py:16: FutureWarning: Dropping of nuisance columns in rolling operations is deprecated; in a future version this will raise TypeError. Select only valid columns before calling the operation. Dropped columns were Index(['symbol'], dtype='object')\n",
      "  value = itm.shift(1).rolling(5).mean()\n",
      "/tmp/ipykernel_680050/1747786216.py:16: FutureWarning: Dropping of nuisance columns in rolling operations is deprecated; in a future version this will raise TypeError. Select only valid columns before calling the operation. Dropped columns were Index(['symbol'], dtype='object')\n",
      "  value = itm.shift(1).rolling(5).mean()\n"
     ]
    },
    {
     "name": "stdout",
     "output_type": "stream",
     "text": [
      "126\n",
      "127\n"
     ]
    },
    {
     "name": "stderr",
     "output_type": "stream",
     "text": [
      "/tmp/ipykernel_680050/1747786216.py:16: FutureWarning: Dropping of nuisance columns in rolling operations is deprecated; in a future version this will raise TypeError. Select only valid columns before calling the operation. Dropped columns were Index(['symbol'], dtype='object')\n",
      "  value = itm.shift(1).rolling(5).mean()\n",
      "/tmp/ipykernel_680050/1747786216.py:16: FutureWarning: Dropping of nuisance columns in rolling operations is deprecated; in a future version this will raise TypeError. Select only valid columns before calling the operation. Dropped columns were Index(['symbol'], dtype='object')\n",
      "  value = itm.shift(1).rolling(5).mean()\n"
     ]
    },
    {
     "name": "stdout",
     "output_type": "stream",
     "text": [
      "128\n",
      "129\n"
     ]
    },
    {
     "name": "stderr",
     "output_type": "stream",
     "text": [
      "/tmp/ipykernel_680050/1747786216.py:16: FutureWarning: Dropping of nuisance columns in rolling operations is deprecated; in a future version this will raise TypeError. Select only valid columns before calling the operation. Dropped columns were Index(['symbol'], dtype='object')\n",
      "  value = itm.shift(1).rolling(5).mean()\n",
      "/tmp/ipykernel_680050/1747786216.py:16: FutureWarning: Dropping of nuisance columns in rolling operations is deprecated; in a future version this will raise TypeError. Select only valid columns before calling the operation. Dropped columns were Index(['symbol'], dtype='object')\n",
      "  value = itm.shift(1).rolling(5).mean()\n"
     ]
    },
    {
     "name": "stdout",
     "output_type": "stream",
     "text": [
      "130\n",
      "131\n"
     ]
    },
    {
     "name": "stderr",
     "output_type": "stream",
     "text": [
      "/tmp/ipykernel_680050/1747786216.py:16: FutureWarning: Dropping of nuisance columns in rolling operations is deprecated; in a future version this will raise TypeError. Select only valid columns before calling the operation. Dropped columns were Index(['symbol'], dtype='object')\n",
      "  value = itm.shift(1).rolling(5).mean()\n",
      "/tmp/ipykernel_680050/1747786216.py:16: FutureWarning: Dropping of nuisance columns in rolling operations is deprecated; in a future version this will raise TypeError. Select only valid columns before calling the operation. Dropped columns were Index(['symbol'], dtype='object')\n",
      "  value = itm.shift(1).rolling(5).mean()\n"
     ]
    },
    {
     "name": "stdout",
     "output_type": "stream",
     "text": [
      "132\n",
      "133\n"
     ]
    },
    {
     "name": "stderr",
     "output_type": "stream",
     "text": [
      "/tmp/ipykernel_680050/1747786216.py:16: FutureWarning: Dropping of nuisance columns in rolling operations is deprecated; in a future version this will raise TypeError. Select only valid columns before calling the operation. Dropped columns were Index(['symbol'], dtype='object')\n",
      "  value = itm.shift(1).rolling(5).mean()\n",
      "/tmp/ipykernel_680050/1747786216.py:16: FutureWarning: Dropping of nuisance columns in rolling operations is deprecated; in a future version this will raise TypeError. Select only valid columns before calling the operation. Dropped columns were Index(['symbol'], dtype='object')\n",
      "  value = itm.shift(1).rolling(5).mean()\n"
     ]
    },
    {
     "name": "stdout",
     "output_type": "stream",
     "text": [
      "134\n",
      "135\n"
     ]
    },
    {
     "name": "stderr",
     "output_type": "stream",
     "text": [
      "/tmp/ipykernel_680050/1747786216.py:16: FutureWarning: Dropping of nuisance columns in rolling operations is deprecated; in a future version this will raise TypeError. Select only valid columns before calling the operation. Dropped columns were Index(['symbol'], dtype='object')\n",
      "  value = itm.shift(1).rolling(5).mean()\n",
      "/tmp/ipykernel_680050/1747786216.py:16: FutureWarning: Dropping of nuisance columns in rolling operations is deprecated; in a future version this will raise TypeError. Select only valid columns before calling the operation. Dropped columns were Index(['symbol'], dtype='object')\n",
      "  value = itm.shift(1).rolling(5).mean()\n"
     ]
    },
    {
     "name": "stdout",
     "output_type": "stream",
     "text": [
      "136\n",
      "137\n"
     ]
    },
    {
     "name": "stderr",
     "output_type": "stream",
     "text": [
      "/tmp/ipykernel_680050/1747786216.py:16: FutureWarning: Dropping of nuisance columns in rolling operations is deprecated; in a future version this will raise TypeError. Select only valid columns before calling the operation. Dropped columns were Index(['symbol'], dtype='object')\n",
      "  value = itm.shift(1).rolling(5).mean()\n",
      "/tmp/ipykernel_680050/1747786216.py:16: FutureWarning: Dropping of nuisance columns in rolling operations is deprecated; in a future version this will raise TypeError. Select only valid columns before calling the operation. Dropped columns were Index(['symbol'], dtype='object')\n",
      "  value = itm.shift(1).rolling(5).mean()\n"
     ]
    },
    {
     "name": "stdout",
     "output_type": "stream",
     "text": [
      "138\n",
      "139\n"
     ]
    },
    {
     "name": "stderr",
     "output_type": "stream",
     "text": [
      "/tmp/ipykernel_680050/1747786216.py:16: FutureWarning: Dropping of nuisance columns in rolling operations is deprecated; in a future version this will raise TypeError. Select only valid columns before calling the operation. Dropped columns were Index(['symbol'], dtype='object')\n",
      "  value = itm.shift(1).rolling(5).mean()\n",
      "/tmp/ipykernel_680050/1747786216.py:16: FutureWarning: Dropping of nuisance columns in rolling operations is deprecated; in a future version this will raise TypeError. Select only valid columns before calling the operation. Dropped columns were Index(['symbol'], dtype='object')\n",
      "  value = itm.shift(1).rolling(5).mean()\n"
     ]
    },
    {
     "name": "stdout",
     "output_type": "stream",
     "text": [
      "140\n",
      "141\n"
     ]
    },
    {
     "name": "stderr",
     "output_type": "stream",
     "text": [
      "/tmp/ipykernel_680050/1747786216.py:16: FutureWarning: Dropping of nuisance columns in rolling operations is deprecated; in a future version this will raise TypeError. Select only valid columns before calling the operation. Dropped columns were Index(['symbol'], dtype='object')\n",
      "  value = itm.shift(1).rolling(5).mean()\n",
      "/tmp/ipykernel_680050/1747786216.py:16: FutureWarning: Dropping of nuisance columns in rolling operations is deprecated; in a future version this will raise TypeError. Select only valid columns before calling the operation. Dropped columns were Index(['symbol'], dtype='object')\n",
      "  value = itm.shift(1).rolling(5).mean()\n"
     ]
    },
    {
     "name": "stdout",
     "output_type": "stream",
     "text": [
      "142\n",
      "143\n"
     ]
    },
    {
     "name": "stderr",
     "output_type": "stream",
     "text": [
      "/tmp/ipykernel_680050/1747786216.py:16: FutureWarning: Dropping of nuisance columns in rolling operations is deprecated; in a future version this will raise TypeError. Select only valid columns before calling the operation. Dropped columns were Index(['symbol'], dtype='object')\n",
      "  value = itm.shift(1).rolling(5).mean()\n",
      "/tmp/ipykernel_680050/1747786216.py:16: FutureWarning: Dropping of nuisance columns in rolling operations is deprecated; in a future version this will raise TypeError. Select only valid columns before calling the operation. Dropped columns were Index(['symbol'], dtype='object')\n",
      "  value = itm.shift(1).rolling(5).mean()\n"
     ]
    },
    {
     "name": "stdout",
     "output_type": "stream",
     "text": [
      "144\n",
      "145\n"
     ]
    },
    {
     "name": "stderr",
     "output_type": "stream",
     "text": [
      "/tmp/ipykernel_680050/1747786216.py:16: FutureWarning: Dropping of nuisance columns in rolling operations is deprecated; in a future version this will raise TypeError. Select only valid columns before calling the operation. Dropped columns were Index(['symbol'], dtype='object')\n",
      "  value = itm.shift(1).rolling(5).mean()\n",
      "/tmp/ipykernel_680050/1747786216.py:16: FutureWarning: Dropping of nuisance columns in rolling operations is deprecated; in a future version this will raise TypeError. Select only valid columns before calling the operation. Dropped columns were Index(['symbol'], dtype='object')\n",
      "  value = itm.shift(1).rolling(5).mean()\n"
     ]
    },
    {
     "name": "stdout",
     "output_type": "stream",
     "text": [
      "146\n",
      "147\n"
     ]
    },
    {
     "name": "stderr",
     "output_type": "stream",
     "text": [
      "/tmp/ipykernel_680050/1747786216.py:16: FutureWarning: Dropping of nuisance columns in rolling operations is deprecated; in a future version this will raise TypeError. Select only valid columns before calling the operation. Dropped columns were Index(['symbol'], dtype='object')\n",
      "  value = itm.shift(1).rolling(5).mean()\n",
      "/tmp/ipykernel_680050/1747786216.py:16: FutureWarning: Dropping of nuisance columns in rolling operations is deprecated; in a future version this will raise TypeError. Select only valid columns before calling the operation. Dropped columns were Index(['symbol'], dtype='object')\n",
      "  value = itm.shift(1).rolling(5).mean()\n"
     ]
    },
    {
     "name": "stdout",
     "output_type": "stream",
     "text": [
      "148\n",
      "149\n"
     ]
    },
    {
     "name": "stderr",
     "output_type": "stream",
     "text": [
      "/tmp/ipykernel_680050/1747786216.py:16: FutureWarning: Dropping of nuisance columns in rolling operations is deprecated; in a future version this will raise TypeError. Select only valid columns before calling the operation. Dropped columns were Index(['symbol'], dtype='object')\n",
      "  value = itm.shift(1).rolling(5).mean()\n",
      "/tmp/ipykernel_680050/1747786216.py:16: FutureWarning: Dropping of nuisance columns in rolling operations is deprecated; in a future version this will raise TypeError. Select only valid columns before calling the operation. Dropped columns were Index(['symbol'], dtype='object')\n",
      "  value = itm.shift(1).rolling(5).mean()\n"
     ]
    },
    {
     "name": "stdout",
     "output_type": "stream",
     "text": [
      "150\n"
     ]
    },
    {
     "name": "stderr",
     "output_type": "stream",
     "text": [
      "/tmp/ipykernel_680050/1747786216.py:16: FutureWarning: Dropping of nuisance columns in rolling operations is deprecated; in a future version this will raise TypeError. Select only valid columns before calling the operation. Dropped columns were Index(['symbol'], dtype='object')\n",
      "  value = itm.shift(1).rolling(5).mean()\n"
     ]
    },
    {
     "name": "stdout",
     "output_type": "stream",
     "text": [
      "151\n",
      "152\n"
     ]
    },
    {
     "name": "stderr",
     "output_type": "stream",
     "text": [
      "/tmp/ipykernel_680050/1747786216.py:16: FutureWarning: Dropping of nuisance columns in rolling operations is deprecated; in a future version this will raise TypeError. Select only valid columns before calling the operation. Dropped columns were Index(['symbol'], dtype='object')\n",
      "  value = itm.shift(1).rolling(5).mean()\n",
      "/tmp/ipykernel_680050/1747786216.py:16: FutureWarning: Dropping of nuisance columns in rolling operations is deprecated; in a future version this will raise TypeError. Select only valid columns before calling the operation. Dropped columns were Index(['symbol'], dtype='object')\n",
      "  value = itm.shift(1).rolling(5).mean()\n"
     ]
    },
    {
     "name": "stdout",
     "output_type": "stream",
     "text": [
      "153\n",
      "154\n"
     ]
    },
    {
     "name": "stderr",
     "output_type": "stream",
     "text": [
      "/tmp/ipykernel_680050/1747786216.py:16: FutureWarning: Dropping of nuisance columns in rolling operations is deprecated; in a future version this will raise TypeError. Select only valid columns before calling the operation. Dropped columns were Index(['symbol'], dtype='object')\n",
      "  value = itm.shift(1).rolling(5).mean()\n",
      "/tmp/ipykernel_680050/1747786216.py:16: FutureWarning: Dropping of nuisance columns in rolling operations is deprecated; in a future version this will raise TypeError. Select only valid columns before calling the operation. Dropped columns were Index(['symbol'], dtype='object')\n",
      "  value = itm.shift(1).rolling(5).mean()\n"
     ]
    },
    {
     "name": "stdout",
     "output_type": "stream",
     "text": [
      "155\n",
      "156\n"
     ]
    },
    {
     "name": "stderr",
     "output_type": "stream",
     "text": [
      "/tmp/ipykernel_680050/1747786216.py:16: FutureWarning: Dropping of nuisance columns in rolling operations is deprecated; in a future version this will raise TypeError. Select only valid columns before calling the operation. Dropped columns were Index(['symbol'], dtype='object')\n",
      "  value = itm.shift(1).rolling(5).mean()\n",
      "/tmp/ipykernel_680050/1747786216.py:16: FutureWarning: Dropping of nuisance columns in rolling operations is deprecated; in a future version this will raise TypeError. Select only valid columns before calling the operation. Dropped columns were Index(['symbol'], dtype='object')\n",
      "  value = itm.shift(1).rolling(5).mean()\n"
     ]
    },
    {
     "name": "stdout",
     "output_type": "stream",
     "text": [
      "157\n",
      "158\n"
     ]
    },
    {
     "name": "stderr",
     "output_type": "stream",
     "text": [
      "/tmp/ipykernel_680050/1747786216.py:16: FutureWarning: Dropping of nuisance columns in rolling operations is deprecated; in a future version this will raise TypeError. Select only valid columns before calling the operation. Dropped columns were Index(['symbol'], dtype='object')\n",
      "  value = itm.shift(1).rolling(5).mean()\n",
      "/tmp/ipykernel_680050/1747786216.py:16: FutureWarning: Dropping of nuisance columns in rolling operations is deprecated; in a future version this will raise TypeError. Select only valid columns before calling the operation. Dropped columns were Index(['symbol'], dtype='object')\n",
      "  value = itm.shift(1).rolling(5).mean()\n"
     ]
    },
    {
     "name": "stdout",
     "output_type": "stream",
     "text": [
      "159\n",
      "160\n"
     ]
    },
    {
     "name": "stderr",
     "output_type": "stream",
     "text": [
      "/tmp/ipykernel_680050/1747786216.py:16: FutureWarning: Dropping of nuisance columns in rolling operations is deprecated; in a future version this will raise TypeError. Select only valid columns before calling the operation. Dropped columns were Index(['symbol'], dtype='object')\n",
      "  value = itm.shift(1).rolling(5).mean()\n",
      "/tmp/ipykernel_680050/1747786216.py:16: FutureWarning: Dropping of nuisance columns in rolling operations is deprecated; in a future version this will raise TypeError. Select only valid columns before calling the operation. Dropped columns were Index(['symbol'], dtype='object')\n",
      "  value = itm.shift(1).rolling(5).mean()\n"
     ]
    },
    {
     "name": "stdout",
     "output_type": "stream",
     "text": [
      "161\n",
      "162\n"
     ]
    },
    {
     "name": "stderr",
     "output_type": "stream",
     "text": [
      "/tmp/ipykernel_680050/1747786216.py:16: FutureWarning: Dropping of nuisance columns in rolling operations is deprecated; in a future version this will raise TypeError. Select only valid columns before calling the operation. Dropped columns were Index(['symbol'], dtype='object')\n",
      "  value = itm.shift(1).rolling(5).mean()\n",
      "/tmp/ipykernel_680050/1747786216.py:16: FutureWarning: Dropping of nuisance columns in rolling operations is deprecated; in a future version this will raise TypeError. Select only valid columns before calling the operation. Dropped columns were Index(['symbol'], dtype='object')\n",
      "  value = itm.shift(1).rolling(5).mean()\n"
     ]
    },
    {
     "name": "stdout",
     "output_type": "stream",
     "text": [
      "163\n",
      "164\n"
     ]
    },
    {
     "name": "stderr",
     "output_type": "stream",
     "text": [
      "/tmp/ipykernel_680050/1747786216.py:16: FutureWarning: Dropping of nuisance columns in rolling operations is deprecated; in a future version this will raise TypeError. Select only valid columns before calling the operation. Dropped columns were Index(['symbol'], dtype='object')\n",
      "  value = itm.shift(1).rolling(5).mean()\n",
      "/tmp/ipykernel_680050/1747786216.py:16: FutureWarning: Dropping of nuisance columns in rolling operations is deprecated; in a future version this will raise TypeError. Select only valid columns before calling the operation. Dropped columns were Index(['symbol'], dtype='object')\n",
      "  value = itm.shift(1).rolling(5).mean()\n"
     ]
    },
    {
     "name": "stdout",
     "output_type": "stream",
     "text": [
      "165\n",
      "166\n"
     ]
    },
    {
     "name": "stderr",
     "output_type": "stream",
     "text": [
      "/tmp/ipykernel_680050/1747786216.py:16: FutureWarning: Dropping of nuisance columns in rolling operations is deprecated; in a future version this will raise TypeError. Select only valid columns before calling the operation. Dropped columns were Index(['symbol'], dtype='object')\n",
      "  value = itm.shift(1).rolling(5).mean()\n",
      "/tmp/ipykernel_680050/1747786216.py:16: FutureWarning: Dropping of nuisance columns in rolling operations is deprecated; in a future version this will raise TypeError. Select only valid columns before calling the operation. Dropped columns were Index(['symbol'], dtype='object')\n",
      "  value = itm.shift(1).rolling(5).mean()\n"
     ]
    },
    {
     "name": "stdout",
     "output_type": "stream",
     "text": [
      "167\n",
      "168\n"
     ]
    },
    {
     "name": "stderr",
     "output_type": "stream",
     "text": [
      "/tmp/ipykernel_680050/1747786216.py:16: FutureWarning: Dropping of nuisance columns in rolling operations is deprecated; in a future version this will raise TypeError. Select only valid columns before calling the operation. Dropped columns were Index(['symbol'], dtype='object')\n",
      "  value = itm.shift(1).rolling(5).mean()\n",
      "/tmp/ipykernel_680050/1747786216.py:16: FutureWarning: Dropping of nuisance columns in rolling operations is deprecated; in a future version this will raise TypeError. Select only valid columns before calling the operation. Dropped columns were Index(['symbol'], dtype='object')\n",
      "  value = itm.shift(1).rolling(5).mean()\n"
     ]
    },
    {
     "name": "stdout",
     "output_type": "stream",
     "text": [
      "169\n",
      "170\n"
     ]
    },
    {
     "name": "stderr",
     "output_type": "stream",
     "text": [
      "/tmp/ipykernel_680050/1747786216.py:16: FutureWarning: Dropping of nuisance columns in rolling operations is deprecated; in a future version this will raise TypeError. Select only valid columns before calling the operation. Dropped columns were Index(['symbol'], dtype='object')\n",
      "  value = itm.shift(1).rolling(5).mean()\n",
      "/tmp/ipykernel_680050/1747786216.py:16: FutureWarning: Dropping of nuisance columns in rolling operations is deprecated; in a future version this will raise TypeError. Select only valid columns before calling the operation. Dropped columns were Index(['symbol'], dtype='object')\n",
      "  value = itm.shift(1).rolling(5).mean()\n"
     ]
    },
    {
     "name": "stdout",
     "output_type": "stream",
     "text": [
      "171\n",
      "172\n"
     ]
    },
    {
     "name": "stderr",
     "output_type": "stream",
     "text": [
      "/tmp/ipykernel_680050/1747786216.py:16: FutureWarning: Dropping of nuisance columns in rolling operations is deprecated; in a future version this will raise TypeError. Select only valid columns before calling the operation. Dropped columns were Index(['symbol'], dtype='object')\n",
      "  value = itm.shift(1).rolling(5).mean()\n",
      "/tmp/ipykernel_680050/1747786216.py:16: FutureWarning: Dropping of nuisance columns in rolling operations is deprecated; in a future version this will raise TypeError. Select only valid columns before calling the operation. Dropped columns were Index(['symbol'], dtype='object')\n",
      "  value = itm.shift(1).rolling(5).mean()\n"
     ]
    },
    {
     "name": "stdout",
     "output_type": "stream",
     "text": [
      "173\n",
      "174\n"
     ]
    },
    {
     "name": "stderr",
     "output_type": "stream",
     "text": [
      "/tmp/ipykernel_680050/1747786216.py:16: FutureWarning: Dropping of nuisance columns in rolling operations is deprecated; in a future version this will raise TypeError. Select only valid columns before calling the operation. Dropped columns were Index(['symbol'], dtype='object')\n",
      "  value = itm.shift(1).rolling(5).mean()\n",
      "/tmp/ipykernel_680050/1747786216.py:16: FutureWarning: Dropping of nuisance columns in rolling operations is deprecated; in a future version this will raise TypeError. Select only valid columns before calling the operation. Dropped columns were Index(['symbol'], dtype='object')\n",
      "  value = itm.shift(1).rolling(5).mean()\n"
     ]
    },
    {
     "name": "stdout",
     "output_type": "stream",
     "text": [
      "175\n",
      "176\n"
     ]
    },
    {
     "name": "stderr",
     "output_type": "stream",
     "text": [
      "/tmp/ipykernel_680050/1747786216.py:16: FutureWarning: Dropping of nuisance columns in rolling operations is deprecated; in a future version this will raise TypeError. Select only valid columns before calling the operation. Dropped columns were Index(['symbol'], dtype='object')\n",
      "  value = itm.shift(1).rolling(5).mean()\n",
      "/tmp/ipykernel_680050/1747786216.py:16: FutureWarning: Dropping of nuisance columns in rolling operations is deprecated; in a future version this will raise TypeError. Select only valid columns before calling the operation. Dropped columns were Index(['symbol'], dtype='object')\n",
      "  value = itm.shift(1).rolling(5).mean()\n"
     ]
    },
    {
     "name": "stdout",
     "output_type": "stream",
     "text": [
      "177\n",
      "178\n"
     ]
    },
    {
     "name": "stderr",
     "output_type": "stream",
     "text": [
      "/tmp/ipykernel_680050/1747786216.py:16: FutureWarning: Dropping of nuisance columns in rolling operations is deprecated; in a future version this will raise TypeError. Select only valid columns before calling the operation. Dropped columns were Index(['symbol'], dtype='object')\n",
      "  value = itm.shift(1).rolling(5).mean()\n",
      "/tmp/ipykernel_680050/1747786216.py:16: FutureWarning: Dropping of nuisance columns in rolling operations is deprecated; in a future version this will raise TypeError. Select only valid columns before calling the operation. Dropped columns were Index(['symbol'], dtype='object')\n",
      "  value = itm.shift(1).rolling(5).mean()\n"
     ]
    },
    {
     "name": "stdout",
     "output_type": "stream",
     "text": [
      "179\n",
      "180\n"
     ]
    },
    {
     "name": "stderr",
     "output_type": "stream",
     "text": [
      "/tmp/ipykernel_680050/1747786216.py:16: FutureWarning: Dropping of nuisance columns in rolling operations is deprecated; in a future version this will raise TypeError. Select only valid columns before calling the operation. Dropped columns were Index(['symbol'], dtype='object')\n",
      "  value = itm.shift(1).rolling(5).mean()\n",
      "/tmp/ipykernel_680050/1747786216.py:16: FutureWarning: Dropping of nuisance columns in rolling operations is deprecated; in a future version this will raise TypeError. Select only valid columns before calling the operation. Dropped columns were Index(['symbol'], dtype='object')\n",
      "  value = itm.shift(1).rolling(5).mean()\n"
     ]
    },
    {
     "name": "stdout",
     "output_type": "stream",
     "text": [
      "181\n",
      "182\n"
     ]
    },
    {
     "name": "stderr",
     "output_type": "stream",
     "text": [
      "/tmp/ipykernel_680050/1747786216.py:16: FutureWarning: Dropping of nuisance columns in rolling operations is deprecated; in a future version this will raise TypeError. Select only valid columns before calling the operation. Dropped columns were Index(['symbol'], dtype='object')\n",
      "  value = itm.shift(1).rolling(5).mean()\n",
      "/tmp/ipykernel_680050/1747786216.py:16: FutureWarning: Dropping of nuisance columns in rolling operations is deprecated; in a future version this will raise TypeError. Select only valid columns before calling the operation. Dropped columns were Index(['symbol'], dtype='object')\n",
      "  value = itm.shift(1).rolling(5).mean()\n"
     ]
    },
    {
     "name": "stdout",
     "output_type": "stream",
     "text": [
      "183\n",
      "184\n"
     ]
    },
    {
     "name": "stderr",
     "output_type": "stream",
     "text": [
      "/tmp/ipykernel_680050/1747786216.py:16: FutureWarning: Dropping of nuisance columns in rolling operations is deprecated; in a future version this will raise TypeError. Select only valid columns before calling the operation. Dropped columns were Index(['symbol'], dtype='object')\n",
      "  value = itm.shift(1).rolling(5).mean()\n",
      "/tmp/ipykernel_680050/1747786216.py:16: FutureWarning: Dropping of nuisance columns in rolling operations is deprecated; in a future version this will raise TypeError. Select only valid columns before calling the operation. Dropped columns were Index(['symbol'], dtype='object')\n",
      "  value = itm.shift(1).rolling(5).mean()\n"
     ]
    },
    {
     "name": "stdout",
     "output_type": "stream",
     "text": [
      "185\n",
      "186\n"
     ]
    },
    {
     "name": "stderr",
     "output_type": "stream",
     "text": [
      "/tmp/ipykernel_680050/1747786216.py:16: FutureWarning: Dropping of nuisance columns in rolling operations is deprecated; in a future version this will raise TypeError. Select only valid columns before calling the operation. Dropped columns were Index(['symbol'], dtype='object')\n",
      "  value = itm.shift(1).rolling(5).mean()\n",
      "/tmp/ipykernel_680050/1747786216.py:16: FutureWarning: Dropping of nuisance columns in rolling operations is deprecated; in a future version this will raise TypeError. Select only valid columns before calling the operation. Dropped columns were Index(['symbol'], dtype='object')\n",
      "  value = itm.shift(1).rolling(5).mean()\n"
     ]
    },
    {
     "name": "stdout",
     "output_type": "stream",
     "text": [
      "187\n",
      "188\n"
     ]
    },
    {
     "name": "stderr",
     "output_type": "stream",
     "text": [
      "/tmp/ipykernel_680050/1747786216.py:16: FutureWarning: Dropping of nuisance columns in rolling operations is deprecated; in a future version this will raise TypeError. Select only valid columns before calling the operation. Dropped columns were Index(['symbol'], dtype='object')\n",
      "  value = itm.shift(1).rolling(5).mean()\n",
      "/tmp/ipykernel_680050/1747786216.py:16: FutureWarning: Dropping of nuisance columns in rolling operations is deprecated; in a future version this will raise TypeError. Select only valid columns before calling the operation. Dropped columns were Index(['symbol'], dtype='object')\n",
      "  value = itm.shift(1).rolling(5).mean()\n"
     ]
    },
    {
     "name": "stdout",
     "output_type": "stream",
     "text": [
      "189\n",
      "190\n"
     ]
    },
    {
     "name": "stderr",
     "output_type": "stream",
     "text": [
      "/tmp/ipykernel_680050/1747786216.py:16: FutureWarning: Dropping of nuisance columns in rolling operations is deprecated; in a future version this will raise TypeError. Select only valid columns before calling the operation. Dropped columns were Index(['symbol'], dtype='object')\n",
      "  value = itm.shift(1).rolling(5).mean()\n",
      "/tmp/ipykernel_680050/1747786216.py:16: FutureWarning: Dropping of nuisance columns in rolling operations is deprecated; in a future version this will raise TypeError. Select only valid columns before calling the operation. Dropped columns were Index(['symbol'], dtype='object')\n",
      "  value = itm.shift(1).rolling(5).mean()\n"
     ]
    },
    {
     "name": "stdout",
     "output_type": "stream",
     "text": [
      "191\n",
      "192\n"
     ]
    },
    {
     "name": "stderr",
     "output_type": "stream",
     "text": [
      "/tmp/ipykernel_680050/1747786216.py:16: FutureWarning: Dropping of nuisance columns in rolling operations is deprecated; in a future version this will raise TypeError. Select only valid columns before calling the operation. Dropped columns were Index(['symbol'], dtype='object')\n",
      "  value = itm.shift(1).rolling(5).mean()\n",
      "/tmp/ipykernel_680050/1747786216.py:16: FutureWarning: Dropping of nuisance columns in rolling operations is deprecated; in a future version this will raise TypeError. Select only valid columns before calling the operation. Dropped columns were Index(['symbol'], dtype='object')\n",
      "  value = itm.shift(1).rolling(5).mean()\n"
     ]
    },
    {
     "name": "stdout",
     "output_type": "stream",
     "text": [
      "193\n",
      "194\n"
     ]
    },
    {
     "name": "stderr",
     "output_type": "stream",
     "text": [
      "/tmp/ipykernel_680050/1747786216.py:16: FutureWarning: Dropping of nuisance columns in rolling operations is deprecated; in a future version this will raise TypeError. Select only valid columns before calling the operation. Dropped columns were Index(['symbol'], dtype='object')\n",
      "  value = itm.shift(1).rolling(5).mean()\n",
      "/tmp/ipykernel_680050/1747786216.py:16: FutureWarning: Dropping of nuisance columns in rolling operations is deprecated; in a future version this will raise TypeError. Select only valid columns before calling the operation. Dropped columns were Index(['symbol'], dtype='object')\n",
      "  value = itm.shift(1).rolling(5).mean()\n"
     ]
    },
    {
     "name": "stdout",
     "output_type": "stream",
     "text": [
      "195\n",
      "196\n"
     ]
    },
    {
     "name": "stderr",
     "output_type": "stream",
     "text": [
      "/tmp/ipykernel_680050/1747786216.py:16: FutureWarning: Dropping of nuisance columns in rolling operations is deprecated; in a future version this will raise TypeError. Select only valid columns before calling the operation. Dropped columns were Index(['symbol'], dtype='object')\n",
      "  value = itm.shift(1).rolling(5).mean()\n",
      "/tmp/ipykernel_680050/1747786216.py:16: FutureWarning: Dropping of nuisance columns in rolling operations is deprecated; in a future version this will raise TypeError. Select only valid columns before calling the operation. Dropped columns were Index(['symbol'], dtype='object')\n",
      "  value = itm.shift(1).rolling(5).mean()\n"
     ]
    },
    {
     "name": "stdout",
     "output_type": "stream",
     "text": [
      "197\n",
      "198\n"
     ]
    },
    {
     "name": "stderr",
     "output_type": "stream",
     "text": [
      "/tmp/ipykernel_680050/1747786216.py:16: FutureWarning: Dropping of nuisance columns in rolling operations is deprecated; in a future version this will raise TypeError. Select only valid columns before calling the operation. Dropped columns were Index(['symbol'], dtype='object')\n",
      "  value = itm.shift(1).rolling(5).mean()\n",
      "/tmp/ipykernel_680050/1747786216.py:16: FutureWarning: Dropping of nuisance columns in rolling operations is deprecated; in a future version this will raise TypeError. Select only valid columns before calling the operation. Dropped columns were Index(['symbol'], dtype='object')\n",
      "  value = itm.shift(1).rolling(5).mean()\n"
     ]
    },
    {
     "name": "stdout",
     "output_type": "stream",
     "text": [
      "199\n",
      "200\n"
     ]
    },
    {
     "name": "stderr",
     "output_type": "stream",
     "text": [
      "/tmp/ipykernel_680050/1747786216.py:16: FutureWarning: Dropping of nuisance columns in rolling operations is deprecated; in a future version this will raise TypeError. Select only valid columns before calling the operation. Dropped columns were Index(['symbol'], dtype='object')\n",
      "  value = itm.shift(1).rolling(5).mean()\n",
      "/tmp/ipykernel_680050/1747786216.py:16: FutureWarning: Dropping of nuisance columns in rolling operations is deprecated; in a future version this will raise TypeError. Select only valid columns before calling the operation. Dropped columns were Index(['symbol'], dtype='object')\n",
      "  value = itm.shift(1).rolling(5).mean()\n"
     ]
    },
    {
     "name": "stdout",
     "output_type": "stream",
     "text": [
      "201\n",
      "202\n"
     ]
    },
    {
     "name": "stderr",
     "output_type": "stream",
     "text": [
      "/tmp/ipykernel_680050/1747786216.py:16: FutureWarning: Dropping of nuisance columns in rolling operations is deprecated; in a future version this will raise TypeError. Select only valid columns before calling the operation. Dropped columns were Index(['symbol'], dtype='object')\n",
      "  value = itm.shift(1).rolling(5).mean()\n",
      "/tmp/ipykernel_680050/1747786216.py:16: FutureWarning: Dropping of nuisance columns in rolling operations is deprecated; in a future version this will raise TypeError. Select only valid columns before calling the operation. Dropped columns were Index(['symbol'], dtype='object')\n",
      "  value = itm.shift(1).rolling(5).mean()\n"
     ]
    },
    {
     "name": "stdout",
     "output_type": "stream",
     "text": [
      "203\n",
      "204\n"
     ]
    },
    {
     "name": "stderr",
     "output_type": "stream",
     "text": [
      "/tmp/ipykernel_680050/1747786216.py:16: FutureWarning: Dropping of nuisance columns in rolling operations is deprecated; in a future version this will raise TypeError. Select only valid columns before calling the operation. Dropped columns were Index(['symbol'], dtype='object')\n",
      "  value = itm.shift(1).rolling(5).mean()\n",
      "/tmp/ipykernel_680050/1747786216.py:16: FutureWarning: Dropping of nuisance columns in rolling operations is deprecated; in a future version this will raise TypeError. Select only valid columns before calling the operation. Dropped columns were Index(['symbol'], dtype='object')\n",
      "  value = itm.shift(1).rolling(5).mean()\n"
     ]
    },
    {
     "name": "stdout",
     "output_type": "stream",
     "text": [
      "205\n",
      "206\n"
     ]
    },
    {
     "name": "stderr",
     "output_type": "stream",
     "text": [
      "/tmp/ipykernel_680050/1747786216.py:16: FutureWarning: Dropping of nuisance columns in rolling operations is deprecated; in a future version this will raise TypeError. Select only valid columns before calling the operation. Dropped columns were Index(['symbol'], dtype='object')\n",
      "  value = itm.shift(1).rolling(5).mean()\n",
      "/tmp/ipykernel_680050/1747786216.py:16: FutureWarning: Dropping of nuisance columns in rolling operations is deprecated; in a future version this will raise TypeError. Select only valid columns before calling the operation. Dropped columns were Index(['symbol'], dtype='object')\n",
      "  value = itm.shift(1).rolling(5).mean()\n"
     ]
    },
    {
     "name": "stdout",
     "output_type": "stream",
     "text": [
      "207\n",
      "208\n"
     ]
    },
    {
     "name": "stderr",
     "output_type": "stream",
     "text": [
      "/tmp/ipykernel_680050/1747786216.py:16: FutureWarning: Dropping of nuisance columns in rolling operations is deprecated; in a future version this will raise TypeError. Select only valid columns before calling the operation. Dropped columns were Index(['symbol'], dtype='object')\n",
      "  value = itm.shift(1).rolling(5).mean()\n",
      "/tmp/ipykernel_680050/1747786216.py:16: FutureWarning: Dropping of nuisance columns in rolling operations is deprecated; in a future version this will raise TypeError. Select only valid columns before calling the operation. Dropped columns were Index(['symbol'], dtype='object')\n",
      "  value = itm.shift(1).rolling(5).mean()\n"
     ]
    },
    {
     "name": "stdout",
     "output_type": "stream",
     "text": [
      "209\n",
      "210\n"
     ]
    },
    {
     "name": "stderr",
     "output_type": "stream",
     "text": [
      "/tmp/ipykernel_680050/1747786216.py:16: FutureWarning: Dropping of nuisance columns in rolling operations is deprecated; in a future version this will raise TypeError. Select only valid columns before calling the operation. Dropped columns were Index(['symbol'], dtype='object')\n",
      "  value = itm.shift(1).rolling(5).mean()\n",
      "/tmp/ipykernel_680050/1747786216.py:16: FutureWarning: Dropping of nuisance columns in rolling operations is deprecated; in a future version this will raise TypeError. Select only valid columns before calling the operation. Dropped columns were Index(['symbol'], dtype='object')\n",
      "  value = itm.shift(1).rolling(5).mean()\n"
     ]
    },
    {
     "name": "stdout",
     "output_type": "stream",
     "text": [
      "211\n",
      "212\n"
     ]
    },
    {
     "name": "stderr",
     "output_type": "stream",
     "text": [
      "/tmp/ipykernel_680050/1747786216.py:16: FutureWarning: Dropping of nuisance columns in rolling operations is deprecated; in a future version this will raise TypeError. Select only valid columns before calling the operation. Dropped columns were Index(['symbol'], dtype='object')\n",
      "  value = itm.shift(1).rolling(5).mean()\n",
      "/tmp/ipykernel_680050/1747786216.py:16: FutureWarning: Dropping of nuisance columns in rolling operations is deprecated; in a future version this will raise TypeError. Select only valid columns before calling the operation. Dropped columns were Index(['symbol'], dtype='object')\n",
      "  value = itm.shift(1).rolling(5).mean()\n"
     ]
    },
    {
     "name": "stdout",
     "output_type": "stream",
     "text": [
      "213\n",
      "214\n"
     ]
    },
    {
     "name": "stderr",
     "output_type": "stream",
     "text": [
      "/tmp/ipykernel_680050/1747786216.py:16: FutureWarning: Dropping of nuisance columns in rolling operations is deprecated; in a future version this will raise TypeError. Select only valid columns before calling the operation. Dropped columns were Index(['symbol'], dtype='object')\n",
      "  value = itm.shift(1).rolling(5).mean()\n",
      "/tmp/ipykernel_680050/1747786216.py:16: FutureWarning: Dropping of nuisance columns in rolling operations is deprecated; in a future version this will raise TypeError. Select only valid columns before calling the operation. Dropped columns were Index(['symbol'], dtype='object')\n",
      "  value = itm.shift(1).rolling(5).mean()\n"
     ]
    },
    {
     "name": "stdout",
     "output_type": "stream",
     "text": [
      "215\n",
      "216\n"
     ]
    },
    {
     "name": "stderr",
     "output_type": "stream",
     "text": [
      "/tmp/ipykernel_680050/1747786216.py:16: FutureWarning: Dropping of nuisance columns in rolling operations is deprecated; in a future version this will raise TypeError. Select only valid columns before calling the operation. Dropped columns were Index(['symbol'], dtype='object')\n",
      "  value = itm.shift(1).rolling(5).mean()\n",
      "/tmp/ipykernel_680050/1747786216.py:16: FutureWarning: Dropping of nuisance columns in rolling operations is deprecated; in a future version this will raise TypeError. Select only valid columns before calling the operation. Dropped columns were Index(['symbol'], dtype='object')\n",
      "  value = itm.shift(1).rolling(5).mean()\n"
     ]
    },
    {
     "name": "stdout",
     "output_type": "stream",
     "text": [
      "217\n",
      "218\n"
     ]
    },
    {
     "name": "stderr",
     "output_type": "stream",
     "text": [
      "/tmp/ipykernel_680050/1747786216.py:16: FutureWarning: Dropping of nuisance columns in rolling operations is deprecated; in a future version this will raise TypeError. Select only valid columns before calling the operation. Dropped columns were Index(['symbol'], dtype='object')\n",
      "  value = itm.shift(1).rolling(5).mean()\n",
      "/tmp/ipykernel_680050/1747786216.py:16: FutureWarning: Dropping of nuisance columns in rolling operations is deprecated; in a future version this will raise TypeError. Select only valid columns before calling the operation. Dropped columns were Index(['symbol'], dtype='object')\n",
      "  value = itm.shift(1).rolling(5).mean()\n"
     ]
    },
    {
     "name": "stdout",
     "output_type": "stream",
     "text": [
      "219\n",
      "220\n"
     ]
    },
    {
     "name": "stderr",
     "output_type": "stream",
     "text": [
      "/tmp/ipykernel_680050/1747786216.py:16: FutureWarning: Dropping of nuisance columns in rolling operations is deprecated; in a future version this will raise TypeError. Select only valid columns before calling the operation. Dropped columns were Index(['symbol'], dtype='object')\n",
      "  value = itm.shift(1).rolling(5).mean()\n",
      "/tmp/ipykernel_680050/1747786216.py:16: FutureWarning: Dropping of nuisance columns in rolling operations is deprecated; in a future version this will raise TypeError. Select only valid columns before calling the operation. Dropped columns were Index(['symbol'], dtype='object')\n",
      "  value = itm.shift(1).rolling(5).mean()\n"
     ]
    },
    {
     "name": "stdout",
     "output_type": "stream",
     "text": [
      "221\n",
      "222\n"
     ]
    },
    {
     "name": "stderr",
     "output_type": "stream",
     "text": [
      "/tmp/ipykernel_680050/1747786216.py:16: FutureWarning: Dropping of nuisance columns in rolling operations is deprecated; in a future version this will raise TypeError. Select only valid columns before calling the operation. Dropped columns were Index(['symbol'], dtype='object')\n",
      "  value = itm.shift(1).rolling(5).mean()\n",
      "/tmp/ipykernel_680050/1747786216.py:16: FutureWarning: Dropping of nuisance columns in rolling operations is deprecated; in a future version this will raise TypeError. Select only valid columns before calling the operation. Dropped columns were Index(['symbol'], dtype='object')\n",
      "  value = itm.shift(1).rolling(5).mean()\n"
     ]
    },
    {
     "name": "stdout",
     "output_type": "stream",
     "text": [
      "223\n",
      "224\n"
     ]
    },
    {
     "name": "stderr",
     "output_type": "stream",
     "text": [
      "/tmp/ipykernel_680050/1747786216.py:16: FutureWarning: Dropping of nuisance columns in rolling operations is deprecated; in a future version this will raise TypeError. Select only valid columns before calling the operation. Dropped columns were Index(['symbol'], dtype='object')\n",
      "  value = itm.shift(1).rolling(5).mean()\n",
      "/tmp/ipykernel_680050/1747786216.py:16: FutureWarning: Dropping of nuisance columns in rolling operations is deprecated; in a future version this will raise TypeError. Select only valid columns before calling the operation. Dropped columns were Index(['symbol'], dtype='object')\n",
      "  value = itm.shift(1).rolling(5).mean()\n"
     ]
    },
    {
     "name": "stdout",
     "output_type": "stream",
     "text": [
      "225\n",
      "226\n"
     ]
    },
    {
     "name": "stderr",
     "output_type": "stream",
     "text": [
      "/tmp/ipykernel_680050/1747786216.py:16: FutureWarning: Dropping of nuisance columns in rolling operations is deprecated; in a future version this will raise TypeError. Select only valid columns before calling the operation. Dropped columns were Index(['symbol'], dtype='object')\n",
      "  value = itm.shift(1).rolling(5).mean()\n",
      "/tmp/ipykernel_680050/1747786216.py:16: FutureWarning: Dropping of nuisance columns in rolling operations is deprecated; in a future version this will raise TypeError. Select only valid columns before calling the operation. Dropped columns were Index(['symbol'], dtype='object')\n",
      "  value = itm.shift(1).rolling(5).mean()\n"
     ]
    },
    {
     "name": "stdout",
     "output_type": "stream",
     "text": [
      "227\n",
      "228\n"
     ]
    },
    {
     "name": "stderr",
     "output_type": "stream",
     "text": [
      "/tmp/ipykernel_680050/1747786216.py:16: FutureWarning: Dropping of nuisance columns in rolling operations is deprecated; in a future version this will raise TypeError. Select only valid columns before calling the operation. Dropped columns were Index(['symbol'], dtype='object')\n",
      "  value = itm.shift(1).rolling(5).mean()\n",
      "/tmp/ipykernel_680050/1747786216.py:16: FutureWarning: Dropping of nuisance columns in rolling operations is deprecated; in a future version this will raise TypeError. Select only valid columns before calling the operation. Dropped columns were Index(['symbol'], dtype='object')\n",
      "  value = itm.shift(1).rolling(5).mean()\n"
     ]
    },
    {
     "name": "stdout",
     "output_type": "stream",
     "text": [
      "229\n",
      "230\n"
     ]
    },
    {
     "name": "stderr",
     "output_type": "stream",
     "text": [
      "/tmp/ipykernel_680050/1747786216.py:16: FutureWarning: Dropping of nuisance columns in rolling operations is deprecated; in a future version this will raise TypeError. Select only valid columns before calling the operation. Dropped columns were Index(['symbol'], dtype='object')\n",
      "  value = itm.shift(1).rolling(5).mean()\n",
      "/tmp/ipykernel_680050/1747786216.py:16: FutureWarning: Dropping of nuisance columns in rolling operations is deprecated; in a future version this will raise TypeError. Select only valid columns before calling the operation. Dropped columns were Index(['symbol'], dtype='object')\n",
      "  value = itm.shift(1).rolling(5).mean()\n"
     ]
    },
    {
     "name": "stdout",
     "output_type": "stream",
     "text": [
      "231\n",
      "232\n"
     ]
    },
    {
     "name": "stderr",
     "output_type": "stream",
     "text": [
      "/tmp/ipykernel_680050/1747786216.py:16: FutureWarning: Dropping of nuisance columns in rolling operations is deprecated; in a future version this will raise TypeError. Select only valid columns before calling the operation. Dropped columns were Index(['symbol'], dtype='object')\n",
      "  value = itm.shift(1).rolling(5).mean()\n",
      "/tmp/ipykernel_680050/1747786216.py:16: FutureWarning: Dropping of nuisance columns in rolling operations is deprecated; in a future version this will raise TypeError. Select only valid columns before calling the operation. Dropped columns were Index(['symbol'], dtype='object')\n",
      "  value = itm.shift(1).rolling(5).mean()\n"
     ]
    },
    {
     "name": "stdout",
     "output_type": "stream",
     "text": [
      "233\n",
      "234\n"
     ]
    },
    {
     "name": "stderr",
     "output_type": "stream",
     "text": [
      "/tmp/ipykernel_680050/1747786216.py:16: FutureWarning: Dropping of nuisance columns in rolling operations is deprecated; in a future version this will raise TypeError. Select only valid columns before calling the operation. Dropped columns were Index(['symbol'], dtype='object')\n",
      "  value = itm.shift(1).rolling(5).mean()\n",
      "/tmp/ipykernel_680050/1747786216.py:16: FutureWarning: Dropping of nuisance columns in rolling operations is deprecated; in a future version this will raise TypeError. Select only valid columns before calling the operation. Dropped columns were Index(['symbol'], dtype='object')\n",
      "  value = itm.shift(1).rolling(5).mean()\n"
     ]
    },
    {
     "name": "stdout",
     "output_type": "stream",
     "text": [
      "235\n",
      "236\n"
     ]
    },
    {
     "name": "stderr",
     "output_type": "stream",
     "text": [
      "/tmp/ipykernel_680050/1747786216.py:16: FutureWarning: Dropping of nuisance columns in rolling operations is deprecated; in a future version this will raise TypeError. Select only valid columns before calling the operation. Dropped columns were Index(['symbol'], dtype='object')\n",
      "  value = itm.shift(1).rolling(5).mean()\n",
      "/tmp/ipykernel_680050/1747786216.py:16: FutureWarning: Dropping of nuisance columns in rolling operations is deprecated; in a future version this will raise TypeError. Select only valid columns before calling the operation. Dropped columns were Index(['symbol'], dtype='object')\n",
      "  value = itm.shift(1).rolling(5).mean()\n"
     ]
    },
    {
     "name": "stdout",
     "output_type": "stream",
     "text": [
      "237\n",
      "238\n"
     ]
    },
    {
     "name": "stderr",
     "output_type": "stream",
     "text": [
      "/tmp/ipykernel_680050/1747786216.py:16: FutureWarning: Dropping of nuisance columns in rolling operations is deprecated; in a future version this will raise TypeError. Select only valid columns before calling the operation. Dropped columns were Index(['symbol'], dtype='object')\n",
      "  value = itm.shift(1).rolling(5).mean()\n",
      "/tmp/ipykernel_680050/1747786216.py:16: FutureWarning: Dropping of nuisance columns in rolling operations is deprecated; in a future version this will raise TypeError. Select only valid columns before calling the operation. Dropped columns were Index(['symbol'], dtype='object')\n",
      "  value = itm.shift(1).rolling(5).mean()\n"
     ]
    },
    {
     "name": "stdout",
     "output_type": "stream",
     "text": [
      "239\n",
      "240\n"
     ]
    },
    {
     "name": "stderr",
     "output_type": "stream",
     "text": [
      "/tmp/ipykernel_680050/1747786216.py:16: FutureWarning: Dropping of nuisance columns in rolling operations is deprecated; in a future version this will raise TypeError. Select only valid columns before calling the operation. Dropped columns were Index(['symbol'], dtype='object')\n",
      "  value = itm.shift(1).rolling(5).mean()\n",
      "/tmp/ipykernel_680050/1747786216.py:16: FutureWarning: Dropping of nuisance columns in rolling operations is deprecated; in a future version this will raise TypeError. Select only valid columns before calling the operation. Dropped columns were Index(['symbol'], dtype='object')\n",
      "  value = itm.shift(1).rolling(5).mean()\n"
     ]
    },
    {
     "name": "stdout",
     "output_type": "stream",
     "text": [
      "241\n",
      "242\n"
     ]
    },
    {
     "name": "stderr",
     "output_type": "stream",
     "text": [
      "/tmp/ipykernel_680050/1747786216.py:16: FutureWarning: Dropping of nuisance columns in rolling operations is deprecated; in a future version this will raise TypeError. Select only valid columns before calling the operation. Dropped columns were Index(['symbol'], dtype='object')\n",
      "  value = itm.shift(1).rolling(5).mean()\n",
      "/tmp/ipykernel_680050/1747786216.py:16: FutureWarning: Dropping of nuisance columns in rolling operations is deprecated; in a future version this will raise TypeError. Select only valid columns before calling the operation. Dropped columns were Index(['symbol'], dtype='object')\n",
      "  value = itm.shift(1).rolling(5).mean()\n"
     ]
    },
    {
     "name": "stdout",
     "output_type": "stream",
     "text": [
      "243\n",
      "244\n"
     ]
    },
    {
     "name": "stderr",
     "output_type": "stream",
     "text": [
      "/tmp/ipykernel_680050/1747786216.py:16: FutureWarning: Dropping of nuisance columns in rolling operations is deprecated; in a future version this will raise TypeError. Select only valid columns before calling the operation. Dropped columns were Index(['symbol'], dtype='object')\n",
      "  value = itm.shift(1).rolling(5).mean()\n",
      "/tmp/ipykernel_680050/1747786216.py:16: FutureWarning: Dropping of nuisance columns in rolling operations is deprecated; in a future version this will raise TypeError. Select only valid columns before calling the operation. Dropped columns were Index(['symbol'], dtype='object')\n",
      "  value = itm.shift(1).rolling(5).mean()\n"
     ]
    },
    {
     "name": "stdout",
     "output_type": "stream",
     "text": [
      "245\n",
      "246\n"
     ]
    },
    {
     "name": "stderr",
     "output_type": "stream",
     "text": [
      "/tmp/ipykernel_680050/1747786216.py:16: FutureWarning: Dropping of nuisance columns in rolling operations is deprecated; in a future version this will raise TypeError. Select only valid columns before calling the operation. Dropped columns were Index(['symbol'], dtype='object')\n",
      "  value = itm.shift(1).rolling(5).mean()\n",
      "/tmp/ipykernel_680050/1747786216.py:16: FutureWarning: Dropping of nuisance columns in rolling operations is deprecated; in a future version this will raise TypeError. Select only valid columns before calling the operation. Dropped columns were Index(['symbol'], dtype='object')\n",
      "  value = itm.shift(1).rolling(5).mean()\n"
     ]
    },
    {
     "name": "stdout",
     "output_type": "stream",
     "text": [
      "247\n",
      "248\n"
     ]
    },
    {
     "name": "stderr",
     "output_type": "stream",
     "text": [
      "/tmp/ipykernel_680050/1747786216.py:16: FutureWarning: Dropping of nuisance columns in rolling operations is deprecated; in a future version this will raise TypeError. Select only valid columns before calling the operation. Dropped columns were Index(['symbol'], dtype='object')\n",
      "  value = itm.shift(1).rolling(5).mean()\n",
      "/tmp/ipykernel_680050/1747786216.py:16: FutureWarning: Dropping of nuisance columns in rolling operations is deprecated; in a future version this will raise TypeError. Select only valid columns before calling the operation. Dropped columns were Index(['symbol'], dtype='object')\n",
      "  value = itm.shift(1).rolling(5).mean()\n"
     ]
    },
    {
     "name": "stdout",
     "output_type": "stream",
     "text": [
      "249\n",
      "250\n"
     ]
    },
    {
     "name": "stderr",
     "output_type": "stream",
     "text": [
      "/tmp/ipykernel_680050/1747786216.py:16: FutureWarning: Dropping of nuisance columns in rolling operations is deprecated; in a future version this will raise TypeError. Select only valid columns before calling the operation. Dropped columns were Index(['symbol'], dtype='object')\n",
      "  value = itm.shift(1).rolling(5).mean()\n",
      "/tmp/ipykernel_680050/1747786216.py:16: FutureWarning: Dropping of nuisance columns in rolling operations is deprecated; in a future version this will raise TypeError. Select only valid columns before calling the operation. Dropped columns were Index(['symbol'], dtype='object')\n",
      "  value = itm.shift(1).rolling(5).mean()\n"
     ]
    },
    {
     "name": "stdout",
     "output_type": "stream",
     "text": [
      "251\n",
      "252\n"
     ]
    },
    {
     "name": "stderr",
     "output_type": "stream",
     "text": [
      "/tmp/ipykernel_680050/1747786216.py:16: FutureWarning: Dropping of nuisance columns in rolling operations is deprecated; in a future version this will raise TypeError. Select only valid columns before calling the operation. Dropped columns were Index(['symbol'], dtype='object')\n",
      "  value = itm.shift(1).rolling(5).mean()\n",
      "/tmp/ipykernel_680050/1747786216.py:16: FutureWarning: Dropping of nuisance columns in rolling operations is deprecated; in a future version this will raise TypeError. Select only valid columns before calling the operation. Dropped columns were Index(['symbol'], dtype='object')\n",
      "  value = itm.shift(1).rolling(5).mean()\n"
     ]
    },
    {
     "name": "stdout",
     "output_type": "stream",
     "text": [
      "253\n",
      "254\n"
     ]
    },
    {
     "name": "stderr",
     "output_type": "stream",
     "text": [
      "/tmp/ipykernel_680050/1747786216.py:16: FutureWarning: Dropping of nuisance columns in rolling operations is deprecated; in a future version this will raise TypeError. Select only valid columns before calling the operation. Dropped columns were Index(['symbol'], dtype='object')\n",
      "  value = itm.shift(1).rolling(5).mean()\n",
      "/tmp/ipykernel_680050/1747786216.py:16: FutureWarning: Dropping of nuisance columns in rolling operations is deprecated; in a future version this will raise TypeError. Select only valid columns before calling the operation. Dropped columns were Index(['symbol'], dtype='object')\n",
      "  value = itm.shift(1).rolling(5).mean()\n"
     ]
    },
    {
     "name": "stdout",
     "output_type": "stream",
     "text": [
      "255\n",
      "256\n"
     ]
    },
    {
     "name": "stderr",
     "output_type": "stream",
     "text": [
      "/tmp/ipykernel_680050/1747786216.py:16: FutureWarning: Dropping of nuisance columns in rolling operations is deprecated; in a future version this will raise TypeError. Select only valid columns before calling the operation. Dropped columns were Index(['symbol'], dtype='object')\n",
      "  value = itm.shift(1).rolling(5).mean()\n",
      "/tmp/ipykernel_680050/1747786216.py:16: FutureWarning: Dropping of nuisance columns in rolling operations is deprecated; in a future version this will raise TypeError. Select only valid columns before calling the operation. Dropped columns were Index(['symbol'], dtype='object')\n",
      "  value = itm.shift(1).rolling(5).mean()\n"
     ]
    },
    {
     "name": "stdout",
     "output_type": "stream",
     "text": [
      "257\n",
      "258\n"
     ]
    },
    {
     "name": "stderr",
     "output_type": "stream",
     "text": [
      "/tmp/ipykernel_680050/1747786216.py:16: FutureWarning: Dropping of nuisance columns in rolling operations is deprecated; in a future version this will raise TypeError. Select only valid columns before calling the operation. Dropped columns were Index(['symbol'], dtype='object')\n",
      "  value = itm.shift(1).rolling(5).mean()\n",
      "/tmp/ipykernel_680050/1747786216.py:16: FutureWarning: Dropping of nuisance columns in rolling operations is deprecated; in a future version this will raise TypeError. Select only valid columns before calling the operation. Dropped columns were Index(['symbol'], dtype='object')\n",
      "  value = itm.shift(1).rolling(5).mean()\n"
     ]
    },
    {
     "name": "stdout",
     "output_type": "stream",
     "text": [
      "259\n",
      "260\n"
     ]
    },
    {
     "name": "stderr",
     "output_type": "stream",
     "text": [
      "/tmp/ipykernel_680050/1747786216.py:16: FutureWarning: Dropping of nuisance columns in rolling operations is deprecated; in a future version this will raise TypeError. Select only valid columns before calling the operation. Dropped columns were Index(['symbol'], dtype='object')\n",
      "  value = itm.shift(1).rolling(5).mean()\n",
      "/tmp/ipykernel_680050/1747786216.py:16: FutureWarning: Dropping of nuisance columns in rolling operations is deprecated; in a future version this will raise TypeError. Select only valid columns before calling the operation. Dropped columns were Index(['symbol'], dtype='object')\n",
      "  value = itm.shift(1).rolling(5).mean()\n"
     ]
    },
    {
     "name": "stdout",
     "output_type": "stream",
     "text": [
      "261\n",
      "262\n"
     ]
    },
    {
     "name": "stderr",
     "output_type": "stream",
     "text": [
      "/tmp/ipykernel_680050/1747786216.py:16: FutureWarning: Dropping of nuisance columns in rolling operations is deprecated; in a future version this will raise TypeError. Select only valid columns before calling the operation. Dropped columns were Index(['symbol'], dtype='object')\n",
      "  value = itm.shift(1).rolling(5).mean()\n",
      "/tmp/ipykernel_680050/1747786216.py:16: FutureWarning: Dropping of nuisance columns in rolling operations is deprecated; in a future version this will raise TypeError. Select only valid columns before calling the operation. Dropped columns were Index(['symbol'], dtype='object')\n",
      "  value = itm.shift(1).rolling(5).mean()\n"
     ]
    },
    {
     "name": "stdout",
     "output_type": "stream",
     "text": [
      "263\n",
      "264\n"
     ]
    },
    {
     "name": "stderr",
     "output_type": "stream",
     "text": [
      "/tmp/ipykernel_680050/1747786216.py:16: FutureWarning: Dropping of nuisance columns in rolling operations is deprecated; in a future version this will raise TypeError. Select only valid columns before calling the operation. Dropped columns were Index(['symbol'], dtype='object')\n",
      "  value = itm.shift(1).rolling(5).mean()\n",
      "/tmp/ipykernel_680050/1747786216.py:16: FutureWarning: Dropping of nuisance columns in rolling operations is deprecated; in a future version this will raise TypeError. Select only valid columns before calling the operation. Dropped columns were Index(['symbol'], dtype='object')\n",
      "  value = itm.shift(1).rolling(5).mean()\n"
     ]
    },
    {
     "name": "stdout",
     "output_type": "stream",
     "text": [
      "265\n",
      "266\n"
     ]
    },
    {
     "name": "stderr",
     "output_type": "stream",
     "text": [
      "/tmp/ipykernel_680050/1747786216.py:16: FutureWarning: Dropping of nuisance columns in rolling operations is deprecated; in a future version this will raise TypeError. Select only valid columns before calling the operation. Dropped columns were Index(['symbol'], dtype='object')\n",
      "  value = itm.shift(1).rolling(5).mean()\n",
      "/tmp/ipykernel_680050/1747786216.py:16: FutureWarning: Dropping of nuisance columns in rolling operations is deprecated; in a future version this will raise TypeError. Select only valid columns before calling the operation. Dropped columns were Index(['symbol'], dtype='object')\n",
      "  value = itm.shift(1).rolling(5).mean()\n"
     ]
    },
    {
     "name": "stdout",
     "output_type": "stream",
     "text": [
      "267\n",
      "268\n"
     ]
    },
    {
     "name": "stderr",
     "output_type": "stream",
     "text": [
      "/tmp/ipykernel_680050/1747786216.py:16: FutureWarning: Dropping of nuisance columns in rolling operations is deprecated; in a future version this will raise TypeError. Select only valid columns before calling the operation. Dropped columns were Index(['symbol'], dtype='object')\n",
      "  value = itm.shift(1).rolling(5).mean()\n",
      "/tmp/ipykernel_680050/1747786216.py:16: FutureWarning: Dropping of nuisance columns in rolling operations is deprecated; in a future version this will raise TypeError. Select only valid columns before calling the operation. Dropped columns were Index(['symbol'], dtype='object')\n",
      "  value = itm.shift(1).rolling(5).mean()\n"
     ]
    },
    {
     "name": "stdout",
     "output_type": "stream",
     "text": [
      "269\n",
      "270\n"
     ]
    },
    {
     "name": "stderr",
     "output_type": "stream",
     "text": [
      "/tmp/ipykernel_680050/1747786216.py:16: FutureWarning: Dropping of nuisance columns in rolling operations is deprecated; in a future version this will raise TypeError. Select only valid columns before calling the operation. Dropped columns were Index(['symbol'], dtype='object')\n",
      "  value = itm.shift(1).rolling(5).mean()\n",
      "/tmp/ipykernel_680050/1747786216.py:16: FutureWarning: Dropping of nuisance columns in rolling operations is deprecated; in a future version this will raise TypeError. Select only valid columns before calling the operation. Dropped columns were Index(['symbol'], dtype='object')\n",
      "  value = itm.shift(1).rolling(5).mean()\n"
     ]
    },
    {
     "name": "stdout",
     "output_type": "stream",
     "text": [
      "271\n",
      "272\n"
     ]
    },
    {
     "name": "stderr",
     "output_type": "stream",
     "text": [
      "/tmp/ipykernel_680050/1747786216.py:16: FutureWarning: Dropping of nuisance columns in rolling operations is deprecated; in a future version this will raise TypeError. Select only valid columns before calling the operation. Dropped columns were Index(['symbol'], dtype='object')\n",
      "  value = itm.shift(1).rolling(5).mean()\n",
      "/tmp/ipykernel_680050/1747786216.py:16: FutureWarning: Dropping of nuisance columns in rolling operations is deprecated; in a future version this will raise TypeError. Select only valid columns before calling the operation. Dropped columns were Index(['symbol'], dtype='object')\n",
      "  value = itm.shift(1).rolling(5).mean()\n"
     ]
    },
    {
     "name": "stdout",
     "output_type": "stream",
     "text": [
      "273\n",
      "274\n"
     ]
    },
    {
     "name": "stderr",
     "output_type": "stream",
     "text": [
      "/tmp/ipykernel_680050/1747786216.py:16: FutureWarning: Dropping of nuisance columns in rolling operations is deprecated; in a future version this will raise TypeError. Select only valid columns before calling the operation. Dropped columns were Index(['symbol'], dtype='object')\n",
      "  value = itm.shift(1).rolling(5).mean()\n",
      "/tmp/ipykernel_680050/1747786216.py:16: FutureWarning: Dropping of nuisance columns in rolling operations is deprecated; in a future version this will raise TypeError. Select only valid columns before calling the operation. Dropped columns were Index(['symbol'], dtype='object')\n",
      "  value = itm.shift(1).rolling(5).mean()\n"
     ]
    },
    {
     "name": "stdout",
     "output_type": "stream",
     "text": [
      "275\n",
      "276\n"
     ]
    },
    {
     "name": "stderr",
     "output_type": "stream",
     "text": [
      "/tmp/ipykernel_680050/1747786216.py:16: FutureWarning: Dropping of nuisance columns in rolling operations is deprecated; in a future version this will raise TypeError. Select only valid columns before calling the operation. Dropped columns were Index(['symbol'], dtype='object')\n",
      "  value = itm.shift(1).rolling(5).mean()\n",
      "/tmp/ipykernel_680050/1747786216.py:16: FutureWarning: Dropping of nuisance columns in rolling operations is deprecated; in a future version this will raise TypeError. Select only valid columns before calling the operation. Dropped columns were Index(['symbol'], dtype='object')\n",
      "  value = itm.shift(1).rolling(5).mean()\n"
     ]
    },
    {
     "name": "stdout",
     "output_type": "stream",
     "text": [
      "277\n",
      "278\n"
     ]
    },
    {
     "name": "stderr",
     "output_type": "stream",
     "text": [
      "/tmp/ipykernel_680050/1747786216.py:16: FutureWarning: Dropping of nuisance columns in rolling operations is deprecated; in a future version this will raise TypeError. Select only valid columns before calling the operation. Dropped columns were Index(['symbol'], dtype='object')\n",
      "  value = itm.shift(1).rolling(5).mean()\n",
      "/tmp/ipykernel_680050/1747786216.py:16: FutureWarning: Dropping of nuisance columns in rolling operations is deprecated; in a future version this will raise TypeError. Select only valid columns before calling the operation. Dropped columns were Index(['symbol'], dtype='object')\n",
      "  value = itm.shift(1).rolling(5).mean()\n"
     ]
    },
    {
     "name": "stdout",
     "output_type": "stream",
     "text": [
      "279\n",
      "280\n"
     ]
    },
    {
     "name": "stderr",
     "output_type": "stream",
     "text": [
      "/tmp/ipykernel_680050/1747786216.py:16: FutureWarning: Dropping of nuisance columns in rolling operations is deprecated; in a future version this will raise TypeError. Select only valid columns before calling the operation. Dropped columns were Index(['symbol'], dtype='object')\n",
      "  value = itm.shift(1).rolling(5).mean()\n",
      "/tmp/ipykernel_680050/1747786216.py:16: FutureWarning: Dropping of nuisance columns in rolling operations is deprecated; in a future version this will raise TypeError. Select only valid columns before calling the operation. Dropped columns were Index(['symbol'], dtype='object')\n",
      "  value = itm.shift(1).rolling(5).mean()\n"
     ]
    },
    {
     "name": "stdout",
     "output_type": "stream",
     "text": [
      "281\n",
      "282\n"
     ]
    },
    {
     "name": "stderr",
     "output_type": "stream",
     "text": [
      "/tmp/ipykernel_680050/1747786216.py:16: FutureWarning: Dropping of nuisance columns in rolling operations is deprecated; in a future version this will raise TypeError. Select only valid columns before calling the operation. Dropped columns were Index(['symbol'], dtype='object')\n",
      "  value = itm.shift(1).rolling(5).mean()\n",
      "/tmp/ipykernel_680050/1747786216.py:16: FutureWarning: Dropping of nuisance columns in rolling operations is deprecated; in a future version this will raise TypeError. Select only valid columns before calling the operation. Dropped columns were Index(['symbol'], dtype='object')\n",
      "  value = itm.shift(1).rolling(5).mean()\n"
     ]
    },
    {
     "name": "stdout",
     "output_type": "stream",
     "text": [
      "283\n",
      "284\n"
     ]
    },
    {
     "name": "stderr",
     "output_type": "stream",
     "text": [
      "/tmp/ipykernel_680050/1747786216.py:16: FutureWarning: Dropping of nuisance columns in rolling operations is deprecated; in a future version this will raise TypeError. Select only valid columns before calling the operation. Dropped columns were Index(['symbol'], dtype='object')\n",
      "  value = itm.shift(1).rolling(5).mean()\n",
      "/tmp/ipykernel_680050/1747786216.py:16: FutureWarning: Dropping of nuisance columns in rolling operations is deprecated; in a future version this will raise TypeError. Select only valid columns before calling the operation. Dropped columns were Index(['symbol'], dtype='object')\n",
      "  value = itm.shift(1).rolling(5).mean()\n"
     ]
    },
    {
     "name": "stdout",
     "output_type": "stream",
     "text": [
      "285\n",
      "286\n"
     ]
    },
    {
     "name": "stderr",
     "output_type": "stream",
     "text": [
      "/tmp/ipykernel_680050/1747786216.py:16: FutureWarning: Dropping of nuisance columns in rolling operations is deprecated; in a future version this will raise TypeError. Select only valid columns before calling the operation. Dropped columns were Index(['symbol'], dtype='object')\n",
      "  value = itm.shift(1).rolling(5).mean()\n",
      "/tmp/ipykernel_680050/1747786216.py:16: FutureWarning: Dropping of nuisance columns in rolling operations is deprecated; in a future version this will raise TypeError. Select only valid columns before calling the operation. Dropped columns were Index(['symbol'], dtype='object')\n",
      "  value = itm.shift(1).rolling(5).mean()\n"
     ]
    },
    {
     "name": "stdout",
     "output_type": "stream",
     "text": [
      "287\n",
      "288\n"
     ]
    },
    {
     "name": "stderr",
     "output_type": "stream",
     "text": [
      "/tmp/ipykernel_680050/1747786216.py:16: FutureWarning: Dropping of nuisance columns in rolling operations is deprecated; in a future version this will raise TypeError. Select only valid columns before calling the operation. Dropped columns were Index(['symbol'], dtype='object')\n",
      "  value = itm.shift(1).rolling(5).mean()\n",
      "/tmp/ipykernel_680050/1747786216.py:16: FutureWarning: Dropping of nuisance columns in rolling operations is deprecated; in a future version this will raise TypeError. Select only valid columns before calling the operation. Dropped columns were Index(['symbol'], dtype='object')\n",
      "  value = itm.shift(1).rolling(5).mean()\n"
     ]
    },
    {
     "name": "stdout",
     "output_type": "stream",
     "text": [
      "289\n",
      "290\n"
     ]
    },
    {
     "name": "stderr",
     "output_type": "stream",
     "text": [
      "/tmp/ipykernel_680050/1747786216.py:16: FutureWarning: Dropping of nuisance columns in rolling operations is deprecated; in a future version this will raise TypeError. Select only valid columns before calling the operation. Dropped columns were Index(['symbol'], dtype='object')\n",
      "  value = itm.shift(1).rolling(5).mean()\n",
      "/tmp/ipykernel_680050/1747786216.py:16: FutureWarning: Dropping of nuisance columns in rolling operations is deprecated; in a future version this will raise TypeError. Select only valid columns before calling the operation. Dropped columns were Index(['symbol'], dtype='object')\n",
      "  value = itm.shift(1).rolling(5).mean()\n"
     ]
    },
    {
     "name": "stdout",
     "output_type": "stream",
     "text": [
      "291\n",
      "292\n"
     ]
    },
    {
     "name": "stderr",
     "output_type": "stream",
     "text": [
      "/tmp/ipykernel_680050/1747786216.py:16: FutureWarning: Dropping of nuisance columns in rolling operations is deprecated; in a future version this will raise TypeError. Select only valid columns before calling the operation. Dropped columns were Index(['symbol'], dtype='object')\n",
      "  value = itm.shift(1).rolling(5).mean()\n",
      "/tmp/ipykernel_680050/1747786216.py:16: FutureWarning: Dropping of nuisance columns in rolling operations is deprecated; in a future version this will raise TypeError. Select only valid columns before calling the operation. Dropped columns were Index(['symbol'], dtype='object')\n",
      "  value = itm.shift(1).rolling(5).mean()\n"
     ]
    },
    {
     "name": "stdout",
     "output_type": "stream",
     "text": [
      "293\n",
      "294\n"
     ]
    },
    {
     "name": "stderr",
     "output_type": "stream",
     "text": [
      "/tmp/ipykernel_680050/1747786216.py:16: FutureWarning: Dropping of nuisance columns in rolling operations is deprecated; in a future version this will raise TypeError. Select only valid columns before calling the operation. Dropped columns were Index(['symbol'], dtype='object')\n",
      "  value = itm.shift(1).rolling(5).mean()\n",
      "/tmp/ipykernel_680050/1747786216.py:16: FutureWarning: Dropping of nuisance columns in rolling operations is deprecated; in a future version this will raise TypeError. Select only valid columns before calling the operation. Dropped columns were Index(['symbol'], dtype='object')\n",
      "  value = itm.shift(1).rolling(5).mean()\n"
     ]
    },
    {
     "name": "stdout",
     "output_type": "stream",
     "text": [
      "295\n",
      "296\n"
     ]
    },
    {
     "name": "stderr",
     "output_type": "stream",
     "text": [
      "/tmp/ipykernel_680050/1747786216.py:16: FutureWarning: Dropping of nuisance columns in rolling operations is deprecated; in a future version this will raise TypeError. Select only valid columns before calling the operation. Dropped columns were Index(['symbol'], dtype='object')\n",
      "  value = itm.shift(1).rolling(5).mean()\n",
      "/tmp/ipykernel_680050/1747786216.py:16: FutureWarning: Dropping of nuisance columns in rolling operations is deprecated; in a future version this will raise TypeError. Select only valid columns before calling the operation. Dropped columns were Index(['symbol'], dtype='object')\n",
      "  value = itm.shift(1).rolling(5).mean()\n"
     ]
    },
    {
     "name": "stdout",
     "output_type": "stream",
     "text": [
      "297\n",
      "298\n"
     ]
    },
    {
     "name": "stderr",
     "output_type": "stream",
     "text": [
      "/tmp/ipykernel_680050/1747786216.py:16: FutureWarning: Dropping of nuisance columns in rolling operations is deprecated; in a future version this will raise TypeError. Select only valid columns before calling the operation. Dropped columns were Index(['symbol'], dtype='object')\n",
      "  value = itm.shift(1).rolling(5).mean()\n",
      "/tmp/ipykernel_680050/1747786216.py:16: FutureWarning: Dropping of nuisance columns in rolling operations is deprecated; in a future version this will raise TypeError. Select only valid columns before calling the operation. Dropped columns were Index(['symbol'], dtype='object')\n",
      "  value = itm.shift(1).rolling(5).mean()\n"
     ]
    },
    {
     "name": "stdout",
     "output_type": "stream",
     "text": [
      "299\n",
      "300\n"
     ]
    },
    {
     "name": "stderr",
     "output_type": "stream",
     "text": [
      "/tmp/ipykernel_680050/1747786216.py:16: FutureWarning: Dropping of nuisance columns in rolling operations is deprecated; in a future version this will raise TypeError. Select only valid columns before calling the operation. Dropped columns were Index(['symbol'], dtype='object')\n",
      "  value = itm.shift(1).rolling(5).mean()\n",
      "/tmp/ipykernel_680050/1747786216.py:16: FutureWarning: Dropping of nuisance columns in rolling operations is deprecated; in a future version this will raise TypeError. Select only valid columns before calling the operation. Dropped columns were Index(['symbol'], dtype='object')\n",
      "  value = itm.shift(1).rolling(5).mean()\n"
     ]
    },
    {
     "name": "stdout",
     "output_type": "stream",
     "text": [
      "301\n",
      "302\n"
     ]
    },
    {
     "name": "stderr",
     "output_type": "stream",
     "text": [
      "/tmp/ipykernel_680050/1747786216.py:16: FutureWarning: Dropping of nuisance columns in rolling operations is deprecated; in a future version this will raise TypeError. Select only valid columns before calling the operation. Dropped columns were Index(['symbol'], dtype='object')\n",
      "  value = itm.shift(1).rolling(5).mean()\n",
      "/tmp/ipykernel_680050/1747786216.py:16: FutureWarning: Dropping of nuisance columns in rolling operations is deprecated; in a future version this will raise TypeError. Select only valid columns before calling the operation. Dropped columns were Index(['symbol'], dtype='object')\n",
      "  value = itm.shift(1).rolling(5).mean()\n"
     ]
    },
    {
     "name": "stdout",
     "output_type": "stream",
     "text": [
      "303\n",
      "304\n"
     ]
    },
    {
     "name": "stderr",
     "output_type": "stream",
     "text": [
      "/tmp/ipykernel_680050/1747786216.py:16: FutureWarning: Dropping of nuisance columns in rolling operations is deprecated; in a future version this will raise TypeError. Select only valid columns before calling the operation. Dropped columns were Index(['symbol'], dtype='object')\n",
      "  value = itm.shift(1).rolling(5).mean()\n",
      "/tmp/ipykernel_680050/1747786216.py:16: FutureWarning: Dropping of nuisance columns in rolling operations is deprecated; in a future version this will raise TypeError. Select only valid columns before calling the operation. Dropped columns were Index(['symbol'], dtype='object')\n",
      "  value = itm.shift(1).rolling(5).mean()\n"
     ]
    },
    {
     "name": "stdout",
     "output_type": "stream",
     "text": [
      "305\n",
      "306\n"
     ]
    },
    {
     "name": "stderr",
     "output_type": "stream",
     "text": [
      "/tmp/ipykernel_680050/1747786216.py:16: FutureWarning: Dropping of nuisance columns in rolling operations is deprecated; in a future version this will raise TypeError. Select only valid columns before calling the operation. Dropped columns were Index(['symbol'], dtype='object')\n",
      "  value = itm.shift(1).rolling(5).mean()\n",
      "/tmp/ipykernel_680050/1747786216.py:16: FutureWarning: Dropping of nuisance columns in rolling operations is deprecated; in a future version this will raise TypeError. Select only valid columns before calling the operation. Dropped columns were Index(['symbol'], dtype='object')\n",
      "  value = itm.shift(1).rolling(5).mean()\n"
     ]
    },
    {
     "name": "stdout",
     "output_type": "stream",
     "text": [
      "307\n",
      "308\n"
     ]
    },
    {
     "name": "stderr",
     "output_type": "stream",
     "text": [
      "/tmp/ipykernel_680050/1747786216.py:16: FutureWarning: Dropping of nuisance columns in rolling operations is deprecated; in a future version this will raise TypeError. Select only valid columns before calling the operation. Dropped columns were Index(['symbol'], dtype='object')\n",
      "  value = itm.shift(1).rolling(5).mean()\n",
      "/tmp/ipykernel_680050/1747786216.py:16: FutureWarning: Dropping of nuisance columns in rolling operations is deprecated; in a future version this will raise TypeError. Select only valid columns before calling the operation. Dropped columns were Index(['symbol'], dtype='object')\n",
      "  value = itm.shift(1).rolling(5).mean()\n"
     ]
    },
    {
     "name": "stdout",
     "output_type": "stream",
     "text": [
      "309\n",
      "310\n"
     ]
    },
    {
     "name": "stderr",
     "output_type": "stream",
     "text": [
      "/tmp/ipykernel_680050/1747786216.py:16: FutureWarning: Dropping of nuisance columns in rolling operations is deprecated; in a future version this will raise TypeError. Select only valid columns before calling the operation. Dropped columns were Index(['symbol'], dtype='object')\n",
      "  value = itm.shift(1).rolling(5).mean()\n",
      "/tmp/ipykernel_680050/1747786216.py:16: FutureWarning: Dropping of nuisance columns in rolling operations is deprecated; in a future version this will raise TypeError. Select only valid columns before calling the operation. Dropped columns were Index(['symbol'], dtype='object')\n",
      "  value = itm.shift(1).rolling(5).mean()\n"
     ]
    },
    {
     "name": "stdout",
     "output_type": "stream",
     "text": [
      "311\n",
      "312\n"
     ]
    },
    {
     "name": "stderr",
     "output_type": "stream",
     "text": [
      "/tmp/ipykernel_680050/1747786216.py:16: FutureWarning: Dropping of nuisance columns in rolling operations is deprecated; in a future version this will raise TypeError. Select only valid columns before calling the operation. Dropped columns were Index(['symbol'], dtype='object')\n",
      "  value = itm.shift(1).rolling(5).mean()\n",
      "/tmp/ipykernel_680050/1747786216.py:16: FutureWarning: Dropping of nuisance columns in rolling operations is deprecated; in a future version this will raise TypeError. Select only valid columns before calling the operation. Dropped columns were Index(['symbol'], dtype='object')\n",
      "  value = itm.shift(1).rolling(5).mean()\n"
     ]
    },
    {
     "name": "stdout",
     "output_type": "stream",
     "text": [
      "313\n",
      "314\n"
     ]
    },
    {
     "name": "stderr",
     "output_type": "stream",
     "text": [
      "/tmp/ipykernel_680050/1747786216.py:16: FutureWarning: Dropping of nuisance columns in rolling operations is deprecated; in a future version this will raise TypeError. Select only valid columns before calling the operation. Dropped columns were Index(['symbol'], dtype='object')\n",
      "  value = itm.shift(1).rolling(5).mean()\n",
      "/tmp/ipykernel_680050/1747786216.py:16: FutureWarning: Dropping of nuisance columns in rolling operations is deprecated; in a future version this will raise TypeError. Select only valid columns before calling the operation. Dropped columns were Index(['symbol'], dtype='object')\n",
      "  value = itm.shift(1).rolling(5).mean()\n"
     ]
    },
    {
     "name": "stdout",
     "output_type": "stream",
     "text": [
      "315\n",
      "316\n"
     ]
    },
    {
     "name": "stderr",
     "output_type": "stream",
     "text": [
      "/tmp/ipykernel_680050/1747786216.py:16: FutureWarning: Dropping of nuisance columns in rolling operations is deprecated; in a future version this will raise TypeError. Select only valid columns before calling the operation. Dropped columns were Index(['symbol'], dtype='object')\n",
      "  value = itm.shift(1).rolling(5).mean()\n",
      "/tmp/ipykernel_680050/1747786216.py:16: FutureWarning: Dropping of nuisance columns in rolling operations is deprecated; in a future version this will raise TypeError. Select only valid columns before calling the operation. Dropped columns were Index(['symbol'], dtype='object')\n",
      "  value = itm.shift(1).rolling(5).mean()\n"
     ]
    },
    {
     "name": "stdout",
     "output_type": "stream",
     "text": [
      "317\n",
      "318\n"
     ]
    },
    {
     "name": "stderr",
     "output_type": "stream",
     "text": [
      "/tmp/ipykernel_680050/1747786216.py:16: FutureWarning: Dropping of nuisance columns in rolling operations is deprecated; in a future version this will raise TypeError. Select only valid columns before calling the operation. Dropped columns were Index(['symbol'], dtype='object')\n",
      "  value = itm.shift(1).rolling(5).mean()\n",
      "/tmp/ipykernel_680050/1747786216.py:16: FutureWarning: Dropping of nuisance columns in rolling operations is deprecated; in a future version this will raise TypeError. Select only valid columns before calling the operation. Dropped columns were Index(['symbol'], dtype='object')\n",
      "  value = itm.shift(1).rolling(5).mean()\n"
     ]
    },
    {
     "name": "stdout",
     "output_type": "stream",
     "text": [
      "319\n",
      "320\n"
     ]
    },
    {
     "name": "stderr",
     "output_type": "stream",
     "text": [
      "/tmp/ipykernel_680050/1747786216.py:16: FutureWarning: Dropping of nuisance columns in rolling operations is deprecated; in a future version this will raise TypeError. Select only valid columns before calling the operation. Dropped columns were Index(['symbol'], dtype='object')\n",
      "  value = itm.shift(1).rolling(5).mean()\n",
      "/tmp/ipykernel_680050/1747786216.py:16: FutureWarning: Dropping of nuisance columns in rolling operations is deprecated; in a future version this will raise TypeError. Select only valid columns before calling the operation. Dropped columns were Index(['symbol'], dtype='object')\n",
      "  value = itm.shift(1).rolling(5).mean()\n"
     ]
    },
    {
     "name": "stdout",
     "output_type": "stream",
     "text": [
      "321\n",
      "322\n"
     ]
    },
    {
     "name": "stderr",
     "output_type": "stream",
     "text": [
      "/tmp/ipykernel_680050/1747786216.py:16: FutureWarning: Dropping of nuisance columns in rolling operations is deprecated; in a future version this will raise TypeError. Select only valid columns before calling the operation. Dropped columns were Index(['symbol'], dtype='object')\n",
      "  value = itm.shift(1).rolling(5).mean()\n",
      "/tmp/ipykernel_680050/1747786216.py:16: FutureWarning: Dropping of nuisance columns in rolling operations is deprecated; in a future version this will raise TypeError. Select only valid columns before calling the operation. Dropped columns were Index(['symbol'], dtype='object')\n",
      "  value = itm.shift(1).rolling(5).mean()\n"
     ]
    },
    {
     "name": "stdout",
     "output_type": "stream",
     "text": [
      "323\n",
      "324\n"
     ]
    },
    {
     "name": "stderr",
     "output_type": "stream",
     "text": [
      "/tmp/ipykernel_680050/1747786216.py:16: FutureWarning: Dropping of nuisance columns in rolling operations is deprecated; in a future version this will raise TypeError. Select only valid columns before calling the operation. Dropped columns were Index(['symbol'], dtype='object')\n",
      "  value = itm.shift(1).rolling(5).mean()\n",
      "/tmp/ipykernel_680050/1747786216.py:16: FutureWarning: Dropping of nuisance columns in rolling operations is deprecated; in a future version this will raise TypeError. Select only valid columns before calling the operation. Dropped columns were Index(['symbol'], dtype='object')\n",
      "  value = itm.shift(1).rolling(5).mean()\n"
     ]
    },
    {
     "name": "stdout",
     "output_type": "stream",
     "text": [
      "325\n",
      "326\n"
     ]
    },
    {
     "name": "stderr",
     "output_type": "stream",
     "text": [
      "/tmp/ipykernel_680050/1747786216.py:16: FutureWarning: Dropping of nuisance columns in rolling operations is deprecated; in a future version this will raise TypeError. Select only valid columns before calling the operation. Dropped columns were Index(['symbol'], dtype='object')\n",
      "  value = itm.shift(1).rolling(5).mean()\n",
      "/tmp/ipykernel_680050/1747786216.py:16: FutureWarning: Dropping of nuisance columns in rolling operations is deprecated; in a future version this will raise TypeError. Select only valid columns before calling the operation. Dropped columns were Index(['symbol'], dtype='object')\n",
      "  value = itm.shift(1).rolling(5).mean()\n"
     ]
    },
    {
     "name": "stdout",
     "output_type": "stream",
     "text": [
      "327\n",
      "328\n"
     ]
    },
    {
     "name": "stderr",
     "output_type": "stream",
     "text": [
      "/tmp/ipykernel_680050/1747786216.py:16: FutureWarning: Dropping of nuisance columns in rolling operations is deprecated; in a future version this will raise TypeError. Select only valid columns before calling the operation. Dropped columns were Index(['symbol'], dtype='object')\n",
      "  value = itm.shift(1).rolling(5).mean()\n",
      "/tmp/ipykernel_680050/1747786216.py:16: FutureWarning: Dropping of nuisance columns in rolling operations is deprecated; in a future version this will raise TypeError. Select only valid columns before calling the operation. Dropped columns were Index(['symbol'], dtype='object')\n",
      "  value = itm.shift(1).rolling(5).mean()\n"
     ]
    },
    {
     "name": "stdout",
     "output_type": "stream",
     "text": [
      "329\n",
      "330\n"
     ]
    },
    {
     "name": "stderr",
     "output_type": "stream",
     "text": [
      "/tmp/ipykernel_680050/1747786216.py:16: FutureWarning: Dropping of nuisance columns in rolling operations is deprecated; in a future version this will raise TypeError. Select only valid columns before calling the operation. Dropped columns were Index(['symbol'], dtype='object')\n",
      "  value = itm.shift(1).rolling(5).mean()\n",
      "/tmp/ipykernel_680050/1747786216.py:16: FutureWarning: Dropping of nuisance columns in rolling operations is deprecated; in a future version this will raise TypeError. Select only valid columns before calling the operation. Dropped columns were Index(['symbol'], dtype='object')\n",
      "  value = itm.shift(1).rolling(5).mean()\n"
     ]
    },
    {
     "name": "stdout",
     "output_type": "stream",
     "text": [
      "331\n",
      "332\n"
     ]
    },
    {
     "name": "stderr",
     "output_type": "stream",
     "text": [
      "/tmp/ipykernel_680050/1747786216.py:16: FutureWarning: Dropping of nuisance columns in rolling operations is deprecated; in a future version this will raise TypeError. Select only valid columns before calling the operation. Dropped columns were Index(['symbol'], dtype='object')\n",
      "  value = itm.shift(1).rolling(5).mean()\n",
      "/tmp/ipykernel_680050/1747786216.py:16: FutureWarning: Dropping of nuisance columns in rolling operations is deprecated; in a future version this will raise TypeError. Select only valid columns before calling the operation. Dropped columns were Index(['symbol'], dtype='object')\n",
      "  value = itm.shift(1).rolling(5).mean()\n"
     ]
    },
    {
     "name": "stdout",
     "output_type": "stream",
     "text": [
      "333\n",
      "334\n"
     ]
    },
    {
     "name": "stderr",
     "output_type": "stream",
     "text": [
      "/tmp/ipykernel_680050/1747786216.py:16: FutureWarning: Dropping of nuisance columns in rolling operations is deprecated; in a future version this will raise TypeError. Select only valid columns before calling the operation. Dropped columns were Index(['symbol'], dtype='object')\n",
      "  value = itm.shift(1).rolling(5).mean()\n",
      "/tmp/ipykernel_680050/1747786216.py:16: FutureWarning: Dropping of nuisance columns in rolling operations is deprecated; in a future version this will raise TypeError. Select only valid columns before calling the operation. Dropped columns were Index(['symbol'], dtype='object')\n",
      "  value = itm.shift(1).rolling(5).mean()\n"
     ]
    },
    {
     "name": "stdout",
     "output_type": "stream",
     "text": [
      "335\n"
     ]
    },
    {
     "name": "stderr",
     "output_type": "stream",
     "text": [
      "/tmp/ipykernel_680050/1747786216.py:16: FutureWarning: Dropping of nuisance columns in rolling operations is deprecated; in a future version this will raise TypeError. Select only valid columns before calling the operation. Dropped columns were Index(['symbol'], dtype='object')\n",
      "  value = itm.shift(1).rolling(5).mean()\n"
     ]
    },
    {
     "name": "stdout",
     "output_type": "stream",
     "text": [
      "336\n",
      "337\n"
     ]
    },
    {
     "name": "stderr",
     "output_type": "stream",
     "text": [
      "/tmp/ipykernel_680050/1747786216.py:16: FutureWarning: Dropping of nuisance columns in rolling operations is deprecated; in a future version this will raise TypeError. Select only valid columns before calling the operation. Dropped columns were Index(['symbol'], dtype='object')\n",
      "  value = itm.shift(1).rolling(5).mean()\n",
      "/tmp/ipykernel_680050/1747786216.py:16: FutureWarning: Dropping of nuisance columns in rolling operations is deprecated; in a future version this will raise TypeError. Select only valid columns before calling the operation. Dropped columns were Index(['symbol'], dtype='object')\n",
      "  value = itm.shift(1).rolling(5).mean()\n"
     ]
    },
    {
     "name": "stdout",
     "output_type": "stream",
     "text": [
      "338\n",
      "339\n"
     ]
    },
    {
     "name": "stderr",
     "output_type": "stream",
     "text": [
      "/tmp/ipykernel_680050/1747786216.py:16: FutureWarning: Dropping of nuisance columns in rolling operations is deprecated; in a future version this will raise TypeError. Select only valid columns before calling the operation. Dropped columns were Index(['symbol'], dtype='object')\n",
      "  value = itm.shift(1).rolling(5).mean()\n",
      "/tmp/ipykernel_680050/1747786216.py:16: FutureWarning: Dropping of nuisance columns in rolling operations is deprecated; in a future version this will raise TypeError. Select only valid columns before calling the operation. Dropped columns were Index(['symbol'], dtype='object')\n",
      "  value = itm.shift(1).rolling(5).mean()\n"
     ]
    },
    {
     "name": "stdout",
     "output_type": "stream",
     "text": [
      "340\n",
      "341\n"
     ]
    },
    {
     "name": "stderr",
     "output_type": "stream",
     "text": [
      "/tmp/ipykernel_680050/1747786216.py:16: FutureWarning: Dropping of nuisance columns in rolling operations is deprecated; in a future version this will raise TypeError. Select only valid columns before calling the operation. Dropped columns were Index(['symbol'], dtype='object')\n",
      "  value = itm.shift(1).rolling(5).mean()\n",
      "/tmp/ipykernel_680050/1747786216.py:16: FutureWarning: Dropping of nuisance columns in rolling operations is deprecated; in a future version this will raise TypeError. Select only valid columns before calling the operation. Dropped columns were Index(['symbol'], dtype='object')\n",
      "  value = itm.shift(1).rolling(5).mean()\n"
     ]
    },
    {
     "name": "stdout",
     "output_type": "stream",
     "text": [
      "342\n",
      "343\n"
     ]
    },
    {
     "name": "stderr",
     "output_type": "stream",
     "text": [
      "/tmp/ipykernel_680050/1747786216.py:16: FutureWarning: Dropping of nuisance columns in rolling operations is deprecated; in a future version this will raise TypeError. Select only valid columns before calling the operation. Dropped columns were Index(['symbol'], dtype='object')\n",
      "  value = itm.shift(1).rolling(5).mean()\n",
      "/tmp/ipykernel_680050/1747786216.py:16: FutureWarning: Dropping of nuisance columns in rolling operations is deprecated; in a future version this will raise TypeError. Select only valid columns before calling the operation. Dropped columns were Index(['symbol'], dtype='object')\n",
      "  value = itm.shift(1).rolling(5).mean()\n"
     ]
    },
    {
     "name": "stdout",
     "output_type": "stream",
     "text": [
      "344\n",
      "345\n"
     ]
    },
    {
     "name": "stderr",
     "output_type": "stream",
     "text": [
      "/tmp/ipykernel_680050/1747786216.py:16: FutureWarning: Dropping of nuisance columns in rolling operations is deprecated; in a future version this will raise TypeError. Select only valid columns before calling the operation. Dropped columns were Index(['symbol'], dtype='object')\n",
      "  value = itm.shift(1).rolling(5).mean()\n",
      "/tmp/ipykernel_680050/1747786216.py:16: FutureWarning: Dropping of nuisance columns in rolling operations is deprecated; in a future version this will raise TypeError. Select only valid columns before calling the operation. Dropped columns were Index(['symbol'], dtype='object')\n",
      "  value = itm.shift(1).rolling(5).mean()\n"
     ]
    },
    {
     "name": "stdout",
     "output_type": "stream",
     "text": [
      "346\n",
      "347\n"
     ]
    },
    {
     "name": "stderr",
     "output_type": "stream",
     "text": [
      "/tmp/ipykernel_680050/1747786216.py:16: FutureWarning: Dropping of nuisance columns in rolling operations is deprecated; in a future version this will raise TypeError. Select only valid columns before calling the operation. Dropped columns were Index(['symbol'], dtype='object')\n",
      "  value = itm.shift(1).rolling(5).mean()\n",
      "/tmp/ipykernel_680050/1747786216.py:16: FutureWarning: Dropping of nuisance columns in rolling operations is deprecated; in a future version this will raise TypeError. Select only valid columns before calling the operation. Dropped columns were Index(['symbol'], dtype='object')\n",
      "  value = itm.shift(1).rolling(5).mean()\n"
     ]
    },
    {
     "name": "stdout",
     "output_type": "stream",
     "text": [
      "348\n",
      "349\n"
     ]
    },
    {
     "name": "stderr",
     "output_type": "stream",
     "text": [
      "/tmp/ipykernel_680050/1747786216.py:16: FutureWarning: Dropping of nuisance columns in rolling operations is deprecated; in a future version this will raise TypeError. Select only valid columns before calling the operation. Dropped columns were Index(['symbol'], dtype='object')\n",
      "  value = itm.shift(1).rolling(5).mean()\n",
      "/tmp/ipykernel_680050/1747786216.py:16: FutureWarning: Dropping of nuisance columns in rolling operations is deprecated; in a future version this will raise TypeError. Select only valid columns before calling the operation. Dropped columns were Index(['symbol'], dtype='object')\n",
      "  value = itm.shift(1).rolling(5).mean()\n"
     ]
    },
    {
     "name": "stdout",
     "output_type": "stream",
     "text": [
      "350\n",
      "351\n"
     ]
    },
    {
     "name": "stderr",
     "output_type": "stream",
     "text": [
      "/tmp/ipykernel_680050/1747786216.py:16: FutureWarning: Dropping of nuisance columns in rolling operations is deprecated; in a future version this will raise TypeError. Select only valid columns before calling the operation. Dropped columns were Index(['symbol'], dtype='object')\n",
      "  value = itm.shift(1).rolling(5).mean()\n",
      "/tmp/ipykernel_680050/1747786216.py:16: FutureWarning: Dropping of nuisance columns in rolling operations is deprecated; in a future version this will raise TypeError. Select only valid columns before calling the operation. Dropped columns were Index(['symbol'], dtype='object')\n",
      "  value = itm.shift(1).rolling(5).mean()\n"
     ]
    },
    {
     "name": "stdout",
     "output_type": "stream",
     "text": [
      "352\n",
      "353\n"
     ]
    },
    {
     "name": "stderr",
     "output_type": "stream",
     "text": [
      "/tmp/ipykernel_680050/1747786216.py:16: FutureWarning: Dropping of nuisance columns in rolling operations is deprecated; in a future version this will raise TypeError. Select only valid columns before calling the operation. Dropped columns were Index(['symbol'], dtype='object')\n",
      "  value = itm.shift(1).rolling(5).mean()\n",
      "/tmp/ipykernel_680050/1747786216.py:16: FutureWarning: Dropping of nuisance columns in rolling operations is deprecated; in a future version this will raise TypeError. Select only valid columns before calling the operation. Dropped columns were Index(['symbol'], dtype='object')\n",
      "  value = itm.shift(1).rolling(5).mean()\n"
     ]
    },
    {
     "name": "stdout",
     "output_type": "stream",
     "text": [
      "354\n",
      "355\n"
     ]
    },
    {
     "name": "stderr",
     "output_type": "stream",
     "text": [
      "/tmp/ipykernel_680050/1747786216.py:16: FutureWarning: Dropping of nuisance columns in rolling operations is deprecated; in a future version this will raise TypeError. Select only valid columns before calling the operation. Dropped columns were Index(['symbol'], dtype='object')\n",
      "  value = itm.shift(1).rolling(5).mean()\n",
      "/tmp/ipykernel_680050/1747786216.py:16: FutureWarning: Dropping of nuisance columns in rolling operations is deprecated; in a future version this will raise TypeError. Select only valid columns before calling the operation. Dropped columns were Index(['symbol'], dtype='object')\n",
      "  value = itm.shift(1).rolling(5).mean()\n"
     ]
    },
    {
     "name": "stdout",
     "output_type": "stream",
     "text": [
      "356\n",
      "357\n"
     ]
    },
    {
     "name": "stderr",
     "output_type": "stream",
     "text": [
      "/tmp/ipykernel_680050/1747786216.py:16: FutureWarning: Dropping of nuisance columns in rolling operations is deprecated; in a future version this will raise TypeError. Select only valid columns before calling the operation. Dropped columns were Index(['symbol'], dtype='object')\n",
      "  value = itm.shift(1).rolling(5).mean()\n",
      "/tmp/ipykernel_680050/1747786216.py:16: FutureWarning: Dropping of nuisance columns in rolling operations is deprecated; in a future version this will raise TypeError. Select only valid columns before calling the operation. Dropped columns were Index(['symbol'], dtype='object')\n",
      "  value = itm.shift(1).rolling(5).mean()\n"
     ]
    },
    {
     "name": "stdout",
     "output_type": "stream",
     "text": [
      "358\n",
      "359\n"
     ]
    },
    {
     "name": "stderr",
     "output_type": "stream",
     "text": [
      "/tmp/ipykernel_680050/1747786216.py:16: FutureWarning: Dropping of nuisance columns in rolling operations is deprecated; in a future version this will raise TypeError. Select only valid columns before calling the operation. Dropped columns were Index(['symbol'], dtype='object')\n",
      "  value = itm.shift(1).rolling(5).mean()\n",
      "/tmp/ipykernel_680050/1747786216.py:16: FutureWarning: Dropping of nuisance columns in rolling operations is deprecated; in a future version this will raise TypeError. Select only valid columns before calling the operation. Dropped columns were Index(['symbol'], dtype='object')\n",
      "  value = itm.shift(1).rolling(5).mean()\n"
     ]
    },
    {
     "name": "stdout",
     "output_type": "stream",
     "text": [
      "360\n",
      "361\n"
     ]
    },
    {
     "name": "stderr",
     "output_type": "stream",
     "text": [
      "/tmp/ipykernel_680050/1747786216.py:16: FutureWarning: Dropping of nuisance columns in rolling operations is deprecated; in a future version this will raise TypeError. Select only valid columns before calling the operation. Dropped columns were Index(['symbol'], dtype='object')\n",
      "  value = itm.shift(1).rolling(5).mean()\n",
      "/tmp/ipykernel_680050/1747786216.py:16: FutureWarning: Dropping of nuisance columns in rolling operations is deprecated; in a future version this will raise TypeError. Select only valid columns before calling the operation. Dropped columns were Index(['symbol'], dtype='object')\n",
      "  value = itm.shift(1).rolling(5).mean()\n"
     ]
    },
    {
     "name": "stdout",
     "output_type": "stream",
     "text": [
      "362\n",
      "363\n"
     ]
    },
    {
     "name": "stderr",
     "output_type": "stream",
     "text": [
      "/tmp/ipykernel_680050/1747786216.py:16: FutureWarning: Dropping of nuisance columns in rolling operations is deprecated; in a future version this will raise TypeError. Select only valid columns before calling the operation. Dropped columns were Index(['symbol'], dtype='object')\n",
      "  value = itm.shift(1).rolling(5).mean()\n",
      "/tmp/ipykernel_680050/1747786216.py:16: FutureWarning: Dropping of nuisance columns in rolling operations is deprecated; in a future version this will raise TypeError. Select only valid columns before calling the operation. Dropped columns were Index(['symbol'], dtype='object')\n",
      "  value = itm.shift(1).rolling(5).mean()\n"
     ]
    },
    {
     "name": "stdout",
     "output_type": "stream",
     "text": [
      "364\n",
      "365\n"
     ]
    },
    {
     "name": "stderr",
     "output_type": "stream",
     "text": [
      "/tmp/ipykernel_680050/1747786216.py:16: FutureWarning: Dropping of nuisance columns in rolling operations is deprecated; in a future version this will raise TypeError. Select only valid columns before calling the operation. Dropped columns were Index(['symbol'], dtype='object')\n",
      "  value = itm.shift(1).rolling(5).mean()\n",
      "/tmp/ipykernel_680050/1747786216.py:16: FutureWarning: Dropping of nuisance columns in rolling operations is deprecated; in a future version this will raise TypeError. Select only valid columns before calling the operation. Dropped columns were Index(['symbol'], dtype='object')\n",
      "  value = itm.shift(1).rolling(5).mean()\n"
     ]
    },
    {
     "name": "stdout",
     "output_type": "stream",
     "text": [
      "366\n",
      "367\n"
     ]
    },
    {
     "name": "stderr",
     "output_type": "stream",
     "text": [
      "/tmp/ipykernel_680050/1747786216.py:16: FutureWarning: Dropping of nuisance columns in rolling operations is deprecated; in a future version this will raise TypeError. Select only valid columns before calling the operation. Dropped columns were Index(['symbol'], dtype='object')\n",
      "  value = itm.shift(1).rolling(5).mean()\n",
      "/tmp/ipykernel_680050/1747786216.py:16: FutureWarning: Dropping of nuisance columns in rolling operations is deprecated; in a future version this will raise TypeError. Select only valid columns before calling the operation. Dropped columns were Index(['symbol'], dtype='object')\n",
      "  value = itm.shift(1).rolling(5).mean()\n"
     ]
    },
    {
     "name": "stdout",
     "output_type": "stream",
     "text": [
      "368\n",
      "369\n"
     ]
    },
    {
     "name": "stderr",
     "output_type": "stream",
     "text": [
      "/tmp/ipykernel_680050/1747786216.py:16: FutureWarning: Dropping of nuisance columns in rolling operations is deprecated; in a future version this will raise TypeError. Select only valid columns before calling the operation. Dropped columns were Index(['symbol'], dtype='object')\n",
      "  value = itm.shift(1).rolling(5).mean()\n",
      "/tmp/ipykernel_680050/1747786216.py:16: FutureWarning: Dropping of nuisance columns in rolling operations is deprecated; in a future version this will raise TypeError. Select only valid columns before calling the operation. Dropped columns were Index(['symbol'], dtype='object')\n",
      "  value = itm.shift(1).rolling(5).mean()\n"
     ]
    },
    {
     "name": "stdout",
     "output_type": "stream",
     "text": [
      "370\n",
      "371\n"
     ]
    },
    {
     "name": "stderr",
     "output_type": "stream",
     "text": [
      "/tmp/ipykernel_680050/1747786216.py:16: FutureWarning: Dropping of nuisance columns in rolling operations is deprecated; in a future version this will raise TypeError. Select only valid columns before calling the operation. Dropped columns were Index(['symbol'], dtype='object')\n",
      "  value = itm.shift(1).rolling(5).mean()\n",
      "/tmp/ipykernel_680050/1747786216.py:16: FutureWarning: Dropping of nuisance columns in rolling operations is deprecated; in a future version this will raise TypeError. Select only valid columns before calling the operation. Dropped columns were Index(['symbol'], dtype='object')\n",
      "  value = itm.shift(1).rolling(5).mean()\n"
     ]
    },
    {
     "name": "stdout",
     "output_type": "stream",
     "text": [
      "372\n",
      "373\n"
     ]
    },
    {
     "name": "stderr",
     "output_type": "stream",
     "text": [
      "/tmp/ipykernel_680050/1747786216.py:16: FutureWarning: Dropping of nuisance columns in rolling operations is deprecated; in a future version this will raise TypeError. Select only valid columns before calling the operation. Dropped columns were Index(['symbol'], dtype='object')\n",
      "  value = itm.shift(1).rolling(5).mean()\n",
      "/tmp/ipykernel_680050/1747786216.py:16: FutureWarning: Dropping of nuisance columns in rolling operations is deprecated; in a future version this will raise TypeError. Select only valid columns before calling the operation. Dropped columns were Index(['symbol'], dtype='object')\n",
      "  value = itm.shift(1).rolling(5).mean()\n"
     ]
    },
    {
     "name": "stdout",
     "output_type": "stream",
     "text": [
      "374\n",
      "375\n"
     ]
    },
    {
     "name": "stderr",
     "output_type": "stream",
     "text": [
      "/tmp/ipykernel_680050/1747786216.py:16: FutureWarning: Dropping of nuisance columns in rolling operations is deprecated; in a future version this will raise TypeError. Select only valid columns before calling the operation. Dropped columns were Index(['symbol'], dtype='object')\n",
      "  value = itm.shift(1).rolling(5).mean()\n",
      "/tmp/ipykernel_680050/1747786216.py:16: FutureWarning: Dropping of nuisance columns in rolling operations is deprecated; in a future version this will raise TypeError. Select only valid columns before calling the operation. Dropped columns were Index(['symbol'], dtype='object')\n",
      "  value = itm.shift(1).rolling(5).mean()\n"
     ]
    },
    {
     "name": "stdout",
     "output_type": "stream",
     "text": [
      "376\n",
      "377\n"
     ]
    },
    {
     "name": "stderr",
     "output_type": "stream",
     "text": [
      "/tmp/ipykernel_680050/1747786216.py:16: FutureWarning: Dropping of nuisance columns in rolling operations is deprecated; in a future version this will raise TypeError. Select only valid columns before calling the operation. Dropped columns were Index(['symbol'], dtype='object')\n",
      "  value = itm.shift(1).rolling(5).mean()\n",
      "/tmp/ipykernel_680050/1747786216.py:16: FutureWarning: Dropping of nuisance columns in rolling operations is deprecated; in a future version this will raise TypeError. Select only valid columns before calling the operation. Dropped columns were Index(['symbol'], dtype='object')\n",
      "  value = itm.shift(1).rolling(5).mean()\n"
     ]
    },
    {
     "name": "stdout",
     "output_type": "stream",
     "text": [
      "378\n",
      "379\n"
     ]
    },
    {
     "name": "stderr",
     "output_type": "stream",
     "text": [
      "/tmp/ipykernel_680050/1747786216.py:16: FutureWarning: Dropping of nuisance columns in rolling operations is deprecated; in a future version this will raise TypeError. Select only valid columns before calling the operation. Dropped columns were Index(['symbol'], dtype='object')\n",
      "  value = itm.shift(1).rolling(5).mean()\n",
      "/tmp/ipykernel_680050/1747786216.py:16: FutureWarning: Dropping of nuisance columns in rolling operations is deprecated; in a future version this will raise TypeError. Select only valid columns before calling the operation. Dropped columns were Index(['symbol'], dtype='object')\n",
      "  value = itm.shift(1).rolling(5).mean()\n"
     ]
    },
    {
     "name": "stdout",
     "output_type": "stream",
     "text": [
      "380\n",
      "381\n"
     ]
    },
    {
     "name": "stderr",
     "output_type": "stream",
     "text": [
      "/tmp/ipykernel_680050/1747786216.py:16: FutureWarning: Dropping of nuisance columns in rolling operations is deprecated; in a future version this will raise TypeError. Select only valid columns before calling the operation. Dropped columns were Index(['symbol'], dtype='object')\n",
      "  value = itm.shift(1).rolling(5).mean()\n",
      "/tmp/ipykernel_680050/1747786216.py:16: FutureWarning: Dropping of nuisance columns in rolling operations is deprecated; in a future version this will raise TypeError. Select only valid columns before calling the operation. Dropped columns were Index(['symbol'], dtype='object')\n",
      "  value = itm.shift(1).rolling(5).mean()\n"
     ]
    },
    {
     "name": "stdout",
     "output_type": "stream",
     "text": [
      "382\n",
      "383\n"
     ]
    },
    {
     "name": "stderr",
     "output_type": "stream",
     "text": [
      "/tmp/ipykernel_680050/1747786216.py:16: FutureWarning: Dropping of nuisance columns in rolling operations is deprecated; in a future version this will raise TypeError. Select only valid columns before calling the operation. Dropped columns were Index(['symbol'], dtype='object')\n",
      "  value = itm.shift(1).rolling(5).mean()\n",
      "/tmp/ipykernel_680050/1747786216.py:16: FutureWarning: Dropping of nuisance columns in rolling operations is deprecated; in a future version this will raise TypeError. Select only valid columns before calling the operation. Dropped columns were Index(['symbol'], dtype='object')\n",
      "  value = itm.shift(1).rolling(5).mean()\n"
     ]
    },
    {
     "name": "stdout",
     "output_type": "stream",
     "text": [
      "384\n",
      "385\n"
     ]
    },
    {
     "name": "stderr",
     "output_type": "stream",
     "text": [
      "/tmp/ipykernel_680050/1747786216.py:16: FutureWarning: Dropping of nuisance columns in rolling operations is deprecated; in a future version this will raise TypeError. Select only valid columns before calling the operation. Dropped columns were Index(['symbol'], dtype='object')\n",
      "  value = itm.shift(1).rolling(5).mean()\n",
      "/tmp/ipykernel_680050/1747786216.py:16: FutureWarning: Dropping of nuisance columns in rolling operations is deprecated; in a future version this will raise TypeError. Select only valid columns before calling the operation. Dropped columns were Index(['symbol'], dtype='object')\n",
      "  value = itm.shift(1).rolling(5).mean()\n"
     ]
    },
    {
     "name": "stdout",
     "output_type": "stream",
     "text": [
      "386\n",
      "387\n"
     ]
    },
    {
     "name": "stderr",
     "output_type": "stream",
     "text": [
      "/tmp/ipykernel_680050/1747786216.py:16: FutureWarning: Dropping of nuisance columns in rolling operations is deprecated; in a future version this will raise TypeError. Select only valid columns before calling the operation. Dropped columns were Index(['symbol'], dtype='object')\n",
      "  value = itm.shift(1).rolling(5).mean()\n",
      "/tmp/ipykernel_680050/1747786216.py:16: FutureWarning: Dropping of nuisance columns in rolling operations is deprecated; in a future version this will raise TypeError. Select only valid columns before calling the operation. Dropped columns were Index(['symbol'], dtype='object')\n",
      "  value = itm.shift(1).rolling(5).mean()\n"
     ]
    },
    {
     "name": "stdout",
     "output_type": "stream",
     "text": [
      "388\n",
      "389\n"
     ]
    },
    {
     "name": "stderr",
     "output_type": "stream",
     "text": [
      "/tmp/ipykernel_680050/1747786216.py:16: FutureWarning: Dropping of nuisance columns in rolling operations is deprecated; in a future version this will raise TypeError. Select only valid columns before calling the operation. Dropped columns were Index(['symbol'], dtype='object')\n",
      "  value = itm.shift(1).rolling(5).mean()\n",
      "/tmp/ipykernel_680050/1747786216.py:16: FutureWarning: Dropping of nuisance columns in rolling operations is deprecated; in a future version this will raise TypeError. Select only valid columns before calling the operation. Dropped columns were Index(['symbol'], dtype='object')\n",
      "  value = itm.shift(1).rolling(5).mean()\n"
     ]
    },
    {
     "name": "stdout",
     "output_type": "stream",
     "text": [
      "390\n",
      "391\n"
     ]
    },
    {
     "name": "stderr",
     "output_type": "stream",
     "text": [
      "/tmp/ipykernel_680050/1747786216.py:16: FutureWarning: Dropping of nuisance columns in rolling operations is deprecated; in a future version this will raise TypeError. Select only valid columns before calling the operation. Dropped columns were Index(['symbol'], dtype='object')\n",
      "  value = itm.shift(1).rolling(5).mean()\n",
      "/tmp/ipykernel_680050/1747786216.py:16: FutureWarning: Dropping of nuisance columns in rolling operations is deprecated; in a future version this will raise TypeError. Select only valid columns before calling the operation. Dropped columns were Index(['symbol'], dtype='object')\n",
      "  value = itm.shift(1).rolling(5).mean()\n"
     ]
    },
    {
     "name": "stdout",
     "output_type": "stream",
     "text": [
      "392\n",
      "393\n"
     ]
    },
    {
     "name": "stderr",
     "output_type": "stream",
     "text": [
      "/tmp/ipykernel_680050/1747786216.py:16: FutureWarning: Dropping of nuisance columns in rolling operations is deprecated; in a future version this will raise TypeError. Select only valid columns before calling the operation. Dropped columns were Index(['symbol'], dtype='object')\n",
      "  value = itm.shift(1).rolling(5).mean()\n",
      "/tmp/ipykernel_680050/1747786216.py:16: FutureWarning: Dropping of nuisance columns in rolling operations is deprecated; in a future version this will raise TypeError. Select only valid columns before calling the operation. Dropped columns were Index(['symbol'], dtype='object')\n",
      "  value = itm.shift(1).rolling(5).mean()\n"
     ]
    },
    {
     "name": "stdout",
     "output_type": "stream",
     "text": [
      "394\n",
      "395\n"
     ]
    },
    {
     "name": "stderr",
     "output_type": "stream",
     "text": [
      "/tmp/ipykernel_680050/1747786216.py:16: FutureWarning: Dropping of nuisance columns in rolling operations is deprecated; in a future version this will raise TypeError. Select only valid columns before calling the operation. Dropped columns were Index(['symbol'], dtype='object')\n",
      "  value = itm.shift(1).rolling(5).mean()\n",
      "/tmp/ipykernel_680050/1747786216.py:16: FutureWarning: Dropping of nuisance columns in rolling operations is deprecated; in a future version this will raise TypeError. Select only valid columns before calling the operation. Dropped columns were Index(['symbol'], dtype='object')\n",
      "  value = itm.shift(1).rolling(5).mean()\n"
     ]
    },
    {
     "name": "stdout",
     "output_type": "stream",
     "text": [
      "396\n",
      "397\n"
     ]
    },
    {
     "name": "stderr",
     "output_type": "stream",
     "text": [
      "/tmp/ipykernel_680050/1747786216.py:16: FutureWarning: Dropping of nuisance columns in rolling operations is deprecated; in a future version this will raise TypeError. Select only valid columns before calling the operation. Dropped columns were Index(['symbol'], dtype='object')\n",
      "  value = itm.shift(1).rolling(5).mean()\n",
      "/tmp/ipykernel_680050/1747786216.py:16: FutureWarning: Dropping of nuisance columns in rolling operations is deprecated; in a future version this will raise TypeError. Select only valid columns before calling the operation. Dropped columns were Index(['symbol'], dtype='object')\n",
      "  value = itm.shift(1).rolling(5).mean()\n"
     ]
    },
    {
     "name": "stdout",
     "output_type": "stream",
     "text": [
      "398\n",
      "399\n"
     ]
    },
    {
     "name": "stderr",
     "output_type": "stream",
     "text": [
      "/tmp/ipykernel_680050/1747786216.py:16: FutureWarning: Dropping of nuisance columns in rolling operations is deprecated; in a future version this will raise TypeError. Select only valid columns before calling the operation. Dropped columns were Index(['symbol'], dtype='object')\n",
      "  value = itm.shift(1).rolling(5).mean()\n",
      "/tmp/ipykernel_680050/1747786216.py:16: FutureWarning: Dropping of nuisance columns in rolling operations is deprecated; in a future version this will raise TypeError. Select only valid columns before calling the operation. Dropped columns were Index(['symbol'], dtype='object')\n",
      "  value = itm.shift(1).rolling(5).mean()\n"
     ]
    },
    {
     "name": "stdout",
     "output_type": "stream",
     "text": [
      "400\n",
      "401\n"
     ]
    },
    {
     "name": "stderr",
     "output_type": "stream",
     "text": [
      "/tmp/ipykernel_680050/1747786216.py:16: FutureWarning: Dropping of nuisance columns in rolling operations is deprecated; in a future version this will raise TypeError. Select only valid columns before calling the operation. Dropped columns were Index(['symbol'], dtype='object')\n",
      "  value = itm.shift(1).rolling(5).mean()\n",
      "/tmp/ipykernel_680050/1747786216.py:16: FutureWarning: Dropping of nuisance columns in rolling operations is deprecated; in a future version this will raise TypeError. Select only valid columns before calling the operation. Dropped columns were Index(['symbol'], dtype='object')\n",
      "  value = itm.shift(1).rolling(5).mean()\n"
     ]
    },
    {
     "name": "stdout",
     "output_type": "stream",
     "text": [
      "402\n",
      "403\n"
     ]
    },
    {
     "name": "stderr",
     "output_type": "stream",
     "text": [
      "/tmp/ipykernel_680050/1747786216.py:16: FutureWarning: Dropping of nuisance columns in rolling operations is deprecated; in a future version this will raise TypeError. Select only valid columns before calling the operation. Dropped columns were Index(['symbol'], dtype='object')\n",
      "  value = itm.shift(1).rolling(5).mean()\n",
      "/tmp/ipykernel_680050/1747786216.py:16: FutureWarning: Dropping of nuisance columns in rolling operations is deprecated; in a future version this will raise TypeError. Select only valid columns before calling the operation. Dropped columns were Index(['symbol'], dtype='object')\n",
      "  value = itm.shift(1).rolling(5).mean()\n"
     ]
    },
    {
     "name": "stdout",
     "output_type": "stream",
     "text": [
      "404\n",
      "405\n"
     ]
    },
    {
     "name": "stderr",
     "output_type": "stream",
     "text": [
      "/tmp/ipykernel_680050/1747786216.py:16: FutureWarning: Dropping of nuisance columns in rolling operations is deprecated; in a future version this will raise TypeError. Select only valid columns before calling the operation. Dropped columns were Index(['symbol'], dtype='object')\n",
      "  value = itm.shift(1).rolling(5).mean()\n",
      "/tmp/ipykernel_680050/1747786216.py:16: FutureWarning: Dropping of nuisance columns in rolling operations is deprecated; in a future version this will raise TypeError. Select only valid columns before calling the operation. Dropped columns were Index(['symbol'], dtype='object')\n",
      "  value = itm.shift(1).rolling(5).mean()\n"
     ]
    },
    {
     "name": "stdout",
     "output_type": "stream",
     "text": [
      "406\n",
      "407\n"
     ]
    },
    {
     "name": "stderr",
     "output_type": "stream",
     "text": [
      "/tmp/ipykernel_680050/1747786216.py:16: FutureWarning: Dropping of nuisance columns in rolling operations is deprecated; in a future version this will raise TypeError. Select only valid columns before calling the operation. Dropped columns were Index(['symbol'], dtype='object')\n",
      "  value = itm.shift(1).rolling(5).mean()\n",
      "/tmp/ipykernel_680050/1747786216.py:16: FutureWarning: Dropping of nuisance columns in rolling operations is deprecated; in a future version this will raise TypeError. Select only valid columns before calling the operation. Dropped columns were Index(['symbol'], dtype='object')\n",
      "  value = itm.shift(1).rolling(5).mean()\n"
     ]
    },
    {
     "name": "stdout",
     "output_type": "stream",
     "text": [
      "408\n",
      "409\n"
     ]
    },
    {
     "name": "stderr",
     "output_type": "stream",
     "text": [
      "/tmp/ipykernel_680050/1747786216.py:16: FutureWarning: Dropping of nuisance columns in rolling operations is deprecated; in a future version this will raise TypeError. Select only valid columns before calling the operation. Dropped columns were Index(['symbol'], dtype='object')\n",
      "  value = itm.shift(1).rolling(5).mean()\n",
      "/tmp/ipykernel_680050/1747786216.py:16: FutureWarning: Dropping of nuisance columns in rolling operations is deprecated; in a future version this will raise TypeError. Select only valid columns before calling the operation. Dropped columns were Index(['symbol'], dtype='object')\n",
      "  value = itm.shift(1).rolling(5).mean()\n"
     ]
    },
    {
     "name": "stdout",
     "output_type": "stream",
     "text": [
      "410\n",
      "411\n"
     ]
    },
    {
     "name": "stderr",
     "output_type": "stream",
     "text": [
      "/tmp/ipykernel_680050/1747786216.py:16: FutureWarning: Dropping of nuisance columns in rolling operations is deprecated; in a future version this will raise TypeError. Select only valid columns before calling the operation. Dropped columns were Index(['symbol'], dtype='object')\n",
      "  value = itm.shift(1).rolling(5).mean()\n",
      "/tmp/ipykernel_680050/1747786216.py:16: FutureWarning: Dropping of nuisance columns in rolling operations is deprecated; in a future version this will raise TypeError. Select only valid columns before calling the operation. Dropped columns were Index(['symbol'], dtype='object')\n",
      "  value = itm.shift(1).rolling(5).mean()\n"
     ]
    },
    {
     "name": "stdout",
     "output_type": "stream",
     "text": [
      "412\n",
      "413\n"
     ]
    },
    {
     "name": "stderr",
     "output_type": "stream",
     "text": [
      "/tmp/ipykernel_680050/1747786216.py:16: FutureWarning: Dropping of nuisance columns in rolling operations is deprecated; in a future version this will raise TypeError. Select only valid columns before calling the operation. Dropped columns were Index(['symbol'], dtype='object')\n",
      "  value = itm.shift(1).rolling(5).mean()\n",
      "/tmp/ipykernel_680050/1747786216.py:16: FutureWarning: Dropping of nuisance columns in rolling operations is deprecated; in a future version this will raise TypeError. Select only valid columns before calling the operation. Dropped columns were Index(['symbol'], dtype='object')\n",
      "  value = itm.shift(1).rolling(5).mean()\n"
     ]
    },
    {
     "name": "stdout",
     "output_type": "stream",
     "text": [
      "414\n",
      "415\n"
     ]
    },
    {
     "name": "stderr",
     "output_type": "stream",
     "text": [
      "/tmp/ipykernel_680050/1747786216.py:16: FutureWarning: Dropping of nuisance columns in rolling operations is deprecated; in a future version this will raise TypeError. Select only valid columns before calling the operation. Dropped columns were Index(['symbol'], dtype='object')\n",
      "  value = itm.shift(1).rolling(5).mean()\n",
      "/tmp/ipykernel_680050/1747786216.py:16: FutureWarning: Dropping of nuisance columns in rolling operations is deprecated; in a future version this will raise TypeError. Select only valid columns before calling the operation. Dropped columns were Index(['symbol'], dtype='object')\n",
      "  value = itm.shift(1).rolling(5).mean()\n"
     ]
    },
    {
     "name": "stdout",
     "output_type": "stream",
     "text": [
      "416\n",
      "417\n"
     ]
    },
    {
     "name": "stderr",
     "output_type": "stream",
     "text": [
      "/tmp/ipykernel_680050/1747786216.py:16: FutureWarning: Dropping of nuisance columns in rolling operations is deprecated; in a future version this will raise TypeError. Select only valid columns before calling the operation. Dropped columns were Index(['symbol'], dtype='object')\n",
      "  value = itm.shift(1).rolling(5).mean()\n",
      "/tmp/ipykernel_680050/1747786216.py:16: FutureWarning: Dropping of nuisance columns in rolling operations is deprecated; in a future version this will raise TypeError. Select only valid columns before calling the operation. Dropped columns were Index(['symbol'], dtype='object')\n",
      "  value = itm.shift(1).rolling(5).mean()\n"
     ]
    },
    {
     "name": "stdout",
     "output_type": "stream",
     "text": [
      "418\n",
      "419\n"
     ]
    },
    {
     "name": "stderr",
     "output_type": "stream",
     "text": [
      "/tmp/ipykernel_680050/1747786216.py:16: FutureWarning: Dropping of nuisance columns in rolling operations is deprecated; in a future version this will raise TypeError. Select only valid columns before calling the operation. Dropped columns were Index(['symbol'], dtype='object')\n",
      "  value = itm.shift(1).rolling(5).mean()\n",
      "/tmp/ipykernel_680050/1747786216.py:16: FutureWarning: Dropping of nuisance columns in rolling operations is deprecated; in a future version this will raise TypeError. Select only valid columns before calling the operation. Dropped columns were Index(['symbol'], dtype='object')\n",
      "  value = itm.shift(1).rolling(5).mean()\n"
     ]
    },
    {
     "name": "stdout",
     "output_type": "stream",
     "text": [
      "420\n",
      "421\n"
     ]
    },
    {
     "name": "stderr",
     "output_type": "stream",
     "text": [
      "/tmp/ipykernel_680050/1747786216.py:16: FutureWarning: Dropping of nuisance columns in rolling operations is deprecated; in a future version this will raise TypeError. Select only valid columns before calling the operation. Dropped columns were Index(['symbol'], dtype='object')\n",
      "  value = itm.shift(1).rolling(5).mean()\n",
      "/tmp/ipykernel_680050/1747786216.py:16: FutureWarning: Dropping of nuisance columns in rolling operations is deprecated; in a future version this will raise TypeError. Select only valid columns before calling the operation. Dropped columns were Index(['symbol'], dtype='object')\n",
      "  value = itm.shift(1).rolling(5).mean()\n"
     ]
    },
    {
     "name": "stdout",
     "output_type": "stream",
     "text": [
      "422\n",
      "423\n"
     ]
    },
    {
     "name": "stderr",
     "output_type": "stream",
     "text": [
      "/tmp/ipykernel_680050/1747786216.py:16: FutureWarning: Dropping of nuisance columns in rolling operations is deprecated; in a future version this will raise TypeError. Select only valid columns before calling the operation. Dropped columns were Index(['symbol'], dtype='object')\n",
      "  value = itm.shift(1).rolling(5).mean()\n",
      "/tmp/ipykernel_680050/1747786216.py:16: FutureWarning: Dropping of nuisance columns in rolling operations is deprecated; in a future version this will raise TypeError. Select only valid columns before calling the operation. Dropped columns were Index(['symbol'], dtype='object')\n",
      "  value = itm.shift(1).rolling(5).mean()\n"
     ]
    },
    {
     "name": "stdout",
     "output_type": "stream",
     "text": [
      "424\n",
      "425\n"
     ]
    },
    {
     "name": "stderr",
     "output_type": "stream",
     "text": [
      "/tmp/ipykernel_680050/1747786216.py:16: FutureWarning: Dropping of nuisance columns in rolling operations is deprecated; in a future version this will raise TypeError. Select only valid columns before calling the operation. Dropped columns were Index(['symbol'], dtype='object')\n",
      "  value = itm.shift(1).rolling(5).mean()\n",
      "/tmp/ipykernel_680050/1747786216.py:16: FutureWarning: Dropping of nuisance columns in rolling operations is deprecated; in a future version this will raise TypeError. Select only valid columns before calling the operation. Dropped columns were Index(['symbol'], dtype='object')\n",
      "  value = itm.shift(1).rolling(5).mean()\n"
     ]
    },
    {
     "name": "stdout",
     "output_type": "stream",
     "text": [
      "426\n",
      "427\n"
     ]
    },
    {
     "name": "stderr",
     "output_type": "stream",
     "text": [
      "/tmp/ipykernel_680050/1747786216.py:16: FutureWarning: Dropping of nuisance columns in rolling operations is deprecated; in a future version this will raise TypeError. Select only valid columns before calling the operation. Dropped columns were Index(['symbol'], dtype='object')\n",
      "  value = itm.shift(1).rolling(5).mean()\n",
      "/tmp/ipykernel_680050/1747786216.py:16: FutureWarning: Dropping of nuisance columns in rolling operations is deprecated; in a future version this will raise TypeError. Select only valid columns before calling the operation. Dropped columns were Index(['symbol'], dtype='object')\n",
      "  value = itm.shift(1).rolling(5).mean()\n"
     ]
    },
    {
     "name": "stdout",
     "output_type": "stream",
     "text": [
      "428\n",
      "429\n"
     ]
    },
    {
     "name": "stderr",
     "output_type": "stream",
     "text": [
      "/tmp/ipykernel_680050/1747786216.py:16: FutureWarning: Dropping of nuisance columns in rolling operations is deprecated; in a future version this will raise TypeError. Select only valid columns before calling the operation. Dropped columns were Index(['symbol'], dtype='object')\n",
      "  value = itm.shift(1).rolling(5).mean()\n",
      "/tmp/ipykernel_680050/1747786216.py:16: FutureWarning: Dropping of nuisance columns in rolling operations is deprecated; in a future version this will raise TypeError. Select only valid columns before calling the operation. Dropped columns were Index(['symbol'], dtype='object')\n",
      "  value = itm.shift(1).rolling(5).mean()\n"
     ]
    },
    {
     "name": "stdout",
     "output_type": "stream",
     "text": [
      "430\n",
      "431\n"
     ]
    },
    {
     "name": "stderr",
     "output_type": "stream",
     "text": [
      "/tmp/ipykernel_680050/1747786216.py:16: FutureWarning: Dropping of nuisance columns in rolling operations is deprecated; in a future version this will raise TypeError. Select only valid columns before calling the operation. Dropped columns were Index(['symbol'], dtype='object')\n",
      "  value = itm.shift(1).rolling(5).mean()\n",
      "/tmp/ipykernel_680050/1747786216.py:16: FutureWarning: Dropping of nuisance columns in rolling operations is deprecated; in a future version this will raise TypeError. Select only valid columns before calling the operation. Dropped columns were Index(['symbol'], dtype='object')\n",
      "  value = itm.shift(1).rolling(5).mean()\n"
     ]
    },
    {
     "name": "stdout",
     "output_type": "stream",
     "text": [
      "432\n",
      "433\n"
     ]
    },
    {
     "name": "stderr",
     "output_type": "stream",
     "text": [
      "/tmp/ipykernel_680050/1747786216.py:16: FutureWarning: Dropping of nuisance columns in rolling operations is deprecated; in a future version this will raise TypeError. Select only valid columns before calling the operation. Dropped columns were Index(['symbol'], dtype='object')\n",
      "  value = itm.shift(1).rolling(5).mean()\n",
      "/tmp/ipykernel_680050/1747786216.py:16: FutureWarning: Dropping of nuisance columns in rolling operations is deprecated; in a future version this will raise TypeError. Select only valid columns before calling the operation. Dropped columns were Index(['symbol'], dtype='object')\n",
      "  value = itm.shift(1).rolling(5).mean()\n"
     ]
    },
    {
     "name": "stdout",
     "output_type": "stream",
     "text": [
      "434\n",
      "435\n"
     ]
    },
    {
     "name": "stderr",
     "output_type": "stream",
     "text": [
      "/tmp/ipykernel_680050/1747786216.py:16: FutureWarning: Dropping of nuisance columns in rolling operations is deprecated; in a future version this will raise TypeError. Select only valid columns before calling the operation. Dropped columns were Index(['symbol'], dtype='object')\n",
      "  value = itm.shift(1).rolling(5).mean()\n",
      "/tmp/ipykernel_680050/1747786216.py:16: FutureWarning: Dropping of nuisance columns in rolling operations is deprecated; in a future version this will raise TypeError. Select only valid columns before calling the operation. Dropped columns were Index(['symbol'], dtype='object')\n",
      "  value = itm.shift(1).rolling(5).mean()\n"
     ]
    },
    {
     "name": "stdout",
     "output_type": "stream",
     "text": [
      "436\n",
      "437\n"
     ]
    },
    {
     "name": "stderr",
     "output_type": "stream",
     "text": [
      "/tmp/ipykernel_680050/1747786216.py:16: FutureWarning: Dropping of nuisance columns in rolling operations is deprecated; in a future version this will raise TypeError. Select only valid columns before calling the operation. Dropped columns were Index(['symbol'], dtype='object')\n",
      "  value = itm.shift(1).rolling(5).mean()\n",
      "/tmp/ipykernel_680050/1747786216.py:16: FutureWarning: Dropping of nuisance columns in rolling operations is deprecated; in a future version this will raise TypeError. Select only valid columns before calling the operation. Dropped columns were Index(['symbol'], dtype='object')\n",
      "  value = itm.shift(1).rolling(5).mean()\n"
     ]
    },
    {
     "name": "stdout",
     "output_type": "stream",
     "text": [
      "438\n",
      "439\n"
     ]
    },
    {
     "name": "stderr",
     "output_type": "stream",
     "text": [
      "/tmp/ipykernel_680050/1747786216.py:16: FutureWarning: Dropping of nuisance columns in rolling operations is deprecated; in a future version this will raise TypeError. Select only valid columns before calling the operation. Dropped columns were Index(['symbol'], dtype='object')\n",
      "  value = itm.shift(1).rolling(5).mean()\n",
      "/tmp/ipykernel_680050/1747786216.py:16: FutureWarning: Dropping of nuisance columns in rolling operations is deprecated; in a future version this will raise TypeError. Select only valid columns before calling the operation. Dropped columns were Index(['symbol'], dtype='object')\n",
      "  value = itm.shift(1).rolling(5).mean()\n"
     ]
    },
    {
     "name": "stdout",
     "output_type": "stream",
     "text": [
      "440\n",
      "441\n"
     ]
    },
    {
     "name": "stderr",
     "output_type": "stream",
     "text": [
      "/tmp/ipykernel_680050/1747786216.py:16: FutureWarning: Dropping of nuisance columns in rolling operations is deprecated; in a future version this will raise TypeError. Select only valid columns before calling the operation. Dropped columns were Index(['symbol'], dtype='object')\n",
      "  value = itm.shift(1).rolling(5).mean()\n",
      "/tmp/ipykernel_680050/1747786216.py:16: FutureWarning: Dropping of nuisance columns in rolling operations is deprecated; in a future version this will raise TypeError. Select only valid columns before calling the operation. Dropped columns were Index(['symbol'], dtype='object')\n",
      "  value = itm.shift(1).rolling(5).mean()\n"
     ]
    },
    {
     "name": "stdout",
     "output_type": "stream",
     "text": [
      "442\n",
      "443\n"
     ]
    },
    {
     "name": "stderr",
     "output_type": "stream",
     "text": [
      "/tmp/ipykernel_680050/1747786216.py:16: FutureWarning: Dropping of nuisance columns in rolling operations is deprecated; in a future version this will raise TypeError. Select only valid columns before calling the operation. Dropped columns were Index(['symbol'], dtype='object')\n",
      "  value = itm.shift(1).rolling(5).mean()\n",
      "/tmp/ipykernel_680050/1747786216.py:16: FutureWarning: Dropping of nuisance columns in rolling operations is deprecated; in a future version this will raise TypeError. Select only valid columns before calling the operation. Dropped columns were Index(['symbol'], dtype='object')\n",
      "  value = itm.shift(1).rolling(5).mean()\n"
     ]
    },
    {
     "name": "stdout",
     "output_type": "stream",
     "text": [
      "444\n",
      "445\n"
     ]
    },
    {
     "name": "stderr",
     "output_type": "stream",
     "text": [
      "/tmp/ipykernel_680050/1747786216.py:16: FutureWarning: Dropping of nuisance columns in rolling operations is deprecated; in a future version this will raise TypeError. Select only valid columns before calling the operation. Dropped columns were Index(['symbol'], dtype='object')\n",
      "  value = itm.shift(1).rolling(5).mean()\n",
      "/tmp/ipykernel_680050/1747786216.py:16: FutureWarning: Dropping of nuisance columns in rolling operations is deprecated; in a future version this will raise TypeError. Select only valid columns before calling the operation. Dropped columns were Index(['symbol'], dtype='object')\n",
      "  value = itm.shift(1).rolling(5).mean()\n"
     ]
    },
    {
     "name": "stdout",
     "output_type": "stream",
     "text": [
      "446\n",
      "447\n"
     ]
    },
    {
     "name": "stderr",
     "output_type": "stream",
     "text": [
      "/tmp/ipykernel_680050/1747786216.py:16: FutureWarning: Dropping of nuisance columns in rolling operations is deprecated; in a future version this will raise TypeError. Select only valid columns before calling the operation. Dropped columns were Index(['symbol'], dtype='object')\n",
      "  value = itm.shift(1).rolling(5).mean()\n",
      "/tmp/ipykernel_680050/1747786216.py:16: FutureWarning: Dropping of nuisance columns in rolling operations is deprecated; in a future version this will raise TypeError. Select only valid columns before calling the operation. Dropped columns were Index(['symbol'], dtype='object')\n",
      "  value = itm.shift(1).rolling(5).mean()\n"
     ]
    },
    {
     "name": "stdout",
     "output_type": "stream",
     "text": [
      "448\n",
      "449\n"
     ]
    },
    {
     "name": "stderr",
     "output_type": "stream",
     "text": [
      "/tmp/ipykernel_680050/1747786216.py:16: FutureWarning: Dropping of nuisance columns in rolling operations is deprecated; in a future version this will raise TypeError. Select only valid columns before calling the operation. Dropped columns were Index(['symbol'], dtype='object')\n",
      "  value = itm.shift(1).rolling(5).mean()\n",
      "/tmp/ipykernel_680050/1747786216.py:16: FutureWarning: Dropping of nuisance columns in rolling operations is deprecated; in a future version this will raise TypeError. Select only valid columns before calling the operation. Dropped columns were Index(['symbol'], dtype='object')\n",
      "  value = itm.shift(1).rolling(5).mean()\n"
     ]
    },
    {
     "name": "stdout",
     "output_type": "stream",
     "text": [
      "450\n",
      "451\n"
     ]
    },
    {
     "name": "stderr",
     "output_type": "stream",
     "text": [
      "/tmp/ipykernel_680050/1747786216.py:16: FutureWarning: Dropping of nuisance columns in rolling operations is deprecated; in a future version this will raise TypeError. Select only valid columns before calling the operation. Dropped columns were Index(['symbol'], dtype='object')\n",
      "  value = itm.shift(1).rolling(5).mean()\n",
      "/tmp/ipykernel_680050/1747786216.py:16: FutureWarning: Dropping of nuisance columns in rolling operations is deprecated; in a future version this will raise TypeError. Select only valid columns before calling the operation. Dropped columns were Index(['symbol'], dtype='object')\n",
      "  value = itm.shift(1).rolling(5).mean()\n"
     ]
    },
    {
     "name": "stdout",
     "output_type": "stream",
     "text": [
      "452\n",
      "453\n"
     ]
    },
    {
     "name": "stderr",
     "output_type": "stream",
     "text": [
      "/tmp/ipykernel_680050/1747786216.py:16: FutureWarning: Dropping of nuisance columns in rolling operations is deprecated; in a future version this will raise TypeError. Select only valid columns before calling the operation. Dropped columns were Index(['symbol'], dtype='object')\n",
      "  value = itm.shift(1).rolling(5).mean()\n",
      "/tmp/ipykernel_680050/1747786216.py:16: FutureWarning: Dropping of nuisance columns in rolling operations is deprecated; in a future version this will raise TypeError. Select only valid columns before calling the operation. Dropped columns were Index(['symbol'], dtype='object')\n",
      "  value = itm.shift(1).rolling(5).mean()\n"
     ]
    },
    {
     "name": "stdout",
     "output_type": "stream",
     "text": [
      "454\n",
      "455\n"
     ]
    },
    {
     "name": "stderr",
     "output_type": "stream",
     "text": [
      "/tmp/ipykernel_680050/1747786216.py:16: FutureWarning: Dropping of nuisance columns in rolling operations is deprecated; in a future version this will raise TypeError. Select only valid columns before calling the operation. Dropped columns were Index(['symbol'], dtype='object')\n",
      "  value = itm.shift(1).rolling(5).mean()\n",
      "/tmp/ipykernel_680050/1747786216.py:16: FutureWarning: Dropping of nuisance columns in rolling operations is deprecated; in a future version this will raise TypeError. Select only valid columns before calling the operation. Dropped columns were Index(['symbol'], dtype='object')\n",
      "  value = itm.shift(1).rolling(5).mean()\n"
     ]
    },
    {
     "name": "stdout",
     "output_type": "stream",
     "text": [
      "456\n",
      "457\n"
     ]
    },
    {
     "name": "stderr",
     "output_type": "stream",
     "text": [
      "/tmp/ipykernel_680050/1747786216.py:16: FutureWarning: Dropping of nuisance columns in rolling operations is deprecated; in a future version this will raise TypeError. Select only valid columns before calling the operation. Dropped columns were Index(['symbol'], dtype='object')\n",
      "  value = itm.shift(1).rolling(5).mean()\n",
      "/tmp/ipykernel_680050/1747786216.py:16: FutureWarning: Dropping of nuisance columns in rolling operations is deprecated; in a future version this will raise TypeError. Select only valid columns before calling the operation. Dropped columns were Index(['symbol'], dtype='object')\n",
      "  value = itm.shift(1).rolling(5).mean()\n"
     ]
    },
    {
     "name": "stdout",
     "output_type": "stream",
     "text": [
      "458\n",
      "459\n"
     ]
    },
    {
     "name": "stderr",
     "output_type": "stream",
     "text": [
      "/tmp/ipykernel_680050/1747786216.py:16: FutureWarning: Dropping of nuisance columns in rolling operations is deprecated; in a future version this will raise TypeError. Select only valid columns before calling the operation. Dropped columns were Index(['symbol'], dtype='object')\n",
      "  value = itm.shift(1).rolling(5).mean()\n",
      "/tmp/ipykernel_680050/1747786216.py:16: FutureWarning: Dropping of nuisance columns in rolling operations is deprecated; in a future version this will raise TypeError. Select only valid columns before calling the operation. Dropped columns were Index(['symbol'], dtype='object')\n",
      "  value = itm.shift(1).rolling(5).mean()\n"
     ]
    },
    {
     "name": "stdout",
     "output_type": "stream",
     "text": [
      "460\n",
      "461\n"
     ]
    },
    {
     "name": "stderr",
     "output_type": "stream",
     "text": [
      "/tmp/ipykernel_680050/1747786216.py:16: FutureWarning: Dropping of nuisance columns in rolling operations is deprecated; in a future version this will raise TypeError. Select only valid columns before calling the operation. Dropped columns were Index(['symbol'], dtype='object')\n",
      "  value = itm.shift(1).rolling(5).mean()\n",
      "/tmp/ipykernel_680050/1747786216.py:16: FutureWarning: Dropping of nuisance columns in rolling operations is deprecated; in a future version this will raise TypeError. Select only valid columns before calling the operation. Dropped columns were Index(['symbol'], dtype='object')\n",
      "  value = itm.shift(1).rolling(5).mean()\n"
     ]
    },
    {
     "name": "stdout",
     "output_type": "stream",
     "text": [
      "462\n",
      "463\n"
     ]
    },
    {
     "name": "stderr",
     "output_type": "stream",
     "text": [
      "/tmp/ipykernel_680050/1747786216.py:16: FutureWarning: Dropping of nuisance columns in rolling operations is deprecated; in a future version this will raise TypeError. Select only valid columns before calling the operation. Dropped columns were Index(['symbol'], dtype='object')\n",
      "  value = itm.shift(1).rolling(5).mean()\n",
      "/tmp/ipykernel_680050/1747786216.py:16: FutureWarning: Dropping of nuisance columns in rolling operations is deprecated; in a future version this will raise TypeError. Select only valid columns before calling the operation. Dropped columns were Index(['symbol'], dtype='object')\n",
      "  value = itm.shift(1).rolling(5).mean()\n"
     ]
    },
    {
     "name": "stdout",
     "output_type": "stream",
     "text": [
      "464\n",
      "465\n"
     ]
    },
    {
     "name": "stderr",
     "output_type": "stream",
     "text": [
      "/tmp/ipykernel_680050/1747786216.py:16: FutureWarning: Dropping of nuisance columns in rolling operations is deprecated; in a future version this will raise TypeError. Select only valid columns before calling the operation. Dropped columns were Index(['symbol'], dtype='object')\n",
      "  value = itm.shift(1).rolling(5).mean()\n",
      "/tmp/ipykernel_680050/1747786216.py:16: FutureWarning: Dropping of nuisance columns in rolling operations is deprecated; in a future version this will raise TypeError. Select only valid columns before calling the operation. Dropped columns were Index(['symbol'], dtype='object')\n",
      "  value = itm.shift(1).rolling(5).mean()\n"
     ]
    },
    {
     "name": "stdout",
     "output_type": "stream",
     "text": [
      "466\n",
      "467\n"
     ]
    },
    {
     "name": "stderr",
     "output_type": "stream",
     "text": [
      "/tmp/ipykernel_680050/1747786216.py:16: FutureWarning: Dropping of nuisance columns in rolling operations is deprecated; in a future version this will raise TypeError. Select only valid columns before calling the operation. Dropped columns were Index(['symbol'], dtype='object')\n",
      "  value = itm.shift(1).rolling(5).mean()\n",
      "/tmp/ipykernel_680050/1747786216.py:16: FutureWarning: Dropping of nuisance columns in rolling operations is deprecated; in a future version this will raise TypeError. Select only valid columns before calling the operation. Dropped columns were Index(['symbol'], dtype='object')\n",
      "  value = itm.shift(1).rolling(5).mean()\n"
     ]
    },
    {
     "name": "stdout",
     "output_type": "stream",
     "text": [
      "468\n",
      "469\n"
     ]
    },
    {
     "name": "stderr",
     "output_type": "stream",
     "text": [
      "/tmp/ipykernel_680050/1747786216.py:16: FutureWarning: Dropping of nuisance columns in rolling operations is deprecated; in a future version this will raise TypeError. Select only valid columns before calling the operation. Dropped columns were Index(['symbol'], dtype='object')\n",
      "  value = itm.shift(1).rolling(5).mean()\n",
      "/tmp/ipykernel_680050/1747786216.py:16: FutureWarning: Dropping of nuisance columns in rolling operations is deprecated; in a future version this will raise TypeError. Select only valid columns before calling the operation. Dropped columns were Index(['symbol'], dtype='object')\n",
      "  value = itm.shift(1).rolling(5).mean()\n"
     ]
    },
    {
     "name": "stdout",
     "output_type": "stream",
     "text": [
      "470\n",
      "471\n"
     ]
    },
    {
     "name": "stderr",
     "output_type": "stream",
     "text": [
      "/tmp/ipykernel_680050/1747786216.py:16: FutureWarning: Dropping of nuisance columns in rolling operations is deprecated; in a future version this will raise TypeError. Select only valid columns before calling the operation. Dropped columns were Index(['symbol'], dtype='object')\n",
      "  value = itm.shift(1).rolling(5).mean()\n",
      "/tmp/ipykernel_680050/1747786216.py:16: FutureWarning: Dropping of nuisance columns in rolling operations is deprecated; in a future version this will raise TypeError. Select only valid columns before calling the operation. Dropped columns were Index(['symbol'], dtype='object')\n",
      "  value = itm.shift(1).rolling(5).mean()\n"
     ]
    },
    {
     "name": "stdout",
     "output_type": "stream",
     "text": [
      "472\n",
      "473\n"
     ]
    },
    {
     "name": "stderr",
     "output_type": "stream",
     "text": [
      "/tmp/ipykernel_680050/1747786216.py:16: FutureWarning: Dropping of nuisance columns in rolling operations is deprecated; in a future version this will raise TypeError. Select only valid columns before calling the operation. Dropped columns were Index(['symbol'], dtype='object')\n",
      "  value = itm.shift(1).rolling(5).mean()\n",
      "/tmp/ipykernel_680050/1747786216.py:16: FutureWarning: Dropping of nuisance columns in rolling operations is deprecated; in a future version this will raise TypeError. Select only valid columns before calling the operation. Dropped columns were Index(['symbol'], dtype='object')\n",
      "  value = itm.shift(1).rolling(5).mean()\n"
     ]
    },
    {
     "name": "stdout",
     "output_type": "stream",
     "text": [
      "474\n",
      "475\n"
     ]
    },
    {
     "name": "stderr",
     "output_type": "stream",
     "text": [
      "/tmp/ipykernel_680050/1747786216.py:16: FutureWarning: Dropping of nuisance columns in rolling operations is deprecated; in a future version this will raise TypeError. Select only valid columns before calling the operation. Dropped columns were Index(['symbol'], dtype='object')\n",
      "  value = itm.shift(1).rolling(5).mean()\n",
      "/tmp/ipykernel_680050/1747786216.py:16: FutureWarning: Dropping of nuisance columns in rolling operations is deprecated; in a future version this will raise TypeError. Select only valid columns before calling the operation. Dropped columns were Index(['symbol'], dtype='object')\n",
      "  value = itm.shift(1).rolling(5).mean()\n"
     ]
    },
    {
     "name": "stdout",
     "output_type": "stream",
     "text": [
      "476\n",
      "477\n"
     ]
    },
    {
     "name": "stderr",
     "output_type": "stream",
     "text": [
      "/tmp/ipykernel_680050/1747786216.py:16: FutureWarning: Dropping of nuisance columns in rolling operations is deprecated; in a future version this will raise TypeError. Select only valid columns before calling the operation. Dropped columns were Index(['symbol'], dtype='object')\n",
      "  value = itm.shift(1).rolling(5).mean()\n",
      "/tmp/ipykernel_680050/1747786216.py:16: FutureWarning: Dropping of nuisance columns in rolling operations is deprecated; in a future version this will raise TypeError. Select only valid columns before calling the operation. Dropped columns were Index(['symbol'], dtype='object')\n",
      "  value = itm.shift(1).rolling(5).mean()\n"
     ]
    },
    {
     "name": "stdout",
     "output_type": "stream",
     "text": [
      "478\n",
      "479\n"
     ]
    },
    {
     "name": "stderr",
     "output_type": "stream",
     "text": [
      "/tmp/ipykernel_680050/1747786216.py:16: FutureWarning: Dropping of nuisance columns in rolling operations is deprecated; in a future version this will raise TypeError. Select only valid columns before calling the operation. Dropped columns were Index(['symbol'], dtype='object')\n",
      "  value = itm.shift(1).rolling(5).mean()\n",
      "/tmp/ipykernel_680050/1747786216.py:16: FutureWarning: Dropping of nuisance columns in rolling operations is deprecated; in a future version this will raise TypeError. Select only valid columns before calling the operation. Dropped columns were Index(['symbol'], dtype='object')\n",
      "  value = itm.shift(1).rolling(5).mean()\n"
     ]
    },
    {
     "name": "stdout",
     "output_type": "stream",
     "text": [
      "480\n",
      "481\n"
     ]
    },
    {
     "name": "stderr",
     "output_type": "stream",
     "text": [
      "/tmp/ipykernel_680050/1747786216.py:16: FutureWarning: Dropping of nuisance columns in rolling operations is deprecated; in a future version this will raise TypeError. Select only valid columns before calling the operation. Dropped columns were Index(['symbol'], dtype='object')\n",
      "  value = itm.shift(1).rolling(5).mean()\n",
      "/tmp/ipykernel_680050/1747786216.py:16: FutureWarning: Dropping of nuisance columns in rolling operations is deprecated; in a future version this will raise TypeError. Select only valid columns before calling the operation. Dropped columns were Index(['symbol'], dtype='object')\n",
      "  value = itm.shift(1).rolling(5).mean()\n"
     ]
    },
    {
     "name": "stdout",
     "output_type": "stream",
     "text": [
      "482\n",
      "483\n"
     ]
    },
    {
     "name": "stderr",
     "output_type": "stream",
     "text": [
      "/tmp/ipykernel_680050/1747786216.py:16: FutureWarning: Dropping of nuisance columns in rolling operations is deprecated; in a future version this will raise TypeError. Select only valid columns before calling the operation. Dropped columns were Index(['symbol'], dtype='object')\n",
      "  value = itm.shift(1).rolling(5).mean()\n",
      "/tmp/ipykernel_680050/1747786216.py:16: FutureWarning: Dropping of nuisance columns in rolling operations is deprecated; in a future version this will raise TypeError. Select only valid columns before calling the operation. Dropped columns were Index(['symbol'], dtype='object')\n",
      "  value = itm.shift(1).rolling(5).mean()\n"
     ]
    },
    {
     "name": "stdout",
     "output_type": "stream",
     "text": [
      "484\n",
      "485\n"
     ]
    },
    {
     "name": "stderr",
     "output_type": "stream",
     "text": [
      "/tmp/ipykernel_680050/1747786216.py:16: FutureWarning: Dropping of nuisance columns in rolling operations is deprecated; in a future version this will raise TypeError. Select only valid columns before calling the operation. Dropped columns were Index(['symbol'], dtype='object')\n",
      "  value = itm.shift(1).rolling(5).mean()\n",
      "/tmp/ipykernel_680050/1747786216.py:16: FutureWarning: Dropping of nuisance columns in rolling operations is deprecated; in a future version this will raise TypeError. Select only valid columns before calling the operation. Dropped columns were Index(['symbol'], dtype='object')\n",
      "  value = itm.shift(1).rolling(5).mean()\n"
     ]
    },
    {
     "name": "stdout",
     "output_type": "stream",
     "text": [
      "486\n",
      "487\n"
     ]
    },
    {
     "name": "stderr",
     "output_type": "stream",
     "text": [
      "/tmp/ipykernel_680050/1747786216.py:16: FutureWarning: Dropping of nuisance columns in rolling operations is deprecated; in a future version this will raise TypeError. Select only valid columns before calling the operation. Dropped columns were Index(['symbol'], dtype='object')\n",
      "  value = itm.shift(1).rolling(5).mean()\n",
      "/tmp/ipykernel_680050/1747786216.py:16: FutureWarning: Dropping of nuisance columns in rolling operations is deprecated; in a future version this will raise TypeError. Select only valid columns before calling the operation. Dropped columns were Index(['symbol'], dtype='object')\n",
      "  value = itm.shift(1).rolling(5).mean()\n"
     ]
    },
    {
     "name": "stdout",
     "output_type": "stream",
     "text": [
      "488\n",
      "489\n"
     ]
    },
    {
     "name": "stderr",
     "output_type": "stream",
     "text": [
      "/tmp/ipykernel_680050/1747786216.py:16: FutureWarning: Dropping of nuisance columns in rolling operations is deprecated; in a future version this will raise TypeError. Select only valid columns before calling the operation. Dropped columns were Index(['symbol'], dtype='object')\n",
      "  value = itm.shift(1).rolling(5).mean()\n",
      "/tmp/ipykernel_680050/1747786216.py:16: FutureWarning: Dropping of nuisance columns in rolling operations is deprecated; in a future version this will raise TypeError. Select only valid columns before calling the operation. Dropped columns were Index(['symbol'], dtype='object')\n",
      "  value = itm.shift(1).rolling(5).mean()\n"
     ]
    },
    {
     "name": "stdout",
     "output_type": "stream",
     "text": [
      "490\n",
      "491\n"
     ]
    },
    {
     "name": "stderr",
     "output_type": "stream",
     "text": [
      "/tmp/ipykernel_680050/1747786216.py:16: FutureWarning: Dropping of nuisance columns in rolling operations is deprecated; in a future version this will raise TypeError. Select only valid columns before calling the operation. Dropped columns were Index(['symbol'], dtype='object')\n",
      "  value = itm.shift(1).rolling(5).mean()\n",
      "/tmp/ipykernel_680050/1747786216.py:16: FutureWarning: Dropping of nuisance columns in rolling operations is deprecated; in a future version this will raise TypeError. Select only valid columns before calling the operation. Dropped columns were Index(['symbol'], dtype='object')\n",
      "  value = itm.shift(1).rolling(5).mean()\n"
     ]
    },
    {
     "name": "stdout",
     "output_type": "stream",
     "text": [
      "492\n",
      "493\n"
     ]
    },
    {
     "name": "stderr",
     "output_type": "stream",
     "text": [
      "/tmp/ipykernel_680050/1747786216.py:16: FutureWarning: Dropping of nuisance columns in rolling operations is deprecated; in a future version this will raise TypeError. Select only valid columns before calling the operation. Dropped columns were Index(['symbol'], dtype='object')\n",
      "  value = itm.shift(1).rolling(5).mean()\n",
      "/tmp/ipykernel_680050/1747786216.py:16: FutureWarning: Dropping of nuisance columns in rolling operations is deprecated; in a future version this will raise TypeError. Select only valid columns before calling the operation. Dropped columns were Index(['symbol'], dtype='object')\n",
      "  value = itm.shift(1).rolling(5).mean()\n"
     ]
    },
    {
     "name": "stdout",
     "output_type": "stream",
     "text": [
      "494\n",
      "495\n"
     ]
    },
    {
     "name": "stderr",
     "output_type": "stream",
     "text": [
      "/tmp/ipykernel_680050/1747786216.py:16: FutureWarning: Dropping of nuisance columns in rolling operations is deprecated; in a future version this will raise TypeError. Select only valid columns before calling the operation. Dropped columns were Index(['symbol'], dtype='object')\n",
      "  value = itm.shift(1).rolling(5).mean()\n",
      "/tmp/ipykernel_680050/1747786216.py:16: FutureWarning: Dropping of nuisance columns in rolling operations is deprecated; in a future version this will raise TypeError. Select only valid columns before calling the operation. Dropped columns were Index(['symbol'], dtype='object')\n",
      "  value = itm.shift(1).rolling(5).mean()\n"
     ]
    },
    {
     "name": "stdout",
     "output_type": "stream",
     "text": [
      "496\n"
     ]
    },
    {
     "name": "stderr",
     "output_type": "stream",
     "text": [
      "/tmp/ipykernel_680050/1747786216.py:16: FutureWarning: Dropping of nuisance columns in rolling operations is deprecated; in a future version this will raise TypeError. Select only valid columns before calling the operation. Dropped columns were Index(['symbol'], dtype='object')\n",
      "  value = itm.shift(1).rolling(5).mean()\n"
     ]
    }
   ],
   "source": [
    "from os import listdir\n",
    "from os.path import isfile, join\n",
    "import pandas as pd\n",
    "dir0= \"/homes/80/kang/cmem/data/01_raw/\"\n",
    "dir1= \"/homes/80/kang/cmem/data/01_raw_rolling_mean_15min_bin/\"\n",
    "onlyFiles = sorted([f for f in listdir(dir0) if isfile(join(dir0, f))])\n",
    "for i in range(len(onlyFiles)):\n",
    "    print(i)\n",
    "    name = onlyFiles[i]\n",
    "    df = pd.read_pickle(dir0+name)\n",
    "    d = df[['symbol','date','timeHMs','timeHMe','qty']]\n",
    "    g = d.groupby('timeHMs')\n",
    "    lst = []\n",
    "    for idx, itm in g:\n",
    "        pass\n",
    "        value = itm.shift(1).rolling(5).mean()\n",
    "        # itm.shift(-1).rolling(5).mean()\n",
    "        value.date = itm.date\n",
    "        lst.append(value)\n",
    "    # itm.qty[:5].mean()\n",
    "    f = pd.concat(lst,axis=0)\n",
    "    ff = f.sort_index().dropna()\n",
    "    ff['symbol'] = name[:-4]\n",
    "    ff.to_csv(dir1+name[:-4]+\".csv\")"
   ]
  }
 ],
 "metadata": {
  "kernelspec": {
   "display_name": "x",
   "language": "python",
   "name": "python3"
  },
  "language_info": {
   "codemirror_mode": {
    "name": "ipython",
    "version": 3
   },
   "file_extension": ".py",
   "mimetype": "text/x-python",
   "name": "python",
   "nbconvert_exporter": "python",
   "pygments_lexer": "ipython3",
   "version": "3.9.12"
  },
  "orig_nbformat": 4
 },
 "nbformat": 4,
 "nbformat_minor": 2
}
